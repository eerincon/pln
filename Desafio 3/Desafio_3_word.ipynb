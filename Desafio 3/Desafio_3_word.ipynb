{
  "cells": [
    {
      "cell_type": "markdown",
      "metadata": {
        "id": "g3yeJGnCYxuF"
      },
      "source": [
        "<img src=\"https://github.com/hernancontigiani/ceia_memorias_especializacion/raw/master/Figures/logoFIUBA.jpg\" width=\"500\" align=\"center\">\n",
        "\n",
        "\n",
        "# Procesamiento de lenguaje natural\n",
        "## Modelo de lenguaje con tokenización por palabras"
      ]
    },
    {
      "cell_type": "markdown",
      "metadata": {
        "id": "Iv5PEwGzZA9-"
      },
      "source": [
        "### Consigna\n",
        "- Seleccionar un corpus de texto sobre el cual entrenar el modelo de lenguaje.\n",
        "- Realizar el pre-procesamiento adecuado para tokenizar el corpus, estructurar el dataset y separar entre datos de entrenamiento y validación.\n",
        "- Proponer arquitecturas de redes neuronales basadas en unidades recurrentes para implementar un modelo de lenguaje.\n",
        "- Con el o los modelos que consideren adecuados, generar nuevas secuencias a partir de secuencias de contexto con las estrategias de greedy search y beam search determístico y estocástico. En este último caso observar el efecto de la temperatura en la generación de secuencias.\n",
        "\n",
        "\n",
        "### Sugerencias\n",
        "- Durante el entrenamiento, guiarse por el descenso de la perplejidad en los datos de validación para finalizar el entrenamiento. Para ello se provee un callback.\n",
        "- Explorar utilizar SimpleRNN (celda de Elman), LSTM y GRU.\n",
        "- rmsprop es el optimizador recomendado para la buena convergencia. No obstante se pueden explorar otros.\n"
      ]
    },
    {
      "cell_type": "code",
      "execution_count": null,
      "metadata": {
        "id": "Y-QdFbHZYj7C"
      },
      "outputs": [],
      "source": [
        "import random\n",
        "import io\n",
        "import pickle\n",
        "\n",
        "import numpy as np\n",
        "import pandas as pd\n",
        "import matplotlib.pyplot as plt\n",
        "from sklearn.model_selection import train_test_split\n",
        "\n",
        "from tensorflow import keras\n",
        "from tensorflow.keras import layers\n",
        "from keras.utils import to_categorical\n",
        "from keras.models import Sequential\n",
        "from keras.layers import Dense, LSTM, Embedding, Dropout, GRU, SimpleRNN\n",
        "from tensorflow.keras.losses import SparseCategoricalCrossentropy\n",
        "from tensorflow.keras.optimizers import Adam, RMSprop"
      ]
    },
    {
      "cell_type": "markdown",
      "metadata": {
        "id": "xTvXlEKQZdqx"
      },
      "source": [
        "### Datos\n",
        "Como ejemplo se utilizará como corpus un libro de Julio Verne llamado: \"Viaje al centro de la tierra\"."
      ]
    },
    {
      "cell_type": "code",
      "execution_count": null,
      "metadata": {
        "id": "L1Rli2HuqdZc"
      },
      "outputs": [],
      "source": [
        "# descargar de textos.info\n",
        "import urllib.request\n",
        "\n",
        "# Para leer y parsear el texto en HTML de wikipedia\n",
        "import bs4 as bs"
      ]
    },
    {
      "cell_type": "code",
      "execution_count": null,
      "metadata": {
        "id": "EGl2MWpUqas1"
      },
      "outputs": [],
      "source": [
        "raw_html = urllib.request.urlopen('https://www.textos.info/julio-verne/viaje-al-centro-de-la-tierra/ebook')\n",
        "raw_html = raw_html.read()\n",
        "\n",
        "# Parsear artículo, 'lxml' es el parser a utilizar\n",
        "article_html = bs.BeautifulSoup(raw_html, 'lxml')\n",
        "\n",
        "# Encontrar todos los párrafos del HTML (bajo el tag <p>)\n",
        "# y tenerlos disponible como lista\n",
        "article_paragraphs = article_html.find_all('p')\n",
        "\n",
        "article_text = []\n",
        "\n",
        "for para in article_paragraphs:\n",
        "    article_text.append(para.text)\n"
      ]
    },
    {
      "cell_type": "code",
      "execution_count": null,
      "metadata": {
        "colab": {
          "base_uri": "https://localhost:8080/",
          "height": 53
        },
        "id": "w7lfOsd8sK1s",
        "outputId": "dd88302b-180f-40cf-f371-f7539c235925"
      },
      "outputs": [
        {
          "data": {
            "application/vnd.google.colaboratory.intrinsic+json": {
              "type": "string"
            },
            "text/plain": [
              "'El domingo 24 de mayo de 1863, mi tío, el profesor Lidenbrock, entró \\r\\nrápidamente a su hogar, situado en el número 19 de la König‑Strasse, una\\r\\n de las calles más tradicionales del barrio antiguo de Hamburgo.'"
            ]
          },
          "execution_count": 4,
          "metadata": {},
          "output_type": "execute_result"
        }
      ],
      "source": [
        "# en article_paragraphs se encuentra el texto de todo el libro\n",
        "article_paragraphs[1].text"
      ]
    },
    {
      "cell_type": "code",
      "execution_count": null,
      "metadata": {
        "colab": {
          "base_uri": "https://localhost:8080/",
          "height": 70
        },
        "id": "SD6ZOVvyyuZi",
        "outputId": "2c80ba4c-0ebe-4520-a2c2-5e9417035367"
      },
      "outputs": [
        {
          "data": {
            "application/vnd.google.colaboratory.intrinsic+json": {
              "type": "string"
            },
            "text/plain": [
              "'A partir de aquel día, fue mi tío el más feliz de los sabios, y yo el\\r\\n más dichoso de los hombres; porque mi bella curlandesa, renunciando a \\r\\nsu calidad de pupila, ocupó en la modesta casa de König–Strasse el doble\\r\\n puesto de sobrina y de esposa. No creo necesario añadir que su tío fue \\r\\nel ilustre profesor Otto Lidenbrock, miembro correspondiente de todas \\r\\nlas sociedades científicas, geográficas y mineralógicas de las cinco \\r\\npartes del mundo.'"
            ]
          },
          "execution_count": 5,
          "metadata": {},
          "output_type": "execute_result"
        }
      ],
      "source": [
        "# cada parrafo lo guardamos en una lista el elemento article_text[2261] es el ultimo parrafo del libro\n",
        "article_text[2261]"
      ]
    },
    {
      "cell_type": "code",
      "execution_count": null,
      "metadata": {
        "colab": {
          "base_uri": "https://localhost:8080/"
        },
        "id": "lDKJkvbMydYO",
        "outputId": "8f14017d-b1c6-49f1-e402-d5a6425c0d9d"
      },
      "outputs": [
        {
          "data": {
            "text/plain": [
              "2268"
            ]
          },
          "execution_count": 6,
          "metadata": {},
          "output_type": "execute_result"
        }
      ],
      "source": [
        "len(article_text)"
      ]
    },
    {
      "cell_type": "code",
      "execution_count": null,
      "metadata": {
        "id": "lFIUlxC_zbul"
      },
      "outputs": [],
      "source": [
        "# eliminamos los parrafos que se generan por la estructura del html de la pagina web como tal\n",
        "article_text = article_text[1:2262]"
      ]
    },
    {
      "cell_type": "code",
      "execution_count": null,
      "metadata": {
        "colab": {
          "base_uri": "https://localhost:8080/"
        },
        "id": "X9JGqNH6zpvt",
        "outputId": "2254aea9-e9ac-4e6b-ab2b-5b24edcbe7e8"
      },
      "outputs": [
        {
          "data": {
            "text/plain": [
              "2261"
            ]
          },
          "execution_count": 8,
          "metadata": {},
          "output_type": "execute_result"
        }
      ],
      "source": [
        "len(article_text)"
      ]
    },
    {
      "cell_type": "markdown",
      "metadata": {
        "id": "VeMpWpiyG5Ya"
      },
      "source": [
        "Consideraremos que cada secuencia para este dataset es un parrafo.\n",
        "\n",
        "Una de las primeras decisiones que hay que tomar es el tamaño de contexto de tokens máximo que puede consumir el modelo. Este podría ser un hiperparámetro del problema.\n",
        "\n",
        "Para elegir el tamaño de contexto máximo para este problema se puede explorar el dataset, para ello:\n",
        "- se consideran las palabras como términos.\n",
        "- se segmentará el texto de todos los parrafos del dataset y ses explorará la cantidad de términos presentes.\n",
        "\n"
      ]
    },
    {
      "cell_type": "markdown",
      "metadata": {
        "id": "cP1JdiOIKQWi"
      },
      "source": [
        "### Elegir el tamaño del contexto"
      ]
    },
    {
      "cell_type": "code",
      "execution_count": null,
      "metadata": {
        "id": "m5FeTaGvbDbw"
      },
      "outputs": [],
      "source": [
        "# Usaremos las utilidades de procesamiento de textos y secuencias de Keras\n",
        "from tensorflow.keras.preprocessing.text import Tokenizer # equivalente a ltokenizer de nltk\n",
        "from tensorflow.keras.preprocessing.text import text_to_word_sequence # equivalente a word_tokenize de nltk\n",
        "from tensorflow.keras.utils import pad_sequences # se utilizará para padding\n"
      ]
    },
    {
      "cell_type": "code",
      "execution_count": null,
      "metadata": {
        "id": "CMu9CX34J8RQ"
      },
      "outputs": [],
      "source": [
        "# segmentamos el texto con la utilidad de Keras\n",
        "segmented_sentences = [text_to_word_sequence(sentence, filters= '¡!\"#$%&()*+,-./:;<=>¿?@[\\\\]^_`{|}~\\t\\n\\r—') for sentence in article_text]"
      ]
    },
    {
      "cell_type": "code",
      "execution_count": null,
      "metadata": {
        "colab": {
          "base_uri": "https://localhost:8080/",
          "height": 35
        },
        "id": "neCJEVNvkkjE",
        "outputId": "8da367ea-84b4-4fac-9721-5f0b94fe8aa5"
      },
      "outputs": [
        {
          "data": {
            "application/vnd.google.colaboratory.intrinsic+json": {
              "type": "string"
            },
            "text/plain": [
              "'—¡Tan temprano y ya está aquí el señor Lidenbrock! —exclamó la pobre Marta, con arrebol, entreabriendo la puerta del comedor.'"
            ]
          },
          "execution_count": 11,
          "metadata": {},
          "output_type": "execute_result"
        }
      ],
      "source": [
        "article_text[3]"
      ]
    },
    {
      "cell_type": "code",
      "execution_count": null,
      "metadata": {
        "colab": {
          "base_uri": "https://localhost:8080/"
        },
        "id": "duxuc-DVkcpP",
        "outputId": "9efbeae6-95da-471e-f1fd-d3ffb962c874"
      },
      "outputs": [
        {
          "data": {
            "text/plain": [
              "['tan',\n",
              " 'temprano',\n",
              " 'y',\n",
              " 'ya',\n",
              " 'está',\n",
              " 'aquí',\n",
              " 'el',\n",
              " 'señor',\n",
              " 'lidenbrock',\n",
              " 'exclamó',\n",
              " 'la',\n",
              " 'pobre',\n",
              " 'marta',\n",
              " 'con',\n",
              " 'arrebol',\n",
              " 'entreabriendo',\n",
              " 'la',\n",
              " 'puerta',\n",
              " 'del',\n",
              " 'comedor']"
            ]
          },
          "execution_count": 12,
          "metadata": {},
          "output_type": "execute_result"
        }
      ],
      "source": [
        "segmented_sentences[3]"
      ]
    },
    {
      "cell_type": "code",
      "execution_count": null,
      "metadata": {
        "id": "x35rV7QZH49n"
      },
      "outputs": [],
      "source": [
        "# calculamos la longitud de cada secuencia\n",
        "length_sentences = [len(sentence) for sentence in segmented_sentences]"
      ]
    },
    {
      "cell_type": "code",
      "execution_count": null,
      "metadata": {
        "colab": {
          "base_uri": "https://localhost:8080/",
          "height": 534
        },
        "id": "R8P8vDXRII4c",
        "outputId": "2ce65652-a3e7-42d7-b3e6-a6c8ef39b1c6"
      },
      "outputs": [
        {
          "data": {
            "text/plain": [
              "(array([775., 449., 370., 218., 165.,  87.,  76.,  45.,  33.,  17.,  10.,\n",
              "          7.,   5.,   0.,   2.,   0.,   0.,   0.,   0.,   2.]),\n",
              " array([  1. ,  13.5,  26. ,  38.5,  51. ,  63.5,  76. ,  88.5, 101. ,\n",
              "        113.5, 126. , 138.5, 151. , 163.5, 176. , 188.5, 201. , 213.5,\n",
              "        226. , 238.5, 251. ]),\n",
              " <BarContainer object of 20 artists>)"
            ]
          },
          "execution_count": 14,
          "metadata": {},
          "output_type": "execute_result"
        },
        {
          "data": {
            "image/png": "[encoded data removed]",
            "text/plain": [
              "<Figure size 640x480 with 1 Axes>"
            ]
          },
          "metadata": {},
          "output_type": "display_data"
        }
      ],
      "source": [
        "# podemos ver su distribución\n",
        "plt.hist(length_sentences,bins=20)"
      ]
    },
    {
      "cell_type": "code",
      "execution_count": null,
      "metadata": {
        "colab": {
          "base_uri": "https://localhost:8080/"
        },
        "id": "wumBNwdjJM3j",
        "outputId": "1cc4dfa7-c41f-433b-c419-468a284adb00"
      },
      "outputs": [
        {
          "name": "stdout",
          "output_type": "stream",
          "text": [
            "max_context_size: 22\n"
          ]
        }
      ],
      "source": [
        "# a partir de la distribución de longitudes de secuencias elegimos algún criterio\n",
        "# para determinar el máximo tamaño de contexto. En este caso es un percentil, pero\n",
        "# otros criterios también pueden ser válidos con la justificación adecuada.\n",
        "# También puede ser una selección \"a mano\"\n",
        "\n",
        "# el -1 es porque el último token será el target\n",
        "max_context_size = int(np.percentile(length_sentences, 50)-1)\n",
        "\n",
        "# max_context_size = int(np.ceil(np.mean(length_sentences))) # criterio de media\n",
        "# max_context_size = int(np.ceil(np.median(length_sentences))) # criterio de mediana\n",
        "print(f'max_context_size: {max_context_size}')"
      ]
    },
    {
      "cell_type": "code",
      "execution_count": null,
      "metadata": {
        "id": "dDJ6ZP79WfmH"
      },
      "outputs": [],
      "source": [
        "max_context_size = 10"
      ]
    },
    {
      "cell_type": "markdown",
      "metadata": {
        "id": "2oIUjVU0LB0r"
      },
      "source": [
        "###  Tokenizar"
      ]
    },
    {
      "cell_type": "code",
      "execution_count": null,
      "metadata": {
        "id": "_XKQIpRiLNbg"
      },
      "outputs": [],
      "source": [
        "# instanciamos el tokenizador\n",
        "tok = Tokenizer()\n",
        "\n",
        "# El tokenizer \"aprende\" las palabras que se usaran\n",
        "# Se construye (fit) una vez por proyecto, se aplica N veces (tal cual un encoder)\n",
        "# El token 0 es reservado y no es asignado. Se utiliza para designar a palabras\n",
        "# fuera del vocabulario aprendido\n",
        "tok.fit_on_texts(segmented_sentences)\n",
        "\n",
        "# Convertimos las palabras a números\n",
        "# entran palabras -> salen números\n",
        "tokenized_sentences = tok.texts_to_sequences(segmented_sentences)"
      ]
    },
    {
      "cell_type": "code",
      "execution_count": null,
      "metadata": {
        "colab": {
          "base_uri": "https://localhost:8080/"
        },
        "id": "AK2wfHyslrTz",
        "outputId": "4cb216c8-1a70-4801-9e3a-5713e9d33a0a"
      },
      "outputs": [
        {
          "data": {
            "text/plain": [
              "[5,\n",
              " 1156,\n",
              " 2160,\n",
              " 1,\n",
              " 2928,\n",
              " 1,\n",
              " 2929,\n",
              " 16,\n",
              " 21,\n",
              " 5,\n",
              " 39,\n",
              " 105,\n",
              " 2930,\n",
              " 432,\n",
              " 6,\n",
              " 19,\n",
              " 2161,\n",
              " 1157,\n",
              " 7,\n",
              " 5,\n",
              " 386,\n",
              " 2931,\n",
              " 1,\n",
              " 2,\n",
              " 4736,\n",
              " 15,\n",
              " 1,\n",
              " 11,\n",
              " 1158,\n",
              " 23,\n",
              " 4737,\n",
              " 14,\n",
              " 2162,\n",
              " 724,\n",
              " 1,\n",
              " 354]"
            ]
          },
          "execution_count": 18,
          "metadata": {},
          "output_type": "execute_result"
        }
      ],
      "source": [
        "tokenized_sentences[0]"
      ]
    },
    {
      "cell_type": "code",
      "execution_count": null,
      "metadata": {
        "colab": {
          "base_uri": "https://localhost:8080/"
        },
        "id": "s-93u9lxlwlP",
        "outputId": "337ae3a7-061d-4b13-e361-3aa8ba63fa6b"
      },
      "outputs": [
        {
          "data": {
            "text/plain": [
              "['el',\n",
              " 'domingo',\n",
              " '24',\n",
              " 'de',\n",
              " 'mayo',\n",
              " 'de',\n",
              " '1863',\n",
              " 'mi',\n",
              " 'tío',\n",
              " 'el',\n",
              " 'profesor',\n",
              " 'lidenbrock',\n",
              " 'entró',\n",
              " 'rápidamente',\n",
              " 'a',\n",
              " 'su',\n",
              " 'hogar',\n",
              " 'situado',\n",
              " 'en',\n",
              " 'el',\n",
              " 'número',\n",
              " '19',\n",
              " 'de',\n",
              " 'la',\n",
              " 'könig‑strasse',\n",
              " 'una',\n",
              " 'de',\n",
              " 'las',\n",
              " 'calles',\n",
              " 'más',\n",
              " 'tradicionales',\n",
              " 'del',\n",
              " 'barrio',\n",
              " 'antiguo',\n",
              " 'de',\n",
              " 'hamburgo']"
            ]
          },
          "execution_count": 19,
          "metadata": {},
          "output_type": "execute_result"
        }
      ],
      "source": [
        "segmented_sentences[0]"
      ]
    },
    {
      "cell_type": "markdown",
      "metadata": {
        "id": "pfpYcaypKcI9"
      },
      "source": [
        "### Organizando y estructurando el dataset"
      ]
    },
    {
      "cell_type": "markdown",
      "metadata": {
        "id": "l3iPTx-UJl6r"
      },
      "source": [
        "En este punto tenemos en la variable `tokenized_sentences` los versos tokenizados. Vamos a quedarnos con un conjunto de validación que utilizaremos para medir la calidad de la generación de secuencias con la métrica de Perplejidad."
      ]
    },
    {
      "cell_type": "code",
      "execution_count": null,
      "metadata": {
        "id": "Z5LdBSMq4PXE"
      },
      "outputs": [],
      "source": [
        "# separaremos el dataset entre entrenamiento y validación.\n",
        "# `p_val` será la proporción del corpus que se reservará para validación\n",
        "# `num_val` es la cantidad de secuencias de tamaño `max_context_size` que se usará en validación\n",
        "p_val = 0.15\n",
        "num_val = int(np.ceil(len(tokenized_sentences)*p_val/max_context_size))"
      ]
    },
    {
      "cell_type": "code",
      "execution_count": null,
      "metadata": {
        "id": "CxxbOCrU4YH-"
      },
      "outputs": [],
      "source": [
        "# separamos la porción de texto utilizada en entrenamiento de la de validación.\n",
        "tokenized_sentences_train = tokenized_sentences[:-num_val*max_context_size]\n",
        "tokenized_sentences_val = tokenized_sentences[-num_val*max_context_size:]"
      ]
    },
    {
      "cell_type": "markdown",
      "metadata": {
        "id": "gmsoPbV6LxcW"
      },
      "source": [
        "\\Vamos a splitear las oraciones que tienen tamaño mayor al contexto máximo, para generarnos más secuencias de entrenamiento. Este paso puede obviarse si el tamaño de contexto máximo es muy grande.\n",
        "\n",
        "Por ejemplo, si tenemos el texto *La bella y graciosa moza marchóse a lavar la ropa* y nuestro contexto es de 5 palabras, tendremos:\n",
        "\n",
        "- *La bella y graciosa moza*\n",
        "- *bella y graciosa moza marchóse*\n",
        "- *y graciosa moza marchóse a*\n",
        "- *graciosa moza marchóse a lavar*\n",
        "- *moza marchóse a lavar la*\n",
        "- *marchóse a lavar la ropa*"
      ]
    },
    {
      "cell_type": "code",
      "execution_count": null,
      "metadata": {
        "id": "E5BPO4qPPnNR"
      },
      "outputs": [],
      "source": [
        "tok_sent = []\n",
        "\n",
        "for sent in tokenized_sentences_train:\n",
        "\n",
        "  # si la secuencia tiene más términos que el tamaño de contexto máximo,\n",
        "  # armo varias sub-secuencias de tamaño máximo\n",
        "  if len(sent) > (max_context_size+1):\n",
        "    extra = len(sent)-(max_context_size+1) + 1\n",
        "    for i in range(extra):\n",
        "      tok_sent.append(sent[i:i+max_context_size+1])\n",
        "  else: # si la secuencia tiene menos términos el tamaño de contexto máximo, dejo la secuencia como está\n",
        "    tok_sent.append(sent)\n"
      ]
    },
    {
      "cell_type": "code",
      "execution_count": null,
      "metadata": {
        "colab": {
          "base_uri": "https://localhost:8080/"
        },
        "id": "RiEt0AAz_64v",
        "outputId": "d0abe2b0-c563-4666-f0d3-2285f38fe2a9"
      },
      "outputs": [
        {
          "data": {
            "text/plain": [
              "44609"
            ]
          },
          "execution_count": 23,
          "metadata": {},
          "output_type": "execute_result"
        }
      ],
      "source": [
        "len(tok_sent)"
      ]
    },
    {
      "cell_type": "markdown",
      "metadata": {
        "id": "QnwSC7A_LWfd"
      },
      "source": [
        "Ahora aumentamos los datos aprovechando que de una secuencia grande se pueden generar varias más pequeñas:\n",
        "\n",
        "- *La hermosa casa en el prado*\n",
        "- *La hermosa*\n",
        "- *La hermosa casa*\n",
        "- *La hermosa casa en*\n",
        "- *La hermosa casa en el*\n",
        "- *La hermosa casa en el prado*"
      ]
    },
    {
      "cell_type": "code",
      "execution_count": null,
      "metadata": {
        "id": "lWdhVV04htki"
      },
      "outputs": [],
      "source": [
        "tok_sent_augm = []\n",
        "\n",
        "for sent in tok_sent:\n",
        "\n",
        "  # generamos todas las sub-secuencias\n",
        "  subseq = [sent[:i+2] for i in range(len(sent)-1)]\n",
        "  # en esta línea paddeamos al tamaño de contexto máximo\n",
        "  tok_sent_augm.append(pad_sequences(subseq, maxlen=max_context_size+1, padding='pre'))\n"
      ]
    },
    {
      "cell_type": "code",
      "execution_count": null,
      "metadata": {
        "id": "THXXBya1tnZ8"
      },
      "outputs": [],
      "source": [
        "# finalmente concatenamos todas las secuencias en un único array de numpy\n",
        "train_seqs = np.concatenate(tok_sent_augm, axis=0)\n"
      ]
    },
    {
      "cell_type": "code",
      "execution_count": null,
      "metadata": {
        "colab": {
          "base_uri": "https://localhost:8080/"
        },
        "id": "o5Uiflnwt10J",
        "outputId": "94f1b0f1-6b3c-4528-e310-fc0062821be4"
      },
      "outputs": [
        {
          "data": {
            "text/plain": [
              "(443241, 11)"
            ]
          },
          "execution_count": 26,
          "metadata": {},
          "output_type": "execute_result"
        }
      ],
      "source": [
        "train_seqs.shape"
      ]
    },
    {
      "cell_type": "code",
      "execution_count": null,
      "metadata": {
        "colab": {
          "base_uri": "https://localhost:8080/"
        },
        "id": "457Gp3QMDllG",
        "outputId": "6614346a-ebd0-4574-c119-351fc21c4da8"
      },
      "outputs": [
        {
          "data": {
            "text/plain": [
              "1921"
            ]
          },
          "execution_count": 27,
          "metadata": {},
          "output_type": "execute_result"
        }
      ],
      "source": [
        "len(tokenized_sentences_train)"
      ]
    },
    {
      "cell_type": "code",
      "execution_count": null,
      "metadata": {
        "colab": {
          "base_uri": "https://localhost:8080/"
        },
        "id": "y5SMUt5l3syW",
        "outputId": "2a556e54-f224-484a-d011-3275742c283e"
      },
      "outputs": [
        {
          "data": {
            "text/plain": [
              "array([   0,    0,    0,    0,    0,    0,    0,    0,    0,    5, 1156],\n",
              "      dtype=int32)"
            ]
          },
          "execution_count": 28,
          "metadata": {},
          "output_type": "execute_result"
        }
      ],
      "source": [
        "train_seqs[0]"
      ]
    },
    {
      "cell_type": "code",
      "execution_count": null,
      "metadata": {
        "id": "yprwJHiMBQIS"
      },
      "outputs": [],
      "source": [
        "# y de aquí sacamos las entradas y los targets que consumirá nuestro sistema en\n",
        "# tiempo de entrenamiento\n",
        "X = train_seqs[:,:-1]\n",
        "y = train_seqs[:,1:]"
      ]
    },
    {
      "cell_type": "markdown",
      "metadata": {
        "id": "YxuKNI05Ttct"
      },
      "source": [
        "Nótese que estamos estructurando el problema de aprendizaje como *many-to-many*:\n",
        "\n",
        "Entrada: secuencia de tokens [$x_0$, $x_1$, ..., $x_N$]\n",
        "\n",
        "Target: secuencia de tokens [$x_1$, $x_2$, ..., $x_{N+1}$]\n",
        "\n",
        "De manera que la red tiene que aprender que su salida deben ser los tokens desplazados en una posición y un nuevo token predicho (el N+1).\n",
        "\n",
        "La ventaja de estructurar el aprendizaje de esta manera es que para cada token de target se propaga una señal de gradiente por el grafo de cómputo recurrente, que es mejor que estructurar el problema como *many-to-one* en donde sólo una señal de gradiente se propaga."
      ]
    },
    {
      "cell_type": "code",
      "execution_count": null,
      "metadata": {
        "colab": {
          "base_uri": "https://localhost:8080/"
        },
        "id": "KFAyA4zCWE-5",
        "outputId": "8795aaf3-1c2c-468e-eddb-76fbe7bd5a41"
      },
      "outputs": [
        {
          "data": {
            "text/plain": [
              "(443241, 10)"
            ]
          },
          "execution_count": 30,
          "metadata": {},
          "output_type": "execute_result"
        }
      ],
      "source": [
        "y.shape"
      ]
    },
    {
      "cell_type": "code",
      "execution_count": null,
      "metadata": {
        "colab": {
          "base_uri": "https://localhost:8080/"
        },
        "id": "1D9ESMGyB_QD",
        "outputId": "7cc13b59-eed2-4144-e5fd-ba4313822ea6"
      },
      "outputs": [
        {
          "data": {
            "text/plain": [
              "{1: 'de',\n",
              " 2: 'la',\n",
              " 3: 'que',\n",
              " 4: 'y',\n",
              " 5: 'el',\n",
              " 6: 'a',\n",
              " 7: 'en',\n",
              " 8: 'no',\n",
              " 9: 'un',\n",
              " 10: 'se',\n",
              " 11: 'las',\n",
              " 12: 'los',\n",
              " 13: 'por',\n",
              " 14: 'del',\n",
              " 15: 'una',\n",
              " 16: 'mi',\n",
              " 17: 'con',\n",
              " 18: 'me',\n",
              " 19: 'su',\n",
              " 20: 'al',\n",
              " 21: 'tío',\n",
              " 22: 'pero',\n",
              " 23: 'más',\n",
              " 24: 'lo',\n",
              " 25: 'es',\n",
              " 26: 'nos',\n",
              " 27: 'sin',\n",
              " 28: 'para',\n",
              " 29: 'sus',\n",
              " 30: 'qué',\n",
              " 31: 'como',\n",
              " 32: 'era',\n",
              " 33: 'este',\n",
              " 34: 'había',\n",
              " 35: 'yo',\n",
              " 36: 'sobre',\n",
              " 37: 'esta',\n",
              " 38: 'si',\n",
              " 39: 'profesor',\n",
              " 40: 'hans',\n",
              " 41: 'mis',\n",
              " 42: 'le',\n",
              " 43: 'todo',\n",
              " 44: 'hasta',\n",
              " 45: 'después',\n",
              " 46: 'ni',\n",
              " 47: 'vez',\n",
              " 48: 'ya',\n",
              " 49: 'pues',\n",
              " 50: 'aquel',\n",
              " 51: 'dos',\n",
              " 52: 'cuando',\n",
              " 53: 'bien',\n",
              " 54: 'tan',\n",
              " 55: 'mar',\n",
              " 56: 'ha',\n",
              " 57: 'o',\n",
              " 58: 'sí',\n",
              " 59: 'agua',\n",
              " 60: 'dijo',\n",
              " 61: 'entonces',\n",
              " 62: 'cual',\n",
              " 63: 'usted',\n",
              " 64: 'pies',\n",
              " 65: 'entre',\n",
              " 66: 'tierra',\n",
              " 67: 'poco',\n",
              " 68: 'nuestra',\n",
              " 69: 'tiempo',\n",
              " 70: 'muy',\n",
              " 71: 'él',\n",
              " 72: 'ser',\n",
              " 73: 'hacia',\n",
              " 74: 'menos',\n",
              " 75: 'axel',\n",
              " 76: 'porque',\n",
              " 77: 'gran',\n",
              " 78: 'fin',\n",
              " 79: 'mismo',\n",
              " 80: 'estas',\n",
              " 81: 'preciso',\n",
              " 82: 'nada',\n",
              " 83: 'he',\n",
              " 84: 'superficie',\n",
              " 85: 'balsa',\n",
              " 86: 'duda',\n",
              " 87: 'momento',\n",
              " 88: 'embargo',\n",
              " 89: 'hombre',\n",
              " 90: 'aún',\n",
              " 91: 'sólo',\n",
              " 92: 'toda',\n",
              " 93: 'medio',\n",
              " 94: 'bajo',\n",
              " 95: 'palabras',\n",
              " 96: 'ojos',\n",
              " 97: 'así',\n",
              " 98: 'esto',\n",
              " 99: 'camino',\n",
              " 100: 'eso',\n",
              " 101: 'todos',\n",
              " 102: 'cabeza',\n",
              " 103: 'nuestro',\n",
              " 104: 'nuestros',\n",
              " 105: 'lidenbrock',\n",
              " 106: 'mí',\n",
              " 107: 'tres',\n",
              " 108: 'todas',\n",
              " 109: 'aquí',\n",
              " 110: 'señor',\n",
              " 111: 'aquella',\n",
              " 112: 'leguas',\n",
              " 113: 'exclamé',\n",
              " 114: 'estos',\n",
              " 115: 'otro',\n",
              " 116: 'hora',\n",
              " 117: 'podía',\n",
              " 118: 'efecto',\n",
              " 119: 'donde',\n",
              " 120: 'cada',\n",
              " 121: 'otra',\n",
              " 122: 'globo',\n",
              " 123: 'mano',\n",
              " 124: 'día',\n",
              " 125: 'algunos',\n",
              " 126: 'durante',\n",
              " 127: 'tenía',\n",
              " 128: 'estaba',\n",
              " 129: 'cómo',\n",
              " 130: 'viaje',\n",
              " 131: 'modo',\n",
              " 132: 'parte',\n",
              " 133: 'ahora',\n",
              " 134: 'hecho',\n",
              " 135: 'aire',\n",
              " 136: 'ella',\n",
              " 137: 'horas',\n",
              " 138: 'noche',\n",
              " 139: 'rocas',\n",
              " 140: 'galería',\n",
              " 141: 'ver',\n",
              " 142: 'respondió',\n",
              " 143: 'alguna',\n",
              " 144: 'fue',\n",
              " 145: 'exclamó',\n",
              " 146: 'sneffels',\n",
              " 147: 'luz',\n",
              " 148: 'tal',\n",
              " 149: 'nuestras',\n",
              " 150: 'parecía',\n",
              " 151: 'uno',\n",
              " 152: 'islandia',\n",
              " 153: 'sido',\n",
              " 154: 'mundo',\n",
              " 155: 'te',\n",
              " 156: 'contra',\n",
              " 157: 'mañana',\n",
              " 158: 'días',\n",
              " 159: 'habíamos',\n",
              " 160: 'algunas',\n",
              " 161: 'marcha',\n",
              " 162: 'hubiera',\n",
              " 163: 'saknussemm',\n",
              " 164: 'granito',\n",
              " 165: 'roca',\n",
              " 166: 'bastante',\n",
              " 167: 'decir',\n",
              " 168: 'veces',\n",
              " 169: 'palabra',\n",
              " 170: 'manos',\n",
              " 171: 'iba',\n",
              " 172: 'dije',\n",
              " 173: 'hemos',\n",
              " 174: 'son',\n",
              " 175: 'algún',\n",
              " 176: 'nuevo',\n",
              " 177: 'fondo',\n",
              " 178: 'está',\n",
              " 179: 'hay',\n",
              " 180: 'puede',\n",
              " 181: 'aquellas',\n",
              " 182: 'ningún',\n",
              " 183: 'vamos',\n",
              " 184: 'islandés',\n",
              " 185: 'han',\n",
              " 186: 'cráter',\n",
              " 187: 'centro',\n",
              " 188: 'nombre',\n",
              " 189: 'desde',\n",
              " 190: 'habría',\n",
              " 191: 'llegar',\n",
              " 192: 'tanto',\n",
              " 193: 'ese',\n",
              " 194: 'mío',\n",
              " 195: 'calor',\n",
              " 196: 'mucho',\n",
              " 197: 'otros',\n",
              " 198: 'diez',\n",
              " 199: 'ante',\n",
              " 200: 'suelo',\n",
              " 201: 'nosotros',\n",
              " 202: 'posible',\n",
              " 203: 'media',\n",
              " 204: 'hacer',\n",
              " 205: 'voz',\n",
              " 206: 'terrestre',\n",
              " 207: 'guía',\n",
              " 208: 'siempre',\n",
              " 209: 'también',\n",
              " 210: 'tiene',\n",
              " 211: 'manera',\n",
              " 212: 'mil',\n",
              " 213: 'seguida',\n",
              " 214: 'haber',\n",
              " 215: 'imposible',\n",
              " 216: 'especie',\n",
              " 217: 'ellos',\n",
              " 218: 'jamás',\n",
              " 219: 'hizo',\n",
              " 220: 'través',\n",
              " 221: 'interior',\n",
              " 222: 'razón',\n",
              " 223: 'lejos',\n",
              " 224: 'suerte',\n",
              " 225: 'vista',\n",
              " 226: 'punto',\n",
              " 227: 'hijo',\n",
              " 228: 'dar',\n",
              " 229: 'casa',\n",
              " 230: 'parece',\n",
              " 231: 'mas',\n",
              " 232: 'debajo',\n",
              " 233: 'solo',\n",
              " 234: 'cuya',\n",
              " 235: 'labios',\n",
              " 236: 'largo',\n",
              " 237: 'idea',\n",
              " 238: 'pared',\n",
              " 239: 'mayor',\n",
              " 240: 'antes',\n",
              " 241: 'capas',\n",
              " 242: 'olas',\n",
              " 243: 'cazador',\n",
              " 244: 'paso',\n",
              " 245: 'pesar',\n",
              " 246: 'cuatro',\n",
              " 247: 'otras',\n",
              " 248: 'dónde',\n",
              " 249: 'tarde',\n",
              " 250: 'isla',\n",
              " 251: 'velocidad',\n",
              " 252: 'viento',\n",
              " 253: 'debía',\n",
              " 254: 'grandes',\n",
              " 255: 'graüben',\n",
              " 256: 'aquellos',\n",
              " 257: 'documento',\n",
              " 258: 'mientras',\n",
              " 259: 'siguiente',\n",
              " 260: 'cabo',\n",
              " 261: 'seis',\n",
              " 262: 'enorme',\n",
              " 263: 'vi',\n",
              " 264: 'lava',\n",
              " 265: 'misma',\n",
              " 266: 'cuyo',\n",
              " 267: 'ah',\n",
              " 268: 'tengo',\n",
              " 269: 'sería',\n",
              " 270: 'allí',\n",
              " 271: 'estado',\n",
              " 272: 'semejante',\n",
              " 273: 'cierto',\n",
              " 274: 'aunque',\n",
              " 275: 'cinco',\n",
              " 276: 'casi',\n",
              " 277: 'hallaba',\n",
              " 278: 'paredes',\n",
              " 279: 'todavía',\n",
              " 280: 'sabio',\n",
              " 281: 'éste',\n",
              " 282: 'pasos',\n",
              " 283: 'unos',\n",
              " 284: 'último',\n",
              " 285: 'cuales',\n",
              " 286: 'temperatura',\n",
              " 287: 'corteza',\n",
              " 288: 'profundidad',\n",
              " 289: 'océano',\n",
              " 290: 'pronto',\n",
              " 291: 'sino',\n",
              " 292: 'ruido',\n",
              " 293: 'silencio',\n",
              " 294: 'vapores',\n",
              " 295: 'fuerza',\n",
              " 296: 'habían',\n",
              " 297: 'animales',\n",
              " 298: 'volcán',\n",
              " 299: 'creo',\n",
              " 300: 'cosa',\n",
              " 301: 'verdadero',\n",
              " 302: 'brújula',\n",
              " 303: 'eran',\n",
              " 304: 'vida',\n",
              " 305: 'naturaleza',\n",
              " 306: 'ninguna',\n",
              " 307: 'prosiguió',\n",
              " 308: 'quien',\n",
              " 309: 'instante',\n",
              " 310: 'fuego',\n",
              " 311: 'mirada',\n",
              " 312: 'aguas',\n",
              " 313: 'marta',\n",
              " 314: 'apenas',\n",
              " 315: 'ciencia',\n",
              " 316: 'algo',\n",
              " 317: 'forma',\n",
              " 318: 'costa',\n",
              " 319: 'hacía',\n",
              " 320: 'treinta',\n",
              " 321: 'última',\n",
              " 322: 'lugar',\n",
              " 323: 'lado',\n",
              " 324: 'regiones',\n",
              " 325: 'atmósfera',\n",
              " 326: 'según',\n",
              " 327: 'esas',\n",
              " 328: 'verdad',\n",
              " 329: 'quién',\n",
              " 330: 'época',\n",
              " 331: 'perfectamente',\n",
              " 332: 'preguntó',\n",
              " 333: 'dio',\n",
              " 334: 'tu',\n",
              " 335: 'sombra',\n",
              " 336: 'llegado',\n",
              " 337: 'terreno',\n",
              " 338: 'delante',\n",
              " 339: 'abismo',\n",
              " 340: 'fenómeno',\n",
              " 341: 'cielo',\n",
              " 342: 'salir',\n",
              " 343: 'extremo',\n",
              " 344: 'fuese',\n",
              " 345: 'hablar',\n",
              " 346: 'primera',\n",
              " 347: 'puedo',\n",
              " 348: 'brazos',\n",
              " 349: 'veo',\n",
              " 350: 'masa',\n",
              " 351: 'calma',\n",
              " 352: 'espacio',\n",
              " 353: 'fridriksson',\n",
              " 354: 'hamburgo',\n",
              " 355: 'aspecto',\n",
              " 356: 'esos',\n",
              " 357: 'gracias',\n",
              " 358: 'cuanto',\n",
              " 359: 'completo',\n",
              " 360: 'existencia',\n",
              " 361: 'nuevamente',\n",
              " 362: 'esa',\n",
              " 363: 'altura',\n",
              " 364: 'distancia',\n",
              " 365: 'comida',\n",
              " 366: 'encima',\n",
              " 367: 'atención',\n",
              " 368: 'mejor',\n",
              " 369: 'aun',\n",
              " 370: 'cuyas',\n",
              " 371: 'será',\n",
              " 372: 'estamos',\n",
              " 373: 'unas',\n",
              " 374: 'sabios',\n",
              " 375: 'letras',\n",
              " 376: 'imaginación',\n",
              " 377: 'encontraba',\n",
              " 378: 'fuerzas',\n",
              " 379: 'situación',\n",
              " 380: 'caso',\n",
              " 381: 'reykiavik',\n",
              " 382: 'esperanza',\n",
              " 383: 'hallábamos',\n",
              " 384: 'sol',\n",
              " 385: 'horizonte',\n",
              " 386: 'número',\n",
              " 387: 'pensé',\n",
              " 388: 'sea',\n",
              " 389: 'longitud',\n",
              " 390: 'ello',\n",
              " 391: 'género',\n",
              " 392: 'serie',\n",
              " 393: 'veía',\n",
              " 394: 'papel',\n",
              " 395: 'norte',\n",
              " 396: 'evidentemente',\n",
              " 397: 'puesto',\n",
              " 398: 'montaña',\n",
              " 399: 'macizo',\n",
              " 400: 'compañeros',\n",
              " 401: 'nubes',\n",
              " 402: 'playa',\n",
              " 403: 'hambre',\n",
              " 404: 'tenido',\n",
              " 405: 'tener',\n",
              " 406: 'cuenta',\n",
              " 407: 'dicho',\n",
              " 408: 'valor',\n",
              " 409: 'buena',\n",
              " 410: 'decía',\n",
              " 411: 'buen',\n",
              " 412: 'demasiado',\n",
              " 413: 'quiere',\n",
              " 414: 'frase',\n",
              " 415: 'siquiera',\n",
              " 416: 'encontrar',\n",
              " 417: 'sueño',\n",
              " 418: 'tenemos',\n",
              " 419: 'oh',\n",
              " 420: 'pie',\n",
              " 421: 'pude',\n",
              " 422: 'partida',\n",
              " 423: 'caballos',\n",
              " 424: 'caída',\n",
              " 425: 'movimiento',\n",
              " 426: 'país',\n",
              " 427: 'vela',\n",
              " 428: 'natural',\n",
              " 429: 'repente',\n",
              " 430: 'orilla',\n",
              " 431: 'descenso',\n",
              " 432: 'rápidamente',\n",
              " 433: 'mal',\n",
              " 434: 'hombres',\n",
              " 435: 'ciudad',\n",
              " 436: 'entusiasmo',\n",
              " 437: 'ves',\n",
              " 438: 'debe',\n",
              " 439: 'existe',\n",
              " 440: 'pregunta',\n",
              " 441: 'alguno',\n",
              " 442: 'dice',\n",
              " 443: 'observaciones',\n",
              " 444: 'piedras',\n",
              " 445: 'árboles',\n",
              " 446: 'cálculos',\n",
              " 447: 'ocho',\n",
              " 448: 'cuarenta',\n",
              " 449: 'tuve',\n",
              " 450: 'hubiese',\n",
              " 451: 'erupción',\n",
              " 452: 'presión',\n",
              " 453: 'fácil',\n",
              " 454: 'cien',\n",
              " 455: 'minutos',\n",
              " 456: 'subir',\n",
              " 457: 'tempestad',\n",
              " 458: 'sur',\n",
              " 459: 'acción',\n",
              " 460: 'ideas',\n",
              " 461: 'terrenos',\n",
              " 462: 'entrañas',\n",
              " 463: 'plantas',\n",
              " 464: 'mesa',\n",
              " 465: 'e',\n",
              " 466: 'impaciencia',\n",
              " 467: 'ir',\n",
              " 468: 'parecían',\n",
              " 469: 'ocurre',\n",
              " 470: 'dentro',\n",
              " 471: 'volver',\n",
              " 472: 'contrario',\n",
              " 473: 'acababa',\n",
              " 474: 'respecta',\n",
              " 475: 'terrible',\n",
              " 476: 'abajo',\n",
              " 477: 'tomar',\n",
              " 478: 'cuestión',\n",
              " 479: 'objeto',\n",
              " 480: 'perder',\n",
              " 481: 'poder',\n",
              " 482: 'primeros',\n",
              " 483: '000',\n",
              " 484: 'fenómenos',\n",
              " 485: 'objetos',\n",
              " 486: 'piedra',\n",
              " 487: 'inmenso',\n",
              " 488: 'dirección',\n",
              " 489: 'rayos',\n",
              " 490: 'pendientes',\n",
              " 491: 'agosto',\n",
              " 492: 'excelente',\n",
              " 493: 'puerta',\n",
              " 494: 'siendo',\n",
              " 495: 'quería',\n",
              " 496: 'además',\n",
              " 497: 'menor',\n",
              " 498: 'mente',\n",
              " 499: 'libro',\n",
              " 500: 'cuál',\n",
              " 501: 'siglo',\n",
              " 502: 'bueno',\n",
              " 503: 'fueron',\n",
              " 504: 'instantes',\n",
              " 505: 'nadie',\n",
              " 506: 'visto',\n",
              " 507: 'trabajo',\n",
              " 508: 'tomó',\n",
              " 509: 'siglos',\n",
              " 510: 'tampoco',\n",
              " 511: 'oír',\n",
              " 512: 'espíritu',\n",
              " 513: 'extremidad',\n",
              " 514: 'respondí',\n",
              " 515: 'cuerpo',\n",
              " 516: 'extraño',\n",
              " 517: 'inmensa',\n",
              " 518: 'principio',\n",
              " 519: 'veinte',\n",
              " 520: 'hubo',\n",
              " 521: 'oído',\n",
              " 522: 'grande',\n",
              " 523: 'oí',\n",
              " 524: 'hace',\n",
              " 525: 'oscuridad',\n",
              " 526: 'expedición',\n",
              " 527: 'enormes',\n",
              " 528: 'encontrábamos',\n",
              " 529: 'ciertos',\n",
              " 530: 'violencia',\n",
              " 531: 'intensidad',\n",
              " 532: 'sed',\n",
              " 533: 'toesas',\n",
              " 534: 'va',\n",
              " 535: 'pobre',\n",
              " 536: 'tienes',\n",
              " 537: 'pasar',\n",
              " 538: 'cuidado',\n",
              " 539: 'llegó',\n",
              " 540: 'años',\n",
              " 541: 'señal',\n",
              " 542: 'capaz',\n",
              " 543: 'sentí',\n",
              " 544: 'realidad',\n",
              " 545: 'escrito',\n",
              " 546: 'secreto',\n",
              " 547: 'islandeses',\n",
              " 548: 'podido',\n",
              " 549: 'disposición',\n",
              " 550: 'comprendí',\n",
              " 551: 'caer',\n",
              " 552: 'podría',\n",
              " 553: 'has',\n",
              " 554: 'lavas',\n",
              " 555: '1',\n",
              " 556: 'teoría',\n",
              " 557: 'central',\n",
              " 558: 'evidente',\n",
              " 559: 'instrumentos',\n",
              " 560: 'cuyos',\n",
              " 561: 'adelante',\n",
              " 562: 'aproximadamente',\n",
              " 563: 'pico',\n",
              " 564: 'gruta',\n",
              " 565: 'torrente',\n",
              " 566: 'hallamos',\n",
              " 567: 'período',\n",
              " 568: 'perdido',\n",
              " 569: 'pozo',\n",
              " 570: 'especies',\n",
              " 571: 'hierro',\n",
              " 572: 'pensar',\n",
              " 573: 'cuarto',\n",
              " 574: 'cosas',\n",
              " 575: 'chimenea',\n",
              " 576: 'añadió',\n",
              " 577: 'halla',\n",
              " 578: 'pareció',\n",
              " 579: 'cerca',\n",
              " 580: 'sé',\n",
              " 581: 'sazón',\n",
              " 582: 'arriba',\n",
              " 583: 'corazón',\n",
              " 584: 'fácilmente',\n",
              " 585: 'sentía',\n",
              " 586: 'claridad',\n",
              " 587: 'dando',\n",
              " 588: 'cantidad',\n",
              " 589: 'entretanto',\n",
              " 590: 'cara',\n",
              " 591: 'ésta',\n",
              " 592: 'costas',\n",
              " 593: 'partir',\n",
              " 594: 'formado',\n",
              " 595: 'volvió',\n",
              " 596: 'allá',\n",
              " 597: 'obstante',\n",
              " 598: 'llegamos',\n",
              " 599: 'buque',\n",
              " 600: 'teníamos',\n",
              " 601: 'ellas',\n",
              " 602: 'necesario',\n",
              " 603: 'boca',\n",
              " 604: 'mira',\n",
              " 605: 'cono',\n",
              " 606: 'color',\n",
              " 607: 'montañas',\n",
              " 608: 'túnel',\n",
              " 609: 'animal',\n",
              " 610: 'columna',\n",
              " 611: 'cuerda',\n",
              " 612: 'vertical',\n",
              " 613: 'caverna',\n",
              " 614: 'monstruos',\n",
              " 615: 'tú',\n",
              " 616: 'alto',\n",
              " 617: 'peso',\n",
              " 618: 'despacho',\n",
              " 619: 'tenían',\n",
              " 620: 'quiero',\n",
              " 621: 'muchos',\n",
              " 622: 'partes',\n",
              " 623: 'sobrino',\n",
              " 624: 'remedio',\n",
              " 625: 'momentos',\n",
              " 626: 'magnífico',\n",
              " 627: 'saber',\n",
              " 628: 'creí',\n",
              " 629: 'aquello',\n",
              " 630: 'descubrir',\n",
              " 631: 'arne',\n",
              " 632: 'difícil',\n",
              " 633: 'esperaba',\n",
              " 634: 'reconocer',\n",
              " 635: 'íbamos',\n",
              " 636: 'tras',\n",
              " 637: 'orden',\n",
              " 638: 'terror',\n",
              " 639: 'salida',\n",
              " 640: 'provisiones',\n",
              " 641: 'nunca',\n",
              " 642: 'julio',\n",
              " 643: 'absoluto',\n",
              " 644: 'volcanes',\n",
              " 645: 'seguro',\n",
              " 646: 'replicó',\n",
              " 647: 'seguir',\n",
              " 648: 'superior',\n",
              " 649: 'lluvia',\n",
              " 650: 'les',\n",
              " 651: 'bajar',\n",
              " 652: 'puerto',\n",
              " 653: 'armas',\n",
              " 654: 'vuelto',\n",
              " 655: 'bordo',\n",
              " 656: 'travesía',\n",
              " 657: 'pequeño',\n",
              " 658: 'volví',\n",
              " 659: 'explosión',\n",
              " 660: 'profundidades',\n",
              " 661: 'encontramos',\n",
              " 662: 'arroyo',\n",
              " 663: 'humano',\n",
              " 664: 'osamentas',\n",
              " 665: 'calle',\n",
              " 666: 'escalera',\n",
              " 667: 'acento',\n",
              " 668: 'origen',\n",
              " 669: 'cólera',\n",
              " 670: 'muchas',\n",
              " 671: 'trata',\n",
              " 672: 'lengua',\n",
              " 673: 'debido',\n",
              " 674: 'haya',\n",
              " 675: 'siete',\n",
              " 676: 'repetía',\n",
              " 677: 'maravilloso',\n",
              " 678: 'fuera',\n",
              " 679: 'respuesta',\n",
              " 680: 'conversación',\n",
              " 681: 'sitio',\n",
              " 682: 'rapidez',\n",
              " 683: 'sentido',\n",
              " 684: 'opinión',\n",
              " 685: 'hechos',\n",
              " 686: 'consiguiente',\n",
              " 687: 'miré',\n",
              " 688: 'viva',\n",
              " 689: 'pasado',\n",
              " 690: 'frecuencia',\n",
              " 691: 'mía',\n",
              " 692: 'loco',\n",
              " 693: 'podían',\n",
              " 694: 'necesidad',\n",
              " 695: 'emoción',\n",
              " 696: 'nueva',\n",
              " 697: 'pueden',\n",
              " 698: 'tales',\n",
              " 699: 'circunstancias',\n",
              " 700: 'ocasión',\n",
              " 701: 'grito',\n",
              " 702: 'peligro',\n",
              " 703: 'hipótesis',\n",
              " 704: 'estar',\n",
              " 705: 'junio',\n",
              " 706: 'picos',\n",
              " 707: 'teorías',\n",
              " 708: 'convencido',\n",
              " 709: 'recorrer',\n",
              " 710: 'piernas',\n",
              " 711: 'sudeste',\n",
              " 712: 'oeste',\n",
              " 713: 'víveres',\n",
              " 714: 'pólvora',\n",
              " 715: 'carne',\n",
              " 716: 'obstáculo',\n",
              " 717: 'humana',\n",
              " 718: 'inmensas',\n",
              " 719: 'reflexiones',\n",
              " 720: 'cabezas',\n",
              " 721: 'bóveda',\n",
              " 722: 'islote',\n",
              " 723: 'cadáver',\n",
              " 724: 'antiguo',\n",
              " 725: 'madera',\n",
              " 726: 'obra',\n",
              " 727: 'impresión',\n",
              " 728: 'cincuenta',\n",
              " 729: 'detrás',\n",
              " 730: 'larga',\n",
              " 731: 'könig–strasse',\n",
              " 732: 'llegada',\n",
              " 733: 'trataba',\n",
              " 734: 'viejo',\n",
              " 735: 'pregunté',\n",
              " 736: 'asombro',\n",
              " 737: 'sencillo',\n",
              " 738: 'latín',\n",
              " 739: 'caracteres',\n",
              " 740: 'dios',\n",
              " 741: 'atentamente',\n",
              " 742: 'dientes',\n",
              " 743: 'encontré',\n",
              " 744: 'faltaba',\n",
              " 745: 'grave',\n",
              " 746: 'salto',\n",
              " 747: 'voy',\n",
              " 748: 'llama',\n",
              " 749: 'ciento',\n",
              " 750: 'profundo',\n",
              " 751: 'hoja',\n",
              " 752: 'dado',\n",
              " 753: 'paseo',\n",
              " 754: 'seguía',\n",
              " 755: 'inmediatamente',\n",
              " 756: 'línea',\n",
              " 757: 'sorpresa',\n",
              " 758: 'vueltas',\n",
              " 759: 'alrededor',\n",
              " 760: 'única',\n",
              " 761: 'sola',\n",
              " 762: 'familia',\n",
              " 763: 'verdaderamente',\n",
              " 764: 'mediodía',\n",
              " 765: 'abrir',\n",
              " 766: 'brazo',\n",
              " 767: 'querido',\n",
              " 768: 'scartaris',\n",
              " 769: 'improviso',\n",
              " 770: 'estoy',\n",
              " 771: 'huellas',\n",
              " 772: 'creer',\n",
              " 773: 'apagado',\n",
              " 774: 'historia',\n",
              " 775: 'van',\n",
              " 776: 'líquida',\n",
              " 777: 'formada',\n",
              " 778: 'cuerdas',\n",
              " 779: 'proyectos',\n",
              " 780: 'copenhague',\n",
              " 781: 'pudo',\n",
              " 782: 'lecho',\n",
              " 783: 'capitán',\n",
              " 784: 'brisa',\n",
              " 785: 'atravesar',\n",
              " 786: 'notable',\n",
              " 787: 'mares',\n",
              " 788: 'habitantes',\n",
              " 789: 'presencia',\n",
              " 790: 'danés',\n",
              " 791: 'perderse',\n",
              " 792: 'mitad',\n",
              " 793: 'vivo',\n",
              " 794: 'trozos',\n",
              " 795: 'miradas',\n",
              " 796: 'especial',\n",
              " 797: 'playas',\n",
              " 798: 'pendiente',\n",
              " 799: 'stapi',\n",
              " 800: 'millas',\n",
              " 801: 'recorrido',\n",
              " 802: 'tempestades',\n",
              " 803: 'espectáculo',\n",
              " 804: 'lentamente',\n",
              " 805: 'voluntad',\n",
              " 806: 'orificio',\n",
              " 807: 'primero',\n",
              " 808: 'peces',\n",
              " 809: 'peligros',\n",
              " 810: 'venido',\n",
              " 811: 'habitación',\n",
              " 812: 'grado',\n",
              " 813: 'semejantes',\n",
              " 814: 'detalles',\n",
              " 815: 'davy',\n",
              " 816: 'honor',\n",
              " 817: 'líneas',\n",
              " 818: 'dejaba',\n",
              " 819: 'doble',\n",
              " 820: 'sangre',\n",
              " 821: 'perfecto',\n",
              " 822: 'hombros',\n",
              " 823: 'vas',\n",
              " 824: 'significa',\n",
              " 825: 'incidente',\n",
              " 826: 'pergamino',\n",
              " 827: 'cabe',\n",
              " 828: 'costumbre',\n",
              " 829: 'veremos',\n",
              " 830: 'ciertamente',\n",
              " 831: 'explicación',\n",
              " 832: 'realmente',\n",
              " 833: 'comprender',\n",
              " 834: 'igual',\n",
              " 835: 'acerca',\n",
              " 836: 'presentaba',\n",
              " 837: 'penetrar',\n",
              " 838: 'ciertas',\n",
              " 839: 'verdadera',\n",
              " 840: 'tuvo',\n",
              " 841: 'creía',\n",
              " 842: 'cambio',\n",
              " 843: 'quedaba',\n",
              " 844: 'actividad',\n",
              " 845: 'regreso',\n",
              " 846: 'fortuna',\n",
              " 847: 'fui',\n",
              " 848: 'últimos',\n",
              " 849: 'cumbre',\n",
              " 850: 'podemos',\n",
              " 851: 'materias',\n",
              " 852: 'vapor',\n",
              " 853: 'nueve',\n",
              " 854: 'líquido',\n",
              " 855: 'detuvo',\n",
              " 856: 'seres',\n",
              " 857: 'decirlo',\n",
              " 858: 'tus',\n",
              " 859: 'señores',\n",
              " 860: 'tranquilo',\n",
              " 861: 'observé',\n",
              " 862: 'estábamos',\n",
              " 863: 'eleva',\n",
              " 864: 'tinieblas',\n",
              " 865: 'primer',\n",
              " 866: 'obras',\n",
              " 867: 'seco',\n",
              " 868: 'mire',\n",
              " 869: 'derecha',\n",
              " 870: 'herramientas',\n",
              " 871: 'único',\n",
              " 872: 'manantiales',\n",
              " 873: 'tranquilamente',\n",
              " 874: 'cima',\n",
              " 875: 'repitió',\n",
              " 876: 'espantosa',\n",
              " 877: 'habrá',\n",
              " 878: 'detenido',\n",
              " 879: 'motivo',\n",
              " 880: 'arena',\n",
              " 881: 'hubieran',\n",
              " 882: 'espanto',\n",
              " 883: 'grietas',\n",
              " 884: 'solamente',\n",
              " 885: 'cronómetro',\n",
              " 886: 'termómetro',\n",
              " 887: 'eléctrica',\n",
              " 888: 'electricidad',\n",
              " 889: 'lámpara',\n",
              " 890: 'subterráneo',\n",
              " 891: 'fósiles',\n",
              " 892: 'fósil',\n",
              " 893: 'aguja',\n",
              " 894: 'decidido',\n",
              " 895: 'pequeña',\n",
              " 896: 'mala',\n",
              " 897: 'clase',\n",
              " 898: 'causa',\n",
              " 899: 'catedrático',\n",
              " 900: 'genio',\n",
              " 901: 'gafas',\n",
              " 902: 'compañía',\n",
              " 903: 'daba',\n",
              " 904: 'hojas',\n",
              " 905: 'polvo',\n",
              " 906: 'ventura',\n",
              " 907: 'vino',\n",
              " 908: 'aparición',\n",
              " 909: 'trozo',\n",
              " 910: 'comenzó',\n",
              " 911: 'comer',\n",
              " 912: 'escribir',\n",
              " 913: 'formando',\n",
              " 914: 'terminado',\n",
              " 915: 'están',\n",
              " 916: 'clave',\n",
              " 917: 'cierta',\n",
              " 918: 'seguridad',\n",
              " 919: 'levanté',\n",
              " 920: 'di',\n",
              " 921: 'descanso',\n",
              " 922: 'caminábamos',\n",
              " 923: 'orillas',\n",
              " 924: 'leer',\n",
              " 925: 'confesar',\n",
              " 926: 'fuertemente',\n",
              " 927: 'puse',\n",
              " 928: 'pensaba',\n",
              " 929: 'humo',\n",
              " 930: 'reposo',\n",
              " 931: 'formaban',\n",
              " 932: 'últimas',\n",
              " 933: 'cerebro',\n",
              " 934: 'vuelta',\n",
              " 935: 'estupefacción',\n",
              " 936: 'rayo',\n",
              " 937: 'suficiente',\n",
              " 938: 'dificultades',\n",
              " 939: 'consigo',\n",
              " 940: 'movimientos',\n",
              " 941: 'sabía',\n",
              " 942: 'temer',\n",
              " 943: 'quise',\n",
              " 944: 'dotado',\n",
              " 945: 'excursión',\n",
              " 946: 'regresar',\n",
              " 947: 'víspera',\n",
              " 948: 'extraordinario',\n",
              " 949: 'dices',\n",
              " 950: 'faltan',\n",
              " 951: 'mapa',\n",
              " 952: 'erupciones',\n",
              " 953: 'elevación',\n",
              " 954: 'ido',\n",
              " 955: 'llamas',\n",
              " 956: 'varios',\n",
              " 957: 'abertura',\n",
              " 958: 'empresa',\n",
              " 959: 'aumento',\n",
              " 960: 'sabe',\n",
              " 961: 'formaba',\n",
              " 962: 'quedó',\n",
              " 963: 'corriente',\n",
              " 964: 'prisa',\n",
              " 965: 'seguido',\n",
              " 966: 'espantoso',\n",
              " 967: 'puso',\n",
              " 968: 'tendido',\n",
              " 969: 'cubierta',\n",
              " 970: 'situada',\n",
              " 971: 'dimensiones',\n",
              " 972: 'maravillas',\n",
              " 973: 'valkyria',\n",
              " 974: 'rumbo',\n",
              " 975: 'suma',\n",
              " 976: 'base',\n",
              " 977: 'avanzar',\n",
              " 978: 'seguí',\n",
              " 979: 'trecho',\n",
              " 980: 'meses',\n",
              " 981: 'capa',\n",
              " 982: 'placer',\n",
              " 983: 'nieve',\n",
              " 984: 'verás',\n",
              " 985: 'opuesta',\n",
              " 986: 'milla',\n",
              " 987: 'subterráneas',\n",
              " 988: 'corrientes',\n",
              " 989: 'frío',\n",
              " 990: 'corredor',\n",
              " 991: 'resto',\n",
              " 992: 'muralla',\n",
              " 993: 'seno',\n",
              " 994: 'salido',\n",
              " 995: 'restos',\n",
              " 996: 'inferior',\n",
              " 997: 'nivel',\n",
              " 998: 'diámetro',\n",
              " 999: 'retroceder',\n",
              " 1000: 'desaparecido',\n",
              " ...}"
            ]
          },
          "execution_count": 31,
          "metadata": {},
          "output_type": "execute_result"
        }
      ],
      "source": [
        "# Palabras del vocabulario\n",
        "tok.index_word"
      ]
    },
    {
      "cell_type": "code",
      "execution_count": null,
      "metadata": {
        "colab": {
          "base_uri": "https://localhost:8080/"
        },
        "id": "WtzINYjWCMf1",
        "outputId": "880ef48a-b6dc-47c9-ed06-07b59a46d96e"
      },
      "outputs": [
        {
          "data": {
            "text/plain": [
              "10986"
            ]
          },
          "execution_count": 32,
          "metadata": {},
          "output_type": "execute_result"
        }
      ],
      "source": [
        "# Cantidad de palabras en el vocabulario\n",
        "vocab_size = len(tok.word_counts)\n",
        "vocab_size"
      ]
    },
    {
      "cell_type": "code",
      "execution_count": null,
      "metadata": {
        "colab": {
          "base_uri": "https://localhost:8080/"
        },
        "id": "spTBxmFQc6h8",
        "outputId": "85bb91d4-6b26-4cae-c790-9ce1dbcc6d86"
      },
      "outputs": [
        {
          "name": "stdout",
          "output_type": "stream",
          "text": [
            "{'de': 1, 'la': 2, 'que': 3, 'y': 4, 'el': 5, 'a': 6, 'en': 7, 'no': 8, 'un': 9, 'se': 10, 'las': 11, 'los': 12, 'por': 13, 'del': 14, 'una': 15, 'mi': 16, 'con': 17, 'me': 18, 'su': 19, 'al': 20, 'tío': 21, 'pero': 22, 'más': 23, 'lo': 24, 'es': 25, 'nos': 26, 'sin': 27, 'para': 28, 'sus': 29, 'qué': 30, 'como': 31, 'era': 32, 'este': 33, 'había': 34, 'yo': 35, 'sobre': 36, 'esta': 37, 'si': 38, 'profesor': 39, 'hans': 40, 'mis': 41, 'le': 42, 'todo': 43, 'hasta': 44, 'después': 45, 'ni': 46, 'vez': 47, 'ya': 48, 'pues': 49, 'aquel': 50, 'dos': 51, 'cuando': 52, 'bien': 53, 'tan': 54, 'mar': 55, 'ha': 56, 'o': 57, 'sí': 58, 'agua': 59, 'dijo': 60, 'entonces': 61, 'cual': 62, 'usted': 63, 'pies': 64, 'entre': 65, 'tierra': 66, 'poco': 67, 'nuestra': 68, 'tiempo': 69, 'muy': 70, 'él': 71, 'ser': 72, 'hacia': 73, 'menos': 74, 'axel': 75, 'porque': 76, 'gran': 77, 'fin': 78, 'mismo': 79, 'estas': 80, 'preciso': 81, 'nada': 82, 'he': 83, 'superficie': 84, 'balsa': 85, 'duda': 86, 'momento': 87, 'embargo': 88, 'hombre': 89, 'aún': 90, 'sólo': 91, 'toda': 92, 'medio': 93, 'bajo': 94, 'palabras': 95, 'ojos': 96, 'así': 97, 'esto': 98, 'camino': 99, 'eso': 100, 'todos': 101, 'cabeza': 102, 'nuestro': 103, 'nuestros': 104, 'lidenbrock': 105, 'mí': 106, 'tres': 107, 'todas': 108, 'aquí': 109, 'señor': 110, 'aquella': 111, 'leguas': 112, 'exclamé': 113, 'estos': 114, 'otro': 115, 'hora': 116, 'podía': 117, 'efecto': 118, 'donde': 119, 'cada': 120, 'otra': 121, 'globo': 122, 'mano': 123, 'día': 124, 'algunos': 125, 'durante': 126, 'tenía': 127, 'estaba': 128, 'cómo': 129, 'viaje': 130, 'modo': 131, 'parte': 132, 'ahora': 133, 'hecho': 134, 'aire': 135, 'ella': 136, 'horas': 137, 'noche': 138, 'rocas': 139, 'galería': 140, 'ver': 141, 'respondió': 142, 'alguna': 143, 'fue': 144, 'exclamó': 145, 'sneffels': 146, 'luz': 147, 'tal': 148, 'nuestras': 149, 'parecía': 150, 'uno': 151, 'islandia': 152, 'sido': 153, 'mundo': 154, 'te': 155, 'contra': 156, 'mañana': 157, 'días': 158, 'habíamos': 159, 'algunas': 160, 'marcha': 161, 'hubiera': 162, 'saknussemm': 163, 'granito': 164, 'roca': 165, 'bastante': 166, 'decir': 167, 'veces': 168, 'palabra': 169, 'manos': 170, 'iba': 171, 'dije': 172, 'hemos': 173, 'son': 174, 'algún': 175, 'nuevo': 176, 'fondo': 177, 'está': 178, 'hay': 179, 'puede': 180, 'aquellas': 181, 'ningún': 182, 'vamos': 183, 'islandés': 184, 'han': 185, 'cráter': 186, 'centro': 187, 'nombre': 188, 'desde': 189, 'habría': 190, 'llegar': 191, 'tanto': 192, 'ese': 193, 'mío': 194, 'calor': 195, 'mucho': 196, 'otros': 197, 'diez': 198, 'ante': 199, 'suelo': 200, 'nosotros': 201, 'posible': 202, 'media': 203, 'hacer': 204, 'voz': 205, 'terrestre': 206, 'guía': 207, 'siempre': 208, 'también': 209, 'tiene': 210, 'manera': 211, 'mil': 212, 'seguida': 213, 'haber': 214, 'imposible': 215, 'especie': 216, 'ellos': 217, 'jamás': 218, 'hizo': 219, 'través': 220, 'interior': 221, 'razón': 222, 'lejos': 223, 'suerte': 224, 'vista': 225, 'punto': 226, 'hijo': 227, 'dar': 228, 'casa': 229, 'parece': 230, 'mas': 231, 'debajo': 232, 'solo': 233, 'cuya': 234, 'labios': 235, 'largo': 236, 'idea': 237, 'pared': 238, 'mayor': 239, 'antes': 240, 'capas': 241, 'olas': 242, 'cazador': 243, 'paso': 244, 'pesar': 245, 'cuatro': 246, 'otras': 247, 'dónde': 248, 'tarde': 249, 'isla': 250, 'velocidad': 251, 'viento': 252, 'debía': 253, 'grandes': 254, 'graüben': 255, 'aquellos': 256, 'documento': 257, 'mientras': 258, 'siguiente': 259, 'cabo': 260, 'seis': 261, 'enorme': 262, 'vi': 263, 'lava': 264, 'misma': 265, 'cuyo': 266, 'ah': 267, 'tengo': 268, 'sería': 269, 'allí': 270, 'estado': 271, 'semejante': 272, 'cierto': 273, 'aunque': 274, 'cinco': 275, 'casi': 276, 'hallaba': 277, 'paredes': 278, 'todavía': 279, 'sabio': 280, 'éste': 281, 'pasos': 282, 'unos': 283, 'último': 284, 'cuales': 285, 'temperatura': 286, 'corteza': 287, 'profundidad': 288, 'océano': 289, 'pronto': 290, 'sino': 291, 'ruido': 292, 'silencio': 293, 'vapores': 294, 'fuerza': 295, 'habían': 296, 'animales': 297, 'volcán': 298, 'creo': 299, 'cosa': 300, 'verdadero': 301, 'brújula': 302, 'eran': 303, 'vida': 304, 'naturaleza': 305, 'ninguna': 306, 'prosiguió': 307, 'quien': 308, 'instante': 309, 'fuego': 310, 'mirada': 311, 'aguas': 312, 'marta': 313, 'apenas': 314, 'ciencia': 315, 'algo': 316, 'forma': 317, 'costa': 318, 'hacía': 319, 'treinta': 320, 'última': 321, 'lugar': 322, 'lado': 323, 'regiones': 324, 'atmósfera': 325, 'según': 326, 'esas': 327, 'verdad': 328, 'quién': 329, 'época': 330, 'perfectamente': 331, 'preguntó': 332, 'dio': 333, 'tu': 334, 'sombra': 335, 'llegado': 336, 'terreno': 337, 'delante': 338, 'abismo': 339, 'fenómeno': 340, 'cielo': 341, 'salir': 342, 'extremo': 343, 'fuese': 344, 'hablar': 345, 'primera': 346, 'puedo': 347, 'brazos': 348, 'veo': 349, 'masa': 350, 'calma': 351, 'espacio': 352, 'fridriksson': 353, 'hamburgo': 354, 'aspecto': 355, 'esos': 356, 'gracias': 357, 'cuanto': 358, 'completo': 359, 'existencia': 360, 'nuevamente': 361, 'esa': 362, 'altura': 363, 'distancia': 364, 'comida': 365, 'encima': 366, 'atención': 367, 'mejor': 368, 'aun': 369, 'cuyas': 370, 'será': 371, 'estamos': 372, 'unas': 373, 'sabios': 374, 'letras': 375, 'imaginación': 376, 'encontraba': 377, 'fuerzas': 378, 'situación': 379, 'caso': 380, 'reykiavik': 381, 'esperanza': 382, 'hallábamos': 383, 'sol': 384, 'horizonte': 385, 'número': 386, 'pensé': 387, 'sea': 388, 'longitud': 389, 'ello': 390, 'género': 391, 'serie': 392, 'veía': 393, 'papel': 394, 'norte': 395, 'evidentemente': 396, 'puesto': 397, 'montaña': 398, 'macizo': 399, 'compañeros': 400, 'nubes': 401, 'playa': 402, 'hambre': 403, 'tenido': 404, 'tener': 405, 'cuenta': 406, 'dicho': 407, 'valor': 408, 'buena': 409, 'decía': 410, 'buen': 411, 'demasiado': 412, 'quiere': 413, 'frase': 414, 'siquiera': 415, 'encontrar': 416, 'sueño': 417, 'tenemos': 418, 'oh': 419, 'pie': 420, 'pude': 421, 'partida': 422, 'caballos': 423, 'caída': 424, 'movimiento': 425, 'país': 426, 'vela': 427, 'natural': 428, 'repente': 429, 'orilla': 430, 'descenso': 431, 'rápidamente': 432, 'mal': 433, 'hombres': 434, 'ciudad': 435, 'entusiasmo': 436, 'ves': 437, 'debe': 438, 'existe': 439, 'pregunta': 440, 'alguno': 441, 'dice': 442, 'observaciones': 443, 'piedras': 444, 'árboles': 445, 'cálculos': 446, 'ocho': 447, 'cuarenta': 448, 'tuve': 449, 'hubiese': 450, 'erupción': 451, 'presión': 452, 'fácil': 453, 'cien': 454, 'minutos': 455, 'subir': 456, 'tempestad': 457, 'sur': 458, 'acción': 459, 'ideas': 460, 'terrenos': 461, 'entrañas': 462, 'plantas': 463, 'mesa': 464, 'e': 465, 'impaciencia': 466, 'ir': 467, 'parecían': 468, 'ocurre': 469, 'dentro': 470, 'volver': 471, 'contrario': 472, 'acababa': 473, 'respecta': 474, 'terrible': 475, 'abajo': 476, 'tomar': 477, 'cuestión': 478, 'objeto': 479, 'perder': 480, 'poder': 481, 'primeros': 482, '000': 483, 'fenómenos': 484, 'objetos': 485, 'piedra': 486, 'inmenso': 487, 'dirección': 488, 'rayos': 489, 'pendientes': 490, 'agosto': 491, 'excelente': 492, 'puerta': 493, 'siendo': 494, 'quería': 495, 'además': 496, 'menor': 497, 'mente': 498, 'libro': 499, 'cuál': 500, 'siglo': 501, 'bueno': 502, 'fueron': 503, 'instantes': 504, 'nadie': 505, 'visto': 506, 'trabajo': 507, 'tomó': 508, 'siglos': 509, 'tampoco': 510, 'oír': 511, 'espíritu': 512, 'extremidad': 513, 'respondí': 514, 'cuerpo': 515, 'extraño': 516, 'inmensa': 517, 'principio': 518, 'veinte': 519, 'hubo': 520, 'oído': 521, 'grande': 522, 'oí': 523, 'hace': 524, 'oscuridad': 525, 'expedición': 526, 'enormes': 527, 'encontrábamos': 528, 'ciertos': 529, 'violencia': 530, 'intensidad': 531, 'sed': 532, 'toesas': 533, 'va': 534, 'pobre': 535, 'tienes': 536, 'pasar': 537, 'cuidado': 538, 'llegó': 539, 'años': 540, 'señal': 541, 'capaz': 542, 'sentí': 543, 'realidad': 544, 'escrito': 545, 'secreto': 546, 'islandeses': 547, 'podido': 548, 'disposición': 549, 'comprendí': 550, 'caer': 551, 'podría': 552, 'has': 553, 'lavas': 554, '1': 555, 'teoría': 556, 'central': 557, 'evidente': 558, 'instrumentos': 559, 'cuyos': 560, 'adelante': 561, 'aproximadamente': 562, 'pico': 563, 'gruta': 564, 'torrente': 565, 'hallamos': 566, 'período': 567, 'perdido': 568, 'pozo': 569, 'especies': 570, 'hierro': 571, 'pensar': 572, 'cuarto': 573, 'cosas': 574, 'chimenea': 575, 'añadió': 576, 'halla': 577, 'pareció': 578, 'cerca': 579, 'sé': 580, 'sazón': 581, 'arriba': 582, 'corazón': 583, 'fácilmente': 584, 'sentía': 585, 'claridad': 586, 'dando': 587, 'cantidad': 588, 'entretanto': 589, 'cara': 590, 'ésta': 591, 'costas': 592, 'partir': 593, 'formado': 594, 'volvió': 595, 'allá': 596, 'obstante': 597, 'llegamos': 598, 'buque': 599, 'teníamos': 600, 'ellas': 601, 'necesario': 602, 'boca': 603, 'mira': 604, 'cono': 605, 'color': 606, 'montañas': 607, 'túnel': 608, 'animal': 609, 'columna': 610, 'cuerda': 611, 'vertical': 612, 'caverna': 613, 'monstruos': 614, 'tú': 615, 'alto': 616, 'peso': 617, 'despacho': 618, 'tenían': 619, 'quiero': 620, 'muchos': 621, 'partes': 622, 'sobrino': 623, 'remedio': 624, 'momentos': 625, 'magnífico': 626, 'saber': 627, 'creí': 628, 'aquello': 629, 'descubrir': 630, 'arne': 631, 'difícil': 632, 'esperaba': 633, 'reconocer': 634, 'íbamos': 635, 'tras': 636, 'orden': 637, 'terror': 638, 'salida': 639, 'provisiones': 640, 'nunca': 641, 'julio': 642, 'absoluto': 643, 'volcanes': 644, 'seguro': 645, 'replicó': 646, 'seguir': 647, 'superior': 648, 'lluvia': 649, 'les': 650, 'bajar': 651, 'puerto': 652, 'armas': 653, 'vuelto': 654, 'bordo': 655, 'travesía': 656, 'pequeño': 657, 'volví': 658, 'explosión': 659, 'profundidades': 660, 'encontramos': 661, 'arroyo': 662, 'humano': 663, 'osamentas': 664, 'calle': 665, 'escalera': 666, 'acento': 667, 'origen': 668, 'cólera': 669, 'muchas': 670, 'trata': 671, 'lengua': 672, 'debido': 673, 'haya': 674, 'siete': 675, 'repetía': 676, 'maravilloso': 677, 'fuera': 678, 'respuesta': 679, 'conversación': 680, 'sitio': 681, 'rapidez': 682, 'sentido': 683, 'opinión': 684, 'hechos': 685, 'consiguiente': 686, 'miré': 687, 'viva': 688, 'pasado': 689, 'frecuencia': 690, 'mía': 691, 'loco': 692, 'podían': 693, 'necesidad': 694, 'emoción': 695, 'nueva': 696, 'pueden': 697, 'tales': 698, 'circunstancias': 699, 'ocasión': 700, 'grito': 701, 'peligro': 702, 'hipótesis': 703, 'estar': 704, 'junio': 705, 'picos': 706, 'teorías': 707, 'convencido': 708, 'recorrer': 709, 'piernas': 710, 'sudeste': 711, 'oeste': 712, 'víveres': 713, 'pólvora': 714, 'carne': 715, 'obstáculo': 716, 'humana': 717, 'inmensas': 718, 'reflexiones': 719, 'cabezas': 720, 'bóveda': 721, 'islote': 722, 'cadáver': 723, 'antiguo': 724, 'madera': 725, 'obra': 726, 'impresión': 727, 'cincuenta': 728, 'detrás': 729, 'larga': 730, 'könig–strasse': 731, 'llegada': 732, 'trataba': 733, 'viejo': 734, 'pregunté': 735, 'asombro': 736, 'sencillo': 737, 'latín': 738, 'caracteres': 739, 'dios': 740, 'atentamente': 741, 'dientes': 742, 'encontré': 743, 'faltaba': 744, 'grave': 745, 'salto': 746, 'voy': 747, 'llama': 748, 'ciento': 749, 'profundo': 750, 'hoja': 751, 'dado': 752, 'paseo': 753, 'seguía': 754, 'inmediatamente': 755, 'línea': 756, 'sorpresa': 757, 'vueltas': 758, 'alrededor': 759, 'única': 760, 'sola': 761, 'familia': 762, 'verdaderamente': 763, 'mediodía': 764, 'abrir': 765, 'brazo': 766, 'querido': 767, 'scartaris': 768, 'improviso': 769, 'estoy': 770, 'huellas': 771, 'creer': 772, 'apagado': 773, 'historia': 774, 'van': 775, 'líquida': 776, 'formada': 777, 'cuerdas': 778, 'proyectos': 779, 'copenhague': 780, 'pudo': 781, 'lecho': 782, 'capitán': 783, 'brisa': 784, 'atravesar': 785, 'notable': 786, 'mares': 787, 'habitantes': 788, 'presencia': 789, 'danés': 790, 'perderse': 791, 'mitad': 792, 'vivo': 793, 'trozos': 794, 'miradas': 795, 'especial': 796, 'playas': 797, 'pendiente': 798, 'stapi': 799, 'millas': 800, 'recorrido': 801, 'tempestades': 802, 'espectáculo': 803, 'lentamente': 804, 'voluntad': 805, 'orificio': 806, 'primero': 807, 'peces': 808, 'peligros': 809, 'venido': 810, 'habitación': 811, 'grado': 812, 'semejantes': 813, 'detalles': 814, 'davy': 815, 'honor': 816, 'líneas': 817, 'dejaba': 818, 'doble': 819, 'sangre': 820, 'perfecto': 821, 'hombros': 822, 'vas': 823, 'significa': 824, 'incidente': 825, 'pergamino': 826, 'cabe': 827, 'costumbre': 828, 'veremos': 829, 'ciertamente': 830, 'explicación': 831, 'realmente': 832, 'comprender': 833, 'igual': 834, 'acerca': 835, 'presentaba': 836, 'penetrar': 837, 'ciertas': 838, 'verdadera': 839, 'tuvo': 840, 'creía': 841, 'cambio': 842, 'quedaba': 843, 'actividad': 844, 'regreso': 845, 'fortuna': 846, 'fui': 847, 'últimos': 848, 'cumbre': 849, 'podemos': 850, 'materias': 851, 'vapor': 852, 'nueve': 853, 'líquido': 854, 'detuvo': 855, 'seres': 856, 'decirlo': 857, 'tus': 858, 'señores': 859, 'tranquilo': 860, 'observé': 861, 'estábamos': 862, 'eleva': 863, 'tinieblas': 864, 'primer': 865, 'obras': 866, 'seco': 867, 'mire': 868, 'derecha': 869, 'herramientas': 870, 'único': 871, 'manantiales': 872, 'tranquilamente': 873, 'cima': 874, 'repitió': 875, 'espantosa': 876, 'habrá': 877, 'detenido': 878, 'motivo': 879, 'arena': 880, 'hubieran': 881, 'espanto': 882, 'grietas': 883, 'solamente': 884, 'cronómetro': 885, 'termómetro': 886, 'eléctrica': 887, 'electricidad': 888, 'lámpara': 889, 'subterráneo': 890, 'fósiles': 891, 'fósil': 892, 'aguja': 893, 'decidido': 894, 'pequeña': 895, 'mala': 896, 'clase': 897, 'causa': 898, 'catedrático': 899, 'genio': 900, 'gafas': 901, 'compañía': 902, 'daba': 903, 'hojas': 904, 'polvo': 905, 'ventura': 906, 'vino': 907, 'aparición': 908, 'trozo': 909, 'comenzó': 910, 'comer': 911, 'escribir': 912, 'formando': 913, 'terminado': 914, 'están': 915, 'clave': 916, 'cierta': 917, 'seguridad': 918, 'levanté': 919, 'di': 920, 'descanso': 921, 'caminábamos': 922, 'orillas': 923, 'leer': 924, 'confesar': 925, 'fuertemente': 926, 'puse': 927, 'pensaba': 928, 'humo': 929, 'reposo': 930, 'formaban': 931, 'últimas': 932, 'cerebro': 933, 'vuelta': 934, 'estupefacción': 935, 'rayo': 936, 'suficiente': 937, 'dificultades': 938, 'consigo': 939, 'movimientos': 940, 'sabía': 941, 'temer': 942, 'quise': 943, 'dotado': 944, 'excursión': 945, 'regresar': 946, 'víspera': 947, 'extraordinario': 948, 'dices': 949, 'faltan': 950, 'mapa': 951, 'erupciones': 952, 'elevación': 953, 'ido': 954, 'llamas': 955, 'varios': 956, 'abertura': 957, 'empresa': 958, 'aumento': 959, 'sabe': 960, 'formaba': 961, 'quedó': 962, 'corriente': 963, 'prisa': 964, 'seguido': 965, 'espantoso': 966, 'puso': 967, 'tendido': 968, 'cubierta': 969, 'situada': 970, 'dimensiones': 971, 'maravillas': 972, 'valkyria': 973, 'rumbo': 974, 'suma': 975, 'base': 976, 'avanzar': 977, 'seguí': 978, 'trecho': 979, 'meses': 980, 'capa': 981, 'placer': 982, 'nieve': 983, 'verás': 984, 'opuesta': 985, 'milla': 986, 'subterráneas': 987, 'corrientes': 988, 'frío': 989, 'corredor': 990, 'resto': 991, 'muralla': 992, 'seno': 993, 'salido': 994, 'restos': 995, 'inferior': 996, 'nivel': 997, 'diámetro': 998, 'retroceder': 999, 'desaparecido': 1000, 'sentir': 1001, 'intensa': 1002, 'calcular': 1003, 'observado': 1004, 'abandonado': 1005, 'hans–bach': 1006, 'considerable': 1007, 'encuentro': 1008, 'mástil': 1009, 'puerto–graüben': 1010, 'exclama': 1011, 'responde': 1012, 'comedor': 1013, 'ahí': 1014, 'entrar': 1015, 'dueño': 1016, 'tono': 1017, 'estás': 1018, 'impaciente': 1019, 'johannaeum': 1020, 'general': 1021, 'deseo': 1022, 'consecuencia': 1023, 'facilidad': 1024, 'muestras': 1025, 'medía': 1026, 'carácter': 1027, 'alemán': 1028, 'curlandesa': 1029, 'absoluta': 1030, 'contemplaba': 1031, 'admiración': 1032, 'cesar': 1033, 'exactamente': 1034, 'poseía': 1035, 'dificultad': 1036, 'violento': 1037, 'abrió': 1038, 'falta': 1039, 'gesto': 1040, 'levantó': 1041, 'segunda': 1042, 'descubrió': 1043, 'señas': 1044, 'interés': 1045, 'exacta': 1046, 'ejemplo': 1047, 'contesté': 1048, 'conmigo': 1049, 'lago': 1050, 'debo': 1051, 'común': 1052, 'hoy': 1053, 'quedé': 1054, 'estaban': 1055, 'dejé': 1056, 'traté': 1057, 'parecen': 1058, 'bosque': 1059, 'pulmones': 1060, 'dedo': 1061, 'energía': 1062, 'fatigas': 1063, 'geólogos': 1064, 'propia': 1065, 'muerte': 1066, 'fuerte': 1067, 'apetito': 1068, 'almuerzo': 1069, 'empecé': 1070, 'hice': 1071, 'júbilo': 1072, 'corría': 1073, 'completamente': 1074, 'libertad': 1075, 'servicio': 1076, 'luchar': 1077, 'prueba': 1078, 'encontrado': 1079, 'innumerables': 1080, 'península': 1081, 'cuánto': 1082, '500': 1083, 'radio': 1084, 'derecho': 1085, 'afirmar': 1086, 'descender': 1087, 'habríamos': 1088, 'sigue': 1089, 'error': 1090, 'medida': 1091, 'arrastrar': 1092, 'da': 1093, 'rostro': 1094, 'estupefacto': 1095, 'buscar': 1096, 'antigua': 1097, 'sentimiento': 1098, 'frente': 1099, 'favorable': 1100, 'quiso': 1101, 'bahía': 1102, 'condujo': 1103, 'izquierda': 1104, 'hallan': 1105, 'llevaba': 1106, 'goleta': 1107, 'niño': 1108, 'campanario': 1109, 'alas': 1110, 'sombras': 1111, 'vértigo': 1112, 'punta': 1113, 'atlántico': 1114, 'abandonar': 1115, 'mucha': 1116, 'extiende': 1117, 'vegetación': 1118, 'nuevas': 1119, 'darle': 1120, 'estudiar': 1121, 'rápido': 1122, 'llega': 1123, 'darse': 1124, 'impedimenta': 1125, 'viajeros': 1126, 'inteligencia': 1127, 'siguiendo': 1128, 'esperar': 1129, 'marea': 1130, 'reinaba': 1131, 'huir': 1132, 'pensando': 1133, 'cuáles': 1134, 'inclinación': 1135, 'extensión': 1136, 'legua': 1137, 'choque': 1138, 'eruptivas': 1139, 'transcurrió': 1140, 'salientes': 1141, 'pleno': 1142, 'linterna': 1143, 'existía': 1144, 'esquistos': 1145, 'mina': 1146, 'alimentos': 1147, 'queda': 1148, 'murmullo': 1149, 'oídos': 1150, 'prodigiosa': 1151, 'tamaño': 1152, 'antediluvianos': 1153, 'géiser': 1154, 'mecha': 1155, 'domingo': 1156, 'situado': 1157, 'calles': 1158, 'san': 1159, 'acaba': 1160, 'dejando': 1161, 'bastón': 1162, 'ven': 1163, 'otto': 1164, 'persona': 1165, 'mineralogía': 1166, 'éstos': 1167, 'obtener': 1168, 'geólogo': 1169, 'sonido': 1170, 'mineral': 1171, 'numerosos': 1172, 'museo': 1173, 'europa': 1174, 'personaje': 1175, 'salvado': 1176, 'perfecta': 1177, 'edad': 1178, 'calidad': 1179, 'permitía': 1180, 'ejemplares': 1181, 'hallaban': 1182, 'metales': 1183, 'bastado': 1184, 'abierto': 1185, 'idioma': 1186, 'numerosas': 1187, 'islandesa': 1188, 'bella': 1189, 'propio': 1190, 'suponer': 1191, 'dedos': 1192, 'hablaba': 1193, 'pasaba': 1194, 'llevar': 1195, 'resulta': 1196, 'continuación': 1197, 'sucesión': 1198, 'vivamente': 1199, 'maquinalmente': 1200, 'detenerse': 1201, 'criptograma': 1202, 'descubrimiento': 1203, 'vano': 1204, 'primeras': 1205, 'corrido': 1206, 'xvi': 1207, 'célebre': 1208, 'sorprendente': 1209, 'atreví': 1210, 'recuerdos': 1211, 'eres': 1212, 'ley': 1213, 'altona': 1214, 'ausencia': 1215, 'triste': 1216, 'fiel': 1217, 'violenta': 1218, 'ocurrir': 1219, 'columnas': 1220, 'horizontal': 1221, 'conque': 1222, 'digo': 1223, 'marchado': 1224, 'pobres': 1225, 'cocina': 1226, 'ocurrió': 1227, 'contar': 1228, 'reanudar': 1229, 'precisamente': 1230, 'casualidad': 1231, 'pequeños': 1232, 'observar': 1233, 'corriendo': 1234, 'varias': 1235, 'inútil': 1236, 'estructura': 1237, 'diversos': 1238, 'poseer': 1239, 'resolví': 1240, 'nervios': 1241, 'entera': 1242, 'dejar': 1243, 'largas': 1244, 'formar': 1245, 'ruidos': 1246, 'desperté': 1247, 'dolores': 1248, 'razones': 1249, 'crédito': 1250, 'repetí': 1251, 'calendas': 1252, 'desciende': 1253, 'venía': 1254, 'escuchar': 1255, 'argumentos': 1256, 'gloria': 1257, 'emprender': 1258, 'entero': 1259, 'elevada': 1260, 'dejado': 1261, 'supe': 1262, 'aumenta': 1263, 'constante': 1264, 'grados': 1265, 'ti': 1266, 'límite': 1267, 'encuentra': 1268, 'exterior': 1269, 'tienen': 1270, 'nuevos': 1271, 'lugares': 1272, 'produjo': 1273, 'barca': 1274, 'comunicación': 1275, 'científicas': 1276, 'abismos': 1277, 'tardé': 1278, 'segundos': 1279, 'extraña': 1280, 'miró': 1281, 'ignoro': 1282, 'marchamos': 1283, 'adquirir': 1284, 'transporte': 1285, 'parecer': 1286, 'conocer': 1287, 'peldaños': 1288, 'habitual': 1289, 'adiós': 1290, 'cuerpos': 1291, 'fatiga': 1292, 'ninguno': 1293, 'gobernador': 1294, 'verdes': 1295, 'dan': 1296, 'faltaban': 1297, 'guardia': 1298, 'llamado': 1299, 'estrecho': 1300, 'ofrecía': 1301, 'libre': 1302, 'permanecía': 1303, 'ascensión': 1304, 'inmóviles': 1305, 'extendía': 1306, 'sólido': 1307, 'aparejo': 1308, 'insensato': 1309, 'promontorio': 1310, 'tardamos': 1311, 'vientos': 1312, 'palo': 1313, 'satisfacción': 1314, 'fuimos': 1315, 'cubierto': 1316, 'tomé': 1317, 'tendremos': 1318, 'biblioteca': 1319, 'personas': 1320, 'límites': 1321, 'blanca': 1322, 'evitar': 1323, 'decidió': 1324, 'espaldas': 1325, 'inmóvil': 1326, 'preparativos': 1327, 'sentidos': 1328, 'humedad': 1329, 'fardo': 1330, 'galleta': 1331, 'caballo': 1332, 'partido': 1333, 'marchábamos': 1334, 'fiordo': 1335, 'observación': 1336, 'oscuro': 1337, 'mayores': 1338, 'menudo': 1339, 'morir': 1340, 'gigante': 1341, 'cenizas': 1342, 'flancos': 1343, 'llanura': 1344, 'vasta': 1345, 'abrigo': 1346, 'importa': 1347, 'éstas': 1348, 'indiferencia': 1349, 'hubiésemos': 1350, 'verlo': 1351, 'fe': 1352, 'ligera': 1353, 'exactitud': 1354, 'completa': 1355, 'anteojo': 1356, 'manómetro': 1357, 'seca': 1358, 'aparato': 1359, 'gotas': 1360, 'bóvedas': 1361, 'laberinto': 1362, 'transición': 1363, 'manantial': 1364, 'vivos': 1365, 'reptiles': 1366, 'trueno': 1367, 'ochenta': 1368, 'deja': 1369, 'permitido': 1370, 'densidad': 1371, 'rápida': 1372, 'antorcha': 1373, 'gigantescas': 1374, 'despojos': 1375, 'mediterráneo': 1376, 'polo': 1377, 'miro': 1378, 'timón': 1379, 'pertenece': 1380, 'cuaternaria': 1381, 'subimos': 1382, 'temprano': 1383, 'pesado': 1384, 'gritó': 1385, 'éxito': 1386, 'expresión': 1387, 'alemania': 1388, 'gusto': 1389, 'mayoría': 1390, 'quiera': 1391, 'titubear': 1392, 'cualquiera': 1393, 'actualidad': 1394, 'cuestiones': 1395, 'descubrimientos': 1396, 'colección': 1397, 'iguales': 1398, 'felizmente': 1399, 'techo': 1400, 'preparar': 1401, 'desaparecía': 1402, 'hubiesen': 1403, 'profunda': 1404, 'hallado': 1405, 'descolorido': 1406, 'forman': 1407, 'cerraba': 1408, 'volumen': 1409, 'curiosidad': 1410, 'crees': 1411, 'responder': 1412, 'imprevisto': 1413, 'cuidadosamente': 1414, 'saberlo': 1415, 'lenguas': 1416, 'salí': 1417, 'esperé': 1418, 'horrible': 1419, 'pensamiento': 1420, 'obedecí': 1421, 'propósito': 1422, 'letra': 1423, 'pasó': 1424, 'hicieron': 1425, 'acaso': 1426, 'tardaremos': 1427, 'vacilar': 1428, 'francés': 1429, 'claro': 1430, 'sencilla': 1431, 'azules': 1432, 'volvía': 1433, 'veamos': 1434, 'verticales': 1435, '\\xa0': 1436, 'encuentran': 1437, 'tercera': 1438, 'lleno': 1439, 'haciendo': 1440, 'espuma': 1441, 'resultado': 1442, 'estaría': 1443, 'torno': 1444, 'alucinación': 1445, 'júzguese': 1446, 'rápidas': 1447, 'agitación': 1448, 'alta': 1449, 'noticia': 1450, 'debían': 1451, 'relativas': 1452, 'cerrada': 1453, 'absolutamente': 1454, 'trabajaba': 1455, 'experimentado': 1456, 'extraordinaria': 1457, 'llave': 1458, 'acuerdo': 1459, 'importancia': 1460, 'juzgar': 1461, 'buscando': 1462, 'horror': 1463, 'movía': 1464, 'actitud': 1465, 'lanzó': 1466, 'hacerse': 1467, 'audaz': 1468, 'alegría': 1469, 'convicción': 1470, 'libros': 1471, 'equipaje': 1472, 'locura': 1473, 'humor': 1474, 'autenticidad': 1475, 'pueda': 1476, 'sonrisa': 1477, 'habla': 1478, 've': 1479, 'toma': 1480, 'segundo': 1481, 'indicaciones': 1482, 'llena': 1483, 'occidental': 1484, 'escarpadas': 1485, '5': 1486, 'conduce': 1487, 'conducía': 1488, 'mes': 1489, 'vio': 1490, 'planeta': 1491, 'espacios': 1492, 'gases': 1493, 'inglés': 1494, 'océanos': 1495, 'atracción': 1496, 'luna': 1497, 'interiores': 1498, 'sufrido': 1499, 'mediante': 1500, 'mismos': 1501, 'pone': 1502, 'ferrocarril': 1503, 'cesó': 1504, 'caminamos': 1505, 'digno': 1506, 'cariño': 1507, 'adónde': 1508, 'maleta': 1509, 'criatura': 1510, 'utensilios': 1511, 'bastones': 1512, 'haría': 1513, 'esperanzas': 1514, 'tranquilidad': 1515, 'coche': 1516, 'conducirnos': 1517, 'listo': 1518, 'aparatos': 1519, 'transcurrido': 1520, 'equipajes': 1521, 'solos': 1522, 'danesa': 1523, 'dinamarca': 1524, 'contemplar': 1525, 'llanuras': 1526, 'caminos': 1527, 'tuvimos': 1528, 'nido': 1529, 'grupo': 1530, 'fresca': 1531, 'recuerdo': 1532, 'entusiasmado': 1533, 'thomson': 1534, 'actual': 1535, '2': 1536, 'real': 1537, 'estrechos': 1538, 'infinito': 1539, 'rodillas': 1540, 'casas': 1541, 'arrastrados': 1542, 'brumas': 1543, 'duró': 1544, 'lejanas': 1545, 'solución': 1546, 'descubrí': 1547, 'pasan': 1548, 'inclinaba': 1549, 'carbón': 1550, 'considerables': 1551, 'costados': 1552, 'ángulo': 1553, 'semblante': 1554, 'nieves': 1555, 'naturales': 1556, 'supongo': 1557, 'bah': 1558, 'vigas': 1559, 'horizontalmente': 1560, 'alfombra': 1561, 'recibir': 1562, 'inmediata': 1563, 'veían': 1564, 'volcánicas': 1565, 'pocas': 1566, 'principal': 1567, 'países': 1568, 'rojo': 1569, 'hospitalidad': 1570, 'miembros': 1571, 'explico': 1572, 'dígame': 1573, 'corto': 1574, 'profundamente': 1575, 'claramente': 1576, 'asombrosa': 1577, 'dura': 1578, 'precio': 1579, 'trato': 1580, 'porvenir': 1581, 'paquete': 1582, 'llevábamos': 1583, 'escala': 1584, 'ginebra': 1585, 'marchaba': 1586, 'uniforme': 1587, 'continuo': 1588, 'mide': 1589, 'caminar': 1590, 'desierto': 1591, 'cabaña': 1592, 'rebaño': 1593, 'volcánica': 1594, 'golfo': 1595, 'doce': 1596, 'comprendido': 1597, 'avanzado': 1598, 'estrépito': 1599, 'contestó': 1600, 'sensible': 1601, 'acostumbrado': 1602, 'descendido': 1603, 'saellvertu': 1604, 'espesa': 1605, 'descubierto': 1606, 'jornada': 1607, 'elevan': 1608, 'cintura': 1609, 'cansancio': 1610, 'monstruo': 1611, 'efectos': 1612, 'materialmente': 1613, 'fuegos': 1614, 'subterráneos': 1615, 'sólida': 1616, 'fenda': 1617, 'escapó': 1618, 'enfriamiento': 1619, 'elevadas': 1620, 'debíamos': 1621, 'acontecimientos': 1622, 'apoyo': 1623, 'esfuerzos': 1624, 'saliente': 1625, 'tromba': 1626, 'producía': 1627, 'carrera': 1628, 'agitan': 1629, 'dirigió': 1630, 'involuntariamente': 1631, 'foco': 1632, 'épocas': 1633, 'astro': 1634, 'primitivos': 1635, 'notas': 1636, 'instrumento': 1637, 'superiores': 1638, 'aumentaba': 1639, 'hayamos': 1640, 'hubiéramos': 1641, 'señala': 1642, 'equivocado': 1643, 'creación': 1644, 'viernes': 1645, 'hulla': 1646, 'mantas': 1647, 'influencia': 1648, 'calabaza': 1649, 'desesperación': 1650, 'pudiera': 1651, 'habrían': 1652, 'hallar': 1653, 'sinuosidades': 1654, 'atmósferas': 1655, 'curso': 1656, 'ciudades': 1657, 'probabilidad': 1658, 'sensación': 1659, 'voces': 1660, 'cavernas': 1661, 'débil': 1662, 'mugidos': 1663, 'explicar': 1664, 'puntos': 1665, 'carga': 1666, 'caña': 1667, 'pez': 1668, 'sacudida': 1669, 'examino': 1670, 'ballena': 1671, 'marino': 1672, 'serpiente': 1673, 'acumulados': 1674, 'impulso': 1675, 'huracán': 1676, 'francia': 1677, 'osario': 1678, 'olivos': 1679, 'estrómboli': 1680, 'criada': 1681, 'empezaba': 1682, 'dejándome': 1683, 'indicado': 1684, 'irascible': 1685, 'piso': 1686, 'confieso': 1687, 'conocimiento': 1688, 'desgracia': 1689, 'expresaba': 1690, 'pronunciar': 1691, 'nombres': 1692, 'furor': 1693, 'contaba': 1694, 'iban': 1695, 'repetir': 1696, 'minerales': 1697, 'mineralogista': 1698, 'martillo': 1699, 'dureza': 1700, 'olor': 1701, 'seiscientas': 1702, 'dejaban': 1703, 'tanta': 1704, 'toesa': 1705, 'vivía': 1706, 'amenazaba': 1707, 'apoyaba': 1708, 'encerraba': 1709, 'joven': 1710, 'ciencias': 1711, 'mineralógicas': 1712, 'feliz': 1713, 'átomo': 1714, 'oro': 1715, 'científicos': 1716, 'tuviese': 1717, 'ejemplar': 1718, 'cualquier': 1719, 'abría': 1720, 'veras': 1721, 'manuscrito': 1722, 'repliqué': 1723, 'quieras': 1724, 'cayó': 1725, 'avidez': 1726, 'pulgadas': 1727, 'ancho': 1728, 'examinó': 1729, 'venir': 1730, 'escena': 1731, 'diciendo': 1732, 'sopa': 1733, 'diablo': 1734, 'ración': 1735, 'pasé': 1736, 'terminó': 1737, 'empezó': 1738, 'incomprensible': 1739, 'evidencia': 1740, 'corta': 1741, 'signos': 1742, 'distinguir': 1743, 'verdaderos': 1744, 'consonantes': 1745, 'observa': 1746, 'meridional': 1747, 'escrita': 1748, 'suyo': 1749, 'paciencia': 1750, 'región': 1751, 'acariciaba': 1752, 'produce': 1753, 'elba': 1754, 'blancos': 1755, 'fisonomía': 1756, 'parecieron': 1757, 'directamente': 1758, 'sucesivamente': 1759, 'suya': 1760, 'darme': 1761, 'afortunadamente': 1762, 'pluma': 1763, 'bajando': 1764, 'correr': 1765, 'cena': 1766, 'perecer': 1767, 'decidí': 1768, 'prudente': 1769, 'cristales': 1770, 'vaga': 1771, 'preguntas': 1772, 'redactado': 1773, 'hielo': 1774, 'bastaba': 1775, 'mirar': 1776, 'lágrimas': 1777, 'instintivamente': 1778, 'súbitamente': 1779, 'audacia': 1780, 'indescriptible': 1781, 'quedaban': 1782, 'peligroso': 1783, 'apareció': 1784, 'preocupado': 1785, 'dispuesto': 1786, 'recordaban': 1787, 'investigaciones': 1788, 'problema': 1789, 'tarea': 1790, 'resistir': 1791, 'proseguía': 1792, 'cabellos': 1793, 'cráneo': 1794, 'posee': 1795, 'encontró': 1796, 'quedado': 1797, 'perdía': 1798, 'aceptar': 1799, 'llegué': 1800, 'encerrados': 1801, 'haberme': 1802, 'debió': 1803, 'hablando': 1804, 'indiferente': 1805, 'yocul': 1806, 'viajero': 1807, 'energías': 1808, 'amabilidad': 1809, 'cree': 1810, 'carta': 1811, '4': 1812, 'mejores': 1813, 'latitud': 1814, 'capital': 1815, 'monte': 1816, 'notables': 1817, 'pasa': 1818, 'trescientos': 1819, 'contenía': 1820, 'cráteres': 1821, 'hacerle': 1822, 'clara': 1823, 'bordes': 1824, 'admitir': 1825, 'darnos': 1826, 'creyó': 1827, 'inferiores': 1828, 'alcanzar': 1829, 'fusión': 1830, 'pesadas': 1831, 'hunfredo': 1832, 'hallase': 1833, 'contacto': 1834, 'fuesen': 1835, 'querer': 1836, 'esfera': 1837, 'aquélla': 1838, 'diversas': 1839, 'inesperado': 1840, 'dirigí': 1841, 'comenzaba': 1842, 'reflexionar': 1843, 'subí': 1844, 'querida': 1845, 'grité': 1846, 'inquieto': 1847, 'hermoso': 1848, 'arrojados': 1849, 'miedo': 1850, 'reanudamos': 1851, 'ambos': 1852, 'cama': 1853, 'escalas': 1854, 'calabazas': 1855, 'despertaron': 1856, 'quieres': 1857, 'cambiar': 1858, 'corre': 1859, 'estudio': 1860, 'encargó': 1861, 'venían': 1862, 'espacioso': 1863, 'tren': 1864, 'conservaba': 1865, 'vete': 1866, 'inerte': 1867, 'presa': 1868, 'asido': 1869, 'precipitado': 1870, 'abandonados': 1871, 'cargados': 1872, 'preocupación': 1873, 'asimismo': 1874, 'paisaje': 1875, 'ramas': 1876, 'instalados': 1877, 'sombrías': 1878, 'obscura': 1879, 'imponente': 1880, 'sund': 1881, 'vasto': 1882, '“': 1883, '”': 1884, 'habremos': 1885, 'concluir': 1886, 'inmensidad': 1887, 'curioso': 1888, 'tantas': 1889, 'curiosidades': 1890, 'consideraba': 1891, 'martes': 1892, 'sale': 1893, 'palacio': 1894, 'admirable': 1895, 'bolsa': 1896, 'murallas': 1897, 'junto': 1898, 'erguía': 1899, 'grises': 1900, 'iglesia': 1901, 'sube': 1902, 'cuello': 1903, 'abrí': 1904, 'producida': 1905, 'chimeneas': 1906, 'ilusión': 1907, 'éramos': 1908, 'verdura': 1909, 'luminosos': 1910, 'semejaban': 1911, 'pasear': 1912, 'altas': 1913, 'trampe': 1914, 'año': 1915, 'tardó': 1916, 'desaparecer': 1917, 'ligeramente': 1918, 'vestidos': 1919, 'anochecer': 1920, 'septentrional': 1921, 'tardaron': 1922, '3': 1923, 'ofreció': 1924, 'ballenas': 1925, 'recoger': 1926, 'bote': 1927, 'renunciar': 1928, 'consultar': 1929, 'piensa': 1930, 'declive': 1931, 'dispuestas': 1932, 'cementerio': 1933, 'elevaba': 1934, 'construida': 1935, 'turba': 1936, 'sorprender': 1937, 'consistían': 1938, 'cuero': 1939, 'carecen': 1940, 'recordar': 1941, 'saca': 1942, 'repito': 1943, 'explica': 1944, 'ventisqueros': 1945, 'quinientos': 1946, 'siento': 1947, 'habitante': 1948, 'suspiro': 1949, 'tablas': 1950, 'reunirme': 1951, 'cabellera': 1952, 'inglaterra': 1953, 'lenguaje': 1954, 'gestos': 1955, 'tomaba': 1956, 'facilitar': 1957, 'rixdales': 1958, 'algodón': 1959, 'herrados': 1960, 'hilo': 1961, 'ruhmkorff': 1962, 'meta': 1963, '15': 1964, 'precioso': 1965, 'estrechó': 1966, 'poner': 1967, 'islas': 1968, 'marchando': 1969, 'cimas': 1970, 'tengamos': 1971, 'avanzábamos': 1972, 'salvaje': 1973, 'basalto': 1974, 'toba': 1975, 'instinto': 1976, 'embarcación': 1977, 'plano': 1978, 'seguimos': 1979, 'pescado': 1980, 'escapaba': 1981, 'medidas': 1982, 'campo': 1983, 'terminada': 1984, 'veinticuatro': 1985, 'preferible': 1986, 'grupos': 1987, 'sistema': 1988, 'seguíamos': 1989, '10': 1990, 'descendían': 1991, 'actualmente': 1992, 'sábado': 1993, 'rectoría': 1994, 'sabido': 1995, 'formas': 1996, 'basáltica': 1997, 'furores': 1998, 'conducido': 1999, 'furia': 2000, 'estrecha': 2001, 'incidentes': 2002, 'olvidado': 2003, 'presenta': 2004, 'pena': 2005, 'cesaba': 2006, 'prudencia': 2007, 'temores': 2008, 'conviene': 2009, 'dejaron': 2010, 'aproxima': 2011, 'luego': 2012, 'próxima': 2013, 'odre': 2014, 'geológica': 2015, 'examinar': 2016, 'formación': 2017, 'únicamente': 2018, 'masas': 2019, 'aquél': 2020, 'gris': 2021, 'formaron': 2022, 'respecto': 2023, 'peñascos': 2024, 'precaución': 2025, 'reparar': 2026, '200': 2027, 'elevado': 2028, 'agotado': 2029, 'sacudió': 2030, 'vertiente': 2031, 'plena': 2032, 'penacho': 2033, 'circunferencia': 2034, '“que': 2035, 'precipitaban': 2036, 'pedazo': 2037, 'abrían': 2038, 'miraba': 2039, 'despedidos': 2040, 'millares': 2041, 'apoderó': 2042, 'conformación': 2043, 'espalda': 2044, 'sonoro': 2045, 'resbalar': 2046, 'rebasado': 2047, 'pedazos': 2048, 'maniobra': 2049, 'crecía': 2050, 'catorce': 2051, 'detuve': 2052, 'tubo': 2053, 'gigantesco': 2054, 'detiene': 2055, 'barómetro': 2056, 'matices': 2057, 'ángulos': 2058, 'puntas': 2059, 'tropezado': 2060, 'condiciones': 2061, 'gneis': 2062, 'deslizaba': 2063, 'fatigoso': 2064, 'desiertos': 2065, 'selvas': 2066, 'sucedió': 2067, 'calizas': 2068, 'asperones': 2069, 'exclamación': 2070, 'elegir': 2071, 'quinientas': 2072, 'duro': 2073, 'distintamente': 2074, 'licopodios': 2075, 'pertenecido': 2076, 'supuesto': 2077, 'polos': 2078, 'helechos': 2079, 'bifurcación': 2080, 'murmuré': 2081, 'plazo': 2082, 'maravillosas': 2083, 'parecido': 2084, 'caí': 2085, 'socorro': 2086, 'observo': 2087, 'envueltos': 2088, 'mole': 2089, 'transcurrieron': 2090, 'pecho': 2091, 'escuché': 2092, 'engañado': 2093, 'señales': 2094, 'salvados': 2095, 'golpes': 2096, 'estrellarse': 2097, 'arroyuelo': 2098, 'conocidas': 2099, 'terrestres': 2100, 'almorzar': 2101, 'exacto': 2102, 'conservar': 2103, 'fría': 2104, 'memoria': 2105, 'olvidar': 2106, 'doscientas': 2107, 'oía': 2108, 'sesos': 2109, 'salvación': 2110, 'necesariamente': 2111, 'apliqué': 2112, 'extrañas': 2113, 'detonación': 2114, 'separa': 2115, 'buenos': 2116, 'inexplicable': 2117, 'menores': 2118, 'eléctrico': 2119, 'arroyos': 2120, 'selva': 2121, 'hongos': 2122, 'arborescentes': 2123, 'pienso': 2124, 'cálculo': 2125, 'embarcar': 2126, 'septentrionales': 2127, 'surtarbrandur': 2128, 'serpientes': 2129, 'fantástico': 2130, 'diario': 2131, 'navegación': 2132, 'echa': 2133, 'exclamo': 2134, 'saurios': 2135, 'cuvier': 2136, 'paleontología': 2137, 'mamíferos': 2138, 'simio': 2139, 'desaparecen': 2140, 'mandíbulas': 2141, 'pensamientos': 2142, 'esqueleto': 2143, 'cocodrilo': 2144, 'somos': 2145, 'tortuga': 2146, 'combate': 2147, 'ictiosauro': 2148, 'plesiosauro': 2149, 'tronco': 2150, 'catarata': 2151, 'detonaciones': 2152, 'relámpagos': 2153, 'reponer': 2154, 'mastodontes': 2155, 'venga': 2156, 'puñal': 2157, 'terremoto': 2158, 'ascensional': 2159, '24': 2160, 'hogar': 2161, 'barrio': 2162, 'creyendo': 2163, 'conozco': 2164, 'esté': 2165, 'favor': 2166, 'presurosa': 2167, 'escuchó': 2168, 'giro': 2169, 'rincón': 2170, 'sombrero': 2171, 'dirigiéndose': 2172, 'haces': 2173, 'original': 2174, 'estudios': 2175, 'enseñaba': 2176, 'gozaba': 2177, 'público': 2178, 'constituye': 2179, 'defecto': 2180, 'conocido': 2181, 'romperse': 2182, 'milne–edwards': 2183, 'química': 2184, 'llamaba': 2185, 'salud': 2186, 'amplias': 2187, 'atraía': 2188, 'caminaba': 2189, 'casita': 2190, 'mantenía': 2191, 'firme': 2192, 'alegre': 2193, 'dediqué': 2194, 'venas': 2195, 'pedruscos': 2196, 'maneras': 2197, 'afecto': 2198, 'salón': 2199, 'obedecer': 2200, 'reino': 2201, 'arreglo': 2202, 'cuán': 2203, 'cuántas': 2204, 'muchachos': 2205, 'reconstruir': 2206, 'exclamaciones': 2207, 'lomo': 2208, 'permanece': 2209, 'deje': 2210, 'cubiertas': 2211, 'unido': 2212, 'animándose': 2213, 'sturluson': 2214, 'famoso': 2215, 'traducción': 2216, 'combinaciones': 2217, 'encogiéndose': 2218, 'propios': 2219, 'decirme': 2220, 'amor': 2221, 'replicar': 2222, 'apresuró': 2223, 'emocionado': 2224, 'hablan': 2225, 'dejarse': 2226, 'desagradable': 2227, 'sentado': 2228, 'sepa': 2229, 'dulce': 2230, 'fuer': 2231, 'asombroso': 2232, 'servía': 2233, 'vieja': 2234, 'devorado': 2235, 'oculto': 2236, 'siguientes': 2237, 'dirigida': 2238, 'indicación': 2239, 'm': 2240, 'demonios': 2241, 'mancha': 2242, 'tinta': 2243, 'comprendió': 2244, 'logró': 2245, 'únicos': 2246, 'leyó': 2247, 'alquimista': 2248, 'ocultar': 2249, 'párpados': 2250, 'encierra': 2251, 'contiene': 2252, 'vocales': 2253, 'conclusión': 2254, 'ininteligibles': 2255, 'pertenecer': 2256, 'virgilio': 2257, 'tomando': 2258, 'desorden': 2259, 'primitiva': 2260, 'enigma': 2261, 'sentimientos': 2262, 'serio': 2263, 'ordenar': 2264, 'verticalmente': 2265, 'procedimiento': 2266, 'disponer': 2267, 'intención': 2268, 's': 2269, 'bastará': 2270, 'tutor': 2271, 'olvidó': 2272, 'demás': 2273, 'terminar': 2274, 'escapar': 2275, 'volveremos': 2276, 'resuelto': 2277, 'dieta': 2278, 'geodas': 2279, 'inquietud': 2280, 'butaca': 2281, 'náyade': 2282, 'escuchaba': 2283, 'gesticulando': 2284, 'perteneciente': 2285, 'cuarta': 2286, 'volverse': 2287, 'existir': 2288, 'madre': 2289, 'plata': 2290, 'vemos': 2291, 'alternativamente': 2292, 'quedar': 2293, 'presentó': 2294, 'servirme': 2295, 'estancia': 2296, 'amplio': 2297, 'provisión': 2298, 'detenerme': 2299, 'herido': 2300, 'sobreexcitación': 2301, 'febril': 2302, 'asunto': 2303, 'temblorosa': 2304, 'levantar': 2305, 'acabaría': 2306, 'ignoraba': 2307, 'setenta': 2308, 'millones': 2309, 'expresa': 2310, 'cifras': 2311, 'dormir': 2312, 'desordenados': 2313, 'lucha': 2314, 'sostenido': 2315, 'absorbido': 2316, 'acordaba': 2317, 'ordinario': 2318, 'tensión': 2319, 'contado': 2320, 'trató': 2321, 'trasladarse': 2322, 'precedente': 2323, 'atrás': 2324, 'permaneció': 2325, 'soportar': 2326, 'científica': 2327, 'estómago': 2328, 'devorador': 2329, 'anterior': 2330, 'imposibilidad': 2331, 'podrán': 2332, 'adivinar': 2333, 'levantando': 2334, 'interrogó': 2335, 'mudo': 2336, 'responderle': 2337, 'ingenioso': 2338, 'subiendo': 2339, 'oprimía': 2340, 'siniestro': 2341, 'detener': 2342, 'reservé': 2343, 'oportuno': 2344, 'satisfecho': 2345, 'postres': 2346, 'frecuente': 2347, 'muchacho': 2348, 'entiendes': 2349, 'aventura': 2350, 'permítame': 2351, 'amigo': 2352, 'fecha': 2353, 'resolver': 2354, 'montes': 2355, 'sabría': 2356, 'fiordos': 2357, 'rótula': 2358, 'comparación': 2359, 'dime': 2360, 'encogiéndome': 2361, 'obstruido': 2362, 'apagados': 2363, 'precisar': 2364, 'proximidades': 2365, 'teniendo': 2366, 'decididamente': 2367, 'convenir': 2368, 'bajó': 2369, 'salvo': 2370, 'singularmente': 2371, 'existen': 2372, 'incandescente': 2373, 'interplanetarios': 2374, 'decrecía': 2375, 'descienden': 2376, 'elevarse': 2377, 'procedentes': 2378, 'caldera': 2379, 'considerablemente': 2380, 'visita': 2381, 'verme': 2382, 'diarias': 2383, 'penetraban': 2384, 'hendeduras': 2385, 'explosiones': 2386, 'entender': 2387, 'atenernos': 2388, 'podremos': 2389, 'eléctricos': 2390, 'luminosa': 2391, 'impenetrable': 2392, 'fiebre': 2393, 'llegaba': 2394, 'recordaba': 2395, 'profundos': 2396, 'mera': 2397, 'hallé': 2398, 'oírse': 2399, 'llamar': 2400, 'os': 2401, 'acompañaría': 2402, 'despegar': 2403, 'viajar': 2404, 'tranquila': 2405, 'dándole': 2406, 'porción': 2407, 'partiremos': 2408, 'incapaz': 2409, 'imaginado': 2410, 'arrojado': 2411, 'espera': 2412, 'compañero': 2413, 'dudas': 2414, 'proceder': 2415, 'precipitación': 2416, '22': 2417, 'conversaba': 2418, 'estación': 2419, 'bultos': 2420, 'destino': 2421, 'bajé': 2422, 'contener': 2423, 'mujer': 2424, 'sentarme': 2425, 'silbidos': 2426, 'kiel': 2427, 'física': 2428, 'lleva': 2429, 'signo': 2430, 'precipicios': 2431, 'vigorosamente': 2432, 'creciente': 2433, 'resignado': 2434, 'avanzaba': 2435, 'saco': 2436, 'oculta': 2437, 'campiña': 2438, 'delicias': 2439, 'ellenora': 2440, 'emprendió': 2441, 'admirar': 2442, 'soplaba': 2443, 'distinguían': 2444, 'alumbraba': 2445, 'destellos': 2446, 'establecimiento': 2447, 'sean': 2448, 'suficientemente': 2449, 'hotel': 2450, 'acogida': 2451, 'visitar': 2452, 'recorrimos': 2453, 'biarne': 2454, 'pasaje': 2455, 'pagó': 2456, 'dimos': 2457, 'almorcemos': 2458, 'fijos': 2459, 'almorzamos': 2460, 'castillo': 2461, 'dormían': 2462, 'rojas': 2463, 'bocas': 2464, 'verla': 2465, 'embarcamos': 2466, 'amenaza': 2467, 'subía': 2468, 'insistió': 2469, 'precedía': 2470, 'subido': 2471, 'frágil': 2472, 'alturas': 2473, 'ayuda': 2474, 'asiéndome': 2475, 'chaqueta': 2476, 'cúpula': 2477, 'humos': 2478, 'óptica': 2479, 'vertiginosa': 2480, 'brillaba': 2481, 'descubría': 2482, 'ponerme': 2483, 'ejercicio': 2484, 'sensibles': 2485, 'acostumbrada': 2486, 'alcalde': 2487, 'gratitud': 2488, 'penetró': 2489, 'encontraban': 2490, 'antiguas': 2491, 'buques': 2492, 'lana': 2493, 'noroeste': 2494, 'experimentar': 2495, 'navegar': 2496, 'resistencia': 2497, 'reconoció': 2498, 'portland': 2499, 'permitió': 2500, 'islotes': 2501, 'sudoeste': 2502, 'faxa': 2503, 'salió': 2504, 'quienes': 2505, 'proa': 2506, 'eternas': 2507, 'barón': 2508, 'entregó': 2509, 'órdenes': 2510, 'giraba': 2511, 'inquieta': 2512, 'andar': 2513, 'colinas': 2514, 'pantanoso': 2515, 'suave': 2516, 'cabañas': 2517, 'comercio': 2518, 'uso': 2519, 'rodeado': 2520, 'pocos': 2521, 'población': 2522, 'llenaba': 2523, 'alrededores': 2524, 'tierras': 2525, 'inclinadas': 2526, 'empero': 2527, 'relativamente': 2528, 'habitaciones': 2529, 'hierba': 2530, 'vigorosos': 2531, 'separados': 2532, 'infelices': 2533, 'heladas': 2534, 'vivir': 2535, 'agradable': 2536, 'anfitrión': 2537, 'confianza': 2538, 'raros': 2539, 'labriego': 2540, 'extranjeros': 2541, 'poseen': 2542, 'término': 2543, 'sociedad': 2544, 'hará': 2545, 'pertenecía': 2546, 'vacilaba': 2547, 'explorador': 2548, 'islandesas': 2549, 'ilustre': 2550, 'devoraba': 2551, 'espero': 2552, 'riquezas': 2553, 'trabajos': 2554, 'procurando': 2555, 'brillo': 2556, 'conocidos': 2557, 'alma': 2558, 'provecho': 2559, 'útil': 2560, 'contorneando': 2561, 'hábil': 2562, 'verle': 2563, 'importante': 2564, 'importantes': 2565, 'misterioso': 2566, 'dormí': 2567, 'hallarse': 2568, 'temperamento': 2569, 'cruzados': 2570, 'caza': 2571, 'expliqué': 2572, 'conserva': 2573, 'aves': 2574, 'flemático': 2575, 'virtud': 2576, 'vías': 2577, 'pieza': 2578, 'tendríamos': 2579, 'elástica': 2580, 'siguió': 2581, 'destreza': 2582, 'peor': 2583, 'hacíamos': 2584, '400': 2585, 'vertientes': 2586, 'río': 2587, 'hacemos': 2588, 'gentes': 2589, 'mueve': 2590, 'miserables': 2591, 'daban': 2592, 'serían': 2593, 'escandinava': 2594, 'volcánicos': 2595, 'sobrenatural': 2596, 'aoalkirkja': 2597, 'frugal': 2598, 'gardär': 2599, 'obscuras': 2600, 'gracia': 2601, 'convertido': 2602, 'der': 2603, 'prosigamos': 2604, 'arrastrada': 2605, 'huéspedes': 2606, 'talla': 2607, 'construir': 2608, 'ocasiones': 2609, 'esposa': 2610, 'mismas': 2611, 'corrían': 2612, 'abundante': 2613, 'tantos': 2614, 'ovas': 2615, 'sirvió': 2616, 'hayas': 2617, 'huesos': 2618, 'indefinidamente': 2619, 'revueltas': 2620, 'piel': 2621, 'vimos': 2622, 'uniformidad': 2623, 'total': 2624, 'calientes': 2625, 'pequeñas': 2626, '20': 2627, 'recibidos': 2628, 'permanecido': 2629, 'procede': 2630, 'compás': 2631, 'edades': 2632, 'aberturas': 2633, 'etapa': 2634, 'cura': 2635, 'rector': 2636, 'medir': 2637, 'reemplazar': 2638, 'desandar': 2639, 'míos': 2640, 'galerías': 2641, 'deducir': 2642, 'debemos': 2643, 'proseguir': 2644, 'fusiles': 2645, 'inesperada': 2646, 'formidable': 2647, 'cubría': 2648, 'pómez': 2649, 'observaba': 2650, 'par': 2651, 'moderna': 2652, 'elevándose': 2653, 'sedimentario': 2654, 'contextura': 2655, 'pasta': 2656, 'espesor': 2657, 'sucedieron': 2658, 'aplastados': 2659, 'escorias': 2660, 'agudo': 2661, 'silbido': 2662, 'auxilio': 2663, 'advertir': 2664, 'descubrieron': 2665, 'permitían': 2666, 'mistour': 2667, 'sopla': 2668, 'descendiendo': 2669, 'chocar': 2670, 'suspendidas': 2671, 'remolinos': 2672, 'once': 2673, 'despertó': 2674, 'desarrollaba': 2675, 'ondulaciones': 2676, 'irradiación': 2677, 'olvidé': 2678, 'ligero': 2679, 'dominaba': 2680, 'arrastran': 2681, 'comparaba': 2682, 'saltos': 2683, 'herrado': 2684, 'tenebrosas': 2685, 'fauces': 2686, 'examen': 2687, 'cambió': 2688, 'grabado': 2689, 'sopor': 2690, 'sacudidas': 2691, 'señalaba': 2692, 'construyó': 2693, 'cascadas': 2694, 'reservaba': 2695, 'esplendoroso': 2696, 'insondable': 2697, 'vacío': 2698, 'gravedad': 2699, 'suficientes': 2700, 'dejó': 2701, 'doscientos': 2702, 'arenas': 2703, 'satisfecha': 2704, 'perecía': 2705, 'importaba': 2706, 'devonianos': 2707, 'sensiblemente': 2708, 'produciendo': 2709, 'duraba': 2710, 'estrella': 2711, 'respirar': 2712, 'lunes': 2713, 'deslizarse': 2714, 'cuarzo': 2715, 'convenciendo': 2716, 'espléndido': 2717, 'marcaba': 2718, 'producían': 2719, 'atmosférica': 2720, 'particular': 2721, 'tranquilízate': 2722, 'intenso': 2723, '9': 2724, '1°': 2725, 'modificar': 2726, 'siberia': 2727, '125': 2728, 'exactos': 2729, 'minas': 2730, 'deberíamos': 2731, 'prolongado': 2732, 'vía': 2733, 'vea': 2734, 'manta': 2735, 'cuesta': 2736, 'convencer': 2737, 'acercaba': 2738, 'oyó': 2739, 'deseaba': 2740, 'superpuestas': 2741, 'primitivas': 2742, 'vegetales': 2743, 'viejos': 2744, 'abierta': 2745, 'continuar': 2746, 'preparó': 2747, 'emprendimos': 2748, 'excavación': 2749, 'conmoción': 2750, 'subterránea': 2751, 'esferoide': 2752, 'inmensos': 2753, 'probablemente': 2754, 'intactos': 2755, 'caminando': 2756, 'pronunciado': 2757, 'fluido': 2758, 'espantosas': 2759, 'refrenar': 2760, 'horizontalidad': 2761, 'muro': 2762, 'andado': 2763, 'partimos': 2764, 'sufrimientos': 2765, 'resignación': 2766, 'faltó': 2767, 'abrasaba': 2768, 'torturas': 2769, 'sorbo': 2770, 'garganta': 2771, 'irritación': 2772, 'diferentes': 2773, 'tocar': 2774, 'logrado': 2775, 'señalando': 2776, 'incredulidad': 2777, 'granítico': 2778, 'marinos': 2779, 'fendas': 2780, 'eruptivo': 2781, 'micaesquistos': 2782, 'sonda': 2783, 'azadón': 2784, 'dispuestos': 2785, 'disminuyó': 2786, 'lancé': 2787, 'acabado': 2788, 'cerré': 2789, 'violentos': 2790, 'volverme': 2791, 'mugido': 2792, 'peculiar': 2793, 'escuchando': 2794, 'ocurrido': 2795, 'provocar': 2796, 'volar': 2797, 'piqueta': 2798, 'chorro': 2799, 'dolor': 2800, 'minuto': 2801, 'llenado': 2802, 'alcanzaba': 2803, 'partamos': 2804, 'jueves': 2805, 'sumo': 2806, 'hacían': 2807, 'atrevo': 2808, 'grieta': 2809, 'satisfactorio': 2810, 'engañaba': 2811, 'añadí': 2812, 'determinar': 2813, 'anotando': 2814, 'rápidos': 2815, 'actuales': 2816, 'juguete': 2817, 'formidables': 2818, 'vienen': 2819, 'marca': 2820, 'estará': 2821, 'densa': 2822, 'sonidos': 2823, 'determinada': 2824, 'razonamientos': 2825, 'sacado': 2826, 'insignificantes': 2827, 'extraviado': 2828, 'resultaba': 2829, 'devanaba': 2830, 'intentar': 2831, 'perdí': 2832, 'levantándome': 2833, 'ensangrentado': 2834, 'förlorad': 2835, 'pronunciaba': 2836, 'oyen': 2837, 'acústica': 2838, 'salvar': 2839, 'ánimo': 2840, 'leyes': 2841, 'provenía': 2842, 'situadas': 2843, 'disponía': 2844, 'encendida': 2845, 'puramente': 2846, 'efectivamente': 2847, 'deslizado': 2848, 'eléctricas': 2849, 'luminoso': 2850, 'anchura': 2851, 'describir': 2852, 'transportado': 2853, 'murmurar': 2854, 'monstruoso': 2855, 'experimenté': 2856, 'parque': 2857, 'zoológico': 2858, 'gigantescos': 2859, 'troncos': 2860, 'mandíbula': 2861, 'mastodonte': 2862, 'vivido': 2863, 'concebir': 2864, 'empujado': 2865, 'telón': 2866, 'podríamos': 2867, 'levanta': 2868, 'entra': 2869, 'posición': 2870, 'errores': 2871, 'temo': 2872, 'coníferas': 2873, 'ofrecían': 2874, 'producir': 2875, 'novedad': 2876, 'descubierta': 2877, 'vigor': 2878, 'sollo': 2879, 'aletas': 2880, 'cola': 2881, 'extinguida': 2882, 'ciegos': 2883, 'pertenecientes': 2884, 'tomo': 2885, 'rugidos': 2886, 'pierden': 2887, 'estanque': 2888, 'notar': 2889, 'vuelvo': 2890, 'examinando': 2891, 'barra': 2892, 'colosal': 2893, 'implacable': 2894, 'marsopa': 2895, 'lagarto': 2896, 'espantosos': 2897, 'líquidas': 2898, 'permanecemos': 2899, 'zozobrar': 2900, 'marcado': 2901, 'largos': 2902, 'ebullición': 2903, 'retirar': 2904, 'naufragio': 2905, 'relato': 2906, 'destrozado': 2907, 'causaba': 2908, 'magnetismo': 2909, 'fatalidad': 2910, 'artefacto': 2911, 'sostenía': 2912, 'ocupar': 2913, 'estribaciones': 2914, 'raza': 2915, 'conservado': 2916, 'sorpresas': 2917, 'engañas': 2918, 'centenares': 2919, 'traído': 2920, 'arma': 2921, 'mellado': 2922, 'resplandores': 2923, 'loca': 2924, 'hervientes': 2925, 'vomitados': 2926, 'mentido': 2927, 'mayo': 2928, '1863': 2929, 'entró': 2930, '19': 2931, '“si': 2932, 'viene': 2933, 'lista': 2934, 'miguel': 2935, 'explicará': 2936, 'seguramente': 2937, 'retiró': 2938, 'utilizaba': 2939, 'fenomenales': 2940, 'atravesó': 2941, 'entrando': 2942, 'arrojando': 2943, 'imperioso': 2944, 'regla': 2945, 'discípulos': 2946, 'pudiesen': 2947, 'alemana': 2948, 'detenía': 2949, 'vocablo': 2950, 'resisten': 2951, 'difíciles': 2952, 'rudos': 2953, 'resinas': 2954, 'plomo': 2955, 'haga': 2956, 'perspicacia': 2957, 'ácido': 2958, 'sabor': 2959, 'humphry': 2960, 'humboldt': 2961, 'magníficos': 2962, 'leipzig': 2963, 'trascendental': 2964, 'rusia': 2965, 'preciosa': 2966, 'merecida': 2967, 'fama': 2968, 'imaginaos': 2969, 'nariz': 2970, 'decían': 2971, 'tabaco': 2972, 'matemáticamente': 2973, 'añadido': 2974, 'sólidamente': 2975, 'lector': 2976, 'modesta': 2977, 'construcción': 2978, 'entraban': 2979, 'canales': 2980, 'tortuosos': 2981, 'incendio': 2982, 'inclinada': 2983, 'vientre': 2984, 'caído': 2985, 'oreja': 2986, 'vigoroso': 2987, 'verdor': 2988, 'rico': 2989, 'propiedad': 2990, 'ayudaba': 2991, 'aprisa': 2992, 'loza': 2993, 'tratar': 2994, 'ciegamente': 2995, 'rotulados': 2996, 'ordenados': 2997, 'divisiones': 2998, 'metálicos': 2999, 'mineralógica': 3000, 'antracitas': 3001, 'hullas': 3002, 'lignitos': 3003, 'relativo': 3004, 'instalado': 3005, 'comodidad': 3006, 'entré': 3007, 'hallábase': 3008, 'butacón': 3009, 'terciopelo': 3010, 'utrecht': 3011, 'bibliómano': 3012, 'ilegible': 3013, 'inestimable': 3014, 'tesoro': 3015, 'grosero': 3016, 'encuadernación': 3017, 'página': 3018, 'abrirse': 3019, 'expresarse': 3020, 'pura': 3021, 'interesaba': 3022, 'mínimo': 3023, 'exagerado': 3024, 'snorri': 3025, 'autor': 3026, 'reinaron': 3027, 'afectando': 3028, 'modificaciones': 3029, 'insinué': 3030, 'acierto': 3031, 'diferencia': 3032, 'griego': 3033, 'impreso': 3034, 'ignorante': 3035, 'rúnico': 3036, 'soporté': 3037, 'runas': 3038, 'dioses': 3039, 'indecible': 3040, 'encerrado': 3041, 'mágicos': 3042, 'rúnicos': 3043, 'invención': 3044, 'políglota': 3045, 'reloj': 3046, 'servida': 3047, 'marchó': 3048, 'solemnidad': 3049, 'exquisito': 3050, 'perdió': 3051, 'concibe': 3052, 'acontecimiento': 3053, 'sacudiendo': 3054, 'escándalo': 3055, 'comiendo': 3056, 'entrecejo': 3057, 'escribe': 3058, 'alfabeto': 3059, 'clavos': 3060, 'juntas': 3061, 'mm': 3062, 'rnlls': 3063, 'unteief': 3064, 'oseibo': 3065, 'concepto': 3066, 'guardé': 3067, 'comparó': 3068, 'xiv': 3069, 'lógico': 3070, 'trataré': 3071, 'inclino': 3072, 'poderosa': 3073, 'lente': 3074, 'minuciosa': 3075, 'veíanse': 3076, 'trabajó': 3077, 'triunfo': 3078, 'alimento': 3079, 'cerrar': 3080, 'averiguar': 3081, 'proporción': 3082, 'meridionales': 3083, 'idiomas': 3084, 'ricos': 3085, 'espíritus': 3086, 'español': 3087, 'italiano': 3088, 'hebreo': 3089, 'fundamento': 3090, 'suposición': 3091, 'confuso': 3092, 'abundan': 3093, 'quinta': 3094, 'combinada': 3095, 'indudable': 3096, 'regularmente': 3097, 'adorable': 3098, 'retrato': 3099, 'pupila': 3100, 'pariente': 3101, 'flema': 3102, 'enterase': 3103, 'muchacha': 3104, 'rubia': 3105, 'trasladó': 3106, 'materia': 3107, 'dulces': 3108, 'estudiando': 3109, 'juntos': 3110, 'insensibles': 3111, 'llegábamos': 3112, 'vaporcito': 3113, 'sueños': 3114, 'puñetazo': 3115, 'trajo': 3116, 'agrupadas': 3117, 'b': 3118, 'i': 3119, 'r': 3120, 'l': 3121, 'd': 3122, 'obtuve': 3123, 'adquirido': 3124, 'ingeniosas': 3125, 'acabas': 3126, 'desconozco': 3127, 'amas': 3128, 'eh': 3129, 'desconcertado': 3130, 'dejemos': 3131, 'abismado': 3132, 'contemplación': 3133, 'imprudentes': 3134, 'experimento': 3135, 'chispas': 3136, 'coger': 3137, 'pronunciadas': 3138, 'latina': 3139, 'frenético': 3140, 'atravesando': 3141, 'proyectil': 3142, 'alud': 3143, 'cenará': 3144, 'ponernos': 3145, 'inanición': 3146, 'dada': 3147, 'regresó': 3148, 'respondía': 3149, 'coloqué': 3150, 'apartaba': 3151, 'presentía': 3152, 'inminente': 3153, 'catástrofe': 3154, 'colocadas': 3155, 'colgando': 3156, 'entretuve': 3157, 'comprobar': 3158, 'negativo': 3159, 'imaginaba': 3160, 'frondosos': 3161, 'calzada': 3162, 'hierbas': 3163, 'poderoso': 3164, 'cogí': 3165, 'diciéndome': 3166, 'inglesa': 3167, 'leí': 3168, 'latinas': 3169, 'sagrado': 3170, 'cruel': 3171, 'arco': 3172, 'hablase': 3173, 'luchaba': 3174, 'insuperable': 3175, 'asfixiaba': 3176, 'reverso': 3177, 'aparecer': 3178, 'craterem': 3179, 'revés': 3180, 'suposiciones': 3181, 'faltado': 3182, 'pudiese': 3183, 'revelar': 3184, 'imaginar': 3185, 'extendí': 3186, 'fijar': 3187, 'logré': 3188, 'calmar': 3189, 'incliné': 3190, 'pronuncié': 3191, 'efectuado': 3192, 'faltaría': 3193, 'lograse': 3194, 'detenerlo': 3195, 'obstáculos': 3196, 'ocurra': 3197, 'trance': 3198, 'umbral': 3199, 'poniendo': 3200, 'juego': 3201, 'recursos': 3202, 'combinación': 3203, 'acomodó': 3204, 'producirse': 3205, 'estremecía': 3206, 'volviendo': 3207, 'cuatrocientos': 3208, 'distintas': 3209, 'compuesta': 3210, 'marcharse': 3211, 'acometido': 3212, 'invencible': 3213, 'enrojecidos': 3214, 'pálida': 3215, 'pómulos': 3216, 'delataban': 3217, 'desesperada': 3218, 'motivos': 3219, 'queja': 3220, 'conmovido': 3221, 'encolerizarse': 3222, 'vivas': 3223, 'cauce': 3224, 'hiciese': 3225, 'callaba': 3226, '“no': 3227, 'ardorosa': 3228, 'eternamente': 3229, 'resolución': 3230, 'cruzado': 3231, 'mercado': 3232, 'creado': 3233, 'ceder': 3234, 'apartado': 3235, 'necesidades': 3236, 'seriamente': 3237, 'sonaron': 3238, 'daría': 3239, 'vería': 3240, 'detenerle': 3241, 'infructuosos': 3242, 'sacrificios': 3243, 'abstinencia': 3244, 'indignación': 3245, 'resultaron': 3246, 'absurdo': 3247, 'dejarnos': 3248, 'despierta': 3249, 'observó': 3250, 'formulada': 3251, 'expresivo': 3252, 'afirmativo': 3253, 'diálogo': 3254, 'franco': 3255, 'atrevía': 3256, 'transportes': 3257, 'lea': 3258, 'empieza': 3259, 'comienza': 3260, 'habías': 3261, 'cogiendo': 3262, 'turbada': 3263, 'términos': 3264, 'pegó': 3265, 'recibido': 3266, 'botella': 3267, 'precipitadamente': 3268, 'chocaba': 3269, 'tiraba': 3270, 'increíble': 3271, 'inestimables': 3272, 'calmaron': 3273, 'desfallecido': 3274, 'escalofrío': 3275, 'recorrió': 3276, 'podrían': 3277, 'poderosos': 3278, 'ocupó': 3279, 'vacía': 3280, 'devolvió': 3281, 'corrió': 3282, 'jovialidad': 3283, 'terminados': 3284, 'siguiese': 3285, 'vencido': 3286, 'conquistar': 3287, 'discutir': 3288, 'envidiosos': 3289, 'tendrán': 3290, 'audaces': 3291, 'ejército': 3292, 'opino': 3293, 'lamenté': 3294, 'poblado': 3295, 'esbozó': 3296, 'objeciones': 3297, 'permito': 3298, 'expongas': 3299, 'atlas': 3300, 'precisión': 3301, 'fíjate': 3302, 'llevan': 3303, 'ventisquero': 3304, 'ignívomos': 3305, 'conformes': 3306, 'sígueme': 3307, 'remonta': 3308, 'hueso': 3309, 'termina': 3310, 'surgir': 3311, 'severo': 3312, 'figura': 3313, 'extinguiendo': 3314, 'afirmaciones': 3315, 'objetar': 3316, 'reflexión': 3317, 'ingenio': 3318, 'desplegado': 3319, 'indicar': 3320, 'proyectaba': 3321, 'lleguemos': 3322, 'advertencia': 3323, 'posibilidad': 3324, 'seguirle': 3325, 'graves': 3326, 'conforme': 3327, 'acariciar': 3328, 'sano': 3329, 'negativa': 3330, 'demuestran': 3331, 'dicen': 3332, 'haciéndose': 3333, 'proseguí': 3334, 'platino': 3335, 'duras': 3336, 'temes': 3337, 'adoptando': 3338, 'conoce': 3339, 'demostró': 3340, 'temperaturas': 3341, 'etéreas': 3342, 'cero': 3343, 'colocaba': 3344, 'poisson': 3345, 'demostrado': 3346, 'fundidas': 3347, 'guarismos': 3348, 'tiende': 3349, 'debilitarse': 3350, 'químico': 3351, 'produciéndose': 3352, 'marcas': 3353, 'periódicos': 3354, 'combustión': 3355, 'enfriando': 3356, 'ingeniosa': 3357, 'hube': 3358, 'principalmente': 3359, 'sobrevenía': 3360, 'convencerme': 3361, 'demuestre': 3362, 'semejanza': 3363, 'sabremos': 3364, 'final': 3365, 'sesión': 3366, 'deducciones': 3367, 'asirme': 3368, 'pesadilla': 3369, 'caminado': 3370, 'márgenes': 3371, 'guiaba': 3372, 'regresaba': 3373, 'carretera': 3374, 'fijarse': 3375, 'prestó': 3376, 'novia': 3377, 'latía': 3378, 'inesperadas': 3379, 'gana': 3380, 'mujeres': 3381, 'incomprensibles': 3382, 'sois': 3383, 'ejerce': 3384, 'piensas': 3385, 'quebrantado': 3386, '“después': 3387, 'todo”': 3388, 'gritando': 3389, 'multitud': 3390, 'salía': 3391, 'articular': 3392, 'amanecer': 3393, 'escucharle': 3394, 'necesarios': 3395, 'nudos': 3396, 'antorchas': 3397, 'abatido': 3398, 'insomnio': 3399, 'producirían': 3400, 'doloroso': 3401, 'calmado': 3402, 'echar': 3403, 'olvido': 3404, 'porqué': 3405, 'objetivo': 3406, 'serás': 3407, 'obrar': 3408, 'reanimaron': 3409, 'quisiera': 3410, 'transcurre': 3411, '26': 3412, 'anda': 3413, 'tratase': 3414, 'lubeck': 3415, 'intervalos': 3416, 'carruaje': 3417, 'ponía': 3418, 'dejas': 3419, 'estreché': 3420, 'prometida': 3421, 'arranca': 3422, 'belt': 3423, 'holstein': 3424, 'ademán': 3425, 'indiqué': 3426, 'asaltaron': 3427, 'soñé': 3428, 'interminable': 3429, 'rendido': 3430, 'voluminosos': 3431, 'artículos': 3432, 'sentados': 3433, 'convoy': 3434, 'lenta': 3435, 'bolsillos': 3436, 'ostentaba': 3437, 'firma': 3438, 'cónsul': 3439, 'facilitarnos': 3440, 'recomendaciones': 3441, 'división': 3442, 'constituían': 3443, 'fértiles': 3444, 'prestaba': 3445, 'rectas': 3446, 'desaparecieron': 3447, 'coro': 3448, 'obligar': 3449, 'mandó': 3450, 'espesos': 3451, 'elevaban': 3452, 'largó': 3453, 'amarras': 3454, 'marejada': 3455, 'llano': 3456, 'campiñas': 3457, 'empujaba': 3458, 'edificio': 3459, 'hospital': 3460, 'fénix': 3461, 'portero': 3462, 'dinamarqués': 3463, 'correcto': 3464, 'director': 3465, 'acumuladas': 3466, 'recomendación': 3467, 'recreo': 3468, 'muelles': 3469, 'abrigaba': 3470, 'hallásemos': 3471, 'futuro': 3472, 'estrechóle': 3473, 'lobo': 3474, 'oficio': 3475, 'sublime': 3476, 'valía': 3477, 'regatear': 3478, 'respetable': 3479, 'dispone': 3480, 'irregular': 3481, 'cañones': 3482, 'dirigido': 3483, 'marcos': 3484, 'recorrí': 3485, 'insignificante': 3486, 'puente': 3487, 'caudal': 3488, 'estilo': 3489, 'colas': 3490, 'velas': 3491, 'deliciosos': 3492, 'tranquilos': 3493, 'navíos': 3494, 'espesas': 3495, 'ay': 3496, 'parajes': 3497, 'pasajeros': 3498, 'muelle': 3499, 'pantalones': 3500, 'amarillos': 3501, 'espirales': 3502, 'perdamos': 3503, 'insensibilidad': 3504, 'golpeó': 3505, 'plataforma': 3506, 'barandilla': 3507, 'ráfagas': 3508, 'acabé': 3509, 'trepar': 3510, 'cerrados': 3511, 'apoderado': 3512, 'verdugo': 3513, 'niebla': 3514, 'pasaban': 3515, 'haz': 3516, 'elsenor': 3517, 'blancas': 3518, 'suecia': 3519, 'torbellino': 3520, 'progresos': 3521, 'arte': 3522, 'contemplaciones': 3523, 'cartas': 3524, 'pictursson': 3525, 'coadjutor': 3526, 'obispo': 3527, 'finsen': 3528, 'apretones': 3529, 'sumergirse': 3530, 'quince': 3531, 'naciones': 3532, 'bruma': 3533, 'brisas': 3534, 'barcos': 3535, 'durar': 3536, 'cargamento': 3537, 'feroe': 3538, 'pase': 3539, 'skagen': 3540, 'cruzó': 3541, 'noruega': 3542, 'escocia': 3543, 'pasando': 3544, 'azotar': 3545, 'oponía': 3546, 'vergüenza': 3547, 'interrogar': 3548, 'medios': 3549, 'aplazar': 3550, 'camarote': 3551, 'crujían': 3552, 'montamos': 3553, 'domina': 3554, 'peñasco': 3555, 'aislado': 3556, 'razonable': 3557, 'barajando': 3558, 'navegando': 3559, 'espumoso': 3560, 'planicie': 3561, 'rodeo': 3562, 'subió': 3563, 'mostrándome': 3564, 'recomendado': 3565, 'vestido': 3566, 'pacífico': 3567, 'escuela': 3568, 'modesto': 3569, 'servicios': 3570, 'seda': 3571, 'resta': 3572, 'mirado': 3573, 'eché': 3574, 'fijo': 3575, 'ola': 3576, 'cubre': 3577, 'fondeado': 3578, 'ingleses': 3579, 'franceses': 3580, 'orientales': 3581, 'hechas': 3582, 'extraños': 3583, 'tristes': 3584, 'entreveía': 3585, 'césped': 3586, 'raras': 3587, 'pugnaban': 3588, 'ocupada': 3589, 'cantos': 3590, 'dispersarían': 3591, 'aires': 3592, 'huésped': 3593, 'conocía': 3594, 'bochorno': 3595, 'delicados': 3596, 'tejados': 3597, 'pacer': 3598, 'salar': 3599, 'cargar': 3600, 'constituyen': 3601, 'alemanes': 3602, 'humanidad': 3603, 'círculo': 3604, 'polar': 3605, 'contracción': 3606, 'músculos': 3607, 'basta': 3608, 'negra': 3609, 'vadmel': 3610, 'falda': 3611, 'cabello': 3612, 'cubren': 3613, 'regresé': 3614, 'quedase': 3615, 'escrupulosa': 3616, 'reserva': 3617, 'mantener': 3618, 'futuros': 3619, 'estantes': 3620, 'vacíos': 3621, 'volúmenes': 3622, 'preciosos': 3623, 'recorriendo': 3624, 'constantemente': 3625, 'pescador': 3626, 'curiosos': 3627, 'tardan': 3628, 'respectivos': 3629, 'compatriotas': 3630, 'literaria': 3631, 'centenar': 3632, 'agrado': 3633, 'sintió': 3634, 'tenga': 3635, 'bondad': 3636, 'refiere': 3637, 'naturalista': 3638, 'negarlo': 3639, 'pareja': 3640, 'cabía': 3641, 'héroe': 3642, 'murmuró': 3643, 'verse': 3644, 'obligado': 3645, 'sepultar': 3646, 'interlocutor': 3647, 'naturalmente': 3648, 'rey': 3649, 'embarcados': 3650, 'afectado': 3651, 'moderar': 3652, 'saltar': 3653, 'empezar': 3654, 'habíase': 3655, 'contenerme': 3656, 'escapársele': 3657, 'escalar': 3658, 'queremos': 3659, 'profesión': 3660, 'grosera': 3661, 'quedará': 3662, 'cuándo': 3663, 'expresivas': 3664, 'gruesas': 3665, 'codos': 3666, 'estatura': 3667, 'constitución': 3668, 'vigorosa': 3669, 'inteligentes': 3670, 'sencillos': 3671, 'voluminosa': 3672, 'caía': 3673, 'llevada': 3674, 'buscaba': 3675, 'ganso': 3676, 'plumón': 3677, 'edredón': 3678, 'hembra': 3679, 'belleza': 3680, 'construido': 3681, 'apodera': 3682, 'ave': 3683, 'comenzar': 3684, 'operación': 3685, 'carece': 3686, 'ejercer': 3687, 'aldea': 3688, 'emplearíamos': 3689, 'rehacer': 3690, 'compromiso': 3691, 'excursiones': 3692, 'expresamente': 3693, '16': 3694, 'secamente': 3695, 'sospecha': 3696, 'precisado': 3697, 'principales': 3698, 'habérnoslas': 3699, 'salvajes': 3700, 'feroces': 3701, 'especialmente': 3702, 'ordinaria': 3703, 'azadones': 3704, 'hacha': 3705, 'voluminoso': 3706, 'preocupaba': 3707, 'llenarlas': 3708, 'inútiles': 3709, 'cuantas': 3710, 'nomenclatura': 3711, 'botiquín': 3712, 'fracturas': 3713, 'compresas': 3714, 'pelos': 3715, 'contenían': 3716, 'cinturón': 3717, 'banco': 3718, 'zapatos': 3719, 'merced': 3720, '14': 3721, 'empleamos': 3722, 'arreglar': 3723, 'comimos': 3724, 'médico': 3725, 'olsen': 3726, 'pasamos': 3727, 'íntima': 3728, 'inspiraba': 3729, 'charla': 3730, 'ventana': 3731, 'vestí': 3732, 'poca': 3733, 'amable': 3734, 'mirábamos': 3735, 'lluvias': 3736, 'desconocido': 3737, 'ofrece': 3738, 'salimos': 3739, 'llevaban': 3740, 'dividido': 3741, 'oblicuamente': 3742, 'llamada': 3743, 'cumbres': 3744, 'manchas': 3745, 'difusa': 3746, 'movedizos': 3747, 'escollos': 3748, 'áridas': 3749, 'avanzaban': 3750, 'consuelo': 3751, 'látigo': 3752, 'bruto': 3753, 'falso': 3754, 'cederé': 3755, 'estando': 3756, 'böer': 3757, 'chozas': 3758, 'ganas': 3759, 'darles': 3760, 'senderos': 3761, 'tarda': 3762, 'deshabitadas': 3763, 'pastor': 3764, 'eruptivos': 3765, 'conmociones': 3766, 'destinados': 3767, 'do': 3768, 'contornos': 3769, 'concentrado': 3770, 'horizontales': 3771, 'pasásemos': 3772, 'consulté': 3773, 'viendo': 3774, 'caserío': 3775, 'hvalfjörd': 3776, 'bonito': 3777, 'ponerse': 3778, 'tirón': 3779, 'agudas': 3780, 'cortadas': 3781, 'lechos': 3782, 'matiz': 3783, 'suplir': 3784, 'moviendo': 3785, 'juramentos': 3786, 'faltando': 3787, 'jinete': 3788, 'maldito': 3789, 'inopinadamente': 3790, 'hombro': 3791, 'mostrándole': 3792, 'haberlo': 3793, 'ja': 3794, 'ejercen': 3795, 'propicio': 3796, 'remos': 3797, 'barqueros': 3798, 'accidente': 3799, 'paralelo': 3800, 'polares': 3801, 'puertas': 3802, 'tendernos': 3803, 'maderos': 3804, 'destinada': 3805, 'heno': 3806, 'ornamentada': 3807, 'leche': 3808, 'agria': 3809, 'oímos': 3810, 'consistía': 3811, 'saludó': 3812, 'besó': 3813, 'pronunció': 3814, 'hijos': 3815, 'saltaban': 3816, 'torbellinos': 3817, 'habríase': 3818, 'soltado': 3819, 'contentarse': 3820, 'sentamos': 3821, 'imperio': 3822, 'beber': 3823, 'brebaje': 3824, 'compuesto': 3825, 'soberbio': 3826, 'niños': 3827, 'volvieron': 3828, 'medias': 3829, 'arrojarme': 3830, 'campesino': 3831, 'arroyuelos': 3832, 'repugnancia': 3833, 'hinchada': 3834, 'alejábase': 3835, 'abedules': 3836, 'parada': 3837, 'ríos': 3838, 'abundaban': 3839, 'precisados': 3840, 'mitología': 3841, 'prolongados': 3842, 'vestigios': 3843, 'hundirse': 3844, 'fatigado': 3845, 'reclamó': 3846, 'convenido': 3847, 'acto': 3848, 'abusar': 3849, 'raíces': 3850, 'salían': 3851, 'encina': 3852, '»': 3853, 'espontáneamente': 3854, 'reflejados': 3855, 'sustancia': 3856, 'trabaja': 3857, 'manifestaciones': 3858, 'conos': 3859, 'generales': 3860, 'determinado': 3861, 'queriendo': 3862, 'regularidad': 3863, 'gigantes': 3864, 'presentado': 3865, 'avanzada': 3866, 'precipitarse': 3867, 'yacían': 3868, 'ruinas': 3869, 'acompañando': 3870, 'herrando': 3871, 'god': 3872, 'dag': 3873, 'kyrkoherde': 3874, 'temí': 3875, 'viniese': 3876, 'practicar': 3877, 'perciben': 3878, 'pescadores': 3879, 'advertí': 3880, 'llegados': 3881, 'contentó': 3882, 'inclinar': 3883, 'asentimiento': 3884, 'apoderaba': 3885, 'designios': 3886, 'viven': 3887, '1229': 3888, 'soñar': 3889, 'brutal': 3890, 'someter': 3891, 'simplemente': 3892, 'juicio': 3893, 'cometer': 3894, 'alejaba': 3895, 'montón': 3896, 'deyecciones': 3897, 'indicaba': 3898, 'confirmar': 3899, 'humaredas': 3900, 'fluidos': 3901, 'elásticos': 3902, 'necesaria': 3903, 'toman': 3904, 'puedes': 3905, 'orejas': 3906, 'anonadado': 3907, 'sumido': 3908, 'eruptiva': 3909, 'aseguraba': 3910, 'gigantesca': 3911, 'ingrata': 3912, 'casquete': 3913, 'pantanos': 3914, 'barrancos': 3915, 'sucesivas': 3916, 'insensible': 3917, 'convertirse': 3918, 'precedieron': 3919, 'compone': 3920, 'tobas': 3921, 'porosa': 3922, 'empuje': 3923, 'centrales': 3924, 'traquítica': 3925, 'arrojadas': 3926, 'aparecieron': 3927, 'salidas': 3928, 'potencia': 3929, 'pesada': 3930, 'abrieron': 3931, 'amplios': 3932, 'esparcidos': 3933, 'insensatez': 3934, 'caídas': 3935, 'peligrosas': 3936, 'equilibrio': 3937, 'agilidad': 3938, 'torrentes': 3939, 'pequeñez': 3940, 'negaban': 3941, 'repuso': 3942, 'girando': 3943, 'opaca': 3944, 'convertidos': 3945, 'perdimos': 3946, 'pálidos': 3947, 'cenamos': 3948, 'helados': 3949, 'abandoné': 3950, 'pozos': 3951, 'lagos': 3952, 'presentaban': 3953, 'aparecían': 3954, 'infinitas': 3955, 'terminaba': 3956, 'producen': 3957, 'acostumbrando': 3958, 'solares': 3959, 'imaginarios': 3960, 'acordarme': 3961, 'apariencia': 3962, 'groenlandia': 3963, 'llegan': 3964, 'tendría': 3965, 'calculé': 3966, 'suaves': 3967, 'marchar': 3968, 'desprendidas': 3969, 'lío': 3970, 'reducida': 3971, 'nosotras': 3972, 'hundir': 3973, 'temiendo': 3974, 'extendidos': 3975, 'plutón': 3976, 'insensata': 3977, 'anonadaba': 3978, 'permanecí': 3979, 'exteriores': 3980, 'dormía': 3981, 'cae': 3982, 'hacerlo': 3983, 'entregué': 3984, 'notado': 3985, 'brilló': 3986, 'ved': 3987, 'particularidad': 3988, 'cuadrante': 3989, '25': 3990, 'movió': 3991, 'llamarle': 3992, 'invariablemente': 3993, 'brumoso': 3994, 'mezclada': 3995, 'mezcla': 3996, '28': 3997, 'efluvios': 3998, 'instantáneamente': 3999, 'girar': 4000, 'dulcemente': 4001, 'trece': 4002, 'nacer': 4003, 'acercó': 4004, 'prácticas': 4005, 'escaleras': 4006, 'existían': 4007, 'amarrada': 4008, 'echó': 4009, 'podíamos': 4010, 'soltando': 4011, 'fardos': 4012, 'frágiles': 4013, 'tercio': 4014, 'ropa': 4015, 'asombrado': 4016, 'recurrir': 4017, 'inclinado': 4018, 'impedimento': 4019, 'haberla': 4020, 'toca': 4021, 'turbado': 4022, 'realizando': 4023, 'rodeaban': 4024, 'jurásicos': 4025, 'carboníferos': 4026, 'altos': 4027, 'devy': 4028, 'primordial': 4029, 'reanudó': 4030, 'llegaban': 4031, 'emprendido': 4032, 'representaban': 4033, '800': 4034, 'perpendicular': 4035, 'entreveo': 4036, 'cenemos': 4037, 'abrimos': 4038, 'brillante': 4039, 'facetas': 4040, 'frotándose': 4041, 'gritos': 4042, 'penetrado': 4043, 'examina': 4044, 'correspondiente': 4045, '29': 4046, 'sernos': 4047, 'llegue': 4048, 'insoportable': 4049, 'aeronautas': 4050, 'recordé': 4051, 'buscado': 4052, 'mencionado': 4053, 'tengan': 4054, 'destinado': 4055, '8': 4056, '17': 4057, 'serpentín': 4058, 'disipó': 4059, 'cogió': 4060, 'entramos': 4061, 'abismarme': 4062, 'demasiada': 4063, 'servían': 4064, 'redondas': 4065, 'opaco': 4066, 'suspendidos': 4067, 'deslumbrante': 4068, 'amarillo': 4069, 'globos': 4070, 'perece': 4071, 'recta': 4072, 'alcanzada': 4073, 'escrupulosidad': 4074, 'lámparas': 4075, 'causas': 4076, 'raciocinio': 4077, 'efectúa': 4078, 'derroche': 4079, 'bloque': 4080, 'consumido': 4081, 'vasijas': 4082, 'envoltura': 4083, 'deduces': 4084, 'cifra': 4085, 'conductividad': 4086, 'añadiré': 4087, 'calcula': 4088, '6': 4089, 'suministraba': 4090, '30': 4091, 'reunimos': 4092, 'encrucijada': 4093, 'sombríos': 4094, 'indicio': 4095, 'sección': 4096, 'desigual': 4097, 'arcadas': 4098, 'naves': 4099, 'catedral': 4100, 'arcos': 4101, 'vomitadas': 4102, 'guardaba': 4103, 'comunicar': 4104, 'rodaba': 4105, 'áfrica': 4106, 'soledad': 4107, 'atravesábamos': 4108, 'tendía': 4109, 'fatigosa': 4110, 'liso': 4111, 'modificado': 4112, 'extraviarme': 4113, 'ascendente': 4114, 'reflejada': 4115, 'revestimiento': 4116, 'silúrico': 4117, 'reservado': 4118, 'indicios': 4119, 'habituados': 4120, 'engañarse': 4121, 'concha': 4122, 'aproximé': 4123, 'trilobites': 4124, 'conducta': 4125, 'pondremos': 4126, 'previsión': 4127, 'cenar': 4128, 'mutismo': 4129, 'bajábamos': 4130, 'tendencia': 4131, 'marcada': 4132, 'mármoles': 4133, 'caliza': 4134, 'ganoideos': 4135, 'ocurriese': 4136, 'permitiese': 4137, 'asperón': 4138, 'sombrío': 4139, 'retiré': 4140, 'mineros': 4141, 'yacimientos': 4142, 'escasas': 4143, 'apagar': 4144, 'convencí': 4145, 'milagro': 4146, 'violentamente': 4147, 'removido': 4148, 'impulsión': 4149, 'vegetaciones': 4150, 'debidas': 4151, 'rodeaba': 4152, 'desempeñar': 4153, 'climas': 4154, 'procedía': 4155, 'benéfico': 4156, 'influjo': 4157, 'flores': 4158, 'enérgica': 4159, 'ardientes': 4160, 'intervino': 4161, 'explotación': 4162, 'sonar': 4163, 'hallasen': 4164, 'olvidaba': 4165, 'consideraciones': 4166, 'geológicas': 4167, 'causado': 4168, 'ingeniosos': 4169, 'imprudentemente': 4170, 'apreciar': 4171, 'callejón': 4172, 'atenerme': 4173, 'alcanzan': 4174, 'jornadas': 4175, 'siente': 4176, 'licor': 4177, 'ambiente': 4178, 'gemidos': 4179, 'aproximó': 4180, 'conmovieron': 4181, 'mías': 4182, 'bebe': 4183, 'contenido': 4184, 'incomparable': 4185, 'deseos': 4186, 'muerto': 4187, 'recuperar': 4188, 'faltándonos': 4189, 'bajaba': 4190, 'respondiese': 4191, 'pausa': 4192, 'prolongada': 4193, 'devuelto': 4194, 'resignarse': 4195, 'déjame': 4196, 'abandonarle': 4197, 'conservación': 4198, 'presenciaba': 4199, 'lástima': 4200, 'sospechar': 4201, 'acerqué': 4202, 'impasible': 4203, 'amo': 4204, 'sosteniendo': 4205, 'servidor': 4206, 'escucha': 4207, 'proponerte': 4208, 'contemplando': 4209, 'escúchame': 4210, 'abundantes': 4211, 'colón': 4212, 'demanda': 4213, 'emplear': 4214, 'sobrehumana': 4215, 'recodos': 4216, 'inextricable': 4217, 'descendíamos': 4218, 'primitivo': 4219, 'propias': 4220, 'coloreados': 4221, 'hubieron': 4222, 'lograrán': 4223, 'tumbas': 4224, 'mica': 4225, 'caprichosos': 4226, 'cristalino': 4227, 'prisión': 4228, 'padecía': 4229, 'tratando': 4230, 'golpe': 4231, 'muero': 4232, 'salieron': 4233, 'postrera': 4234, 'debilidad': 4235, 'rumor': 4236, 'percibir': 4237, 'secos': 4238, 'abandona': 4239, 'pudieron': 4240, 'dirigirse': 4241, 'razonamiento': 4242, 'cruzaron': 4243, 'bullían': 4244, 'incierta': 4245, 'sucede': 4246, 'sordo': 4247, 'lejano': 4248, 'angustias': 4249, 'organismo': 4250, 'mugiendo': 4251, 'esperando': 4252, 'avanzamos': 4253, 'alejaríamos': 4254, 'disminuir': 4255, 'próximo': 4256, 'asiento': 4257, 'aplicó': 4258, 'paseó': 4259, 'caricias': 4260, 'armazón': 4261, 'hundimiento': 4262, 'ahogaba': 4263, 'inundación': 4264, 'capaces': 4265, 'moderado': 4266, 'ardorosos': 4267, 'costándome': 4268, 'derribado': 4269, 'reprimir': 4270, 'goce': 4271, 'saludable': 4272, 'bautizado': 4273, 'taponar': 4274, 'dudosa': 4275, 'pensado': 4276, 'pasados': 4277, 'murmurando': 4278, 'propuesto': 4279, 'renunciado': 4280, 'despertando': 4281, 'acentos': 4282, 'ecos': 4283, 'tibia': 4284, 'ruta': 4285, 'calculando': 4286, 'descansar': 4287, 'satisfacer': 4288, 'declives': 4289, '7': 4290, '40°': 4291, 'miércoles': 4292, 'narración': 4293, 'cobijaba': 4294, 'caprichoso': 4295, '18': 4296, 'espaciosa': 4297, 'semana': 4298, 'estrellas': 4299, 'perfil': 4300, 'máximo': 4301, 'décimas': 4302, 'opuesto': 4303, 'infierno': 4304, 'hecha': 4305, 'malestar': 4306, 'sumergido': 4307, 'aumentando': 4308, 'sabes': 4309, 'acabará': 4310, 'suponiendo': 4311, 'objeción': 4312, 'llegando': 4313, 'asociar': 4314, 'locos': 4315, 'siguieron': 4316, 'encontrarnos': 4317, 'perdiéndose': 4318, 'adelantado': 4319, 'aislamiento': 4320, 'encontrarle': 4321, 'olvidando': 4322, 'practicado': 4323, 'agaché': 4324, 'sumergir': 4325, 'encontraron': 4326, 'expresar': 4327, 'paseé': 4328, 'internarme': 4329, 'bifurcado': 4330, 'desconocidas': 4331, 'grabadas': 4332, 'desfiló': 4333, 'enloquecida': 4334, 'conducirme': 4335, 'cerraban': 4336, 'lograr': 4337, 'acudieron': 4338, 'derechos': 4339, 'providencia': 4340, 'debería': 4341, 'separado': 4342, 'fragosidades': 4343, 'tropecé': 4344, 'cruzaban': 4345, 'movedizas': 4346, 'noches': 4347, 'sutiliza': 4348, 'magullado': 4349, 'cayendo': 4350, 'inundaba': 4351, 'noción': 4352, 'mojado': 4353, 'abandono': 4354, 'rechacé': 4355, 'acudían': 4356, 'desvanecer': 4357, 'supremo': 4358, 'ondas': 4359, 'gas': 4360, 'remotas': 4361, '“es': 4362, 'eco': 4363, 'significado': 4364, 'oírme': 4365, 'hacerme': 4366, 'ansiedad': 4367, 'excesiva': 4368, 'propagación': 4369, 'quedan': 4370, 'hables': 4371, 'contigo': 4372, 'reflexionado': 4373, 'renacía': 4374, 'pronuncie': 4375, 'emplea': 4376, '«axel»': 4377, 'explicarte': 4378, 'ten': 4379, 'físicas': 4380, 'pudiendo': 4381, 'sicilia': 4382, 'arrastrarme': 4383, 'semioscuridad': 4384, 'vive': 4385, 'necesitaba': 4386, 'durado': 4387, 'indefinido': 4388, 'vago': 4389, 'reventar': 4390, 'despierto': 4391, 'penetra': 4392, 'engañan': 4393, 'regresado': 4394, 'sientes': 4395, 'dormido': 4396, 'curación': 4397, 'honores': 4398, 'providencial': 4399, 'expondríamos': 4400, 'desmesuradamente': 4401, 'comprenderás': 4402, 'bruscamente': 4403, 'aseguro': 4404, 'descansa': 4405, 'prolongaba': 4406, 'sumamente': 4407, 'vivieron': 4408, 'contrafuertes': 4409, 'difusión': 4410, 'boreal': 4411, 'cósmico': 4412, 'albergar': 4413, 'suspendida': 4414, 'evaporación': 4415, 'adivinaba': 4416, 'misteriosas': 4417, 'órbitas': 4418, 'detenida': 4419, 'manifestar': 4420, 'sensaciones': 4421, 'hallarme': 4422, 'remoto': 4423, 'neptuno': 4424, 'comprenderá': 4425, 'húmedas': 4426, 'salinas': 4427, 'empezamos': 4428, 'hacinados': 4429, 'privados': 4430, 'lanzando': 4431, 'perfectos': 4432, 'atmosféricas': 4433, 'follaje': 4434, 'flora': 4435, 'trocó': 4436, 'desarrollo': 4437, 'descendía': 4438, 'humildes': 4439, 'arbustos': 4440, 'abetos': 4441, 'latitudes': 4442, 'cilíndrico': 4443, 'fiesta': 4444, 'invernáculo': 4445, 'antediluvianas': 4446, 'esparcidas': 4447, 'megaterio': 4448, 'transportadas': 4449, 'cataclismo': 4450, 'esqueletos': 4451, 'cuadrúpedos': 4452, 'períodos': 4453, 'sedimentarios': 4454, 'incandescentes': 4455, 'hundimientos': 4456, 'viviente': 4457, 'desiertas': 4458, 'temía': 4459, 'curado': 4460, 'conjunto': 4461, 'dirá': 4462, 'oponga': 4463, 'indicando': 4464, 'veríamos': 4465, 'sonriendo': 4466, 'desarrollarse': 4467, 'libremente': 4468, 'derribados': 4469, 'trabajando': 4470, 'pinos': 4471, 'flotar': 4472, 'flotó': 4473, 'improvisada': 4474, 'levantamos': 4475, 'locomoción': 4476, 'componían': 4477, 'antemano': 4478, 'nordeste': 4479, 'popa': 4480, 'densas': 4481, 'poseían': 4482, 'ventilador': 4483, 'ampliamente': 4484, 'algas': 4485, 'vegetal': 4486, 'interesantes': 4487, 'desliza': 4488, 'sotavento': 4489, 'prepara': 4490, 'anzuelo': 4491, 'ceba': 4492, 'pique': 4493, 'indudablemente': 4494, 'naturalistas': 4495, 'cogido': 4496, 'pterichthys': 4497, 'órgano': 4498, 'visión': 4499, 'pesca': 4500, 'flotantes': 4501, 'participa': 4502, 'colmillos': 4503, 'patas': 4504, 'protopiteco': 4505, 'pterodáctilo': 4506, 'remonto': 4507, 'animados': 4508, 'secundaria': 4509, 'crustáceos': 4510, 'moluscos': 4511, 'hollando': 4512, 'transcurren': 4513, 'graníticas': 4514, 'envuelven': 4515, 'arrastrado': 4516, 'trazan': 4517, 'fijan': 4518, 'tomado': 4519, 'monótona': 4520, 'extraordinariamente': 4521, 'consigno': 4522, 'rasgo': 4523, 'camina': 4524, 'contesto': 4525, 'tomamos': 4526, 'espectáculos': 4527, 'nota': 4528, 'debilite': 4529, 'diríase': 4530, 'metal': 4531, 'logra': 4532, 'particulares': 4533, 'temibles': 4534, 'encontrarme': 4535, 'recorre': 4536, 'atacados': 4537, 'replica': 4538, 'terribles': 4539, 'arroja': 4540, 'narices': 4541, 'atónitos': 4542, 'estupefactos': 4543, 'descubre': 4544, 'aproximan': 4545, 'mudos': 4546, 'bestias': 4547, 'vernos': 4548, 'atacan': 4549, 'pretende': 4550, 'enemigo': 4551, 'habita': 4552, 'hago': 4553, 'carapacho': 4554, 'yergue': 4555, 'continúa': 4556, 'vuelve': 4557, 'salta': 4558, 'recobra': 4559, 'interrumpido': 4560, 'aparece': 4561, 'sacude': 4562, 'producidos': 4563, 'tope': 4564, 'elemental': 4565, 'aproximamos': 4566, 'cetáceo': 4567, 'blumenbach': 4568, 'corremos': 4569, 'insensatos': 4570, 'alimentación': 4571, 'amenazador': 4572, 'carcajada': 4573, 'adquiere': 4574, 'saltando': 4575, 'caricia': 4576, 'mezclado': 4577, 'quema': 4578, 'ardiente': 4579, 'estrellaba': 4580, 'obstinación': 4581, 'termómetros': 4582, 'volcánico': 4583, '270': 4584, 'engendrada': 4585, 'precursores': 4586, 'amenazas': 4587, 'brillar': 4588, 'izada': 4589, 'solicitado': 4590, 'confines': 4591, 'incompletas': 4592, 'hacen': 4593, 'desencadenados': 4594, 'elementos': 4595, 'nej': 4596, 'incesante': 4597, 'entendernos': 4598, 'cesan': 4599, 'aproximado': 4600, 'disco': 4601, 'quedamos': 4602, 'giratorio': 4603, 'alguien': 4604, 'alcance': 4605, 'extenuados': 4606, 'encantado': 4607, 'hallaremos': 4608, 'antípodas': 4609, 'etc': 4610, 'relativa': 4611, 'banquete': 4612, 'agitaciones': 4613, 'añadir': 4614, 'atravesado': 4615, 'examiné': 4616, 'irritado': 4617, 'sobrepuso': 4618, 'ajax': 4619, 'desafiar': 4620, 'preparados': 4621, 'enteramente': 4622, 'personal': 4623, 'reconocido': 4624, 'acantilado': 4625, 'trituraban': 4626, 'conchillas': 4627, 'evidentes': 4628, 'examinaba': 4629, 'intersticios': 4630, 'protuberancias': 4631, 'generaciones': 4632, 'recientes': 4633, 'habitado': 4634, 'prehistóricos': 4635, 'direcciones': 4636, 'famosa': 4637, 'renacer': 4638, 'quatrefages': 4639, 'ilustres': 4640, 'moulin–quignon': 4641, 'halladas': 4642, 'hachas': 4643, 'sílices': 4644, 'tallados': 4645, 'incontestablemente': 4646, 'adversario': 4647, 'elías': 4648, 'conocíamos': 4649, 'cuaternario': 4650, 'antigüedad': 4651, 'remota': 4652, 'tiempos': 4653, 'contemporáneo': 4654, 'enmudeció': 4655, 'dejándose': 4656, 'memorias': 4657, 'titulado': 4658, 'veis': 4659, 'excesivo': 4660, 'india': 4661, 'incrédulos': 4662, 'confundidos': 4663, 'impulsados': 4664, 'ocurría': 4665, 'terciaria': 4666, 'tuyas': 4667, 'red': 4668, 'parecidos': 4669, 'kauris': 4670, 'descubiertos': 4671, 'elefantes': 4672, 'inmanior': 4673, 'ipse': 4674, 'generación': 4675, 'excedía': 4676, 'huida': 4677, 'recobrado': 4678, 'precedido': 4679, 'busquémosle': 4680, 'entrada': 4681, 'respiraba': 4682, 'contrariedad': 4683, 'vale': 4684, 'salté': 4685, 'maldita': 4686, 'recorría': 4687, 'barreno': 4688, 'pasaremos': 4689, 'aproximaba': 4690, 'extinguió': 4691, 'arrastraba': 4692, 'extremada': 4693, 'azotaba': 4694, 'encender': 4695, 'iluminó': 4696, 'américa': 4697, 'continuas': 4698, 'galletas': 4699, 'irresistible': 4700, 'serenidad': 4701, 'momentánea': 4702, 'calculo': 4703, 'salvarnos': 4704, 'subíamos': 4705, 'respiración': 4706, 'dominar': 4707, 'bocados': 4708, 'apreciación': 4709, 'sudor': 4710, 'ocurrirnos': 4711, 'explicarse': 4712, 'lanzados': 4713, 'asfixiado': 4714, 'rara': 4715, 'empujados': 4716, 'juan': 4717, 'mayen': 4718, 'spitzberg': 4719, 'importe': 4720, 'fuere': 4721, 'árticas': 4722, 'desnudos': 4723, 'vides': 4724, 'uvas': 4725, 'frutas': 4726, 'deliciosa': 4727, 'chiquillo': 4728, 'náufragos': 4729, 'septiembre': 4730, 'pública': 4731, 'disgusto': 4732, 'deuda': 4733, 'señalar': 4734, 'invertidos': 4735, 'könig‑strasse': 4736, 'tradicionales': 4737, 'preocupó': 4738, 'sobremanera': 4739, 'retrasado': 4740, 'cocinar': 4741, 'hornillo': 4742, '“bueno”': 4743, 'armar': 4744, 'quintín': 4745, 'paciencia”': 4746, 'arrebol': 4747, 'entreabriendo': 4748, 'culpa': 4749, 'escapo': 4750, 'cálmelo': 4751, 'recinto': 4752, 'culinario': 4753, 'timidez': 4754, 'catedráticos': 4755, 'retirarme': 4756, 'prudentemente': 4757, 'dormitorio': 4758, 'goznes': 4759, 'crujió': 4760, 'apresuramiento': 4761, 'cepillado': 4762, 'material': 4763, 'moverme': 4764, 'descompuesto': 4765, 'apúrate': 4766, 'precipité': 4767, 'maestro': 4768, 'ingenuamente': 4769, 'cambie': 4770, 'improbable': 4771, 'morirá': 4772, 'dictaba': 4773, 'cátedra': 4774, 'enfureciéndose': 4775, 'preocupase': 4776, 'aplicados': 4777, 'prestasen': 4778, 'explicaciones': 4779, 'subjuntivamente': 4780, 'filosofía': 4781, 'egoísta': 4782, 'polea': 4783, 'rechinaba': 4784, 'sacar': 4785, 'avaro': 4786, 'profesores': 4787, 'orador': 4788, 'lamentable': 4789, 'lecciones': 4790, 'luchando': 4791, 'recalcitrante': 4792, 'traban': 4793, 'acaban': 4794, 'expelidas': 4795, 'taco': 4796, 'denominaciones': 4797, 'semigriegas': 4798, 'semilatinas': 4799, 'lastimarían': 4800, 'poeta': 4801, 'criticar': 4802, 'profanación': 4803, 'cristalizaciones': 4804, 'romboédricas': 4805, 'retinasfálticas': 4806, 'selenitas': 4807, 'tungstitas': 4808, 'molibdatos': 4809, 'tunsatatos': 4810, 'magnesio': 4811, 'titanatos': 4812, 'circonio': 4813, 'perdonar': 4814, 'expedita': 4815, 'tropiece': 4816, 'enredo': 4817, 'excusable': 4818, 'desahogados': 4819, 'aprovechaban': 4820, 'burlarse': 4821, 'exasperaba': 4822, 'arreciasen': 4823, 'risas': 4824, 'oyentes': 4825, 'aula': 4826, 'divertirse': 4827, 'cansaré': 4828, 'rompía': 4829, 'tratarlos': 4830, 'unía': 4831, 'punzón': 4832, 'soplete': 4833, 'frasco': 4834, 'nítrico': 4835, 'rival': 4836, 'fusibilidad': 4837, 'clasificaba': 4838, 'predicamento': 4839, 'gimnasios': 4840, 'asociaciones': 4841, 'nacionales': 4842, 'capitanes': 4843, 'franklin': 4844, 'sabine': 4845, 'visitarle': 4846, 'becquerel': 4847, 'ebejmen': 4848, 'brewster': 4849, 'dumas': 4850, 'solían': 4851, 'consultarle': 4852, 'palpitantes': 4853, '1853': 4854, 'aparecido': 4855, 'tratado': 4856, 'cristalogiafía': 4857, 'folio': 4858, 'ilustrada': 4859, 'grabados': 4860, 'cubrir': 4861, 'gastos': 4862, 'conservador': 4863, 'mineralógico': 4864, 'struve': 4865, 'embajador': 4866, 'justa': 4867, 'delgado': 4868, 'juvenil': 4869, 'aparentar': 4870, 'observaban': 4871, 'afilada': 4872, 'lámina': 4873, 'acero': 4874, 'perseguían': 4875, 'burlas': 4876, 'imanada': 4877, 'limaduras': 4878, 'calumnia': 4879, 'vil': 4880, 'abundancia': 4881, 'puños': 4882, 'apretados': 4883, 'conocerá': 4884, 'desear': 4885, 'ladrillo': 4886, 'cruzan': 4887, '1842': 4888, 'transeúntes': 4889, 'gorras': 4890, 'estudiantes': 4891, 'tugendbund': 4892, 'verticalidad': 4893, 'olmo': 4894, 'secular': 4895, 'fachada': 4896, 'cubrirse': 4897, 'primavera': 4898, 'remozábala': 4899, 'compartíamos': 4900, 'ahijada': 4901, 'huérfano': 4902, 'experimentos': 4903, 'circulaba': 4904, 'aburría': 4905, 'valiosos': 4906, 'resumen': 4907, 'propietario': 4908, 'independientemente': 4909, 'brutales': 4910, 'profesaba': 4911, 'aguardar': 4912, 'abril': 4913, 'plantaba': 4914, 'potes': 4915, 'reseda': 4916, 'convólvulos': 4917, 'mañanas': 4918, 'tirarles': 4919, 'acelerar': 4920, 'crecimiento': 4921, 'acudía': 4922, 'presuroso': 4923, 'clasificados': 4924, 'inﬂamables': 4925, 'litoideos': 4926, 'familiares': 4927, 'chulerías': 4928, 'irme': 4929, 'jugar': 4930, 'entretenido': 4931, 'quitar': 4932, 'grafitos': 4933, 'turbas': 4934, 'betunes': 4935, 'sales': 4936, 'orgánicas': 4937, 'preservar': 4938, 'igualdad': 4939, 'suplementaria': 4940, 'absorbía': 4941, 'arrellanado': 4942, 'forrado': 4943, 'recordaron': 4944, 'liden\\xadbrock': 4945, 'ocio': 4946, 'inhallable': 4947, 'registrando': 4948, 'tienda': 4949, 'judío': 4950, 'hevelius': 4951, 'simulado': 4952, 'tapas': 4953, 'forrados': 4954, 'cordobán': 4955, 'amarillentas': 4956, 'pendía': 4957, 'registro': 4958, 'cesaban': 4959, 'admirativas': 4960, 'enjuto': 4961, 'preguntándose': 4962, 'respondiéndose': 4963, 'abre': 4964, 'cierra': 4965, 'separarse': 4966, 'mantiene': 4967, 'ileso': 4968, 'setecientos': 4969, 'envanecer': 4970, 'bozerian': 4971, 'closs': 4972, 'purgold': 4973, 'feo': 4974, 'repugnante': 4975, 'libraco': 4976, 'fórmula': 4977, 'título': 4978, 'interrogué': 4979, 'fingido': 4980, 'heimskringla': 4981, 'xii': 4982, 'crónica': 4983, 'príncipes': 4984, 'noruegos': 4985, 'indignado': 4986, 'traducciones': 4987, 'autoriza': 4988, 'variadas': 4989, 'gramaticales': 4990, 'admite': 4991, 'géneros': 4992, 'declina': 4993, 'estimulada': 4994, 'desdichado': 4995, 'explique': 4996, 'guardaría': 4997, 'ofendido': 4998, 'enseñara': 4999, 'interesaban': 5000, 'escritura': 5001, 'usada': 5002, 'tradición': 5003, 'inventados': 5004, 'odín': 5005, 'impío': 5006, 'admiras': 5007, 'salidos': 5008, 'excelsa': 5009, 'prosternarme': 5010, 'agradar': 5011, 'reyes': 5012, 'ventaja': 5013, 'ponerles': 5014, 'brete': 5015, 'grasiento': 5016, 'deslizándose': 5017, 'recogerlo': 5018, 'inmemorial': 5019, 'elevadísimo': 5020, 'desplegaba': 5021, 'trazados': 5022, 'transversales': 5023, 'garabatos': 5024, 'quitándose': 5025, 'significan': 5026, 'embaucar': 5027, 'ignorantes': 5028, 'entendiese': 5029, 'temblor': 5030, 'agitar': 5031, 'convulsa': 5032, 'murmuraba': 5033, 'correctamente': 5034, 'dialectos': 5035, 'dieron': 5036, 'furibundo': 5037, 'coman': 5038, 'asustada': 5039, 'explicarme': 5040, 'viniera': 5041, 'sopas': 5042, 'perejil': 5043, 'tortilla': 5044, 'jamón': 5045, 'nuez': 5046, 'moscada': 5047, 'solomillo': 5048, 'ternera': 5049, 'compota': 5050, 'ciruelas': 5051, 'postre': 5052, 'langostinos': 5053, 'abundantemente': 5054, 'regado': 5055, 'mosa': 5056, 'apetitosa': 5057, 'papelucho': 5058, 'deber': 5059, 'deglutí': 5060, 'presagio': 5061, 'sentenciosamente': 5062, 'presagiaba': 5063, 'promover': 5064, 'percatase': 5065, 'langostino': 5066, 'estentórea': 5067, 'numérico': 5068, 'frunciendo': 5069, 'iracundia': 5070, 'siéntate': 5071, 'indicándome': 5072, 'puño': 5073, 'dictarte': 5074, 'corresponden': 5075, 'cristo': 5076, 'cuida': 5077, 'equivocarte': 5078, 'dictarme': 5079, 'esreuel': 5080, 'seecjde': 5081, 'sgtssmf': 5082, 'niedrke': 5083, 'kt': 5084, 'samn': 5085, 'atrates': 5086, 'saodrrn': 5087, 'erntnael': 5088, 'nuaect': 5089, 'rrilsa': 5090, 'atvaar': 5091, 'nxcrc': 5092, 'ieaabs': 5093, 'ccdrmi': 5094, 'eeutul': 5095, 'frantu': 5096, 'dt': 5097, 'iac': 5098, 'kediiy\\xa0': 5099, 'arrebatóme': 5100, 'explicárselo': 5101, 'alteradas': 5102, 'combinadas': 5103, 'conveniente': 5104, 'formarían': 5105, 'inteligible': 5106, 'ocultan': 5107, 'ocultaba': 5108, 'expresarle': 5109, 'manuscritos': 5110, 'posterior': 5111, 'buscaríamos': 5112, 'incorporada': 5113, 'median': 5114, 'ocultarlo': 5115, 'poseedores': 5116, 'trazó': 5117, 'misteriosos': 5118, 'revista': 5119, 'páginas': 5120, 'dorso': 5121, 'anteportada': 5122, 'borrón': 5123, 'examinada': 5124, 'borrosos': 5125, 'ayudado': 5126, 'tesón': 5127, 'transcribo': 5128, 'alquimistas': 5129, 'avicena': 5130, 'bacán': 5131, 'lulio': 5132, 'paracelso': 5133, 'asombrosos': 5134, 'ocultado': 5135, 'exaltarse': 5136, 'galileo': 5137, 'saturno': 5138, 'descansaré': 5139, 'ingerir': 5140, 'arranque': 5141, '“dios': 5142, 'asista”': 5143, 'adentros': 5144, 'comido': 5145, 'jeroglífico': 5146, 'soliloquio': 5147, 'simple': 5148, '53': 5149, '79': 5150, 'infinitamente': 5151, 'atinada': 5152, 'analizador': 5153, 'instruido': 5154, 'nativa': 5155, 'eligiera': 5156, 'preferentemente': 5157, 'boga': 5158, 'cultos': 5159, 'engaño': 5160, 'recurriré': 5161, 'mentado': 5162, 'escribían': 5163, 'asegurar': 5164, 'priori': 5165, 'utilizó': 5166, 'silla': 5167, 'latinista': 5168, 'sublevaron': 5169, '“en': 5170, 'buena”': 5171, 'logras': 5172, 'ponerlo': 5173, 'demostrarás': 5174, 'listo”': 5175, 'examinémoslo': 5176, 'muestran': 5177, 'aparente': 5178, 'entran': 5179, 'penúltima': 5180, 'desconocida': 5181, 'presidido': 5182, 'alterada': 5183, 'poseyera': 5184, 'leería': 5185, 'abstraídos': 5186, 'colgado': 5187, 'confesarlo': 5188, 'amaban': 5189, 'alemanas': 5190, 'casamiento': 5191, 'encantadora': 5192, 'amaba': 5193, 'adoraba': 5194, 'verbo': 5195, 'tudesca': 5196, 'imagen': 5197, 'linda': 5198, 'realidades': 5199, 'ensueños': 5200, 'compañera': 5201, 'tareas': 5202, 'placeres': 5203, 'rotulaba': 5204, 'entendida': 5205, 'gustaba': 5206, 'profundizar': 5207, 'arduas': 5208, 'cuánta': 5209, 'envidiado': 5210, 'delicadas': 5211, 'salíamos': 5212, 'frondosas': 5213, 'alamedas': 5214, 'alster': 5215, 'molino': 5216, 'alquitranado': 5217, 'cogidos': 5218, 'relataba': 5219, 'historietas': 5220, 'provocaban': 5221, 'risa': 5222, 'despedirnos': 5223, 'cisnes': 5224, 'nadaban': 5225, 'nenúfares': 5226, 'volvíamos': 5227, 'desembarcadero': 5228, 'descargando': 5229, 'descifrar': 5230, 'desencaminado': 5231, 'obtiene': 5232, 'colócalas': 5233, 'formen': 5234, 'escribí': 5235, 't': 5236, 'ü': 5237, 'g': 5238, 'n': 5239, 'dispón': 5240, 'toblaü': 5241, 'eresgb': 5242, 'aolire': 5243, 'lnian\\xa0': 5244, 'arrebatándome': 5245, 'mayúscula': 5246, 'coma': 5247, 'adoro': 5248, 'bellísima': 5249, 'cometido': 5250, 'imperdonable': 5251, 'torpeza': 5252, 'comprometedora': 5253, 'balbucí': 5254, 'apliquemos': 5255, 'absorbente': 5256, 'absorbió': 5257, 'realizar': 5258, 'decisivo': 5259, 'lanzaban': 5260, 'temblaban': 5261, 'tosió': 5262, 'solemne': 5263, 'nombrando': 5264, 'dictando': 5265, 'mmessunkasenra': 5266, 'icefdok': 5267, 'segnittamurtn': 5268, 'ecertswrrette': 5269, 'rotaivxadua': 5270, 'ednecsedsadne': 5271, 'iacartniiilujsitatracsarbmutabiledmeili': 5272, 'meretarcsilucoysleffensnl\\xa0': 5273, 'dejase': 5274, 'pomposa': 5275, 'saltó': 5276, 'engolfóse': 5277, 'huyó': 5278, 'acudiendo': 5279, 'portazo': 5280, 'retumbó': 5281, 'comerá': 5282, 'descifrado': 5283, 'garrapatas': 5284, 'indescifrable': 5285, 'confesarle': 5286, 'testarudez': 5287, 'crédula': 5288, 'sirvienta': 5289, 'lamentando': 5290, 'írselo': 5291, 'logogrífico': 5292, 'egipto': 5293, 'sucedería': 5294, 'quedarme': 5295, 'besanzón': 5296, 'remitirnos': 5297, 'silíceas': 5298, 'clasificar': 5299, 'escogí': 5300, 'rotulé': 5301, 'clasifiqué': 5302, 'vitrina': 5303, 'huecas': 5304, 'agitaban': 5305, 'perturbaba': 5306, 'apoyada': 5307, 'respaldo': 5308, 'encendí': 5309, 'pipa': 5310, 'representaba': 5311, 'voluptuosamente': 5312, 'recostada': 5313, 'ennegreciendo': 5314, 'ninfa': 5315, 'paulatino': 5316, 'oían': 5317, 'golpeando': 5318, 'tapias': 5319, 'pisoteando': 5320, 'decapitando': 5321, 'cardos': 5322, 'interrumpiendo': 5323, 'solitarias': 5324, 'cigüeñas': 5325, 'volvería': 5326, 'victorioso': 5327, 'derrotado': 5328, 'descubriría': 5329, 'dirigía': 5330, 'trazadas': 5331, 'agrupar': 5332, 'formasen': 5333, 'reunirlas': 5334, 'resultaban': 5335, 'inteligibles': 5336, 'noté': 5337, 'decimocuarta': 5338, 'decimoquinta': 5339, 'decimosexta': 5340, 'ice': 5341, 'vigesimocuarta': 5342, 'vigésimo': 5343, 'vigesimosexta': 5344, 'sir': 5345, 'rota': 5346, 'mutabile': 5347, 'ira': 5348, 'nec': 5349, 'atra': 5350, 'demonio': 5351, 'luco': 5352, 'lee': 5353, 'tabiled': 5354, 'hebrea': 5355, 'mer': 5356, 'arc': 5357, 'mere': 5358, 'netamente': 5359, 'francesas': 5360, 'absurda': 5361, 'relación': 5362, 'mudable': 5363, 'coordinarse': 5364, 'echaba': 5365, 'obscurecía': 5366, 'revolotear': 5367, 'moverse': 5368, 'agolpa': 5369, 'víctima': 5370, 'puro': 5371, 'abanicaba': 5372, 'anverso': 5373, 'mirarlo': 5374, 'trasluz': 5375, 'leerse': 5376, 'dictado': 5377, 'realizaban': 5378, 'acertado': 5379, 'rabo': 5380, 'turbaron': 5381, 'apaciguar': 5382, 'arrellané': 5383, '“leamos”': 5384, 'apoderaron': 5385, 'brinco': 5386, 'sabrá': 5387, 'querría': 5388, 'repetirlo': 5389, 'exaltado': 5390, 'partiría': 5391, 'llevándome': 5392, 'regresaríamos': 5393, 'impedir': 5394, 'tirano': 5395, 'evitaré': 5396, 'acontecer': 5397, 'descubriese': 5398, 'casual': 5399, 'destruyámoslo': 5400, 'rescoldos': 5401, 'apoderándome': 5402, 'arrojarlo': 5403, 'destruir': 5404, 'malhallado': 5405, 'dominante': 5406, 'abandonaba': 5407, 'escudriñado': 5408, 'analizado': 5409, 'ensayar': 5410, 'fórmulas': 5411, 'algebraicos': 5412, 'encontrada': 5413, 'forzosamente': 5414, 'resultar': 5415, 'infructuosas': 5416, 'borrando': 5417, 'raspando': 5418, 'comenzando': 5419, 'lograba': 5420, 'coordinar': 5421, 'ocupasen': 5422, 'posiciones': 5423, 'posibles': 5424, 'quinquillones': 5425, 'cuatrillones': 5426, 'novecientos': 5427, 'trillones': 5428, 'constaba': 5429, 'frases': 5430, 'enunciarse': 5431, 'concebirse': 5432, 'método': 5433, 'resolvería': 5434, 'cesaron': 5435, 'entendía': 5436, 'entreabrió': 5437, 'tiré': 5438, 'sofá': 5439, 'complicados': 5440, 'infatigable': 5441, 'peón': 5442, 'tez': 5443, 'febriles': 5444, 'amoratados': 5445, 'claras': 5446, 'contención': 5447, 'cerebral': 5448, 'compasión': 5449, 'infeliz': 5450, 'reconcentraban': 5451, 'estallar': 5452, 'aflojar': 5453, 'férreo': 5454, 'tornillo': 5455, 'comprimía': 5456, 'pronunciarla': 5457, 'hallándome': 5458, 'bondadoso': 5459, 'no”': 5460, 'hablaré”': 5461, 'empeñaría': 5462, 'arriesgar': 5463, 'callaré': 5464, 'guardaré': 5465, 'revelárselo': 5466, 'ocasionarle': 5467, 'adivine': 5468, 'reprocharme': 5469, 'perdición': 5470, 'adoptada': 5471, 'aguardé': 5472, 'sobrevenir': 5473, 'cerradura': 5474, 'quitado': 5475, 'precipitada': 5476, 'descuido': 5477, 'deliberada': 5478, 'someternos': 5479, 'rigores': 5480, 'víctimas': 5481, 'acordé': 5482, 'llenó': 5483, 'clasificación': 5484, 'sufrí': 5485, 'agradables': 5486, 'supuse': 5487, 'armé': 5488, 'exigencias': 5489, 'desesperaba': 5490, 'afligía': 5491, 'dédalo': 5492, 'terrenas': 5493, 'aguijoneó': 5494, 'encerradas': 5495, 'despensa': 5496, 'pundonor': 5497, 'protestas': 5498, 'ridículamente': 5499, 'intolerable': 5500, 'exageraba': 5501, 'farsa': 5502, 'desfavorable': 5503, 'lograríamos': 5504, 'diese': 5505, 'resultando': 5506, 'suponía': 5507, 'rechazado': 5508, 'excelentes': 5509, 'aguardado': 5510, 'andaba': 5511, 'entablar': 5512, 'dispuso': 5513, 'súbito': 5514, 'asió': 5515, 'enérgicamente': 5516, 'sacudía': 5517, 'conmiseración': 5518, 'estuviese': 5519, 'desequilibrado': 5520, 'brillaron': 5521, 'fulgor': 5522, 'adoptó': 5523, 'agresiva': 5524, 'interesado': 5525, 'espectador': 5526, 'temeroso': 5527, 'ahogase': 5528, 'apremió': 5529, 'tome': 5530, 'alargándole': 5531, 'estrujando': 5532, 'rabia': 5533, 'rugido': 5534, 'revelación': 5535, 'transfigurado': 5536, 'enronquecida': 5537, 'in': 5538, 'yoculis': 5539, 'kem': 5540, 'delibat': 5541, 'umbra': 5542, 'julii': 5543, 'intra': 5544, 'descende': 5545, 'audax': 5546, 'viator': 5547, 'centrum': 5548, 'attinges': 5549, 'kod': 5550, 'feci': 5551, 'traducir': 5552, 'acaricia': 5553, 'llegarás': 5554, 'descarga': 5555, 'leyden': 5556, 'proferían': 5557, 'sillas': 5558, 'parezca': 5559, 'repartía': 5560, 'diestro': 5561, 'patadas': 5562, 'puñetazos': 5563, 'agotadas': 5564, 'desplomó': 5565, 'atrocidad': 5566, 'prepararás': 5567, 'tuyo': 5568, 'despiadado': 5569, 'mantuve': 5570, 'sereno': 5571, 'ponerle': 5572, 'oponer': 5573, 'dialéctica': 5574, 'imprecaciones': 5575, 'encontrarse': 5576, 'explicada': 5577, 'desplegó': 5578, 'diligencia': 5579, 'permitiéndose': 5580, 'chistes': 5581, 'encierran': 5582, 'chistar': 5583, 'ubicó': 5584, 'escritorio': 5585, 'él―': 5586, 'prestado': 5587, 'cansado': 5588, 'olvidaré': 5589, 'participarás': 5590, '“bien”': 5591, '“se': 5592, 'gloria”': 5593, 'recomiendo': 5594, 'quisieran': 5595, 'vacilaría': 5596, 'llegara': 5597, 'conocerse': 5598, 'precipitaría': 5599, 'pos': 5600, 'niego': 5601, 'realizado': 5602, 'superchería': 5603, 'aventurado': 5604, 'frunció': 5605, 'malogrado': 5606, 'delgados': 5607, 'molesto': 5608, 'formular': 5609, 'opongo': 5610, 'colega': 5611, 'agradeceré': 5612, 'diga': 5613, 'quieren': 5614, 'scartars': 5615, 'recibí': 5616, 'paterman': 5617, 'oportuna': 5618, 'tercer': 5619, 'estante': 5620, 'librería': 5621, 'z': 5622, 'tabla': 5623, 'buscarlo': 5624, 'handerson': 5625, 'yocuj': 5626, 'ocupa': 5627, 'realizan': 5628, 'aplique': 5629, 'responderme': 5630, 'equivoqué': 5631, 'detente': 5632, '75': 5633, 'semeja': 5634, 'pelado': 5635, 'rebelándome': 5636, 'ere': 5637, 'candentes': 5638, 'fastos': 5639, '1219': 5640, 'gradualmente': 5641, 'figurar': 5642, 'activos': 5643, 'basar': 5644, 'obscuridades': 5645, 'demuestra': 5646, 'advirtió': 5647, 'consignó': 5648, 'presente': 5649, 'respondido': 5650, 'intuí': 5651, 'atacarle': 5652, 'referente': 5653, 'cesé': 5654, 'convencerle': 5655, 'científico': 5656, 'relataron': 5657, 'leyendas': 5658, 'fundas': 5659, 'burlón': 5660, 'impracticable': 5661, 'inocente': 5662, 'pícaras': 5663, 'comprendiendo': 5664, 'burlaba': 5665, 'admitido': 5666, 'admitiendo': 5667, 'disfruta': 5668, 'gaseoso': 5669, 'infunde': 5670, 'respeto': 5671, '300°': 5672, 'liquidarte': 5673, 'infundado': 5674, 'mohíno': 5675, 'magistral': 5676, 'docemilésima': 5677, 'eminentemente': 5678, 'susceptible': 5679, 'perfeccionamiento': 5680, 'obstruida': 5681, 'fourier': 5682, 'suceder': 5683, 'refractarios': 5684, 'hipotético': 5685, 'diré': 5686, 'existiese': 5687, 'ignición': 5688, 'substancias': 5689, 'adquirirían': 5690, 'soportarla': 5691, 'estallaría': 5692, 'concedido': 5693, 'opinan': 5694, 'distinguidos': 5695, 'conocemos': 5696, 'demostrar': 5697, 'desea': 5698, 'probado': 5699, 'disminuido': 5700, 'engolfándose': 5701, 'discusión': 5702, 'participan': 5703, 'competentes': 5704, 'acuerdas': 5705, '1825': 5706, 'acordar': 5707, 'vine': 5708, 'discutimos': 5709, 'quedando': 5710, 'refutar': 5711, 'expuesta': 5712, 'originaría': 5713, 'terremotos': 5714, 'refugiándose': 5715, 'reconoce': 5716, 'potasio': 5717, 'sodio': 5718, 'inflamarse': 5719, 'ardieron': 5720, 'atmosféricos': 5721, 'precipitaron': 5722, 'determinando': 5723, 'incendios': 5724, 'acompañados': 5725, 'exclamar': 5726, 'palpablemente': 5727, 'fabricó': 5728, 'metálica': 5729, 'composición': 5730, 'mencionados': 5731, 'finísimo': 5732, 'rocío': 5733, 'hinchábase': 5734, 'oxidábase': 5735, 'comunicaba': 5736, 'sostenerla': 5737, 'empezaban': 5738, 'pasión': 5739, 'habituales': 5740, 'inferían': 5741, 'núcleo': 5742, 'suscitado': 5743, 'comprobaremos': 5744, 'discutida': 5745, 'apartados': 5746, 'alumbrarnos': 5747, 'hacerla': 5748, 'triunfalmente': 5749, 'guarda': 5750, 'sigilo': 5751, 'memorable': 5752, 'aturdido': 5753, 'pareciéndome': 5754, 'refrescarme': 5755, 'atraca': 5756, 'fascinar': 5757, 'insensatas': 5758, 'elucubraciones': 5759, 'nadaba': 5760, 'contradictorias': 5761, 'decaer': 5762, 'preferido': 5763, 'proposición': 5764, 'formal': 5765, 'sensato': 5766, 'rodeando': 5767, 'rebasar': 5768, 'presentimiento': 5769, 'justificado': 5770, 'sorprendida': 5771, 'buscarme': 5772, 'caballerito': 5773, 'tendiéndome': 5774, 'unísono': 5775, 'temblaba': 5776, 'lograron': 5777, 'sobresaltarme': 5778, 'haberse': 5779, 'distinguido': 5780, 'tratas': 5781, 'disuadirme': 5782, 'renuncie': 5783, 'constituir': 5784, 'vosotros': 5785, 'estorbo': 5786, 'corazones': 5787, 'femeninos': 5788, 'tímidos': 5789, 'vosotras': 5790, 'poderío': 5791, 'animase': 5792, 'descabellada': 5793, 'acometer': 5794, 'incitase': 5795, 'profesarme': 5796, 'rubor': 5797, 'pensaré': 5798, 'tomados': 5799, 'emociones': 5800, '“las': 5801, 'hagan': 5802, 'desistir': 5803, 'manía': 5804, 'tierra”': 5805, 'encontrarla': 5806, 'acostado': 5807, 'repaso': 5808, 'retirarse': 5809, 'mozos': 5810, 'cordel': 5811, 'descargaban': 5812, 'atolondrada': 5813, 'atender': 5814, 'date': 5815, 'papeles': 5816, 'polainas': 5817, 'penas': 5818, 'preparándolo': 5819, 'ahogada': 5820, 'cobijé': 5821, 'dudar': 5822, 'empleado': 5823, 'líquidos': 5824, 'grapas': 5825, 'azadas': 5826, 'necesitarían': 5827, 'abrirle': 5828, 'encantos': 5829, 'palidez': 5830, 'corrí': 5831, 'mirarme': 5832, 'espejo': 5833, 'creíble': 5834, 'debes': 5835, 'alcanzará': 5836, 'consagrarse': 5837, 'aguarda': 5838, 'reflejará': 5839, 'regreses': 5840, 'azoró': 5841, 'emprendamos': 5842, 'contrariarle': 5843, 'induce': 5844, 'desesperante': 5845, 'fines': 5846, 'hubieses': 5847, 'necio': 5848, 'hubieras': 5849, 'oficina': 5850, 'liffender': 5851, 'habrías': 5852, 'mensual': 5853, 'esperásemos': 5854, 'llegaríamos': 5855, 'precise': 5856, 'colocar': 5857, 'precisaba': 5858, 'heligoland': 5859, 'discretas': 5860, 'embelesaba': 5861, 'enfurecía': 5862, 'enfadarme': 5863, 'aparentaba': 5864, 'advertirlo': 5865, 'afuera': 5866, 'rodar': 5867, 'deteniéndose': 5868, 'completó': 5869, 'desfallecida': 5870, 'bájala': 5871, 'deslizase': 5872, 'riendas': 5873, 'abrazó': 5874, 'lágrima': 5875, 'rozar': 5876, 'mejilla': 5877, 'dulcísimos': 5878, 'hallarás': 5879, 'enviaron': 5880, 'excitados': 5881, 'cochero': 5882, 'arrancaron': 5883, 'galope': 5884, 'arrabal': 5885, 'penetramos': 5886, 'territorio': 5887, 'bajamos': 5888, 'cesado': 5889, 'abastecedores': 5890, 'municiones': 5891, 'sótano': 5892, 'conciencia': 5893, 'terrores': 5894, 'delirio': 5895, 'sentíame': 5896, 'hundido': 5897, 'insondables': 5898, 'adquiriendo': 5899, 'comía': 5900, 'despegué': 5901, 'detúvose': 5902, 'descargados': 5903, 'pesados': 5904, 'furgón': 5905, 'silbó': 5906, 'locomotora': 5907, 'fresco': 5908, 'renovados': 5909, 'distrajéronme': 5910, 'antojaba': 5911, 'dirigirnos': 5912, 'registró': 5913, 'requisitos': 5914, 'exigía': 5915, 'ejecución': 5916, 'arriesgados': 5917, 'doblada': 5918, 'membrete': 5919, 'cancillería': 5920, 'cristiensen': 5921, 'guardado': 5922, 'cartera': 5923, 'maldije': 5924, 'extensa': 5925, 'monótonas': 5926, 'cenagosas': 5927, 'férrea': 5928, 'empresas': 5929, 'explotadoras': 5930, 'monotonía': 5931, 'fatigarme': 5932, 'facturados': 5933, 'ocuparnos': 5934, 'quitó': 5935, 'trasbordaron': 5936, 'bodegas': 5937, 'calculado': 5938, 'correspondencia': 5939, 'detestable': 5940, 'prevista': 5941, 'apoderase': 5942, 'envió': 5943, 'diablos': 5944, 'administraciones': 5945, 'ferrocarriles': 5946, 'gobiernos': 5947, 'toleraban': 5948, 'abusos': 5949, 'levar': 5950, 'anclas': 5951, 'zarpar': 5952, 'matar': 5953, 'pasearnos': 5954, 'bosques': 5955, 'colocado': 5956, 'quintas': 5957, 'provistas': 5958, 'caseta': 5959, 'baños': 5960, 'aburrirnos': 5961, 'penachos': 5962, 'retemblaba': 5963, 'estertores': 5964, 'literas': 5965, 'cámara': 5966, 'avanzó': 5967, 'luces': 5968, 'faro': 5969, 'desembarcamos': 5970, 'korsör': 5971, 'trasbordamos': 5972, 'pegado': 5973, 'vagón': 5974, 'manicomio': 5975, '“he': 5976, 'lidenbrock”': 5977, 'descendimos': 5978, 'conducidos': 5979, 'bred–gade': 5980, 'invirtió': 5981, 'asearse': 5982, 'cambiarse': 5983, 'traje': 5984, 'antigüedades': 5985, 'permitirían': 5986, 'viejas': 5987, 'cuencos': 5988, 'joyas': 5989, 'eficaz': 5990, 'acogen': 5991, 'servicial': 5992, 'dispensó': 5993, 'deseábamos': 5994, 'sencillamente': 5995, 'breve': 5996, 'pasajero': 5997, 'estrujársela': 5998, 'sorprendió': 5999, 'extemporánea': 6000, 'pareciéndole': 6001, 'taimado': 6002, 'aprovechó': 6003, 'cobrarnos': 6004, 'estad': 6005, 'embolsarse': 6006, 'atenciones': 6007, 'regresamos': 6008, 'pedir': 6009, 'trasladamos': 6010, 'tongens–nye–torw': 6011, 'plaza': 6012, 'inofensivos': 6013, 'asustan': 6014, 'restaurante': 6015, 'cocinero': 6016, 'vincent': 6017, 'módica': 6018, 'fijó': 6019, 'xvii': 6020, 'cenotafio': 6021, 'torwaldsen': 6022, 'conservan': 6023, 'escultor': 6024, 'pinturas': 6025, 'murales': 6026, 'horribles': 6027, 'microscópico': 6028, 'rosenborg': 6029, 'renacimiento': 6030, 'entrelazados': 6031, 'dragones': 6032, 'bronca': 6033, 'molinos': 6034, 'dilatadas': 6035, 'hinchan': 6036, 'soplo': 6037, 'paseos': 6038, 'fragatas': 6039, 'techumbres': 6040, 'ciudadela': 6041, 'asoman': 6042, 'negras': 6043, 'saúcos': 6044, 'sauces': 6045, 'llamaron': 6046, 'causóle': 6047, 'amak': 6048, 'so': 6049, 'transportaba': 6050, 'atracarnos': 6051, 'dock–yard': 6052, 'estrechas': 6053, 'galeotes1': 6054, 'trabajaban': 6055, 'vara': 6056, 'sota': 6057, 'cómitres2': 6058, 'vor–frelsers–kirk': 6059, 'desarrollándose': 6060, 'subamos': 6061, 'acometerá': 6062, 'habituemos': 6063, 'apostado': 6064, 'lento': 6065, 'solía': 6066, 'deplorable': 6067, 'aplomo': 6068, 'águilas': 6069, 'hélice': 6070, 'aérea': 6071, 'resguardo': 6072, 'escalonas': 6073, 'aterrado': 6074, 'cobarde': 6075, 'azuzó': 6076, 'agarrándome': 6077, 'ansia': 6078, 'atolondraba': 6079, 'oscilar': 6080, 'flaqueaban': 6081, 'arrastrándome': 6082, 'aprender': 6083, 'aplastadas': 6084, 'desgarradas': 6085, 'invertía': 6086, 'tapizada': 6087, 'azulado': 6088, 'surcado': 6089, 'gaviotas': 6090, 'vislumbraban': 6091, 'ondulantes': 6092, 'derredor': 6093, 'lección': 6094, 'permitieron': 6095, 'sentar': 6096, 'repetiremos': 6097, 'vertiginoso': 6098, 'llevado': 6099, 'eficaces': 6100, 'conde': 6101, 'prodigó': 6102, 'fuertes': 6103, 'ubicaban': 6104, 'camarotes': 6105, 'exageradamente': 6106, 'inmejorable': 6107, 'biarna': 6108, 'aleta': 6109, 'velacho': 6110, 'juanete': 6111, 'foques': 6112, 'cangreja': 6113, 'largar': 6114, 'orientó': 6115, 'convenientemente': 6116, 'rozaba': 6117, 'hamlet': 6118, 'errar': 6119, 'legendario': 6120, 'terrado': 6121, 'aprobarías': 6122, 'seguirías': 6123, 'ganoso': 6124, 'sempiterna': 6125, 'moderno': 6126, 'heroico': 6127, 'príncipe': 6128, 'sirve': 6129, 'suntuoso': 6130, 'alojamiento': 6131, 'krongborg': 6132, 'torre': 6133, 'helsinborg': 6134, 'sueca': 6135, 'impedida': 6136, 'cattegat': 6137, 'velero': 6138, 'predecirse': 6139, 'trigo': 6140, 'tripulada': 6141, 'lobos': 6142, 'daneses': 6143, 'bastaban': 6144, 'maniobrar': 6145, 'durará': 6146, 'arrecia': 6147, 'suele': 6148, 'retrasos': 6149, 'llegaremos': 6150, 'dobló': 6151, 'skager': 6152, 'rak': 6153, 'bordeó': 6154, 'lamiendo': 6155, 'lindness': 6156, 'divisamos': 6157, 'reconocimos': 6158, 'peterhead': 6159, 'arrumbó': 6160, 'faroe': 6161, 'orcadas': 6162, 'shetland': 6163, 'venciendo': 6164, 'costó': 6165, 'myganness': 6166, 'oriental': 6167, 'inclemencias': 6168, 'mareado': 6169, 'llenarle': 6170, 'contribuyó': 6171, 'agriar': 6172, 'mamparos': 6173, 'cabezada': 6174, '11': 6175, 'permitiéndonos': 6176, 'myrdals': 6177, 'alza': 6178, 'manteniéndose': 6179, 'manadas': 6180, 'tiburones': 6181, 'horadado': 6182, 'enfurecido': 6183, 'westman': 6184, 'sembradas': 6185, 'reykjaness': 6186, 'bravías': 6187, 'azotadas': 6188, 'hendidas': 6189, 'sorteada': 6190, 'obligó': 6191, 'descubrimos': 6192, 'baliza': 6193, 'peligrosos': 6194, 'arrecifes': 6195, 'prolongan': 6196, 'práctico': 6197, 'fondeaba': 6198, 'pálido': 6199, 'retratada': 6200, 'agolpaban': 6201, 'presidio': 6202, 'flotante': 6203, 'remataba': 6204, 'guardase': 6205, 'aguardaba': 6206, 'cabizbajo': 6207, 'hollar': 6208, 'magistrado': 6209, 'traía': 6210, 'intercambiaron': 6211, 'entrevista': 6212, 'pusiese': 6213, 'militar': 6214, 'indumentaria': 6215, 'dispensar': 6216, 'pastoral': 6217, 'diócesis': 6218, 'serle': 6219, 'presentados': 6220, 'trabamos': 6221, 'bellísimo': 6222, 'sujeto': 6223, 'concurso': 6224, 'horacio': 6225, 'creados': 6226, 'comprendemos': 6227, 'mutuamente': 6228, 'conversar': 6229, 'conserve': 6230, 'gustaría': 6231, 'recorreré': 6232, 'visitarla': 6233, 'interesa': 6234, 'preguntar': 6235, 'expone': 6236, 'equivocaciones': 6237, 'amplia': 6238, 'limitada': 6239, 'resguardados': 6240, 'guardapescas': 6241, 'prestando': 6242, 'paralela': 6243, 'mercaderes': 6244, 'negociantes': 6245, 'personajes': 6246, 'semejaba': 6247, 'raída': 6248, 'huerto': 6249, 'legumbres': 6250, 'patatas': 6251, 'coles': 6252, 'lechugas': 6253, 'dignas': 6254, 'liliputiense': 6255, 'alhelíes': 6256, 'enfermizos': 6257, 'tapia': 6258, 'adobes': 6259, 'choza': 6260, 'compara': 6261, 'ayuntamiento': 6262, 'aloja': 6263, 'edificada': 6264, 'protestante': 6265, 'calcinados': 6266, 'arrojan': 6267, 'tejas': 6268, 'coloradas': 6269, 'fieles': 6270, 'arreciar': 6271, 'eminencia': 6272, 'nacional': 6273, 'atrasado': 6274, 'alumnos': 6275, 'matriculados': 6276, 'colegio': 6277, 'indigno': 6278, 'acostarme': 6279, 'armarios': 6280, 'compartimientos': 6281, 'asfixiarían': 6282, 'mereciese': 6283, 'adentro': 6284, 'colocados': 6285, 'praderas': 6286, 'brota': 6287, 'segarla': 6288, 'recolección': 6289, 'domésticos': 6290, 'pretendan': 6291, 'mansiones': 6292, 'secar': 6293, 'bacalaos': 6294, 'artículo': 6295, 'exportación': 6296, 'tardos': 6297, 'rubios': 6298, 'pensativa': 6299, 'creen': 6300, 'desterrados': 6301, 'esquimales': 6302, 'condenó': 6303, 'ártico': 6304, 'rostros': 6305, 'reían': 6306, 'involuntaria': 6307, 'sonreían': 6308, 'conocida': 6309, 'escandinavos': 6310, 'pantalón': 6311, 'orillado': 6312, 'arrollados': 6313, 'calzado': 6314, 'tipo': 6315, 'usan': 6316, 'obscuro': 6317, 'solteras': 6318, 'trenzado': 6319, 'gorrito': 6320, 'pardo': 6321, 'casadas': 6322, 'pañuelo': 6323, 'colocan': 6324, 'cofia': 6325, 'lidenbrook': 6326, 'devoró': 6327, 'héroes': 6328, 'conversó': 6329, 'intercalando': 6330, 'ayunas': 6331, 'hablaron': 6332, 'tratándose': 6333, 'guardó': 6334, 'resultados': 6335, 'practicadas': 6336, 'vuestra': 6337, 'descabalados': 6338, 'poseemos': 6339, 'escritas': 6340, 'escandinavo': 6341, 'publicaciones': 6342, 'envía': 6343, 'anualmente': 6344, 'andan': 6345, 'afición': 6346, 'leen': 6347, 'opinamos': 6348, 'apolillarse': 6349, 'verja': 6350, 'escritos': 6351, 'impresos': 6352, 'leídos': 6353, 'reprimido': 6354, 'enojo': 6355, 'bibliotecas': 6356, 'instruyan': 6357, 'inoculado': 6358, '1816': 6359, 'fundamos': 6360, 'funciona': 6361, 'admirablemente': 6362, 'honran': 6363, 'publica': 6364, 'destinadas': 6365, 'educar': 6366, 'presta': 6367, 'correspondientes': 6368, 'corporaciones': 6369, 'aceptó': 6370, 'ofrecimiento': 6371, 'indicarme': 6372, 'referencias': 6373, 'atañía': 6374, 'poseéis': 6375, 'glorias': 6376, 'literatura': 6377, 'encomiástico': 6378, 'arna': 6379, 'perseguido': 6380, 'hereje': 6381, 'quemadas': 6382, '1573': 6383, 'bravo': 6384, 'aclara': 6385, 'concatena': 6386, 'inscrito': 6387, 'índice': 6388, 'balbuceó': 6389, 'insistir': 6390, 'turbación': 6391, 'ausentará': 6392, 'estudiado': 6393, 'llego': 6394, 'olafsen': 6395, 'povelsen': 6396, 'ejecutados': 6397, 'troil': 6398, 'misión': 6399, 'gaimard': 6400, 'robert': 6401, 'corbeta': 6402, 'francesa': 6403, 'recherche': 6404, 'fragata': 6405, 'reine': 6406, 'hortense': 6407, 'contribuido': 6408, 'poderosamente': 6409, 'créame': 6410, 'candor': 6411, 'raramente': 6412, 'cruzando': 6413, 'geológicos': 6414, 'saffel': 6415, 'fessel': 6416, 'desarrollado': 6417, 'enteré': 6418, 'soltar': 6419, 'trapo': 6420, 'reír': 6421, 'pugnaba': 6422, 'candoroso': 6423, 'mueca': 6424, 'deciden': 6425, 'procuraremos': 6426, 'ocupaciones': 6427, 'permitan': 6428, 'ausentarme': 6429, 'molestar': 6430, 'agradezco': 6431, 'deberes': 6432, 'inocencia': 6433, 'malicia': 6434, 'apruebo': 6435, 'comience': 6436, 'cosechará': 6437, 'curiosas': 6438, 'seguirlo': 6439, 'tendrá': 6440, 'interesante': 6441, 'veré': 6442, 'procurarme': 6443, 'ofrecerle': 6444, 'inteligente': 6445, 'fiado': 6446, 'gansos': 6447, 'podré': 6448, 'recogí': 6449, 'acostándome': 6450, 'charlaba': 6451, 'arreglé': 6452, 'mocetón': 6453, 'hercúleas': 6454, 'soñadores': 6455, 'demostraban': 6456, 'atléticas': 6457, 'fáciles': 6458, 'ignora': 6459, 'desdeña': 6460, 'revelaba': 6461, 'sosegado': 6462, 'indolente': 6463, 'pedía': 6464, 'convenía': 6465, 'causase': 6466, 'sobresalto': 6467, 'apasionada': 6468, 'facundia': 6469, 'múltiples': 6470, 'negar': 6471, 'economía': 6472, 'avaricia': 6473, 'adivinado': 6474, 'espantaría': 6475, 'dedicaba': 6476, 'eidero': 6477, 'riqueza': 6478, 'desplegar': 6479, 'verano': 6480, 'construye': 6481, 'forra': 6482, 'finísimas': 6483, 'plumas': 6484, 'cosechero': 6485, 'precisada': 6486, 'repite': 6487, 'agota': 6488, 'macho': 6489, 'despojarse': 6490, 'comercial': 6491, 'molestia': 6492, 'robarle': 6493, 'pequeñuelos': 6494, 'concluye': 6495, 'huevos': 6496, 'nacen': 6497, 'pollos': 6498, 'reanuda': 6499, 'cosecha': 6500, 'eligen': 6501, 'nidos': 6502, 'labrador': 6503, 'recolectar': 6504, 'mies': 6505, 'sembrarla': 6506, 'cortarla': 6507, 'silencioso': 6508, 'bjelke': 6509, 'contrastaban': 6510, 'entendiéron': 6511, 'repararon': 6512, 'ofreciesen': 6513, 'pidieran': 6514, 'cerró': 6515, 'acordado': 6516, 'comprometió': 6517, 'enteró': 6518, 'dinamarquesas': 6519, 'pésimo': 6520, 'iría': 6521, 'conocedor': 6522, 'prometió': 6523, 'expiraba': 6524, 'permanecería': 6525, 'exigiesen': 6526, 'retribución': 6527, 'semanales': 6528, 'estipuló': 6529, 'abonada': 6530, 'sábados': 6531, 'condición': 6532, 'sine': 6533, 'qua': 6534, 'non': 6535, 'estableció': 6536, 'entregar': 6537, 'arras': 6538, 'contrato': 6539, 'rechazó': 6540, 'efter': 6541, 'tradujo': 6542, 'cerrado': 6543, 'mover': 6544, 'acompañará': 6545, 'transcurrir': 6546, 'harto': 6547, 'invertir': 6548, 'pusimos': 6549, 'potencias': 6550, 'ventajoso': 6551, 'agrupándolo': 6552, 'carabinas': 6553, 'purdley': 6554, 'more': 6555, 'revólveres': 6556, 'colt': 6557, 'arsenal': 6558, 'inalterable': 6559, 'explosiva': 6560, 'notablemente': 6561, 'docena': 6562, 'cuñas': 6563, 'armellas': 6564, 'concentrada': 6565, 'alimentarnos': 6566, 'exclusión': 6567, 'provistos': 6568, 'completar': 6569, 'haré': 6570, 'mención': 6571, 'portátil': 6572, 'tijeras': 6573, 'redonda': 6574, 'tablillas': 6575, 'cinta': 6576, 'crudo': 6577, 'vendas': 6578, 'esparadrapo': 6579, 'lanceta': 6580, 'sangrar': 6581, 'ponían': 6582, 'frascos': 6583, 'dextrina': 6584, 'árnica': 6585, 'acetato': 6586, 'éter': 6587, 'vinagre': 6588, 'amoníaco': 6589, 'drogas': 6590, 'empleo': 6591, 'deseable': 6592, 'ingredientes': 6593, 'aprovisionarse': 6594, 'yesca': 6595, 'ceñido': 6596, 'riñones': 6597, 'monedas': 6598, 'billetes': 6599, 'figuraban': 6600, 'pares': 6601, 'impermeabilizados': 6602, 'alquitrán': 6603, 'goma': 6604, 'equipados': 6605, 'calzados': 6606, 'prive': 6607, 'doctor': 6608, 'hyaltalin': 6609, 'invitados': 6610, 'hallában': 6611, 'desacuerdo': 6612, 'administrativa': 6613, 'trataban': 6614, 'semioficial': 6615, 'quedaron': 6616, 'regalándole': 6617, 'incomparablemente': 6618, 'henderson': 6619, 'olaf': 6620, 'nikolás': 6621, '480': 6622, 'editado': 6623, 'sujeción': 6624, 'geodésicos': 6625, 'scheel': 6626, 'frisac': 6627, 'nivelación': 6628, 'topográfica': 6629, 'bjorn': 6630, 'gumlaugsonn': 6631, 'velada': 6632, 'simpatía': 6633, 'agitado': 6634, 'relinchos': 6635, 'piafaban': 6636, 'acabando': 6637, 'enseres': 6638, 'moviéndose': 6639, 'saludé': 6640, 'cordialmente': 6641, 'macarrónico': 6642, 'espetóme': 6643, 'verso': 6644, 'incertidumbre': 6645, 'quacumque': 6646, 'viam': 6647, 'dederit': 6648, 'sequamur': 6649, 'calores': 6650, 'enervantes': 6651, 'desastrosas': 6652, 'sobrellevar': 6653, 'arriesgo': 6654, 'fantasía': 6655, 'aprovecharse': 6656, 'tiempo”': 6657, 'raciocinios': 6658, 'seguíanle': 6659, 'guiarlos': 6660, 'montados': 6661, 'animalitos': 6662, 'alzada': 6663, '60': 6664, 'geógrafos': 6665, 'sudvestr': 6666, 'fjordúngr': 6667, 'pastos': 6668, 'rugosas': 6669, 'perfilaban': 6670, 'concentrando': 6671, 'resplandecían': 6672, 'osados': 6673, 'atravesaban': 6674, 'reaparecían': 6675, 'emergiesen': 6676, 'cadenas': 6677, 'mordiendo': 6678, 'pradera': 6679, 'elegían': 6680, 'propicios': 6681, 'retardar': 6682, 'excitar': 6683, 'cabalgadura': 6684, 'vedada': 6685, 'sonreírme': 6686, 'contemplarle': 6687, 'montado': 6688, 'jaquilla': 6689, 'desmesuradas': 6690, 'rozaban': 6691, 'centauro': 6692, 'aventaje': 6693, 'ventisqueros…': 6694, 'detenga': 6695, 'sobrio': 6696, 'valiente': 6697, 'recula': 6698, 'arrojarse': 6699, 'anfibio': 6700, 'hostiguemos': 6701, 'dejémosles': 6702, 'albedrío': 6703, 'guía…': 6704, 'inquietes': 6705, 'caminan': 6706, 'fatigarse': 6707, 'montura': 6708, 'muevo': 6709, 'acometerán': 6710, 'calambres': 6711, 'aparecía': 6712, 'margen': 6713, 'hondonada': 6714, 'mendigante': 6715, 'granja': 6716, 'aislada': 6717, 'solitario': 6718, 'implorar': 6719, 'caridad': 6720, 'transeúnte': 6721, 'limosna': 6722, 'borrar': 6723, 'escasos': 6724, 'provincia': 6725, 'porciones': 6726, 'pobladas': 6727, 'cultivadas': 6728, 'serán': 6729, 'apacentando': 6730, 'vacas': 6731, 'carneros': 6732, 'trastornadas': 6733, 'removidas': 6734, 'hijas': 6735, 'conocerlas': 6736, 'apartábamos': 6737, 'plutónico': 6738, 'puestas': 6739, 'llamadas': 6740, 'trapps': 6741, 'fajas': 6742, 'traquíticas': 6743, 'conglomerados': 6744, 'pórfido': 6745, 'inspira': 6746, 'sospechaba': 6747, 'residuos': 6748, 'caos': 6749, 'llegarnos': 6750, 'villa': 6751, 'gufunes': 6752, 'bastarían': 6753, 'lugarejo': 6754, 'compartió': 6755, 'monosílabos': 6756, 'pensada': 6757, 'mostré': 6758, 'veintidós': 6759, 'contornear': 6760, 'kollafjörd': 6761, 'pingstaœr': 6762, 'jurisdicción': 6763, 'comunal': 6764, 'nombrado': 6765, 'ejulberg': 6766, 'iglesias': 6767, 'ricas': 6768, 'relojes': 6769, 'asemejan': 6770, 'feligreses': 6771, 'ribazo': 6772, 'cordillera': 6773, 'llevaron': 6774, 'brantar': 6775, 'saurböer': 6776, 'annexia': 6777, 'anexa': 6778, 'estrellaban': 6779, 'separaban': 6780, 'rojizo': 6781, 'cuadrúpedo': 6782, 'tratarán': 6783, 'encargo': 6784, 'hostigó': 6785, 'husmear': 6786, 'ondulación': 6787, 'obligarlo': 6788, 'negó': 6789, 'obedecerle': 6790, 'latigazos': 6791, 'encabritándose': 6792, 'bestia': 6793, 'despidiese': 6794, 'caballejo': 6795, 'doblando': 6796, 'corvejones': 6797, 'escurrió': 6798, 'dejándole': 6799, 'plantado': 6800, 'coloso': 6801, 'rodas': 6802, 'encolerizado': 6803, 'transformado': 6804, 'peatón': 6805, 'avergonzado': 6806, 'oficial': 6807, 'caballería': 6808, 'viese': 6809, 'infante': 6810, 'farja': 6811, 'tocándole': 6812, 'tidvatten': 6813, 'traduciéndome': 6814, 'crezca': 6815, 'förbida': 6816, 'dirigían': 6817, 'alcanzado': 6818, 'máxima': 6819, 'flujo': 6820, 'reflujo': 6821, 'instalamos': 6822, 'anticuado': 6823, 'echamos': 6824, 'gardä': 6825, '65°': 6826, 'diurna': 6827, 'causarme': 6828, 'recibirnos': 6829, 'hospitalarias': 6830, 'mansión': 6831, 'zaga': 6832, 'ceremonias': 6833, 'siguiésemos': 6834, 'acompañarle': 6835, 'acceso': 6836, 'labrados': 6837, 'taller': 6838, 'tejidos': 6839, 'badstofa': 6840, 'alcoba': 6841, 'terrizo': 6842, 'recibía': 6843, 'vidrios': 6844, 'membranas': 6845, 'carnero': 6846, 'transparentes': 6847, 'camas': 6848, 'amontonado': 6849, 'bastidores': 6850, 'pintada': 6851, 'sentencias': 6852, 'penetrante': 6853, 'macerada': 6854, 'repugnaba': 6855, 'olfato': 6856, 'hubimos': 6857, 'desembarazado': 6858, 'arreos': 6859, 'invitaba': 6860, 'encendía': 6861, 'lumbre': 6862, 'fríos': 6863, 'amistosa': 6864, 'invitación': 6865, 'modelo': 6866, 'agujero': 6867, '“sed': 6868, 'felices”': 6869, 'mejillas': 6870, 'acompañadas': 6871, 'ceremonial': 6872, 'esposos': 6873, 'colocándose': 6874, 'inclinaron': 6875, 'apresuro': 6876, 'llenaban': 6877, 'cabecita': 6878, 'melancólica': 6879, 'ángeles': 6880, 'insuficientemente': 6881, 'aseados': 6882, 'dispensamos': 6883, 'parva': 6884, 'rato': 6885, 'sabían': 6886, 'repetían': 6887, 'tonos': 6888, 'imaginables': 6889, 'aprendido': 6890, 'gritaban': 6891, 'anuncio': 6892, 'interrumpió': 6893, 'concierto': 6894, 'comiesen': 6895, 'económicamente': 6896, 'tendrían': 6897, 'escaso': 6898, 'musgo': 6899, 'nutritivas': 6900, 'viniesen': 6901, 'voluntariamente': 6902, 'sumisos': 6903, 'automáticamente': 6904, 'ósculos': 6905, 'acentuado': 6906, 'ceremonia': 6907, 'favorecidos': 6908, 'reinar': 6909, 'gente': 6910, 'menuda': 6911, 'taciturnidad': 6912, 'característica': 6913, 'incluso': 6914, 'recobró': 6915, 'liquen': 6916, 'nadando': 6917, 'mantequilla': 6918, 'gastronómicas': 6919, 'skyr': 6920, 'cuajada': 6921, 'sazonada': 6922, 'jugo': 6923, 'enebro': 6924, 'suero': 6925, 'blanda': 6926, 'atracón': 6927, 'papilla': 6928, 'alforfón': 6929, 'rodearon': 6930, 'ardían': 6931, 'brezos': 6932, 'estiércol': 6933, 'vaca': 6934, 'calentarse': 6935, 'respectivas': 6936, 'dueña': 6937, 'quitarnos': 6938, 'renunciamos': 6939, 'estimable': 6940, 'despedimos': 6941, 'costándole': 6942, 'remuneración': 6943, 'adecuada': 6944, 'prolongábase': 6945, 'fortificaciones': 6946, 'contraescarpa': 6947, 'presentándose': 6948, 'vadear': 6949, 'mojar': 6950, 'acercaban': 6951, 'espectros': 6952, 'reluciente': 6953, 'desprovista': 6954, 'asquerosas': 6955, 'llagas': 6956, 'desgarrones': 6957, 'harapos': 6958, 'desdichada': 6959, 'deformada': 6960, 'saludarla': 6961, 'spetelsk': 6962, 'leproso': 6963, 'repulsivo': 6964, 'afección': 6965, 'lepra': 6966, 'contagiosa': 6967, 'hereditaria': 6968, 'desgraciados': 6969, 'prohibido': 6970, 'casarse': 6971, 'apariciones': 6972, 'alegrar': 6973, 'tristeza': 6974, 'copetes': 6975, 'acababan': 6976, 'árbol': 6977, 'merecían': 6978, 'enanos': 6979, 'malezas': 6980, 'aparte': 6981, 'erraban': 6982, 'amos': 6983, 'cerníase': 6984, 'halcón': 6985, 'huía': 6986, 'melancolía': 6987, 'condujeron': 6988, 'natal': 6989, 'cruzar': 6990, 'carecían': 6991, 'pasarlo': 6992, 'alftanes': 6993, 'vadeado': 6994, 'truchas': 6995, 'sollos': 6996, 'alfa': 6997, 'heta': 6998, 'casucha': 6999, 'ruinosa': 7000, 'abandonada': 7001, 'digna': 7002, 'habitada': 7003, 'duendes': 7004, 'fijado': 7005, 'residencia': 7006, 'suyas': 7007, 'pernoctamos': 7008, 'anejo': 7009, 'krösolbt': 7010, 'hraun': 7011, 'arrugada': 7012, 'afectaba': 7013, 'calabrotes': 7014, 'adujados': 7015, 'vecinas': 7016, 'solidificadas': 7017, 'pasada': 7018, 'pregonaban': 7019, 'cascos': 7020, 'pantanosos': 7021, 'sembrados': 7022, 'lagunas': 7023, 'marchaban': 7024, 'detuvieran': 7025, 'sentirme': 7026, 'inspirándome': 7027, 'sincera': 7028, 'büdir': 7029, 'salario': 7030, 'tíos': 7031, 'primos': 7032, 'hospedaron': 7033, 'buenas': 7034, 'reponerme': 7035, 'experimentaba': 7036, 'entendió': 7037, 'montar': 7038, 'cabalgaduras': 7039, 'proximidad': 7040, 'gesticulaba': 7041, 'desafiarle': 7042, 'decirle': 7043, '«': 7044, 'sojuzgar': 7045, 'detuvieron': 7046, 'edificado': 7047, 'encajado': 7048, 'ígneo': 7049, 'regulares': 7050, 'extrañeza': 7051, 'geométrica': 7052, 'manejase': 7053, 'escuadra': 7054, 'plomada': 7055, 'desarrolla': 7056, 'moles': 7057, 'deformes': 7058, 'esbozados': 7059, 'pirámides': 7060, 'imperfectas': 7061, 'obedecen': 7062, 'plan': 7063, 'adelantándose': 7064, 'arquitectos': 7065, 'esplendores': 7066, 'babilonia': 7067, 'grecia': 7068, 'sobrepujado': 7069, 'irlanda': 7070, 'fingal': 7071, 'hébridas': 7072, 'esplendor': 7073, 'fustes': 7074, 'proporcionados': 7075, 'rectos': 7076, 'soportaban': 7077, 'arcada': 7078, 'semibóveda': 7079, 'cobertizo': 7080, 'sorprendía': 7081, 'ojivales': 7082, 'dibujo': 7083, 'irritadas': 7084, 'basaltos': 7085, 'arrancados': 7086, 'templo': 7087, 'jóvenes': 7088, 'corroerlas': 7089, 'probada': 7090, 'tranquilizaba': 7091, 'seguiría': 7092, 'cómoda': 7093, 'mandil': 7094, 'albéitar': 7095, 'volviéndose': 7096, 'suspendió': 7097, 'chalanes': 7098, 'ofrecer': 7099, 'ósculo': 7100, 'introducirnos': 7101, 'infecta': 7102, 'sucia': 7103, 'herrero': 7104, 'carpintero': 7105, 'ministro': 7106, 'desquitase': 7107, 'domingos': 7108, 'sacerdotes': 7109, 'reciben': 7110, 'gobierno': 7111, 'asignación': 7112, 'ridícula': 7113, 'diezmos': 7114, 'parroquias': 7115, 'sumar': 7116, 'sesenta': 7117, 'necesitan': 7118, 'trabajar': 7119, 'pescando': 7120, 'cazando': 7121, 'hábitos': 7122, 'cazadores': 7123, 'rudas': 7124, 'virtudes': 7125, 'párroco': 7126, 'templanza': 7127, 'habérselas': 7128, 'honrado': 7129, 'halló': 7130, 'descortés': 7131, 'resolvió': 7132, 'hospitalario': 7133, 'comenzaron': 7134, 'contrató': 7135, 'indígenas': 7136, 'aclarado': 7137, 'distraído': 7138, 'zozobra': 7139, 'oponerme': 7140, 'crispar': 7141, '“veamos”': 7142, '“nos': 7143, 'encaramar': 7144, 'malhadado': 7145, 'preparando': 7146, 'duerma': 7147, 'despertarse': 7148, 'despertase': 7149, 'representar': 7150, 'cacería': 7151, 'callar': 7152, 'finalmente': 7153, 'irrealizable': 7154, 'aproximándome': 7155, 'manifesté': 7156, 'retrocedí': 7157, 'interpretación': 7158, 'pensaría': 7159, 'suspender': 7160, 'interrumpir': 7161, 'imprudencias': 7162, 'vehemencia': 7163, 'seiscientos': 7164, 'precedidas': 7165, 'asegurarte': 7166, 'directo': 7167, 'hallarnos': 7168, 'raso': 7169, 'accidentes': 7170, 'borrados': 7171, 'piroxénicas': 7172, 'llamados': 7173, 'reykir': 7174, 'procedían': 7175, 'termales': 7176, 'olvides': 7177, 'decirte': 7178, 'redoblan': 7179, 'subsiste': 7180, 'careciendo': 7181, 'escaparse': 7182, 'fisuras': 7183, 'mantienen': 7184, 'añades': 7185, 'reemplazados': 7186, 'hablado': 7187, 'gachas': 7188, 'endiablada': 7189, 'saknus\\xadsemm': 7190, 'lanzado': 7191, 'cartucheras': 7192, 'reservados': 7193, 'precavido': 7194, 'esperaban': 7195, 'deseosos': 7196, 'cobraba': 7197, 'infecto': 7198, 'respirado': 7199, 'rectoral': 7200, 'dignísima': 7201, 'desolló': 7202, 'hostelero': 7203, 'suizo': 7204, 'cobrándonos': 7205, 'fabuloso': 7206, 'partía': 7207, 'parar': 7208, 'arreglado': 7209, 'terminación': 7210, 'faja': 7211, 'raquítica': 7212, 'destaca': 7213, 'orográfico': 7214, 'proyectándose': 7215, 'grisáceo': 7216, 'fila': 7217, 'precedidos': 7218, 'herbácea': 7219, 'fibrosa': 7220, 'combustible': 7221, 'inexplotado': 7222, 'bastaría': 7223, 'calentar': 7224, 'hornaguero': 7225, 'medido': 7226, 'detritus': 7227, 'carbonizados': 7228, 'vetas': 7229, 'preocupaciones': 7230, 'expuestas': 7231, 'gabinete': 7232, 'rehacía': 7233, 'curiosa': 7234, 'surgido': 7235, 'continúe': 7236, 'atribuirse': 7237, 'pretensiones': 7238, 'indujo': 7239, 'privada': 7240, 'aglomerado': 7241, 'levantada': 7242, 'escotillón': 7243, 'irrupción': 7244, 'diagonalmente': 7245, 'verificó': 7246, 'extendieron': 7247, 'vastas': 7248, 'sabanas': 7249, 'apezonadas': 7250, 'feldespatos': 7251, 'sienitos': 7252, 'pórfidos': 7253, 'derramamiento': 7254, 'aumentó': 7255, 'almacenaron': 7256, 'obstruyeron': 7257, 'costra': 7258, 'mecánica': 7259, 'levantaron': 7260, 'levantamiento': 7261, 'repentino': 7262, 'recién': 7263, 'formadas': 7264, 'escaparon': 7265, 'basálticas': 7266, 'maravillosos': 7267, 'cruzábamos': 7268, 'enfriarse': 7269, 'adoptado': 7270, 'prismas': 7271, 'bases': 7272, 'hexagonales': 7273, 'ignívoras': 7274, 'agotada': 7275, 'acrecentó': 7276, 'derrames': 7277, 'contemplaban': 7278, 'opulenta': 7279, 'reconocían': 7280, 'interna': 7281, 'permaneciese': 7282, 'perenne': 7283, 'incandescencia': 7284, 'pretender': 7285, 'asalto': 7286, 'tranquilizando': 7287, 'oscilaban': 7288, 'tiento': 7289, 'perdíamos': 7290, 'oíamos': 7291, 'recogía': 7292, 'colocábalas': 7293, 'reconocerlas': 7294, 'fijaba': 7295, 'jalones': 7296, 'indicarnos': 7297, 'probaron': 7298, 'inutilidad': 7299, 'fatigosas': 7300, 'invirtieron': 7301, 'frugalmente': 7302, 'someterse': 7303, 'taciturnos': 7304, 'camarada': 7305, 'desplegaron': 7306, 'comieron': 7307, 'sobriamente': 7308, 'comenzamos': 7309, 'nevada': 7310, 'restaban': 7311, 'muchísimas': 7312, 'ligadas': 7313, 'cimiento': 7314, 'resbalaban': 7315, 'rodaban': 7316, '36°': 7317, 'rodear': 7318, 'pedregosos': 7319, 'prestábamos': 7320, 'mutuo': 7321, 'innato': 7322, 'tropezaba': 7323, 'trepaban': 7324, 'inauditos': 7325, 'simplificó': 7326, 'stinâ': 7327, 'escalones': 7328, 'remontarlos': 7329, 'retrasase': 7330, 'proseguían': 7331, 'verlos': 7332, 'reducidos': 7333, 'microscópica': 7334, 'dominábamos': 7335, 'traspasado': 7336, 'perpetuas': 7337, 'clima': 7338, 'prestándome': 7339, 'ofvanför': 7340, 'pulverizada': 7341, 'flanco': 7342, 'cortina': 7343, 'tendida': 7344, 'envolvería': 7345, 'conozca': 7346, 'hastigt': 7347, 'hostigt': 7348, 'demora': 7349, 'circundar': 7350, 'estremeció': 7351, 'volaron': 7352, 'desmenuzados': 7353, 'impalpable': 7354, 'producto': 7355, 'meteoro': 7356, 'consideró': 7357, 'proseguimos': 7358, 'zigzag': 7359, 'contramarchas': 7360, 'sesgos': 7361, 'moría': 7362, 'rarificado': 7363, 'proyectando': 7364, 'dormida': 7365, 'penosa': 7366, 'esplendente': 7367, 'disfrutar': 7368, 'ubiqué': 7369, 'resaltar': 7370, 'obscurecerse': 7371, 'hubiérase': 7372, 'mapas': 7373, 'relieve': 7374, 'helbesmer': 7375, 'valles': 7376, 'cruzarse': 7377, 'transformaban': 7378, 'estanques': 7379, 'multiplicados': 7380, 'coronados': 7381, 'majestuosa': 7382, 'aborregadas': 7383, 'comenzaban': 7384, 'abismé': 7385, 'éxtasis': 7386, 'alucinador': 7387, 'sublimes': 7388, 'deslumbradas': 7389, 'explayaban': 7390, 'transparente': 7391, 'trasgos': 7392, 'silfos': 7393, 'embriagaba': 7394, 'voluptuosidades': 7395, 'sumergiría': 7396, 'vinieron': 7397, 'reunirse': 7398, 'trajeron': 7399, 'señaló': 7400, 'dista': 7401, '35': 7402, 'deshielos': 7403, 'osos': 7404, 'témpanos': 7405, 'decirnos': 7406, 'invertido': 7407, 'recipiente': 7408, 'llenase': 7409, 'truenos': 7410, 'embudo': 7411, 'trabuco': 7412, 'ensanchado': 7413, 'colmaba': 7414, '“introducirse': 7415, 'trabuco”': 7416, 'fuero': 7417, 'interno': 7418, 'cargado': 7419, 'dispararse': 7420, 'ocurrírsele': 7421, 'locos”': 7422, 'caravana': 7423, 'describía': 7424, 'elipses': 7425, 'prolongadas': 7426, 'alvéolos': 7427, 'determinaba': 7428, 'repercusiones': 7429, 'sonoridad': 7430, 'sondando': 7431, 'dudosos': 7432, 'necesitamos': 7433, 'atarnos': 7434, 'resbalaba': 7435, 'solidaridad': 7436, 'excluía': 7437, 'desconocía': 7438, 'realizó': 7439, 'exceptúa': 7440, 'rodó': 7441, 'sobresalía': 7442, 'hundía': 7443, 'arrojaba': 7444, 'jadeante': 7445, 'profiriendo': 7446, 'tomándole': 7447, 'estremecí': 7448, 'resbalado': 7449, 'simas': 7450, 'abiertas': 7451, 'pedestal': 7452, 'sustentar': 7453, 'estatua': 7454, 'acudí': 7455, 'movieron': 7456, 'puestos': 7457, 'participando': 7458, 'gastados': 7459, 'destructora': 7460, 'dudarás': 7461, 'consternado': 7462, 'bajaban': 7463, 'fiera': 7464, 'trampa': 7465, 'levantarme': 7466, 'nebuloso': 7467, 'vértice': 7468, 'rutas': 7469, 'explorada': 7470, 'reconocérsela': 7471, 'señalada': 7472, 'considerar': 7473, 'gnomon': 7474, 'anhelada': 7475, 'renuncio': 7476, 'impotente': 7477, 'proyectarse': 7478, 'inactividad': 7479, 'dirigidas': 7480, 'acrecentaba': 7481, 'ensordecedores': 7482, 'murmullos': 7483, 'contenerse': 7484, 'cachazudo': 7485, 'naufragar': 7486, 'alegrías': 7487, 'desesperantes': 7488, 'congojas': 7489, 'antepenúltimo': 7490, 'varió': 7491, 'derramó': 7492, 'llenas': 7493, 'montículo': 7494, 'aspereza': 7495, 'recibió': 7496, 'bienhechores': 7497, 'proyectó': 7498, 'arista': 7499, 'lamer': 7500, 'borde': 7501, 'forüt': 7502, 'osado': 7503, 'investigadora': 7504, 'decidirme': 7505, 'intentarla': 7506, 'aceptaba': 7507, 'desprecio': 7508, 'significase': 7509, 'abochornaba': 7510, 'recurrido': 7511, 'desplegué': 7512, 'envié': 7513, 'cariñoso': 7514, 'recliné': 7515, 'erizaron': 7516, 'desplazarse': 7517, 'subírseme': 7518, 'borrachera': 7519, 'embriague': 7520, 'retuvo': 7521, 'frelsers–kirk': 7522, 'permanecieron': 7523, 'rampas': 7524, 'sostenernos': 7525, 'desatarla': 7526, 'práctica': 7527, 'obviar': 7528, 'desenrolló': 7529, 'grueso': 7530, 'pulgar': 7531, 'arrolló': 7532, 'conservando': 7533, 'mitades': 7534, 'desligarse': 7535, 'recuperarla': 7536, 'halando': 7537, 'reanudaría': 7538, 'usque': 7539, 'ad': 7540, 'infinitum': 7541, 'ocupémonos': 7542, 'dividirla': 7543, 'amarraremos': 7544, 'refiero': 7545, 'comprendidos': 7546, 'ultima': 7547, 'categoría': 7548, 'encargarse': 7549, 'encargará': 7550, 'bajarlas': 7551, 'bajará': 7552, 'radicales': 7553, 'amarrado': 7554, 'zumbido': 7555, 'desplazamiento': 7556, 'ruego': 7557, 'digan': 7558, 'estremecerse': 7559, 'ató': 7560, 'oprimiendo': 7561, 'frenéticamente': 7562, 'faltase': 7563, 'milagros': 7564, 'equilibro': 7565, 'aferrarme': 7566, 'resbaladizos': 7567, 'oscilaba': 7568, 'gif': 7569, 'akt': 7570, 'adherida': 7571, 'tiró': 7572, 'extremos': 7573, 'elevó': 7574, 'arrastrando': 7575, 'cayeron': 7576, 'granizada': 7577, 'asomar': 7578, 'precipicio': 7579, 'entusiasta': 7580, 'preocupé': 7581, 'pliocenos': 7582, 'miocenos': 7583, 'eocenos': 7584, 'cretáceos': 7585, 'triásicos': 7586, 'pérmicos': 7587, 'silúricos': 7588, 'confirma': 7589, 'producido': 7590, 'inflamación': 7591, 'rechazo': 7592, 'entretenerme': 7593, 'interpretó': 7594, 'muestra': 7595, 'tendían': 7596, 'aproximarse': 7597, 'interrumpía': 7598, 'hundían': 7599, 'anotar': 7600, 'escrupulosamente': 7601, 'cambiábamos': 7602, 'repetido': 7603, 'cuartos': 7604, 'cambios': 7605, 'golpear': 7606, 'dirige': 7607, 'dormiremos': 7608, 'tendimos': 7609, 'tumbado': 7610, 'transformaba': 7611, 'despojada': 7612, 'centelleo': 7613, 'beta': 7614, 'osa': 7615, 'recogían': 7616, 'esparcían': 7617, 'permitirnos': 7618, 'apacible': 7619, 'carruajes': 7620, 'vendedores': 7621, 'vociferaciones': 7622, 'asustas': 7623, 'pulgada': 7624, 'finaliza': 7625, 'certísimo': 7626, 'mercurio': 7627, 'efectuaba': 7628, 'soportamos': 7629, 'calculada': 7630, 'descenderemos': 7631, 'habituarán': 7632, 'comprimida': 7633, 'faltarles': 7634, 'inútilmente': 7635, 'escudriñarlo': 7636, 'huppe': 7637, 'bulto': 7638, 'gato': 7639, 'trepó': 7640, 'regadas': 7641, 'tragos': 7642, 'sacó': 7643, 'bolsillo': 7644, 'cuaderno': 7645, 'anotó': 7646, 'datos': 7647, '°': 7648, 'h': 7649, 'p': 7650, '71': 7651, '6°': 7652, 'dato': 7653, 'refería': 7654, 'suministrado': 7655, 'sepultarnos': 7656, 'suspendido': 7657, 'aplicación': 7658, 'permitiría': 7659, 'creando': 7660, 'artificial': 7661, 'inflamables': 7662, 'empujar': 7663, 'ropas': 7664, 'tenebroso': 7665, 'jamás”': 7666, 'tapizando': 7667, 'reflejaba': 7668, 'centuplicándose': 7669, '45°': 7670, 'abolladuras': 7671, 'erosiones': 7672, 'descendiesen': 7673, 'cuidando': 7674, 'retenerlos': 7675, 'convertían': 7676, 'estalactitas': 7677, 'ampollas': 7678, 'ornados': 7679, 'límpidas': 7680, 'vidrio': 7681, 'arañas': 7682, 'encenderse': 7683, 'genios': 7684, 'iluminaban': 7685, 'dignamente': 7686, 'causan': 7687, 'lave': 7688, 'varían': 7689, 'degradaciones': 7690, 'debiera': 7691, 'resbalamiento': 7692, 'dejábamos': 7693, 'facilis': 7694, 'descensus': 7695, 'averni': 7696, 'consultaba': 7697, 'senda': 7698, 'desviaba': 7699, 'inflexibilidad': 7700, '10°': 7701, 'subida': 7702, 'inducía': 7703, 'desviación': 7704, 'colocaron': 7705, 'sentó': 7706, 'atribuir': 7707, 'incapacitaban': 7708, 'consecutivas': 7709, 'sonó': 7710, 'melodía': 7711, 'esparció': 7712, 'devoramos': 7713, 'inquietaba': 7714, 'previsiones': 7715, 'rellenar': 7716, 'sorprende': 7717, 'respondo': 7718, 'encontraremos': 7719, 'quisiéramos': 7720, 'surjan': 7721, 'prolongue': 7722, 'supones': 7723, '15°': 7724, 'supone': 7725, 'deducción': 7726, 'exactas': 7727, 'experimente': 7728, 'locales': 7729, 'yakoust': 7730, 'verifica': 7731, '36': 7732, 'depende': 7733, 'aceptemos': 7734, 'calculemos': 7735, 'trazando': 7736, 'libreta': 7737, 'bien…': 7738, 'mienten': 7739, 'alcanzadas': 7740, 'kitz–babl': 7741, 'tirol': 7742, 'wuttemherg': 7743, 'bohemia': 7744, '81°': 7745, 'continuamos': 7746, 'rampa': 7747, 'planos': 7748, 'inclinados': 7749, 'reemplazan': 7750, 'desembocaban': 7751, 'viésemos': 7752, 'designó': 7753, 'penetremos': 7754, 'vacilación': 7755, 'aconsejase': 7756, 'preferencia': 7757, 'confiarse': 7758, 'laterales': 7759, 'gótica': 7760, 'artistas': 7761, 'arquitectura': 7762, 'religiosa': 7763, 'generatriz': 7764, 'ojiva': 7765, 'rebajados': 7766, 'romano': 7767, 'gruesos': 7768, 'pilares': 7769, 'embutidos': 7770, 'sostenían': 7771, 'cedía': 7772, 'subestructuras': 7773, 'bajas': 7774, 'castores': 7775, 'arrastrarnos': 7776, 'pasadizos': 7777, 'soportable': 7778, 'estrellarían': 7779, 'acumulación': 7780, 'recalentados': 7781, 'tal”': 7782, 'asaltado': 7783, 'capricho': 7784, 'senil': 7785, 'dormimos': 7786, 'entregarnos': 7787, 'envolvíamos': 7788, 'visitas': 7789, 'importunas': 7790, 'engolfarse': 7791, 'velar': 7792, 'precaverse': 7793, 'fieras': 7794, 'razas': 7795, 'dañinas': 7796, 'despertamos': 7797, 'descansados': 7798, 'ágiles': 7799, 'patente': 7800, 'manifestación': 7801, 'denuedo': 7802, 'distanciarme': 7803, 'confirmada': 7804, 'cambiaron': 7805, 'debilitación': 7806, 'sufrió': 7807, 'componía': 7808, 'sedimentos': 7809, 'volvemos': 7810, 'vecinos': 7811, 'tomasen': 7812, 'hannover': 7813, 'variada': 7814, 'pizarrosos': 7815, 'véalo': 7816, 'examínelo': 7817, 'obsérvelo': 7818, 'obligué': 7819, 'escapase': 7820, 'vanidad': 7821, 'conducir': 7822, 'modificación': 7823, 'halle': 7824, 'rendirse': 7825, 'busquemos': 7826, 'pruebas': 7827, 'irrefutables': 7828, 'sucediese': 7829, 'encerraban': 7830, 'pisaron': 7831, 'deshojes': 7832, 'conchas': 7833, 'invariable': 7834, 'terquedad': 7835, 'reprimirme': 7836, 'conservada': 7837, 'cucaracha': 7838, 'mostrándosela': 7839, 'crustáceo': 7840, 'extinguido': 7841, 'deduce': 7842, 'convenceré': 7843, 'aprobaría': 7844, 'economizar': 7845, 'interminables': 7846, 'contagiado': 7847, 'ascendía': 7848, 'tranquilizar': 7849, 'modificaba': 7850, 'afirmaba': 7851, 'arrancaba': 7852, 'rojos': 7853, 'zanja': 7854, 'condado': 7855, 'devon': 7856, 'recubrían': 7857, 'ágata': 7858, 'surcados': 7859, 'caprichosamente': 7860, 'encarnado': 7861, 'rojizas': 7862, 'jaspes': 7863, 'revela': 7864, 'progresado': 7865, 'rudimentarios': 7866, 'sauropterigios': 7867, 'paleontólogos': 7868, 'habitados': 7869, 'depositaron': 7870, 'miles': 7871, 'remontábamos': 7872, 'peldaño': 7873, 'ocupan': 7874, 'criaturas': 7875, 'humanas': 7876, 'mientes': 7877, 'abriera': 7878, 'impidiese': 7879, 'realizara': 7880, 'tormentos': 7881, 'reverberación': 7882, 'mármol': 7883, 'esquisto': 7884, 'cedían': 7885, 'mate': 7886, 'apoyé': 7887, 'adquirí': 7888, 'convencimiento': 7889, 'yacimiento': 7890, 'perforada': 7891, 'probé': 7892, 'bocado': 7893, 'bebí': 7894, 'cubrieron': 7895, 'hallaron': 7896, 'pegar': 7897, 'conté': 7898, 'apuntaladas': 7899, 'derrumbaban': 7900, 'dislocado': 7901, 'cediendo': 7902, 'fases': 7903, 'compactas': 7904, 'arcilla': 7905, 'precedió': 7906, 'secundario': 7907, 'cubrió': 7908, 'tropical': 7909, 'persistente': 7910, 'privándole': 7911, 'provenían': 7912, 'tórrido': 7913, 'ecuador': 7914, 'privadas': 7915, 'exhalaban': 7916, 'perfumes': 7917, 'absorbían': 7918, 'herbáceas': 7919, 'céspedes': 7920, 'siguarias': 7921, 'asterofilitas': 7922, 'familias': 7923, 'contaban': 7924, 'exuberante': 7925, 'obedecía': 7926, 'arrastradas': 7927, 'acumulaciones': 7928, 'transformaron': 7929, 'fermentación': 7930, 'mineralizaron': 7931, 'consumo': 7932, 'pueblos': 7933, 'logrará': 7934, 'agotar': 7935, 'asaltaban': 7936, 'hulleras': 7937, 'descubiertas': 7938, 'distantes': 7939, 'exigiría': 7940, 'repartida': 7941, 'largura': 7942, 'notaba': 7943, 'protocarburo': 7944, 'hidrógeno': 7945, 'designan': 7946, 'grisú': 7947, 'catástrofes': 7948, 'alumbrando': 7949, 'explorado': 7950, 'suprimiendo': 7951, 'radicalmente': 7952, 'esforzaba': 7953, 'profundas': 7954, 'reinaban': 7955, 'tropezamos': 7956, 'descansemos': 7957, 'transcurran': 7958, 'bifurca': 7959, 'gota': 7960, 'dirigiéndome': 7961, 'severa': 7962, 'contestarle': 7963, 'madrugada': 7964, 'detendré': 7965, 'detallar': 7966, 'soportó': 7967, 'pacífica': 7968, 'confiese': 7969, 'quejándome': 7970, 'desesperándome': 7971, 'previsto': 7972, 'finalizar': 7973, 'infernal': 7974, 'gaznate': 7975, 'sofocante': 7976, 'paralizaba': 7977, 'estuve': 7978, 'animaban': 7979, 'defenderse': 7980, 'extremado': 7981, 'nacidas': 7982, 'privación': 7983, 'arrastrándonos': 7984, 'muertos': 7985, 'intersección': 7986, 'recostados': 7987, 'trataron': 7988, 'masticar': 7989, 'tumefactos': 7990, 'fingida': 7991, 'piedad': 7992, 'ternezas': 7993, 'temblorosas': 7994, 'humedecieron': 7995, 'colgada': 7996, 'entendido': 7997, 'estúpida': 7998, 'comprenderle': 7999, 'alzando': 8000, 'vertió': 8001, 'gozo': 8002, 'exquisita': 8003, 'humedeció': 8004, 'ardorosas': 8005, 'bastó': 8006, 'devolverme': 8007, 'cruzadas': 8008, 'enteras': 8009, 'irresistibles': 8010, 'acometían': 8011, 'bebérmela': 8012, 'enternecido': 8013, 'llenaron': 8014, 'desplomarías': 8015, 'reanimarte': 8016, 'aplacase': 8017, 'distendieron': 8018, 'contraídos': 8019, 'cedió': 8020, 'permitiéndome': 8021, 'podernos': 8022, 'evitaba': 8023, 'huían': 8024, 'pronunciando': 8025, 'entendérmelas': 8026, 'anunciarme': 8027, 'llevarla': 8028, 'acompañe': 8029, 'iniciado': 8030, 'enternecida': 8031, 'adquirió': 8032, 'incontrastable': 8033, 'incitaba': 8034, 'dándose': 8035, 'indicaban': 8036, 'proponía': 8037, 'interesarle': 8038, 'dependía': 8039, 'ordenaba': 8040, 'quedarse': 8041, 'entenderme': 8042, 'decisivos': 8043, 'triunfado': 8044, 'obstinado': 8045, 'anhelante': 8046, 'master': 8047, 'llevarle': 8048, 'obligarle': 8049, 'pusiera': 8050, 'pugilato': 8051, 'conseguirías': 8052, 'crucé': 8053, 'opone': 8054, 'realización': 8055, 'molécula': 8056, 'sacudí': 8057, 'esforzando': 8058, 'yacías': 8059, 'privado': 8060, 'hunde': 8061, 'conducirá': 8062, 'exige': 8063, 'alía': 8064, 'lógica': 8065, 'apoyar': 8066, 'pidió': 8067, 'tripulaciones': 8068, 'esforzados': 8069, 'enfermos': 8070, 'consternados': 8071, 'accedieron': 8072, 'insigne': 8073, 'genovés': 8074, 'pido': 8075, 'juro': 8076, 'hágase': 8077, 'recompense': 8078, 'probar': 8079, 'scien': 8080, 'paseando': 8081, 'disminución': 8082, 'dislocaciones': 8083, 'rupturas': 8084, 'depresiones': 8085, 'derramaba': 8086, 'mostraban': 8087, 'considera': 8088, 'reposan': 8089, 'inquebrantable': 8090, 'llamamos': 8091, 'mineralogistas': 8092, 'ininteligente': 8093, 'trasladar': 8094, 'estudiarlo': 8095, 'palparlo': 8096, 'bellos': 8097, 'serpenteaban': 8098, 'filones': 8099, 'cobre': 8100, 'manganeso': 8101, 'sepultadas': 8102, 'codicia': 8103, 'disfrutará': 8104, 'cataclismos': 8105, 'enterrarlas': 8106, 'arrancarlas': 8107, 'estratiforme': 8108, 'paralelismo': 8109, 'láminas': 8110, 'visibilidad': 8111, 'realzaban': 8112, 'centelleos': 8113, 'rocosa': 8114, 'cruzaba': 8115, 'viajábamos': 8116, 'diamante': 8117, 'hueco': 8118, 'quebraban': 8119, 'adquirieron': 8120, 'mezcló': 8121, 'íntimamente': 8122, 'feldespato': 8123, 'excelencia': 8124, 'soporta': 8125, 'quebrarse': 8126, 'horriblemente': 8127, 'quererse': 8128, 'aguzaba': 8129, 'sostenerme': 8130, 'sobreponía': 8131, 'tocaba': 8132, 'señalara': 8133, 'abandonaron': 8134, 'fatídicas': 8135, 'hirió': 8136, 'conciliar': 8137, 'atormentaba': 8138, 'resonaban': 8139, 'gravitaba': 8140, 'aplastaba': 8141, 'agotando': 8142, 'librarme': 8143, 'delgada': 8144, 'diría': 8145, 'encaminaba': 8146, 'trataría': 8147, 'abandonarnos': 8148, 'pierna': 8149, 'suelta': 8150, 'gritar': 8151, 'apagó': 8152, 'acallaron': 8153, 'gritarlas': 8154, 'avergoncé': 8155, 'sospechas': 8156, 'sospechosa': 8157, 'fuga': 8158, 'internaba': 8159, 'abrigar': 8160, 'criminales': 8161, 'calmó': 8162, 'arrancar': 8163, 'pacifico': 8164, 'delirante': 8165, 'impulsar': 8166, 'absurdas': 8167, 'reflejarse': 8168, 'preguntando': 8169, 'vatten': 8170, 'políglotas': 8171, 'entendí': 8172, 'pronunciada': 8173, 'palmoteando': 8174, 'hvar': 8175, 'nedat': 8176, 'breves': 8177, 'internándonos': 8178, 'insólito': 8179, 'transmitía': 8180, 'tropezábamos': 8181, 'anunciado': 8182, 'avivarse': 8183, 'explicó': 8184, 'escuchábamos': 8185, 'oyes': 8186, 'circula': 8187, 'apresuramos': 8188, 'hostigados': 8189, 'ejerció': 8190, 'temperante': 8191, 'filtración': 8192, 'evidenciado': 8193, 'guiado': 8194, 'montañeses': 8195, 'higroscopios': 8196, 'bebido': 8197, 'proseguíamos': 8198, 'retrocedimos': 8199, 'extrema': 8200, 'separaba': 8201, 'preguntarme': 8202, 'procurarse': 8203, 'momentáneamente': 8204, 'quitarle': 8205, 'oyera': 8206, 'lateral': 8207, 'osaba': 8208, 'comprenderlo': 8209, 'aplaudirle': 8210, 'animarle': 8211, 'horadar': 8212, 'expediente': 8213, 'atacar': 8214, 'aplastase': 8215, 'quiméricos': 8216, 'detenernos': 8217, 'aplacarla': 8218, 'acometió': 8219, 'impulsadas': 8220, 'acelerado': 8221, 'desgastó': 8222, 'repetidos': 8223, 'bienhechora': 8224, 'humedecía': 8225, 'retorcía': 8226, 'extremas': 8227, 'empuñar': 8228, 'surgió': 8229, 'sumergí': 8230, 'lamento': 8231, 'hirviendo': 8232, '100°': 8233, 'enfriará': 8234, 'gustar': 8235, 'sorbos': 8236, 'voluptuosidad': 8237, 'caliente': 8238, 'devolvía': 8239, 'bebía': 8240, 'saborearla': 8241, 'ferruginosa': 8242, 'mineralización': 8243, 'reportará': 8244, 'frutos': 8245, 'spa': 8246, 'toeplitz': 8247, 'extraída': 8248, 'propongo': 8249, 'demos': 8250, 'envaneció': 8251, 'recostó': 8252, 'convendría': 8253, 'inagotable': 8254, 'llenemos': 8255, 'tratemos': 8256, 'consejo': 8257, 'estopa': 8258, 'obstruir': 8259, 'reiterados': 8260, '32': 8261, 'obstinamos': 8262, 'apertura': 8263, 'convincente': 8264, 'seguros': 8265, 'servirá': 8266, 'atemperará': 8267, 'obtengan': 8268, 'lisonjero': 8269, 'sonriente': 8270, 'empecemos': 8271, 'tomarnos': 8272, 'advertírmelo': 8273, 'sumirnos': 8274, 'acordábamos': 8275, 'maravillaba': 8276, 'explicármelo': 8277, 'bebimos': 8278, 'ferrugínosa': 8279, 'regocijado': 8280, 'airoso': 8281, 'bellas': 8282, 'brotaren': 8283, 'entusiastas': 8284, 'caprichosas': 8285, 'inesperados': 8286, 'simulando': 8287, 'confusión': 8288, 'definitiva': 8289, 'poderse': 8290, 'celeridad': 8291, 'familiar': 8292, 'guiase': 8293, 'acompañaban': 8294, 'mitológico': 8295, 'renegaba': 8296, 'conociendo': 8297, 'hipotenusa': 8298, 'dueños': 8299, 'aproximásemos': 8300, 'quejarse': 8301, 'aceleraba': 8302, 'abstenerse': 8303, 'palmotear': 8304, 'llevará': 8305, 'prevenir': 8306, 'calificar': 8307, 'familiarizado': 8308, 'angosta': 8309, 'practicada': 8310, 'padrastros': 8311, 'armadura': 8312, 'rastro': 8313, 'caracol': 8314, 'devolver': 8315, 'elasticidad': 8316, 'corvas': 8317, 'sentábamos': 8318, 'rocoso': 8319, 'conversábamos': 8320, 'apagábamos': 8321, 'cascada': 8322, 'detrimento': 8323, 'creces': 8324, 'presentasen': 8325, 'pronunciados': 8326, 'recobraría': 8327, 'recordábame': 8328, 'dignísimo': 8329, 'impetuosidades': 8330, 'cóleras': 8331, 'penetrando': 8332, 'acentuada': 8333, 'monótono': 8334, 'distinguirse': 8335, 'variedad': 8336, 'fatigados': 8337, 'estrenar': 8338, 'anotaba': 8339, 'publicado': 8340, 'asalta': 8341, 'comprobarlo': 8342, 'caminadas': 8343, 'sitúan': 8344, 'newcastle': 8345, 'avanzan': 8346, \"agua'\": 8347, 'pasearme': 8348, 'gravitasen': 8349, 'habituarme': 8350, 'sinuoso': 8351, 'recto': 8352, 'hundiéndose': 8353, 'trogloditas': 8354, 'superfluidades': 8355, 'consideran': 8356, 'imprescindible': 8357, 'burlábamos': 8358, 'pavimento': 8359, 'beberla': 8360, 'consagrar': 8361, 'anotaciones': 8362, 'trazar': 8363, 'señalará': 8364, 'seré': 8365, 'curiosísimo': 8366, 'anotado': 8367, 'indica': 8368, 'atento': 8369, 'desarrollando': 8370, 'vengan': 8371, 'quebrantarnos': 8372, 'precedentes': 8373, 'estimo': 8374, 'ése': 8375, 'limite': 8376, 'asignado': 8377, 'rige': 8378, '500°': 8379, 'acontece': 8380, 'desmentir': 8381, 'llamarme': 8382, 'veintisiete': 8383, '474': 8384, 'establecido': 8385, 'proporcionalmente': 8386, 'equivocaba': 8387, 'defensor': 8388, 'sintiese': 8389, 'recubierta': 8390, 'forro': 8391, 'refractario': 8392, 'impedía': 8393, 'propagase': 8394, 'limité': 8395, 'dudo': 8396, 'deduzca': 8397, 'rigurosamente': 8398, 'consecuencias': 8399, '583': 8400, 'pongamos': 8401, '600': 8402, 'diagonal': 8403, 'centésima': 8404, 'emplearemos': 8405, 'lograrlo': 8406, 'descansan': 8407, 'coronó': 8408, 'premie': 8409, 'callarte': 8410, 'desbarrar': 8411, 'mostrarse': 8412, 'consulta': 8413, 'experimentamos': 8414, 'molestias': 8415, 'excepción': 8416, 'harás': 8417, 'contrariar': 8418, 'experimenta': 8419, 'sentirse': 8420, 'propagan': 8421, 'seguirá': 8422, 'perecerá': 8423, 'bajemos': 8424, 'setecientas': 8425, 'bajaremos': 8426, 'llenándonos': 8427, 'solidificarse': 8428, 'barato': 8429, 'resistido': 8430, 'valer': 8431, 'argumento': 8432, 'colación': 8433, 'eterno': 8434, 'responderse': 8435, 'habiéndose': 8436, 'inventado': 8437, 'conversaciones': 8438, 'envidiando': 8439, 'meterse': 8440, 'existiendo': 8441, 'aumentaban': 8442, 'alcanzaríamos': 8443, 'afortunado': 8444, 'habituando': 8445, 'raciocinar': 8446, 'aterrador': 8447, 'internaron': 8448, 'bajadas': 8449, 'maravillosa': 8450, 'utilidad': 8451, 'sacrificaba': 8452, 'franqueamos': 8453, 'contagiaba': 8454, 'facultad': 8455, 'cuántos': 8456, 'presos': 8457, 'calabozos': 8458, 'imbéciles': 8459, 'ejercitar': 8460, 'facultades': 8461, 'mentales': 8462, 'semanas': 8463, 'sucesivos': 8464, 'descensos': 8465, 'continentes': 8466, 'ruhmhorff': 8467, 'entretenía': 8468, 'caminé': 8469, 'llamé': 8470, 'respondieron': 8471, 'cavernosos': 8472, 'despertaba': 8473, 'llamaban': 8474, 'atreverme': 8475, 'siguen': 8476, 'encontrarlos': 8477, 'retrocediendo': 8478, 'viéndome': 8479, 'apresurando': 8480, 'reuniré': 8481, 'estuviera': 8482, 'sencillas': 8483, 'asaltó': 8484, 'seguíame': 8485, 'precediendo': 8486, 'asegurarse': 8487, 'debí': 8488, 'separándome': 8489, 'guíe': 8490, 'remonte': 8491, 'infundió': 8492, 'bríos': 8493, 'pérdida': 8494, 'bendije': 8495, 'impidiendo': 8496, 'taponase': 8497, 'bienhechor': 8498, 'guiarme': 8499, 'ablución': 8500, 'estupor': 8501, 'áspero': 8502, 'pintar': 8503, 'enterrado': 8504, 'perspectiva': 8505, 'calenturientas': 8506, 'riachuelo': 8507, 'llegase': 8508, 'obedeciendo': 8509, 'mandatos': 8510, 'proseguido': 8511, 'unión': 8512, 'internado': 8513, 'irresoluble': 8514, 'resumía': 8515, 'inmensurable': 8516, 'gravitaban': 8517, 'aplastado': 8518, 'guiar': 8519, 'conseguirlo': 8520, 'desesperar': 8521, 'señalarme': 8522, 'desesperado': 8523, 'reproche': 8524, 'padecer': 8525, 'buscándome': 8526, 'infancia': 8527, 'conocí': 8528, 'recurrí': 8529, 'oración': 8530, 'escuchado': 8531, 'imploré': 8532, 'fervor': 8533, 'invocación': 8534, 'permanecer': 8535, 'funesta': 8536, 'tropezase': 8537, 'apremiante': 8538, 'apoyándome': 8539, 'llamó': 8540, 'postrer': 8541, 'evasión': 8542, 'muertes': 8543, 'suscitaría': 8544, 'enronquecidos': 8545, 'jadeaba': 8546, 'apoderarse': 8547, 'estropeado': 8548, 'repararla': 8549, 'palidecía': 8550, 'faltarme': 8551, 'procesión': 8552, 'fatídica': 8553, 'pestañear': 8554, 'fugitiva': 8555, 'extinguir': 8556, 'circundaba': 8557, 'lució': 8558, 'resplandor': 8559, 'aspiré': 8560, 'reconcentré': 8561, 'gozar': 8562, 'difunde': 8563, 'quede': 8564, 'percibirla': 8565, 'retina': 8566, 'ciego': 8567, 'acepción': 8568, 'tientas': 8569, 'traspiés': 8570, 'dolorosos': 8571, 'azar': 8572, 'intrincado': 8573, 'llamando': 8574, 'aullando': 8575, 'estallase': 8576, 'desplomé': 8577, 'inundado': 8578, 'amargo': 8579, 'ánimos': 8580, 'rodé': 8581, 'aniquilamiento': 8582, 'retumbar': 8583, 'sonoras': 8584, 'verificándose': 8585, 'sustentáculo': 8586, 'deseoso': 8587, 'cerciorarme': 8588, 'latidos': 8589, 'vagas': 8590, 'estremecer': 8591, 'alucinación”': 8592, 'hablaban': 8593, 'devueltas': 8594, 'gritado': 8595, 'avancé': 8596, 'inciertas': 8597, 'baja': 8598, 'cuchicheadas': 8599, 'germinado': 8600, 'debilitada': 8601, 'matemático': 8602, 'fragor': 8603, 'aletargamiento': 8604, 'granítica': 8605, 'dejaría': 8606, 'exista': 8607, 'transmitiría': 8608, 'alejaban': 8609, 'acústico': 8610, 'quedaría': 8611, 'destruido': 8612, 'aproximéme': 8613, 'propaga': 8614, 'llegaron': 8615, 'apagada': 8616, 'ármate': 8617, 'espérese': 8618, 'hablarme': 8619, 'llorado': 8620, 'encontrarías': 8621, 'remontado': 8622, 'disparando': 8623, 'estrecharse': 8624, 'desesperes': 8625, 'habernos': 8626, 'tómelo': 8627, 'repetiré': 8628, 'anota': 8629, 'oiga': 8630, 'transcurra': 8631, '020': 8632, 'resultan': 8633, 'octavo': 8634, 'conducirte': 8635, 'convergen': 8636, 'levántate': 8637, 'emprende': 8638, 'arrástrate': 8639, 'deslízate': 8640, 'esperan': 8641, 'recibirte': 8642, 'parto': 8643, 'abandone': 8644, 'dejarán': 8645, 'sostenida': 8646, 'inmensidades': 8647, 'explicaba': 8648, 'solas': 8649, 'ejemplos': 8650, 'intermedios': 8651, 'citar': 8652, 'pablo': 8653, 'londres': 8654, 'latomías': 8655, 'siracusa': 8656, 'denominada': 8657, 'dionisio': 8658, 'idéntico': 8659, 'lógicamente': 8660, 'incorporé': 8661, 'comencé': 8662, 'creció': 8663, 'simulaba': 8664, 'carecía': 8665, 'rebotando': 8666, 'asperezas': 8667, 'chocó': 8668, 'aguda': 8669, 'velaba': 8670, 'espiando': 8671, 'abrazándome': 8672, 'conmovió': 8673, 'impresionaron': 8674, 'asiduos': 8675, 'cuidados': 8676, 'prodigarme': 8677, 'trances': 8678, 'expansiones': 8679, 'atreveré': 8680, 'delataron': 8681, 'corran': 8682, 'duerme': 8683, 'sabrás': 8684, 'interrogues': 8685, 'adormecí': 8686, 'magníficas': 8687, 'estalagmitas': 8688, 'recubierto': 8689, 'finísima': 8690, 'inexplicables': 8691, 'fulgores': 8692, 'percibía': 8693, 'preguntaba': 8694, 'soñaría': 8695, 'percibiría': 8696, 'luz”': 8697, 'escucho': 8698, 'alegremente': 8699, 'apostaría': 8700, 'incorporándome': 8701, 'velado': 8702, 'progresar': 8703, 'repuesto': 8704, 'sabré': 8705, 'almorzarás': 8706, 'frotado': 8707, 'heridas': 8708, 'ungüento': 8709, 'cicatrizado': 8710, 'presentando': 8711, 'aplastarme': 8712, 'vehículo': 8713, 'exánime': 8714, 'matado': 8715, 'separemos': 8716, 'volvernos': 8717, 'separásemos': 8718, 'contusiones': 8719, 'funcione': 8720, 'oigo': 8721, 'revienta': 8722, 'salgamos': 8723, 'perjudicarte': 8724, 'recaída': 8725, 'retrasarnos': 8726, 'embarcaremos': 8727, 'embarcarnos': 8728, 'exacerbó': 8729, 'retenerme': 8730, 'convenció': 8731, 'perjudicial': 8732, 'envolví': 8733, 'acostumbrados': 8734, 'enceguecieron': 8735, 'abrirlos': 8736, 'maravillado': 8737, 'vanaglorio': 8738, 'navegante': 8739, 'disputará': 8740, 'visible': 8741, 'escabrosa': 8742, 'reventaban': 8743, 'fina': 8744, 'dorada': 8745, 'sembrada': 8746, 'caparazones': 8747, 'rompían': 8748, 'liviana': 8749, 'salpicaba': 8750, 'ensanchándose': 8751, 'tremenda': 8752, 'cortando': 8753, 'aristas': 8754, 'cabos': 8755, 'promontorios': 8756, 'carcomían': 8757, 'perfilaba': 8758, 'contorno': 8759, 'espantosamente': 8760, 'pasearse': 8761, 'iluminaba': 8762, 'brillantes': 8763, 'espléndida': 8764, 'iluminador': 8765, 'blancura': 8766, 'escasa': 8767, 'acusaban': 8768, 'aurora': 8769, 'cambiaban': 8770, 'continuamente': 8771, 'condensaciones': 8772, 'deberían': 8773, 'determinados': 8774, 'torrenciales': 8775, 'sorprendentes': 8776, 'juegos': 8777, 'delineaban': 8778, 'separadas': 8779, 'soberanamente': 8780, 'melancólico': 8781, 'tachonado': 8782, 'nubarrones': 8783, 'evolución': 8784, 'ambicioso': 8785, 'satélites': 8786, 'hueca': 8787, 'astros': 8788, 'proserpina': 8789, 'describían': 8790, 'aprisionados': 8791, 'saberse': 8792, 'tardaba': 8793, 'indecisa': 8794, 'estimada': 8795, 'altitud': 8796, 'debida': 8797, 'vocablos': 8798, 'aventuran': 8799, 'geológico': 8800, 'producirla': 8801, 'relatos': 8802, 'célebres': 8803, 'guachara': 8804, 'colombia': 8805, 'visitada': 8806, 'revelado': 8807, 'verosímil': 8808, 'extendiese': 8809, 'mammouth': 8810, 'kentucky': 8811, 'proporciones': 8812, 'recorrieron': 8813, 'cavidades': 8814, 'comparadas': 8815, 'admiraban': 8816, 'irradiaciones': 8817, 'urano': 8818, 'terrenal': 8819, 'requerían': 8820, 'muda': 8821, 'exenta': 8822, 'combatir': 8823, 'enfermedad': 8824, 'terapéutica': 8825, 'viveza': 8826, 'denso': 8827, 'reanimaba': 8828, 'suministrando': 8829, 'oxígeno': 8830, 'encarcelamiento': 8831, 'aspirar': 8832, 'cargada': 8833, 'emanaciones': 8834, 'arrepentirme': 8835, 'tómate': 8836, 'sigamos': 8837, 'acepté': 8838, 'costear': 8839, 'abruptos': 8840, 'aglomeración': 8841, 'titánica': 8842, 'prodigioso': 8843, 'deslizaban': 8844, 'ligeros': 8845, 'marcaban': 8846, 'silenciosos': 8847, 'depósito': 8848, 'agradablemente': 8849, 'reconocía': 8850, 'solicitó': 8851, 'presentóse': 8852, 'frondosa': 8853, 'medianas': 8854, 'afectaban': 8855, 'quitasoles': 8856, 'limpios': 8857, 'geométricos': 8858, 'permanecían': 8859, 'cedros': 8860, 'petrificados': 8861, 'aceleramos': 8862, 'acertaba': 8863, 'singulares': 8864, 'asignarles': 8865, 'lacustres': 8866, 'cobijamos': 8867, 'vaciadas': 8868, 'molde': 8869, 'notabilísimo': 8870, 'imagínese': 8871, 'ávidas': 8872, 'lycoperdon': 8873, 'giganteum': 8874, 'bulliard': 8875, 'aquéllos': 8876, 'copa': 8877, 'cúpulas': 8878, 'yuxtapuestas': 8879, 'redondos': 8880, 'techos': 8881, 'africana': 8882, 'mortal': 8883, 'cavernosas': 8884, 'erramos': 8885, 'comarca': 8886, 'elevábanse': 8887, 'reconocerles': 8888, 'dotados': 8889, 'sigilarias': 8890, 'lepidodendrones': 8891, 'tallo': 8892, 'terminaban': 8893, 'erizados': 8894, 'monstruosas': 8895, 'grasientas': 8896, 'adornan': 8897, 'jardines': 8898, 'convertidas': 8899, 'asómbrate': 8900, 'botánico': 8901, 'asistido': 8902, 'sagacidad': 8903, 'reconstruido': 8904, 'pisan': 8905, 'apresuré': 8906, 'seculares': 8907, 'indestructible': 8908, 'fosfato': 8909, 'cal': 8910, 'molares': 8911, 'dineterio': 8912, 'fémur': 8913, 'pertenecen': 8914, 'espere': 8915, 'enteros': 8916, 'existió': 8917, 'secundarios': 8918, 'aluviones': 8919, 'reemplazadas': 8920, 'geológicamente': 8921, 'sometida': 8922, 'alternativos': 8923, 'probable': 8924, 'produjesen': 8925, 'abiertos': 8926, 'anden': 8927, 'errantes': 8928, 'umbrosas': 8929, 'escudriñé': 8930, 'pavor': 8931, 'abarcaba': 8932, 'escotadura': 8933, 'piramidales': 8934, 'tranquilas': 8935, 'asilo': 8936, 'bergantín': 8937, 'goletas': 8938, 'presenciar': 8939, 'vivientes': 8940, 'recalmones': 8941, 'reina': 8942, 'procuraba': 8943, 'apartadas': 8944, 'desgarrar': 8945, 'tropel': 8946, 'opuestas': 8947, 'dudaba': 8948, 'baño': 8949, 'altamente': 8950, 'beneficioso': 8951, 'cocinando': 8952, 'variación': 8953, 'ordinarias': 8954, 'comidas': 8955, 'tazas': 8956, 'café': 8957, 'delicioso': 8958, 'paladar': 8959, 'debernos': 8960, 'desperdiciar': 8961, 'sometidos': 8962, 'gravitación': 8963, 'universal': 8964, 'substraerse': 8965, 'pisábamos': 8966, 'certeza': 8967, 'existiera': 8968, 'flujos': 8969, 'reflujos': 8970, 'justificada': 8971, 'inhabitados': 8972, 'improvisar': 8973, 'aparejos': 8974, 'anzuelos': 8975, 'obtienen': 8976, 'sublunares': 8977, 'ensayaremos': 8978, 'secretos': 8979, 'contestar': 8980, 'trescientas': 8981, 'inclinarse': 8982, 'hemisferio': 8983, 'magnética': 8984, 'llegásemos': 8985, '70': 8986, 'jacobo': 8987, 'ross': 8988, 'magnético': 8989, 'sospechado': 8990, 'conducen': 8991, 'montañosa': 8992, 'grampianos': 8993, 'arquitecto': 8994, 'universo': 8995, 'materiales': 8996, 'puentes': 8997, 'catedrales': 8998, 'nave': 8999, 'caérseme': 9000, 'disparate': 9001, 'imagines': 9002, 'propiamente': 9003, 'rodeados': 9004, 'circunscrito': 9005, 'sospechando': 9006, 'inexacto': 9007, 'haremos': 9008, 'busqué': 9009, 'barco': 9010, 'transportarnos': 9011, 'tomaremos': 9012, 'escuchases': 9013, 'oirías': 9014, 'martillazos': 9015, 'demostrarían': 9016, 'construyendo': 9017, 'hallábame': 9018, 'contemplé': 9019, 'curvas': 9020, 'ligaduras': 9021, 'cubrían': 9022, 'flota': 9023, 'mineralizadas': 9024, 'deberán': 9025, 'maderas': 9026, 'convierten': 9027, 'verdaderas': 9028, 'fosilización': 9029, 'arrojó': 9030, 'mecido': 9031, 'habilidad': 9032, 'amarradas': 9033, 'resistentes': 9034, 'lanzada': 9035, '13': 9036, 'tratábamos': 9037, 'inaugurar': 9038, 'palos': 9039, 'jimelgados': 9040, 'verga': 9041, 'percha': 9042, 'escaseaban': 9043, 'solidez': 9044, 'acomodados': 9045, 'largué': 9046, 'amarra': 9047, 'sujetaba': 9048, 'orientamos': 9049, 'alejamos': 9050, 'asignaba': 9051, 'geográfica': 9052, 'proponer': 9053, 'vaya': 9054, 'vincularse': 9055, 'amada': 9056, 'impulsiva': 9057, 'obraban': 9058, 'potente': 9059, 'avanzaremos': 9060, 'delantera': 9061, 'esfumaba': 9062, 'paseaban': 9063, 'argentados': 9064, 'acá': 9065, 'brotar': 9066, 'desapareciendo': 9067, 'referencia': 9068, 'estela': 9069, 'espumosa': 9070, 'inmovilidad': 9071, 'érame': 9072, 'vegetativo': 9073, '12': 9074, 'reproducen': 9075, 'bancos': 9076, 'prolongaban': 9077, 'entreteníame': 9078, 'cintas': 9079, 'cansaba': 9080, 'presentar': 9081, 'duración': 9082, 'indefinida': 9083, 'tendí': 9084, 'dormirme': 9085, 'arrullado': 9086, 'impelida': 9087, 'habíame': 9088, 'confiado': 9089, 'consignando': 9090, 'limitaré': 9091, 'reproducir': 9092, 'cotidianas': 9093, 'dictadas': 9094, 'resulte': 9095, 'horizontes': 9096, 'varía': 9097, 'bañadas': 9098, 'fundida': 9099, '32°': 9100, 'centígrados': 9101, 'estarán': 9102, 'cobra': 9103, 'pugna': 9104, 'pequeñito': 9105, 'chata': 9106, 'redondeada': 9107, 'placas': 9108, 'óseas': 9109, 'pectorales': 9110, 'desarrolladas': 9111, 'ajústanse': 9112, 'desprovisto': 9113, 'clasificado': 9114, 'bastantes': 9115, 'esenciales': 9116, 'equivoca': 9117, 'reanudando': 9118, 'dicha': 9119, 'cefalospidos': 9120, 'jurarlo': 9121, 'ofrecen': 9122, 'privativa': 9123, 'abundarla': 9124, 'cogemos': 9125, 'diptéridos': 9126, 'renovó': 9127, 'ventajosamente': 9128, 'encontremos': 9129, 'fragmento': 9130, 'cartílago': 9131, 'próximas': 9132, 'batirían': 9133, 'reconstruidas': 9134, 'proporcionarían': 9135, 'deshabitados': 9136, 'arrastra': 9137, 'quersitos': 9138, 'tortugas': 9139, 'semejan': 9140, 'transitar': 9141, 'leptoterio': 9142, 'brasil': 9143, 'mericoterio': 9144, 'paquidermo': 9145, 'lofiodón': 9146, 'tapir': 9147, 'disputar': 9148, 'anoploterio': 9149, 'rinoceronte': 9150, 'hipopótamo': 9151, 'camello': 9152, 'creador': 9153, 'acabar': 9154, 'reunido': 9155, 'trompa': 9156, 'tritura': 9157, 'escarba': 9158, 'sonoros': 9159, 'granitos': 9160, 'encarama': 9161, 'empinadas': 9162, 'aladas': 9163, 'murciélago': 9164, 'comprimido': 9165, 'potentes': 9166, 'casoar': 9167, 'avestruz': 9168, 'despliegan': 9169, 'renace': 9170, 'bíblicas': 9171, 'nacimiento': 9172, 'incompleta': 9173, 'pájaros': 9174, 'articulados': 9175, 'zoófitos': 9176, 'aniquilan': 9177, 'resumida': 9178, 'late': 9179, 'despoblado': 9180, 'estaciones': 9181, 'neutraliza': 9182, 'exagera': 9183, 'inciertos': 9184, 'irisadas': 9185, 'arcillas': 9186, 'abigarrados': 9187, 'acuesto': 9188, 'esfenofilos': 9189, 'asterofilos': 9190, 'miden': 9191, 'transformaciones': 9192, 'corren': 9193, 'hierven': 9194, 'volatilizan': 9195, 'reduce': 9196, 'gaseosa': 9197, 'blanco': 9198, 'nebulosa': 9199, 'millón': 9200, 'cuatrocientas': 9201, 'soy': 9202, 'sublima': 9203, 'imponderable': 9204, 'órbita': 9205, 'inflada': 9206, 'vierte': 9207, 'pormenores': 9208, 'apoderada': 9209, 'desencajados': 9210, 'enfermo': 9211, 'plato': 9212, 'opuesta…': 9213, 'levanto': 9214, 'confundiendo': 9215, 'aturdida': 9216, 'soñado': 9217, 'escudriña': 9218, 'cruza': 9219, 'despechado': 9220, 'impacienta': 9221, 'favorables': 9222, 'pregunto': 9223, 'preocupa': 9224, 'calculaba': 9225, 'divisasen': 9226, 'descendemos': 9227, 'alcanzarlo': 9228, 'dejo': 9229, 'muerda': 9230, 'reclama': 9231, 'paga': 9232, 'entregan': 9233, 'refrescar': 9234, 'despertarme': 9235, 'extinga': 9236, 'dibuja': 9237, 'ata': 9238, 'brozas': 9239, 'costándonos': 9240, 'izar': 9241, 'mareadas': 9242, 'observan': 9243, 'oprimido': 9244, 'duros': 9245, 'tänder': 9246, 'comprendo': 9247, 'sacarle': 9248, 'interrogo': 9249, 'abriendo': 9250, 'cerrando': 9251, 'impresas': 9252, 'guarnezcan': 9253, 'deben': 9254, 'agita': 9255, 'voraz': 9256, 'tiburón': 9257, 'apartar': 9258, 'roída': 9259, 'convertir': 9260, 'procuro': 9261, 'instintos': 9262, 'organización': 9263, 'prodigiosas': 9264, 'caimanes': 9265, 'cocodrilos': 9266, 'reducciones': 9267, 'debilitadas': 9268, 'progenitores': 9269, 'estremezco': 9270, 'encontradas': 9271, 'arcillosas': 9272, 'llaman': 9273, 'lias': 9274, 'reconstruirlos': 9275, 'anatómicamente': 9276, 'estaré': 9277, 'representante': 9278, 'antediluviana': 9279, 'cónicos': 9280, 'lanzarse': 9281, 'submarinas': 9282, 'examinado': 9283, 'haya”': 9284, '“la': 9285, 'sondar”': 9286, 'retiro': 9287, 'echo': 9288, 'aprueba': 9289, 'advierten': 9290, 'denuncian': 9291, 'vigilar': 9292, 'obstinada': 9293, 'navegásemos': 9294, 'árticos': 9295, 'gobierna': 9296, 'duermo': 9297, 'empujada': 9298, 'arrojada': 9299, 'tocado': 9300, 'negruzca': 9301, 'deprime': 9302, 'indicada': 9303, 'guarnecidas': 9304, 'desaparece': 9305, 'distingo': 9306, 'sobrecogidos': 9307, 'sobrenaturales': 9308, 'destrozaría': 9309, 'dentellada': 9310, 'virar': 9311, 'redondo': 9312, 'esquivar': 9313, 'vecindad': 9314, 'peligrosa': 9315, 'banda': 9316, 'enemigos': 9317, 'alarga': 9318, 'expreso': 9319, 'círculos': 9320, 'concéntricos': 9321, 'carabina': 9322, 'bala': 9323, 'escamas': 9324, 'dispongo': 9325, 'precipitan': 9326, 'permite': 9327, 'empeña': 9328, 'acuden': 9329, 'muestro': 9330, 'tra': 9331, 'aparta': 9332, 'hocico': 9333, 'temible': 9334, 'escondida': 9335, 'caparazón': 9336, 'turban': 9337, 'ojo': 9338, 'óptico': 9339, 'cargo': 9340, 'magnitud': 9341, '182': 9342, 'revestido': 9343, 'flexible': 9344, 'cisne': 9345, 'levantan': 9346, 'ponen': 9347, 'enlazadas': 9348, 'siéndome': 9349, 'temerlo': 9350, 'vencedor': 9351, 'encarnizamiento': 9352, 'combatientes': 9353, 'alejan': 9354, 'remolino': 9355, 'asoma': 9356, 'descubro': 9357, 'abate': 9358, 'encorva': 9359, 'azota': 9360, 'retuerce': 9361, 'lombriz': 9362, 'ciega': 9363, 'agonía': 9364, 'reptil': 9365, 'disminuyen': 9366, 'decrecen': 9367, 'contorsiones': 9368, 'serena': 9369, 'submarina': 9370, 'reaparecer': 9371, 'teatro': 9372, 'empuñando': 9373, 'absorbentes': 9374, 'inminentes': 9375, 'corrimos': 9376, 'ayer': 9377, 'nne': 9378, 'oye': 9379, 'estrellan': 9380, 'escollo': 9381, 'lisa': 9382, 'provenir': 9383, 'lejana': 9384, 'manifiesto': 9385, 'equivoco': 9386, 'correremos': 9387, 'precipitará': 9388, 'ruidoso': 9389, 'proceden': 9390, 'dirijo': 9391, 'sondar': 9392, 'limpio': 9393, 'cambiado': 9394, 'proviene': 9395, 'precipita': 9396, 'estuario': 9397, 'activarse': 9398, 'nula': 9399, 'arrojo': 9400, 'aproximase': 9401, 'trepa': 9402, 'describe': 9403, 'leve': 9404, 'permanecen': 9405, 'nere': 9406, 'arrumbemos': 9407, 'sabemos': 9408, 'tropezar': 9409, 'enmendemos': 9410, 'impertérrito': 9411, 'calcularse': 9412, 'aconsejaría': 9413, 'alejarse': 9414, 'prudentes': 9415, 'crece': 9416, 'surtidor': 9417, 'tragar': 9418, 'arrojarla': 9419, 'interrupción': 9420, 'negruzco': 9421, 'descrito': 9422, 'levantarlo': 9423, 'rompiendo': 9424, 'proyectada': 9425, 'ensordecedor': 9426, 'necesitaría': 9427, 'diariamente': 9428, 'cortaré': 9429, 'driza': 9430, 'rebelo': 9431, 'levántase': 9432, 'holme': 9433, 'sonora': 9434, 'geyser': 9435, 'burda': 9436, 'torcer': 9437, 'grandiosas': 9438, 'pronuncian': 9439, 'cheisir': 9440, 'majestuosamente': 9441, 'resuenan': 9442, 'sordas': 9443, 'rodeen': 9444, 'resumido': 9445, 'mezclarse': 9446, 'adquieren': 9447, 'iris': 9448, 'atraquemos': 9449, 'maniobrando': 9450, 'pericia': 9451, 'silícea': 9452, 'trepida': 9453, 'recalentado': 9454, 'sumerjo': 9455, 'borbotando': 9456, '163°': 9457, 'contradicción': 9458, 'tentación': 9459, 'hacérselo': 9460, 'doctrinas': 9461, 'especiales': 9462, 'alcanza': 9463, 'supera': 9464, 'graduaciones': 9465, 'sacramental': 9466, 'permanezco': 9467, 'disminuyendo': 9468, 'recobrar': 9469, 'atribuyo': 9470, 'variaciones': 9471, 'bordeando': 9472, 'aprovechado': 9473, 'detención': 9474, 'averías': 9475, 'recorrida': 9476, 'anoto': 9477, '620': 9478, '21': 9479, 'magnifico': 9480, 'refrescado': 9481, 'alejándonos': 9482, 'tornan': 9483, 'aceituna': 9484, 'representarse': 9485, 'drama': 9486, 'impresionado': 9487, 'cúmulos': 9488, 'amontonados': 9489, 'presentan': 9490, 'horripilante': 9491, 'balas': 9492, 'amontonadas': 9493, 'pintoresco': 9494, 'hinchando': 9495, 'ganan': 9496, 'desprenderse': 9497, 'fúndense': 9498, 'ensombrecen': 9499, 'rebota': 9500, 'parda': 9501, 'saturada': 9502, 'impregnado': 9503, 'eriza': 9504, 'máquina': 9505, 'tocasen': 9506, 'recibirían': 9507, 'acentúan': 9508, 'aliento': 9509, 'nube': 9510, 'acumulasen': 9511, 'huracanes': 9512, 'endiablado': 9513, 'prolonga': 9514, 'contesta': 9515, 'aplastarlo': 9516, 'calla': 9517, 'pesadamente': 9518, 'empiezo': 9519, 'telmo': 9520, 'espeso': 9521, 'hacernos': 9522, 'arriemos': 9523, 'abatamos': 9524, 'aconseja': 9525, 'ruge': 9526, 'iracundo': 9527, 'sacuda': 9528, 'arrebate': 9529, 'deba': 9530, 'cambia': 9531, 'resuelven': 9532, 'llenar': 9533, 'condensación': 9534, 'conviértese': 9535, 'remotos': 9536, 'arrastro': 9537, 'hallo': 9538, 'brilla': 9539, 'penachillo': 9540, 'recuerda': 9541, 'contemporáneos': 9542, 'ictiosaurios': 9543, 'megiterois': 9544, 'resiste': 9545, 'distiende': 9546, 'burbuja': 9547, 'despide': 9548, 'describen': 9549, 'arríen': 9550, 'mugidora': 9551, 'desgarró': 9552, 'velo': 9553, 'opera': 9554, 'centelleantes': 9555, 'vibraciones': 9556, 'mezclan': 9557, 'sinnúmero': 9558, 'entrecruzan': 9559, 'pedrisco': 9560, 'choca': 9561, 'luminosidad': 9562, 'hinchadas': 9563, 'cerros': 9564, 'ignívoros': 9565, 'incuba': 9566, 'crestas': 9567, 'ostentan': 9568, 'deslumbra': 9569, 'destroza': 9570, 'dobla': 9571, 'fugaces': 9572, 'tomadas': 9573, 'brevedad': 9574, 'cabal': 9575, '23': 9576, 'amaina': 9577, 'vivimos': 9578, 'sangran': 9579, 'deslumbrantes': 9580, 'zigzags': 9581, 'fulminación': 9582, 'instantánea': 9583, 'herir': 9584, 'desplomase': 9585, 'bifurcan': 9586, 'estallan': 9587, 'bombas': 9588, 'polvorines': 9589, 'hiciesen': 9590, 'oiríamos': 9591, 'emisión': 9592, 'desprende': 9593, 'moléculas': 9594, 'alterado': 9595, 'principios': 9596, 'gaseosas': 9597, 'lanzan': 9598, 'caen': 9599, 'borrada': 9600, 'modificada': 9601, 'definitivo': 9602, 'rendidos': 9603, 'imperturbable': 9604, 'imperturbablemente': 9605, 'abandonamos': 9606, 'arreció': 9607, 'trincar': 9608, 'componen': 9609, 'amarramos': 9610, 'movemos': 9611, 'producimos': 9612, 'apreciable': 9613, 'articulado': 9614, '«estamos': 9615, 'perdidos»': 9616, 'escribirle': 9617, '«arriemos': 9618, 'arrancada': 9619, 'juntamente': 9620, 'parten': 9621, 'ambas': 9622, 'fantástica': 9623, 'azulada': 9624, 'bomba': 9625, 'pasea': 9626, 'bota': 9627, 'roza': 9628, 'caja': 9629, 'deslumbrador': 9630, 'fijamente': 9631, 'palidezco': 9632, 'tiemblo': 9633, 'poderlo': 9634, 'conseguir': 9635, 'nitroso': 9636, 'asfixiamos': 9637, 'clavado': 9638, 'imanado': 9639, 'entrechocándose': 9640, 'tintineo': 9641, 'adheridos': 9642, 'placa': 9643, 'incrustada': 9644, 'esfuerzo': 9645, 'arrancarlo': 9646, 'tomarlo': 9647, 'estalla': 9648, 'apaga': 9649, 'escupiendo': 9650, 'invade': 9651, 'salgo': 9652, 'desvanecimiento': 9653, 'desencadenan': 9654, 'nidada': 9655, 'incalculable': 9656, 'canal': 9657, 'explicarlo': 9658, 'libré': 9659, 'destrozó': 9660, 'agudos': 9661, 'salvó': 9662, 'valeroso': 9663, 'transportó': 9664, 'oleaje': 9665, 'furioso': 9666, 'diluvio': 9667, 'redoblada': 9668, 'anuncia': 9669, 'brindaron': 9670, 'cataratas': 9671, 'entregamos': 9672, 'dudoso': 9673, 'tranquilizado': 9674, 'huella': 9675, 'despertar': 9676, 'radiante': 9677, 'descansado': 9678, 'matrimonio': 9679, 'verificar': 9680, 'desviado': 9681, 'habitaba': 9682, 'elegida': 9683, 'contadas': 9684, 'franquearlas': 9685, 'dolorosas': 9686, 'atravesaron': 9687, 'molido': 9688, 'hundirnos': 9689, 'preguntarle': 9690, 'efectuará': 9691, 'efectuaremos': 9692, 'cerrará': 9693, 'alcanzarán': 9694, 'realizados': 9695, 'cerciorarnos': 9696, 'temor': 9697, 'impulsado': 9698, 'abnegación': 9699, 'descansábamos': 9700, 'riesgo': 9701, 'pérdidas': 9702, 'resumidas': 9703, 'cuentas': 9704, 'pasarnos': 9705, 'intacta': 9706, 'explotar': 9707, 'abstenernos': 9708, 'cazar': 9709, 'rebasarlo': 9710, 'feroz': 9711, 'hela': 9712, 'reconocerlo': 9713, 'dilucidar': 9714, 'cajas': 9715, 'alineadas': 9716, 'respetado': 9717, 'totalidad': 9718, 'salada': 9719, 'colegas': 9720, 'vertido': 9721, 'recipientes': 9722, 'atormente': 9723, 'recomendar': 9724, 'repare': 9725, 'pera': 9726, 'servimos': 9727, 'antoja': 9728, 'recelo': 9729, 'comunicó': 9730, 'instrucciones': 9731, 'té': 9732, 'confeccionamos': 9733, 'pasadas': 9734, 'propuso': 9735, 'calculásemos': 9736, 'calcularlo': 9737, 'hicimos': 9738, 'renuncies': 9739, 'contemos': 9740, 'borrasca': 9741, '300': 9742, 'deducimos': 9743, 'competir': 9744, 'transversal': 9745, '900': 9746, 'hallemos': 9747, 'turquía': 9748, 'cl': 9749, 'alteración': 9750, 'cerciorarse': 9751, 'consultando': 9752, 'depositado': 9753, 'contento': 9754, 'frotaba': 9755, 'adoptaba': 9756, 'posturas': 9757, 'estudiadas': 9758, 'colocó': 9759, 'oscilado': 9760, 'fija': 9761, 'frotó': 9762, 'acabó': 9763, 'examinase': 9764, 'suponíamos': 9765, 'flor': 9766, 'lis': 9767, 'moví': 9768, 'detenimiento': 9769, 'cerciorándome': 9770, 'desperfecto': 9771, 'colocase': 9772, 'rolado': 9773, 'diésemos': 9774, 'cuente': 9775, 'agitaron': 9776, 'chasqueado': 9777, 'corridos': 9778, 'retrocedido': 9779, 'juega': 9780, 'trastadas': 9781, 'conspiran': 9782, 'combinan': 9783, 'oponerse': 9784, 'verá': 9785, 'retrocederé': 9786, 'colérico': 9787, 'indomable': 9788, 'intervenir': 9789, 'ardor': 9790, 'escúcheme': 9791, 'ambiciones': 9792, 'recorren': 9793, 'gobernar': 9794, 'desarrollar': 9795, 'refutables': 9796, 'argumentación': 9797, 'supliqué': 9798, 'exasperé': 9799, 'estrellé': 9800, 'individuo': 9801, 'consolidado': 9802, 'pliegues': 9803, 'jugueteaba': 9804, 'disponerlo': 9805, 'despejada': 9806, 'despojado': 9807, 'voto': 9808, 'consagración': 9809, 'adicto': 9810, 'seguirles': 9811, 'adopté': 9812, 'resignó': 9813, 'abandonaré': 9814, 'comprenda': 9815, 'recalada': 9816, 'entregado': 9817, 'quehaceres': 9818, 'expiraban': 9819, 'pudiéndose': 9820, 'recorrerla': 9821, 'tamaños': 9822, 'carapachos': 9823, 'can': 9824, 'gliptodonios': 9825, 'pliocénico': 9826, 'reducción': 9827, 'sembrado': 9828, 'pétreos': 9829, 'guijarros': 9830, 'redondeados': 9831, 'taponada': 9832, 'habiendo': 9833, 'evaporado': 9834, 'producción': 9835, 'creaba': 9836, 'violentas': 9837, 'presenciado': 9838, 'satisfactoria': 9839, 'puedan': 9840, 'explicarlas': 9841, 'distribuidas': 9842, 'sondeando': 9843, 'costeado': 9844, 'trastornado': 9845, 'dislocación': 9846, 'sílice': 9847, 'depósitos': 9848, 'aluvionarios': 9849, 'confundían': 9850, 'eternos': 9851, 'elevados': 9852, 'montones': 9853, 'extendían': 9854, 'ondulado': 9855, 'acumulábase': 9856, 'cuadradas': 9857, 'empezado': 9858, 'escribirse': 9859, 'disputarían': 9860, 'museos': 9861, 'vidas': 9862, 'millar': 9863, 'cuvieres': 9864, 'orgánicos': 9865, 'descomunales': 9866, 'fulguraban': 9867, 'demostraba': 9868, 'veíase': 9869, 'inapreciable': 9870, 'lepoterios': 9871, 'mericoterios': 9872, 'protopitecos': 9873, 'pterodáctilos': 9874, 'apasionado': 9875, 'alejandría': 9876, 'incendiada': 9877, 'omar': 9878, 'portentoso': 9879, 'tendréis': 9880, 'sorprendido': 9881, 'encontréis': 9882, 'humilde': 9883, 'evocación': 9884, 'marzo': 9885, 'trabajadores': 9886, 'excavaciones': 9887, 'canteras': 9888, 'abbeville': 9889, 'departamento': 9890, 'soma': 9891, 'boucher': 9892, 'perthes': 9893, 'revestidos': 9894, 'barniz': 9895, 'instituto': 9896, 'tomaron': 9897, 'demostraron': 9898, 'incontestable': 9899, 'osamenta': 9900, 'fueran': 9901, 'defensores': 9902, 'proceso': 9903, 'quijada': 9904, 'falconer': 9905, 'busk': 9906, 'carpenter': 9907, 'admitieron': 9908, 'sumáronse': 9909, 'destacándose': 9910, 'demostrada': 9911, 'admitida': 9912, 'encarnizado': 9913, 'beaumant': 9914, 'autoridad': 9915, 'sentada': 9916, 'diluvium': 9917, 'admitía': 9918, 'contemporánea': 9919, 'mantenido': 9920, 'controversias': 9921, 'disputas': 9922, 'beaumont': 9923, 'bando': 9924, 'ignorábamos': 9925, 'idénticas': 9926, 'individuos': 9927, 'tipos': 9928, 'livianas': 9929, 'grutas': 9930, 'suiza': 9931, 'bélgica': 9932, 'adolescentes': 9933, 'adultos': 9934, 'ancianos': 9935, 'afirmábase': 9936, 'exhumados': 9937, 'terciario': 9938, 'plioceno': 9939, 'asignar': 9940, 'productos': 9941, 'industria': 9942, 'tibias': 9943, 'fémures': 9944, 'estriados': 9945, 'regular': 9946, 'esculpidos': 9947, 'ostentaban': 9948, 'elephas': 9949, 'meridionalis': 9950, 'asignada': 9951, 'afamados': 9952, 'pliocénicos': 9953, 'paleontológica': 9954, 'comprenderán': 9955, 'reconocible': 9956, 'burdeos': 9957, 'tersa': 9958, 'apergaminada': 9959, 'jugosos': 9960, 'uñas': 9961, 'prodigiosamente': 9962, 'locuaz': 9963, 'discutidor': 9964, 'enderezamos': 9965, 'palpábamos': 9966, 'torso': 9967, 'mirarnos': 9968, 'vacías': 9969, 'creyéndose': 9970, 'conferencia': 9971, 'doctoral': 9972, 'auditorio': 9973, 'imaginario': 9974, 'presentaros': 9975, 'negado': 9976, 'afirmado': 9977, 'defendido': 9978, 'santo': 9979, 'tomás': 9980, 'tocarían': 9981, 'verían': 9982, 'obligados': 9983, 'inicua': 9984, 'barnum': 9985, 'charlatanes': 9986, 'ralea': 9987, 'orestes': 9988, 'esparteros': 9989, 'asterio': 9990, 'pausanias': 9991, 'leído': 9992, 'trapani': 9993, 'polifemo': 9994, 'desterrado': 9995, 'palermo': 9996, 'conocéis': 9997, 'análisis': 9998, 'lucerna': 9999, '1577': 10000, 'félix': 10001, 'plater': 10002, 'pertenecían': 10003, 'tratados': 10004, 'cassanion': 10005, 'folletos': 10006, 'discursos': 10007, 'contradiscursos': 10008, 'publicados': 10009, 'cimbrios': 10010, 'teutoboco': 10011, 'invasor': 10012, 'galia': 10013, 'exhumado': 10014, '1613': 10015, 'arenal': 10016, 'delfinado': 10017, 'xv': 10018, 'combatido': 10019, 'pedro': 10020, 'campet': 10021, '105': 10022, 'preadamitas': 10023, 'scheuchzer': 10024, 'gigans': 10025, 'reapareció': 10026, 'gigan': 10027, 'atascó': 10028, 'giganteo': 10029, 'enrevesado': 10030, 'reído': 10031, 'gigantosteología': 10032, 'concluyó': 10033, 'simples': 10034, 'mamut': 10035, 'injuria': 10036, 'tenéis': 10037, 'podéis': 10038, 'tocarlo': 10039, 'intacto': 10040, 'antropológico': 10041, 'contradecir': 10042, 'aserción': 10043, 'lavarlo': 10044, 'sulfúrico': 10045, 'terrosas': 10046, 'resplandecientes': 10047, 'incrustadas': 10048, 'poseo': 10049, 'disolvente': 10050, 'referirá': 10051, 'manejándolo': 10052, 'dedican': 10053, 'mostrar': 10054, 'canto': 10055, 'pretendidos': 10056, 'caucásica': 10057, 'ovoideo': 10058, 'avance': 10059, 'progmatismo': 10060, 'modifica': 10061, 'facial': 10062, 'medid': 10063, 'hallaréis': 10064, '90°': 10065, 'atrevería': 10066, 'sonriáis': 10067, 'sonreía': 10068, 'sonreír': 10069, 'sabias': 10070, 'disertaciones': 10071, 'llenan': 10072, 'anfiteatro': 10073, 'osaré': 10074, 'deciros': 10075, 'verificaban': 10076, 'trastornos': 10077, 'escurría': 10078, 'sustente': 10079, 'constituido': 10080, 'excursionista': 10081, 'cultivador': 10082, 'prorrumpieron': 10083, 'unánimes': 10084, 'aplausos': 10085, 'tentarse': 10086, 'combatirle': 10087, 'fosilizado': 10088, 'dábamos': 10089, 'osábamos': 10090, 'naciendo': 10091, 'muriendo': 10092, 'erraría': 10093, 'tesoros': 10094, 'preparada': 10095, 'asombros': 10096, 'imprudente': 10097, 'extraviarse': 10098, 'bañados': 10099, 'superficies': 10100, 'dimanaba': 10101, 'encontrásemos': 10102, 'estío': 10103, 'ecuatoriales': 10104, 'confusas': 10105, 'alejadas': 10106, 'adquirían': 10107, 'equitativa': 10108, 'distribución': 10109, 'parecíamos': 10110, 'hoffmann': 10111, 'lindero': 10112, 'contemplábamos': 10113, 'magnificencia': 10114, 'palmeras': 10115, 'extinguidas': 10116, 'soberbios': 10117, 'guanos': 10118, 'tejos': 10119, 'cipreses': 10120, 'enlazaban': 10121, 'bejucos': 10122, 'musgos': 10123, 'hepáticas': 10124, 'muellemente': 10125, 'murmuraban': 10126, 'aplicárseles': 10127, 'crecían': 10128, 'crían': 10129, 'invernáculos': 10130, 'vivificante': 10131, 'confundía': 10132, 'tinte': 10133, 'pardusco': 10134, 'marchito': 10135, 'perfume': 10136, 'aventuró': 10137, 'aprensión': 10138, 'acumulado': 10139, 'claros': 10140, 'carcomidos': 10141, 'leguminosas': 10142, 'acerinas': 10143, 'rubráceas': 10144, 'comestibles': 10145, 'codiciadas': 10146, 'rumiantes': 10147, 'entremezclados': 10148, 'palmera': 10149, 'eucalipto': 10150, 'australiano': 10151, 'abeto': 10152, 'abedul': 10153, 'entrelazaba': 10154, 'zelandés': 10155, 'confundir': 10156, 'clasificadores': 10157, 'botánica': 10158, 'creído': 10159, 'agitarse': 10160, '1801': 10161, 'ohio': 10162, 'monstruosos': 10163, 'trompas': 10164, 'movían': 10165, 'legión': 10166, 'marfil': 10167, 'taladraba': 10168, 'arrancadas': 10169, 'cantidades': 10170, 'desaparecían': 10171, 'ternaria': 10172, 'atónito': 10173, 'carecemos': 10174, 'haríamos': 10175, 'impunemente': 10176, 'limites': 10177, 'rendirme': 10178, 'apoyado': 10179, 'proteo': 10180, 'apacentaba': 10181, 'innumerable': 10182, 'inmanis': 10183, 'pecoris': 10184, 'custos': 10185, 'levantado': 10186, 'imponer': 10187, 'búfalo': 10188, 'espesuras': 10189, 'inculta': 10190, 'melena': 10191, 'crines': 10192, 'parecida': 10193, 'blandía': 10194, 'antediluviano': 10195, 'tirando': 10196, 'renacido': 10197, 'vieron': 10198, 'creyeron': 10199, 'pobladores': 10200, 'prefiero': 10201, 'aproxime': 10202, 'mesopiteco': 10203, 'lartet': 10204, 'osífero': 10205, 'sansan': 10206, 'dadas': 10207, 'inverosímil': 10208, 'sepultada': 10209, 'anonadados': 10210, 'rayana': 10211, 'embrutecimiento': 10212, 'corríamos': 10213, 'arrastres': 10214, 'creemos': 10215, 'sufrir': 10216, 'pesadillas': 10217, 'dirigíamos': 10218, 'divagaciones': 10219, 'pisar': 10220, 'hollaron': 10221, 'advertía': 10222, 'sobrado': 10223, 'equivocarse': 10224, 'mochuelo': 10225, 'sumergirme': 10226, 'piélago': 10227, 'participaba': 10228, 'indecisión': 10229, 'orientarse': 10230, 'panorama': 10231, 'aproximaremos': 10232, 'exploración': 10233, 'regresemos': 10234, 'contestación': 10235, 'categórica': 10236, 'surgidero': 10237, 'encontraríamos': 10238, 'arrojándome': 10239, 'mostrando': 10240, 'suelen': 10241, 'daga': 10242, 'caballeros': 10243, 'asestar': 10244, 'hundida': 10245, 'herrumbre': 10246, 'data': 10247, 'animaba': 10248, 'señalarnos': 10249, 'angostaba': 10250, 'bañar': 10251, 'avanzadas': 10252, 'peñas': 10253, 'borradas': 10254, 'iniciales': 10255, 'intrépido': 10256, 'accidentado': 10257, 'maravillarme': 10258, 'aturdimiento': 10259, 'cercano': 10260, 'estupidez': 10261, 'leía': 10262, 'estilete': 10263, 'grabada': 10264, 'elogios': 10265, 'excesivos': 10266, 'mortales': 10267, 'obscuros': 10268, 'seguirte': 10269, 'iré': 10270, 'firmar': 10271, 'pronunciaron': 10272, 'oírlas': 10273, 'invadido': 10274, 'padecimientos': 10275, 'entusiasmos': 10276, 'aconsejó': 10277, 'volvamos': 10278, 'traigamos': 10279, 'deslicé': 10280, 'favorecido': 10281, 'bendita': 10282, 'bonanza': 10283, 'alejado': 10284, 'supongamos': 10285, 'encallar': 10286, 'procurar': 10287, 'aprovecharnos': 10288, 'explicárnoslos': 10289, 'engolfarnos': 10290, 'redundar': 10291, 'apetecido': 10292, 'preparado': 10293, 'navegamos': 10294, 'llevando': 10295, 'ceñir': 10296, 'filo': 10297, 'obligaban': 10298, 'rodeos': 10299, 'desembarco': 10300, 'propuse': 10301, 'quemar': 10302, 'cortarnos': 10303, 'retirada': 10304, 'opuso': 10305, 'examinemos': 10306, 'dejamos': 10307, 'dirigimos': 10308, 'distaba': 10309, 'circular': 10310, 'barnizado': 10311, 'penetrarse': 10312, 'interrumpida': 10313, 'interposición': 10314, 'infranqueable': 10315, 'buscamos': 10316, 'resignaba': 10317, 'intersticio': 10318, 'barrera': 10319, 'continuidad': 10320, 'senté': 10321, 'quizá': 10322, 'brusca': 10323, 'sísmica': 10324, 'magnéticos': 10325, 'mediado': 10326, 'circulaban': 10327, 'surcan': 10328, 'trazos': 10329, 'trabajado': 10330, 'obstrucción': 10331, 'falla': 10332, 'deslizó': 10333, 'henos': 10334, 'accidental': 10335, 'removemos': 10336, 'indignos': 10337, 'albergado': 10338, 'desdeñaba': 10339, 'engolfado': 10340, 'campos': 10341, 'creerme': 10342, 'abrámonos': 10343, 'derribemos': 10344, 'entonces…': 10345, 'recurramos': 10346, 'practiquemos': 10347, 'volemos': 10348, 'servirse': 10349, 'tratábase': 10350, 'libras': 10351, 'expansiva': 10352, 'ayudé': 10353, 'activamente': 10354, 'mojada': 10355, 'encerrada': 10356, 'tripa': 10357, 'tela': 10358, 'zapa': 10359, 'depositada': 10360, 'chispa': 10361, '27': 10362, 'palpitar': 10363, 'participación': 10364, 'convirtiéndonos': 10365, 'meros': 10366, 'juguetes': 10367, 'abrirnos': 10368, 'solicité': 10369, 'descargada': 10370, 'substraemos': 10371, 'limitarse': 10372, 'tardar': 10373, 'refugiarme': 10374, 'dispuse': 10375, 'embarcaron': 10376, 'quedándome': 10377, 'provisto': 10378, 'prende': 10379, 'artificio': 10380, 'regresa': 10381, 'entretendré': 10382, 'chisporrotear': 10383, 'exhalación': 10384, 'embarca': 10385, 'desatracar': 10386, 'empujón': 10387, 'impulsó': 10388, 'alejándose': 10389, 'manecillas': 10390, 'pulso': 10391, 'falto': 10392, 'desplomáos': 10393, 'modificó': 10394, 'descorrido': 10395, 'convirtió': 10396, 'perpendicularmente': 10397, 'desplomamos': 10398, 'sumidos': 10399, 'deseado': 10400, 'dirigir': 10401, 'rugir': 10402, 'impedido': 10403, 'volado': 10404, 'provocado': 10405, 'agrietado': 10406, 'consideré': 10407, 'entrelazamos': 10408, 'asíamos': 10409, 'choques': 10410, 'deduje': 10411, 'ensanchaba': 10412, 'dudarlo': 10413, 'imprudencia': 10414, 'asociarlas': 10415, 'trenes': 10416, 'repentinamente': 10417, 'lograda': 10418, 'amenazando': 10419, 'apagarse': 10420, 'ancha': 10421, 'figurado': 10422, 'insuficiente': 10423, 'arrastraban': 10424, 'insuperables': 10425, 'flechas': 10426, 'lanzadas': 10427, 'exprese': 10428, 'trazaban': 10429, 'agarrados': 10430, 'roto': 10431, 'asfixiase': 10432, 'contrarrestar': 10433, 'transcurrían': 10434, 'cambiaba': 10435, 'complicarla': 10436, 'contábamos': 10437, 'recuento': 10438, 'reducían': 10439, 'cable': 10440, 'enrollado': 10441, 'irreparable': 10442, 'registrar': 10443, 'rincones': 10444, 'formados': 10445, 'alelado': 10446, 'preocuparme': 10447, 'rareza': 10448, 'inmediatos': 10449, 'mostrárseme': 10450, 'decírselo': 10451, 'manifestarle': 10452, 'desamparo': 10453, 'callarme': 10454, 'conservase': 10455, 'debilitó': 10456, 'impenetrables': 10457, 'mantenerla': 10458, 'redobló': 10459, 'caíamos': 10460, 'aferradas': 10461, 'retenían': 10462, 'sentimos': 10463, 'sofocado': 10464, 'respiraron': 10465, 'apretaban': 10466, 'rompérmelos': 10467, 'funcionar': 10468, 'zambullida': 10469, 'audición―': 10470, 'restablecerse': 10471, 'reemplazando': 10472, 'aturdieron': 10473, 'toqué': 10474, 'ensangrentada': 10475, 'encenderla': 10476, 'alumbrar': 10477, 'adelanta': 10478, 'taponado': 10479, 'comprime': 10480, 'pongámonos': 10481, 'aprovechar': 10482, 'espantados': 10483, 'sonado': 10484, 'cecina': 10485, 'obtuvo': 10486, 'padecían': 10487, 'atrevíamos': 10488, 'miserable': 10489, 'ascienden': 10490, 'sienten': 10491, 'aéreas': 10492, 'experimentábamos': 10493, 'inquietante': 10494, 'significaba': 10495, 'refractarias': 10496, 'proporcionándonos': 10497, 'moderada': 10498, 'explicable': 10499, 'cumplían': 10500, 'rigor': 10501, 'reducía': 10502, 'ahogamos': 10503, 'estrellamos': 10504, 'morimos': 10505, 'quemados': 10506, 'encogerse': 10507, 'abismó': 10508, 'rompió': 10509, 'tratamos': 10510, 'prolongar': 10511, 'economizando': 10512, 'permaneceremos': 10513, 'débiles': 10514, 'permitimos': 10515, 'ayuno': 10516, 'devoremos': 10517, 'alimentará': 10518, 'comiéndolo': 10519, 'firmeza': 10520, 'lata': 10521, 'palpite': 10522, 'admirables': 10523, 'críticas': 10524, 'temple': 10525, 'migaja': 10526, 'perdidas': 10527, 'comamos': 10528, 'distribuyó': 10529, 'tocó': 10530, 'libra': 10531, 'comió': 10532, 'moderación': 10533, 'menudos': 10534, 'masticaba': 10535, 'saboreaba': 10536, 'huroneando': 10537, 'mediada': 10538, 'reanimarme': 10539, 'föttraflig': 10540, 'bebiendo': 10541, 'turno': 10542, 'terminarse': 10543, 'imaginarse': 10544, 'horrores': 10545, 'experimentarlos': 10546, 'comprenderlos': 10547, 'triunfaron': 10548, 'soñaba': 10549, 'occidente': 10550, 'fatalista': 10551, 'llenos': 10552, 'conducían': 10553, 'pasaron': 10554, 'visiones': 10555, 'lúgubres': 10556, 'transmitían': 10557, 'aferrado': 10558, 'observando': 10559, 'aproximada': 10560, 'cualidad': 10561, 'oíale': 10562, 'interesase': 10563, 'ascendemos': 10564, 'palpaba': 10565, 'llegarán': 10566, 'preciosas': 10567, 'progresión': 10568, 'bañado': 10569, 'abrasadora': 10570, 'compararla': 10571, 'despiden': 10572, 'hornos': 10573, 'fundición': 10574, 'efectúan': 10575, 'coladas': 10576, 'despojando': 10577, 'chaquetas': 10578, 'chalecos': 10579, 'prenda': 10580, 'sufrimiento': 10581, 'insistí': 10582, 'palpando': 10583, 'rozó': 10584, 'retirarlo': 10585, 'abrasa': 10586, 'invisible': 10587, 'certidumbre': 10588, 'tornó': 10589, 'formularla': 10590, 'involuntarias': 10591, 'desempeñaba': 10592, 'saltaba': 10593, 'bruscas': 10594, 'poseída': 10595, 'aceptadas': 10596, 'originadas': 10597, 'descomposición': 10598, 'internas': 10599, 'tienden': 10600, 'incesantemente': 10601, 'conmoverla': 10602, 'diseminados': 10603, 'sospechen': 10604, 'susto': 10605, 'sui': 10606, 'generis': 10607, 'engañarme': 10608, 'multiplicaban': 10609, 'compararlas': 10610, 'carros': 10611, 'brusco': 10612, 'empedrado': 10613, 'confirmaba': 10614, 'macizos': 10615, 'graníticos': 10616, 'juntarse': 10617, 'llenarse': 10618, 'rebosar': 10619, 'átomos': 10620, 'triturados': 10621, 'compresión': 10622, 'perdidos': 10623, 'motiva': 10624, '―me': 10625, 'sorprendente―': 10626, 'observe': 10627, 'disloca': 10628, 'espesan': 10629, 'oscila': 10630, 'insufrible': 10631, '―preguntó': 10632, 'encendidas': 10633, 'repelidos': 10634, 'expulsados': 10635, 'atreve': 10636, 'sucedernos': 10637, 'mirándome': 10638, 'renuncié': 10639, 'enumerar': 10640, 'contingencias': 10641, 'cesando': 10642, 'pueriles': 10643, 'encentraba': 10644, 'subordinado': 10645, 'aluvión': 10646, 'conglomerado': 10647, 'hecla': 10648, '80°': 10649, 'esk': 10650, 'espaciosos': 10651, 'vomitar': 10652, 'pretendía': 10653, 'aceleróse': 10654, 'aumentara': 10655, 'aproximarnos': 10656, 'local': 10657, 'impulsaba': 10658, 'exponíamos': 10659, 'reflejos': 10660, 'amarillentos': 10661, 'distinguía': 10662, 'corredores': 10663, 'túneles': 10664, 'escapaban': 10665, 'lamían': 10666, 'chisporroteando': 10667, 'sulfurosas': 10668, 'envolverán': 10669, 'asfixian': 10670, 'asfixiarán': 10671, 'ensancha': 10672, 'abandonaríamos': 10673, 'guarecernos': 10674, 'reemplazado': 10675, 'expuesto': 10676, '70°': 10677, 'puñado': 10678, 'unidas': 10679, 'sobrevino': 10680, 'sacudido': 10681, 'repentina': 10682, 'apresurarse': 10683, 'librarla': 10684, 'tropiezo': 10685, 'espontánea': 10686, 'apretando': 10687, 'prolongarse': 10688, 'equivocó': 10689, 'pronósticos': 10690, 'desordenado': 10691, 'mirando': 10692, 'intermitente': 10693, 'justos': 10694, 'agarrarse': 10695, 'podérmelo': 10696, 'conducto': 10697, 'accesible': 10698, 'repercutían': 10699, 'reproducía': 10700, 'recibiendo': 10701, 'permanecíamos': 10702, 'parados': 10703, 'ascensiones': 10704, 'abrasador': 10705, 'cortaba': 10706, 'hiperboreales': 10707, '30°': 10708, 'exaltada': 10709, 'paseaba': 10710, 'anhelaba': 10711, 'poderme': 10712, 'revolcar': 10713, 'helada': 10714, 'trastornada': 10715, 'reiteradas': 10716, 'extravió': 10717, 'confusa': 10718, 'balanceaba': 10719, 'envolvieron': 10720, 'crepitantes': 10721, 'huracanado': 10722, 'despedido': 10723, 'activaba': 10724, 'alumbrado': 10725, 'condenado': 10726, 'atado': 10727, 'cañón': 10728, 'tiro': 10729, 'disperso': 10730, 'gravemente': 10731, 'paliza': 10732, 'encogió': 10733, 'ignorancia': 10734, 'engaña': 10735, 'reservada': 10736, 'áridos': 10737, 'tendidos': 10738, 'escarpada': 10739, 'calcinada': 10740, 'ardores': 10741, 'tostadura': 10742, 'sufría': 10743, 'favores': 10744, 'mostraba': 10745, 'pródigo': 10746, 'envolvía': 10747, 'oleadas': 10748, 'espléndidos': 10749, 'acostumbraron': 10750, 'deshabituado': 10751, 'valí': 10752, 'rectificar': 10753, 'mezcladas': 10754, 'convulsiones': 10755, 'respiraderos': 10756, 'precipitábanse': 10757, '700': 10758, 'u': 10759, '100': 10760, 'distinguí': 10761, 'higueras': 10762, 'cargadas': 10763, 'rebasaba': 10764, 'encantada': 10765, 'levante': 10766, 'mecían': 10767, 'emergían': 10768, 'hormiguero': 10769, 'poniente': 10770, 'divisaban': 10771, 'perfilándose': 10772, 'armoniosa': 10773, 'agitaba': 10774, 'divisaba': 10775, 'relumbraba': 10776, 'convexidad': 10777, 'centuplicaba': 10778, 'bellezas': 10779, 'escudriñaba': 10780, 'valdría': 10781, 'escapado': 10782, 'descendamos': 10783, 'contemplativo': 10784, 'talud': 10785, 'deslizábamos': 10786, 'ceniza': 10787, 'evitando': 10788, 'volubilidad': 10789, 'repleta': 10790, 'desahogo': 10791, 'asia': 10792, 'malasia': 10793, 'oceanía': 10794, 'terráqueo': 10795, 'fiémonos': 10796, 'aproximábamos': 10797, 'recreaba': 10798, 'hermosa': 10799, 'granados': 10800, 'desnudez': 10801, 'andarse': 10802, 'escrúpulos': 10803, 'oprimimos': 10804, 'sabrosas': 10805, 'jugosísimas': 10806, 'sumergimos': 10807, 'caras': 10808, 'entregábamos': 10809, 'bienaventurado': 10810, 'pordioserillo': 10811, 'miserablemente': 10812, 'enfermizo': 10813, 'intimidar': 10814, 'barbas': 10815, 'incultas': 10816, 'cariz': 10817, 'ladrones': 10818, 'figuras': 10819, 'amedrentar': 10820, 'rapazuelo': 10821, 'asustado': 10822, 'puntapiés': 10823, 'tranquilizarlo': 10824, 'amiguito': 10825, 'formuló': 10826, 'orgulloso': 10827, 'poliglotismo': 10828, 'ensayemos': 10829, 'dove': 10830, 'siamo': 10831, 'come': 10832, 'noma': 10833, 'questa': 10834, 'isola': 10835, 'stromboli': 10836, 'pastorcillo': 10837, 'escapándose': 10838, 'emprendiendo': 10839, 'veloz': 10840, 'volviéramos': 10841, 'archipiélago': 10842, 'eolio': 10843, 'mitológica': 10844, 'strongyle': 10845, 'eolo': 10846, 'encadenados': 10847, 'calabria': 10848, 'etna': 10849, 'acompañaba': 10850, 'cantando': 10851, 'dúo': 10852, 'árido': 10853, 'enclavado': 10854, 'azares': 10855, 'armoniosas': 10856, 'comarcas': 10857, 'trocado': 10858, 'infinita': 10859, 'nieblas': 10860, 'cenicientas': 10861, 'zonas': 10862, 'cobijarnos': 10863, 'azul': 10864, 'volvimos': 10865, 'divulgar': 10866, 'supersticioso': 10867, 'italianos': 10868, 'resignamos': 10869, 'gloriosa': 10870, 'desdén': 10871, 'devanemos': 10872, 'buscarle': 10873, 'supiera': 10874, 'inaudito': 10875, 'desnudo': 10876, 'afianzándose': 10877, 'vicenzo': 10878, 'decimotercia': 10879, 'religiosamente': 10880, 'pagado': 10881, 'cruzándose': 10882, 'calurosos': 10883, 'participó': 10884, 'legítima': 10885, 'expansión': 10886, 'dibujó': 10887, 'querrán': 10888, 'acostumbradas': 10889, 'asustarse': 10890, 'credulidad': 10891, 'proporcionaron': 10892, '31': 10893, 'mesina': 10894, 'bastaron': 10895, 'volturne': 10896, 'mensajerías': 10897, 'imperiales': 10898, 'tocamos': 10899, 'marsella': 10900, 'inquietarnos': 10901, 'adorada': 10902, 'tendrás': 10903, 'separarte': 10904, 'sonrió': 10905, 'produciría': 10906, 'indiscreciones': 10907, 'esparcido': 10908, 'informaciones': 10909, 'modificaron': 10910, 'celebró': 10911, 'detallado': 10912, 'omitiendo': 10913, 'extraordinarios': 10914, 'relativos': 10915, 'depositó': 10916, 'archivos': 10917, 'expresando': 10918, 'poderosas': 10919, 'aumentar': 10920, 'reputación': 10921, 'suscitarle': 10922, 'basadas': 10923, 'contradecían': 10924, 'sistemas': 10925, 'establecidos': 10926, 'sostuvo': 10927, 'verbalmente': 10928, 'polémicas': 10929, 'seguiré': 10930, 'definidas': 10931, 'enconadas': 10932, 'discusiones': 10933, 'experimentó': 10934, 'ruegos': 10935, 'permitir': 10936, 'pagásemos': 10937, 'minado': 10938, 'nostalgia': 10939, 'färval': 10940, 'despedida': 10941, 'partió': 10942, 'adonde': 10943, 'profesábamos': 10944, 'singular': 10945, 'contraída': 10946, 'unánime': 10947, 'traducido': 10948, 'publicaron': 10949, 'episodios': 10950, 'comentados': 10951, 'discutidos': 10952, 'defendidos': 10953, 'creyentes': 10954, 'disfrutó': 10955, 'conquistado': 10956, 'barnuim': 10957, 'propusiese': 10958, 'exhibirle': 10959, 'estados': 10960, 'unidos': 10961, 'tormento': 10962, 'amargaba': 10963, 'explicado': 10964, 'constituía': 10965, 'suplicio': 10966, 'felicidad': 10967, 'arreglando': 10968, 'examinarla': 10969, 'quebraderos': 10970, 'proporcionando': 10971, 'acudir': 10972, 'retemblar': 10973, 'condenada': 10974, 'inversión': 10975, 'explícate': 10976, 'imanó': 10977, 'desorientó': 10978, 'invirtiendo': 10979, 'jugado': 10980, 'dichoso': 10981, 'renunciando': 10982, 'sobrina': 10983, 'miembro': 10984, 'sociedades': 10985, 'geográficas': 10986}\n"
          ]
        }
      ],
      "source": [
        "# El índice para cada palabra\n",
        "# El sistema las ordena de las más populares a las menos populares\n",
        "print(tok.word_index)"
      ]
    },
    {
      "cell_type": "code",
      "execution_count": null,
      "metadata": {
        "colab": {
          "base_uri": "https://localhost:8080/"
        },
        "id": "nUDkjy80c77h",
        "outputId": "d4e67397-4ed6-42e6-afeb-d1f6f65b0f04"
      },
      "outputs": [
        {
          "name": "stdout",
          "output_type": "stream",
          "text": [
            "defaultdict(<class 'int'>, {'la': 1121, 'hamburgo': 20, 'de': 1417, 'mayo': 2, 'situado': 6, '1863': 2, 'tradicionales': 1, '24': 3, 'las': 567, 'del': 520, 'a': 985, 'entró': 2, 'en': 935, 'número': 19, 'una': 517, 'antiguo': 10, 'rápidamente': 17, 'profesor': 171, 'el': 977, 'mi': 569, 'hogar': 3, '19': 2, 'barrio': 3, 'könig‑strasse': 1, 'su': 349, 'más': 314, 'calles': 6, 'lidenbrock': 63, 'tío': 402, 'domingo': 6, 'se': 611, 'pues': 118, 'que': 1055, 'comida': 19, 'excelente': 15, 'criada': 4, 'preocupó': 1, 'retrasado': 1, 'había': 166, 'cocinar': 1, 'apenas': 24, 'empezaba': 4, 'hornillo': 1, 'sobremanera': 1, 'creyendo': 3, 'marta': 24, 'viene': 2, 'hombre': 64, 'pensé': 19, 'san': 6, 'quintín': 1, 'para': 242, 'porque': 78, 'conozco': 3, 'va': 14, 'otro': 56, 'con': 494, '“si': 2, 'menos': 77, 'hambre': 18, 'no': 785, 'paciencia”': 1, '“bueno”': 1, 'mí': 62, 'armar': 1, 'señor': 53, 'ya': 118, 'temprano': 5, 'comedor': 7, 'entreabriendo': 1, 'aquí': 55, 'pobre': 14, 'exclamó': 50, 'arrebol': 1, 'está': 38, 'puerta': 15, 'tan': 113, 'y': 1070, 'es': 276, 'lista': 2, 'dar': 33, 'esté': 3, 'pero': 363, 'son': 38, 'hora': 57, 'tienes': 14, 'miguel': 2, 'tú': 11, 'todavía': 27, 'aún': 68, 'acaba': 6, 'dos': 107, 'culpa': 1, 'sí': 96, 'media': 34, 'venido': 9, 'qué': 204, 'por': 575, 'pronto': 26, 'ha': 95, 'explicará': 2, 'seguramente': 2, 'lo': 303, 'él': 79, 'usted': 85, 'escapo': 1, 'axel': 74, 'favor': 3, 'cálmelo': 1, 'yo': 199, 'me': 474, 'ahí': 7, 'presurosa': 3, 'culinario': 1, 'recinto': 1, 'dejándome': 4, 'solo': 32, 'retiró': 2, 'un': 621, 'cuando': 117, 'tono': 7, 'hacer': 37, 'sus': 210, 'escuchó': 3, 'bastón': 6, 'apresuramiento': 1, 'timidez': 1, 'pasar': 14, 'al': 365, 'pies': 83, 'peso': 12, 'sobre': 177, 'despacho': 12, 'dijo': 99, 'indicado': 4, 'arrojando': 2, 'dirigiéndose': 3, 'habitación': 9, 'fenomenales': 2, 'dormitorio': 1, 'imperioso': 2, 'giro': 3, 'dejando': 6, 'encima': 19, 'mesa': 16, 'catedráticos': 1, 'todos': 63, 'prudentemente': 1, 'madera': 10, 'entrar': 7, 'entrando': 2, 'como': 194, 'utilizaba': 2, 'calle': 10, 'alto': 11, 'los': 531, 'pequeña': 8, 'escalera': 10, 'mal': 17, 'sombrero': 3, 'irascible': 4, 'retirarme': 1, 'pesado': 5, 'piso': 4, 'rincón': 3, 'goznes': 1, 'crujió': 1, 'razón': 34, 'dueño': 7, 'atravesó': 2, 'bajo': 65, 'decidido': 7, 'casa': 32, 'cepillado': 1, 'ven': 5, 'acento': 11, 'descompuesto': 1, 'gritó': 5, 'tenido': 18, 'moverme': 1, 'material': 1, 'tiempo': 81, 'estás': 7, 'haces': 3, 'apúrate': 1, 'otto': 6, 'mucho': 38, 'impaciente': 7, 'confieso': 4, 'e': 13, 'precipité': 1, 'original': 3, 'persona': 6, 'morirá': 1, 'improbable': 1, 'siendo': 15, 'cambie': 1, 'cual': 93, 'mala': 8, 'maestro': 1, 'ingenuamente': 1, 'creo': 25, 'hombres': 17, 'mineralogía': 6, 'obtener': 6, 'alemana': 2, 'ni': 83, 'veces': 41, 'conocimiento': 4, 'según': 23, 'sacar': 1, 'quería': 15, 'cátedra': 1, 'preocupase': 1, 'o': 100, 'enfureciéndose': 1, 'prestasen': 1, 'clase': 8, 'tenían': 12, 'ciencia': 24, 'subjuntivamente': 1, 'regla': 2, 'sin': 264, 'dictaba': 1, 'otros': 36, 'aplicados': 1, 'general': 7, 'sabio': 26, 'palabra': 42, 'polea': 1, 'grado': 9, 'cuidado': 14, 'éstos': 6, 'estudios': 3, 'filosofía': 1, 'éxito': 5, 'le': 130, 'pudiesen': 2, 'johannaeum': 7, 'cuya': 31, 'explicaciones': 1, 'egoísta': 1, 'semejantes': 9, 'tener': 18, 'ella': 50, 'detalles': 9, 'rechinaba': 1, 'consecuencia': 7, 'enseñaba': 2, 'discípulos': 2, 'avaro': 1, 'donde': 56, 'era': 188, 'deseo': 7, 'pozo': 13, 'expresión': 5, 'algo': 23, 'cada': 51, 'atención': 20, 'alemania': 5, 'especie': 35, 'algunos': 55, 'profesores': 1, 'esta': 173, 'hay': 39, 'gran': 72, 'defecto': 3, 'origen': 11, 'desgracia': 4, 'detenía': 2, 'traban': 1, 'cólera': 11, 'ser': 79, 'luchando': 1, 'palabras': 66, 'éste': 27, 'taco': 1, 'expresaba': 4, 'gozaba': 3, 'vocablo': 2, 'público': 3, 'constituye': 3, 'labios': 32, 'orador': 1, 'lecciones': 1, 'recalcitrante': 1, 'salir': 22, 'expelidas': 1, 'mejor': 20, 'resisten': 2, 'esas': 21, 'facilidad': 7, 'forma': 24, 'acaban': 1, 'lamentable': 1, 'muchas': 11, 'difíciles': 2, 'tropiece': 1, 'magnesio': 1, 'nombres': 4, 'puede': 38, 'rudos': 2, 'perdonar': 1, 'enredo': 1, 'denominaciones': 1, 'lengua': 11, 'expedita': 1, 'retinasfálticas': 1, 'tunsatatos': 1, 'profanación': 1, 'poeta': 1, 'plomo': 2, 'circonio': 1, 'cristalizaciones': 1, 'selenitas': 1, 'semejante': 27, 'bien': 115, 'semilatinas': 1, 'trata': 10, 'resinas': 2, 'semigriegas': 1, 'romboédricas': 1, 'quiero': 12, 'pronunciar': 4, 'lastimarían': 1, 'criticar': 1, 'haga': 2, 'molibdatos': 1, 'titanatos': 1, 'lejos': 34, 'tungstitas': 1, 'divertirse': 1, 'este': 195, 'si': 153, 'burlarse': 1, 'risas': 1, 'gusto': 5, 'iban': 4, 'causa': 8, 'muchos': 12, 'mayoría': 5, 'conocido': 3, 'ciudad': 16, 'siempre': 34, 'oyentes': 1, 'desahogados': 1, 'cierto': 28, 'aula': 1, 'aprovechaban': 1, 'arreciasen': 1, 'hasta': 134, 'costa': 24, 'exasperaba': 1, 'misma': 28, 'furor': 4, 'contaba': 4, 'muy': 80, 'excusable': 1, 'catedrático': 8, 'sólo': 69, 'cosa': 24, 'extremo': 22, 'ellos': 33, 'repetir': 4, 'muestras': 7, 'martillo': 4, 'titubear': 5, 'rompía': 1, 'actualidad': 5, 'dureza': 4, 'brújula': 24, 'debido': 11, 'sea': 19, 'especies': 12, 'ácido': 2, 'aun': 19, 'perspicacia': 2, 'nítrico': 1, 'cansaré': 1, 'manos': 42, 'tenía': 53, 'modo': 52, 'sonido': 6, 'punzón': 1, 'quiera': 5, 'frasco': 1, 'genio': 8, 'cualquiera': 5, 'romperse': 3, 'seiscientas': 4, 'verdadero': 25, 'clasificaba': 1, 'cuenta': 18, 'tratarlos': 1, 'fusibilidad': 1, 'sabor': 2, 'geólogo': 6, 'soplete': 1, 'rival': 1, 'aspecto': 21, 'mineralogista': 4, 'unía': 1, 'olor': 4, 'minerales': 4, 'mineral': 6, 'entre': 89, 'capitanes': 1, 'cuestiones': 5, 'debía': 30, 'milne–edwards': 3, 'tratado': 1, 'predicamento': 1, 'franklin': 1, 'gastos': 1, 'impresión': 9, 'descubrimientos': 5, 'sabine': 1, 'grabados': 1, 'nacionales': 1, 'obra': 10, 'consultarle': 1, 'humphry': 2, 'gimnasios': 1, 'magníficos': 2, 'paso': 31, 'química': 3, '1853': 1, 'eso': 66, 'davy': 9, 'palpitantes': 1, 'folio': 1, 'asociaciones': 1, 'trascendental': 2, 'visitarle': 1, 'humboldt': 2, 'nombre': 36, 'embargo': 70, 'cubrir': 1, 'llegó': 14, 'cristalogiafía': 1, 'solían': 1, 'becquerel': 1, 'dumas': 1, 'aparecido': 1, 'ebejmen': 1, 'leipzig': 2, 'ilustrada': 1, 'numerosos': 6, 'brewster': 1, 'dejaban': 4, 'merecida': 2, 'dicho': 18, 'embajador': 1, 'struve': 1, 'fama': 2, 'europa': 6, 'justa': 1, 'museo': 6, 'colección': 5, 'mineralógico': 1, 'además': 15, 'rusia': 2, 'conservador': 1, 'preciosa': 2, 'calumnia': 1, 'personaje': 6, 'partes': 12, 'grandes': 28, 'cincuenta': 10, 'limaduras': 1, 'vil': 1, 'gafas': 8, 'afilada': 1, 'todas': 60, 'honor': 9, 'larga': 10, 'hierro': 11, 'tal': 46, 'años': 14, 'decían': 2, 'detrás': 10, 'tabaco': 2, 'hacía': 23, 'parecía': 47, 'impaciencia': 16, 'aunque': 27, 'estaba': 54, 'imanada': 1, 'atraía': 2, 'imaginaos': 2, 'aparentar': 1, 'acero': 1, 'verdad': 23, 'ojos': 64, 'lámina': 1, 'perseguían': 1, 'llamaba': 3, 'delgado': 1, 'diez': 37, 'nariz': 2, 'tanta': 4, 'observaban': 1, 'burlas': 1, 'amplias': 3, 'salud': 3, 'juvenil': 1, 'abundancia': 1, 'carácter': 7, 'matemáticamente': 2, 'uno': 45, 'medía': 7, 'pasos': 26, 'lector': 2, 'compañía': 8, 'apretados': 1, 'conocerá': 1, 'añadido': 2, 'caminaba': 3, 'señal': 13, 'longitud': 19, 'desear': 1, 'haya': 10, 'bastante': 43, 'iguales': 5, 'sólidamente': 2, 'toesa': 4, 'puños': 1, 'modesta': 2, 'esos': 21, 'daba': 8, 'salvado': 6, 'felizmente': 5, '1842': 1, 'ladrillo': 1, 'incendio': 2, 'tortuosos': 2, 'könig–strasse': 10, 'entraban': 2, 'vivía': 4, 'canales': 2, 'construcción': 2, 'casita': 3, 'cruzan': 1, 'oreja': 2, 'firme': 3, 'poco': 72, 'estudiantes': 1, 'perfecta': 6, 'inclinada': 2, 'caído': 2, 'amenazaba': 4, 'alegre': 3, 'primavera': 1, 'remozábala': 1, 'verticalidad': 1, 'vientre': 2, 'gracias': 19, 'hojas': 8, 'líneas': 8, 'olmo': 1, 'gorras': 1, 'verdor': 2, 'fachada': 1, 'tugendbund': 1, 'apoyaba': 4, 'cubrirse': 1, 'secular': 1, 'techo': 5, 'transeúntes': 1, 'vigoroso': 2, 'mantenía': 3, 'llegada': 10, 'doble': 9, 'cuanto': 21, 'experimentos': 1, 'alemán': 7, 'eran': 25, 'joven': 4, 'rico': 2, 'preparar': 5, 'huérfano': 1, 'sobrino': 12, 'calidad': 6, 'curlandesa': 6, 'siete': 11, 'edad': 6, 'encerraba': 4, 'compartíamos': 1, 'ayudaba': 2, 'propiedad': 2, 'vida': 24, 'graüben': 29, 'dejaba': 9, 'ahijada': 1, 'jamás': 33, 'dediqué': 3, 'entusiasmo': 17, 'mineralógicas': 4, 'venas': 3, 'valiosos': 1, 'ciencias': 4, 'pedruscos': 3, 'sangre': 9, 'aburría': 1, 'mis': 141, 'circulaba': 1, 'aprisa': 2, 'resumen': 1, 'trataba': 10, 'brutales': 1, 'ir': 16, 'feliz': 4, 'independientemente': 1, 'pesar': 31, 'naturaleza': 25, 'aguardar': 1, 'propietario': 1, 'maneras': 3, 'permitía': 5, 'afecto': 3, 'profesaba': 1, 'mañanas': 1, 'loza': 2, 'salón': 3, 'potes': 1, 'tirarles': 1, 'tratar': 2, 'crecimiento': 1, 'abril': 1, 'convólvulos': 1, 'plantaba': 1, 'reseda': 1, 'acelerar': 1, 'así': 65, 'iba': 41, 'remedio': 12, 'acudía': 1, 'presuroso': 1, 'obedecer': 3, 'ciegamente': 2, 'reino': 3, 'divisiones': 2, 'clasificados': 1, 'ejemplares': 5, 'litoideos': 1, 'metálicos': 2, 'inﬂamables': 1, 'ordenados': 2, 'hallaban': 6, 'rotulados': 2, 'tres': 62, 'perfecto': 9, 'arreglo': 3, 'mineralógica': 2, 'polvo': 7, 'cuán': 3, 'átomo': 4, 'desde': 39, 'aquellos': 25, 'relativo': 2, 'desaparecía': 5, 'absoluta': 6, 'reconstruir': 3, 'lignitos': 2, 'igualdad': 1, 'jugar': 1, 'quitar': 1, 'vez': 121, 'valor': 18, 'suplementaria': 1, 'metales': 5, 'científicos': 4, 'preciso': 73, 'entretenido': 1, 'grafitos': 1, 'cuántas': 3, 'instalado': 2, 'comodidad': 2, 'irme': 1, 'menor': 15, 'buena': 18, 'muchachos': 3, 'hullas': 2, 'betunes': 1, 'oro': 4, 'habría': 37, 'toda': 66, 'familiares': 1, 'sales': 1, 'orgánicas': 1, 'bastado': 6, 'turbas': 1, 'aquellas': 37, 'antracitas': 2, 'chulerías': 1, 'cuyo': 29, 'ante': 38, 'preservar': 1, 'hubiesen': 5, 'podía': 57, 'entré': 2, 'esto': 66, 'completo': 21, 'butacón': 2, 'terciopelo': 2, 'absorbía': 1, 'forrado': 1, 'utrecht': 2, 'nada': 68, 'arrellanado': 1, 'contemplaba': 7, 'profunda': 5, 'hallábase': 2, 'mente': 15, 'llegar': 39, 'pensar': 13, 'admiración': 7, 'libro': 12, 'repetía': 11, 'cesar': 7, 'exclamaciones': 3, 'también': 34, 'liden\\xadbrock': 1, 'ningún': 39, 'momentos': 12, 'bibliómano': 2, 'tuviese': 4, 'ilegible': 2, 'estas': 70, 'recordaron': 1, 'inhallable': 1, 'ocio': 1, 'fuese': 21, 'tesoro': 2, 'inestimable': 2, 'ves': 15, 'hevelius': 1, 'hallado': 5, 'tienda': 1, 'judío': 1, 'he': 62, 'registrando': 1, 'mañana': 43, 'exclamé': 60, 'simulado': 1, 'magnífico': 12, 'viejo': 10, 'tapas': 1, 'grosero': 2, 'descolorido': 5, 'registro': 1, 'amarillentas': 1, 'cordobán': 1, 'pendía': 1, 'efecto': 58, 'lomo': 3, 'forrados': 1, 'cuyas': 17, 'cuarto': 11, 'tanto': 38, 'parecían': 16, 'cesaban': 1, 'admirativas': 1, 'enjuto': 1, 'forman': 5, 'ileso': 1, 'preguntándose': 1, 'buen': 18, 'abierto': 6, 'bozerian': 1, 'setecientos': 1, 'ejemplar': 4, 'ah': 28, 'abrirse': 2, 'parte': 53, 'todo': 144, 'capaz': 14, 'purgold': 1, 'cualquier': 4, 'abre': 1, 'cierra': 1, 'existencia': 20, 'unido': 3, 'closs': 1, 'encuadernación': 1, 'mantiene': 1, 'página': 2, 'ver': 49, 'después': 125, 'deje': 3, 'separarse': 1, 'permanece': 3, 'cubiertas': 3, 'ninguna': 25, 'mismo': 72, 'envanecer': 1, 'respondiéndose': 1, 'decía': 18, 'vamos': 35, 'fórmula': 1, 'pregunté': 10, 'pura': 2, 'mínimo': 2, 'interesaba': 2, 'expresarse': 2, 'suerte': 34, 'libraco': 1, 'feo': 1, 'repugnante': 1, 'abría': 4, 'cerraba': 5, 'demasiado': 18, 'maravilloso': 11, 'exagerado': 2, 'fingido': 1, 'ese': 36, 'título': 1, 'volumen': 5, 'interrogué': 1, 'cuál': 15, 'sturluson': 3, 'snorri': 2, 'islandés': 40, 'noruegos': 1, 'islandia': 47, 'príncipes': 1, 'autor': 2, 'famoso': 3, 'siglo': 12, 'animándose': 3, 'heimskringla': 1, 'xii': 1, 'respondió': 50, 'crónica': 1, 'reinaron': 2, 'asombro': 10, 'duda': 69, 'será': 20, 'veras': 4, 'traducción': 2, 'afectando': 2, 'alguna': 50, 'numerosas': 6, 'variadas': 1, 'sencillo': 10, 'idioma': 6, 'gramaticales': 1, 'traducciones': 1, 'combinaciones': 3, 'modificaciones': 2, 'estamos': 19, 'autoriza': 1, 'indignado': 1, 'insinué': 2, 'acierto': 2, 'griego': 2, 'hombros': 9, 'encogiéndose': 3, 'islandesa': 6, 'propios': 3, 'latín': 7, 'admite': 1, 'declina': 1, 'géneros': 1, 'diferencia': 2, 'estimulada': 1, 'curiosidad': 5, 'bella': 6, 'impreso': 2, 'manuscrito': 3, 'hablar': 22, 'ocurre': 15, 'ignorante': 2, 'ventura': 8, 'bueno': 15, 'desdichado': 1, 'rúnico': 2, 'fuera': 11, 'cómo': 53, 'crees': 5, 'te': 42, 'vas': 9, 'explique': 1, 'significa': 9, 'decirme': 3, 'ahora': 51, 'guardaría': 1, 'amor': 3, 'ofendido': 1, 'repliqué': 4, 'ello': 19, 'propio': 6, 'cosas': 13, 'quieras': 4, 'enseñara': 1, 'interesaban': 1, 'soporté': 2, 'salidos': 1, 'excelsa': 1, 'fueron': 15, 'caracteres': 9, 'unos': 27, 'prosiguió': 25, 'usada': 1, 'impío': 1, 'inventados': 1, 'runas': 2, 'admiras': 1, 'odín': 1, 'escritura': 1, 'estos': 57, 'dios': 10, 'tradición': 1, 'incidente': 9, 'ponerles': 1, 'prosternarme': 1, 'agradar': 1, 'brete': 1, 'reyes': 1, 'saber': 12, 'respuesta': 11, 'ventaja': 1, 'imprevisto': 5, 'conversación': 11, 'vino': 8, 'tiene': 34, 'género': 19, 'replicar': 3, 'dioses': 2, 'debe': 16, 'responder': 5, 'deslizándose': 1, 'pergamino': 9, 'cayó': 4, 'grasiento': 1, 'fue': 48, 'suelo': 37, 'aparición': 8, 'recogerlo': 1, 'documento': 29, 'elevadísimo': 1, 'avidez': 4, 'dentro': 16, 'apresuró': 3, 'indecible': 2, 'inmemorial': 1, 'encerrado': 2, 'emocionado': 3, 'cinco': 28, 'desplegaba': 1, 'transversales': 1, 'trazados': 1, 'cuidadosamente': 5, 'largo': 31, 'ancho': 4, 'trozo': 8, 'mágicos': 2, 'pulgadas': 4, 'unas': 20, 'quitándose': 1, 'serie': 19, 'instantes': 15, 'atentamente': 10, 'garabatos': 1, 'fin': 75, 'examinó': 4, 'durante': 56, 'cabe': 9, 'significan': 1, 'rúnicos': 2, 'exactamente': 7, 'ignorantes': 1, 'sentí': 14, 'hizo': 34, 'embaucar': 1, 'entendiese': 1, 'manera': 35, 'convulsa': 1, 'suponer': 6, 'temblor': 1, 'dedos': 6, 'agitar': 1, 'sabios': 20, 'comenzó': 8, 'invención': 2, 'dientes': 10, 'murmuraba': 1, 'superficie': 70, 'hablan': 2, 'lenguas': 5, 'correctamente': 1, 'cuatro': 28, 'globo': 55, 'mil': 33, 'poseía': 7, 'nadie': 15, 'pasaba': 6, 'políglota': 2, 'saberlo': 5, 'hablaba': 6, 'dialectos': 1, 'dejarse': 3, 'dificultad': 7, 'desagradable': 3, 'llevar': 6, 'veía': 19, 'violento': 7, 'reloj': 2, 'chimenea': 13, 'dieron': 1, 'venir': 4, 'escena': 4, 'momento': 71, 'aquel': 108, 'diciendo': 4, 'abrió': 7, 'servida': 2, 'sopa': 3, 'coman': 1, 'hecho': 52, 'diablo': 4, 'furibundo': 1, 'encontré': 9, 'costumbre': 9, 'explicarme': 1, 'asustada': 1, 'sitio': 11, 'marchó': 2, 'salí': 5, 'sentado': 3, 'jamón': 1, 'nuez': 1, 'viniera': 1, 'perejil': 1, 'primera': 22, 'exquisito': 2, 'faltaba': 10, 'moscada': 1, 'regado': 1, 'solemnidad': 2, 'mosa': 1, 'tortilla': 1, 'sopas': 1, 'mío': 39, 'langostinos': 1, 'dulce': 3, 'esperé': 5, 'solomillo': 1, 'ternera': 1, 'abundantemente': 1, 'ciruelas': 1, 'compota': 1, 'sepa': 3, 'postre': 1, 'asombroso': 3, 'perdió': 2, 'comer': 8, 'papelucho': 1, 'fuer': 3, 'deber': 1, 'creí': 12, 'apetitosa': 1, 'deglutí': 1, 'falta': 7, 'visto': 15, 'días': 43, 'servía': 3, 'mientras': 29, 'concibe': 2, 'sentenciosamente': 1, 'cabeza': 63, 'vieja': 3, 'grave': 10, 'añadió': 13, 'sacudiendo': 2, 'presagio': 1, 'parece': 32, 'acontecimiento': 2, 'horrible': 5, 'escándalo': 2, 'percatase': 1, 'ración': 4, 'presagiaba': 1, 'promover': 1, 'devorado': 3, 'aquello': 12, 'último': 26, 'salto': 10, 'comiendo': 2, 'realidad': 14, 'pasé': 4, 'volver': 16, 'langostino': 1, 'voz': 36, 'estentórea': 1, 'tengo': 29, 'numérico': 1, 'escrito': 14, 'frunciendo': 1, 'entrecejo': 2, 'oculto': 3, 'descubrir': 12, 'secreto': 14, 'contrario': 16, 'existe': 17, 'terminó': 4, 'pensamiento': 5, 'iracundia': 1, 'gesto': 7, 'indicándome': 1, 'escribe': 2, 'siéntate': 1, 'puño': 1, 'obedecí': 5, 'rapidez': 10, 'voy': 10, 'islandeses': 14, 'alfabeto': 2, 'cuida': 1, 'dictarte': 1, 'clavos': 2, 'corresponden': 1, 'nuestro': 63, 'cristo': 1, 'equivocarte': 1, 'veremos': 8, 'resulta': 6, 'letras': 16, 'continuación': 6, 'incomprensible': 4, 'otras': 31, 'dictarme': 1, 'formando': 8, 'juntas': 2, 'escribir': 8, 'siguientes': 3, 'empezó': 4, 'sucesión': 6, 'seecjde': 1, 'iac': 1, 'rnlls': 2, 'mm': 2, 'eeutul': 1, 'sgtssmf': 1, 'frantu': 1, 'atvaar': 1, 'ccdrmi': 1, 'kediiy\\xa0': 1, 'niedrke': 1, 'unteief': 2, 'kt': 1, 'saodrrn': 1, 'erntnael': 1, 'nxcrc': 1, 'dt': 1, 'samn': 1, 'oseibo': 2, 'nuaect': 1, 'rrilsa': 1, 'ieaabs': 1, 'atrates': 1, 'esreuel': 1, 'arrebatóme': 1, 'trabajo': 15, 'papel': 19, 'terminado': 8, 'acababa': 14, 'vivamente': 6, 'maquinalmente': 6, 'quiere': 18, 'decir': 43, 'hubiera': 43, 'detenerse': 6, 'quien': 24, 'explicárselo': 1, 'pregunta': 17, 'ciertamente': 9, 'dirigida': 3, 'podido': 14, 'propósito': 5, 'explicación': 9, 'descubrimiento': 6, 'conveniente': 1, 'criptograma': 6, 'frase': 18, 'halla': 13, 'formarían': 1, 'llama': 10, 'inteligible': 1, 'alteradas': 1, 'indicación': 3, 'sentido': 11, 'ocultan': 1, 'combinadas': 1, 'concepto': 2, 'ocultaba': 1, 'guardé': 2, 'expresarle': 1, 'opinión': 11, 'entonces': 94, 'tomó': 15, 'comparó': 2, 'están': 8, 'buscaríamos': 1, 'incorporada': 1, 'xiv': 2, 'evidencia': 4, 'posterior': 1, 'siglos': 15, 'manuscritos': 1, 'corta': 4, 'median': 1, 'consiguiente': 11, 'hechos': 11, 'letra': 5, 'mano': 55, 'vano': 6, 'm': 3, 'trataré': 2, 'lógico': 2, 'ocultarlo': 1, 'pareció': 13, 'sería': 28, 'misteriosos': 1, 'inclino': 2, 'demonios': 3, 'trazó': 1, 'algún': 33, 'quién': 23, 'poseedores': 1, 'alguno': 17, 'primeras': 6, 'comprendió': 3, 'poderosa': 2, 'descubrió': 7, 'anteportada': 1, 'examinada': 1, 'minuciosa': 2, 'leyó': 3, 'mancha': 3, 'logró': 3, 'pasó': 5, 'segunda': 7, 'signos': 4, 'levantó': 7, 'ayudado': 1, 'trabajó': 2, 'únicos': 3, 'lente': 1, 'clave': 7, 'distinguir': 4, 'cerca': 13, 'allí': 29, 'veíanse': 2, 'páginas': 1, 'borrón': 1, 'cuales': 26, 'dorso': 1, 'tesón': 1, 'transcribo': 1, 'revista': 1, 'borrosos': 1, 'corrido': 6, 'tinta': 3, 'triunfo': 2, 'alquimista': 3, 'señas': 7, 'célebre': 6, 'arne': 11, 'saknussemm': 41, 'xvi': 6, 'cierta': 7, 'miré': 11, 'casi': 28, 'alquimistas': 1, 'lulio': 1, 'hicieron': 5, 'seguridad': 8, 'verdaderos': 4, 'avicena': 1, 'época': 22, 'paracelso': 1, 'nos': 260, 'asombrosos': 1, 'realmente': 9, 'dice': 17, 'bacán': 1, 'sorprendente': 6, 'ocultado': 1, 'viva': 11, 'exaltarse': 1, 'imaginación': 20, 'idea': 30, 'ocultar': 3, 'interés': 7, 'atreví': 6, 'acaso': 5, 'ingerir': 1, 'sé': 13, 'arranque': 1, 'saturno': 1, 'alimento': 2, 'descansaré': 1, 'cerrar': 2, 'galileo': 1, 'encierra': 3, 'tardaremos': 5, 'párpados': 3, '“dios': 1, 'asista”': 1, 'adentros': 1, 'tampoco': 15, 'comido': 1, 'jeroglífico': 1, 'difícil': 12, 'averiguar': 2, 'oír': 15, 'soliloquio': 1, 'levanté': 8, 'idiomas': 2, 'observa': 4, 'norte': 18, 'treinta': 21, 'infinitamente': 1, 'meridionales': 2, 'ciento': 8, 'ricos': 2, 'proporción': 2, 'meridional': 4, 'contiene': 3, 'vocales': 3, '53': 1, 'consonantes': 3, 'simple': 1, '79': 1, 'exacta': 7, 'conclusión': 3, 'atinada': 1, 'reconocer': 10, 'esperaba': 12, 'profundo': 10, 'vacilar': 5, 'analizador': 1, 'cultos': 1, 'utilizó': 1, 'engaño': 1, 'recurriré': 1, 'boga': 1, 'nativa': 1, 'puedo': 20, 'preferentemente': 1, 'hebreo': 2, 'francés': 5, 'italiano': 2, 'eligiera': 1, 'escribían': 1, 'español': 2, 'fundamento': 2, 'asegurar': 1, 'instruido': 1, 'espíritus': 2, 'priori': 1, 'mentado': 1, 'di': 8, 'ininteligibles': 3, 'aquella': 59, 'pertenecer': 3, 'virgilio': 3, 'recuerdos': 6, 'suposición': 2, 'contra': 44, 'silla': 1, 'sublevaron': 1, 'latinista': 1, 'confuso': 2, 'ponerlo': 1, 'listo”': 1, 'logras': 1, '“en': 1, 'eres': 6, 'buena”': 1, 'claro': 5, 'demostrarás': 1, 'escrita': 4, 'combinada': 2, 'nuestros': 60, 'entran': 1, 'primitiva': 3, 'disposición': 14, 'poseyera': 1, 'abundan': 2, 'muestran': 1, 'tomando': 3, 'evidentemente': 19, 'leería': 1, 'sino': 26, 'ley': 6, 'alterada': 1, 'penúltima': 1, 'desconocida': 1, 'enigma': 3, 'desorden': 3, 'ejemplo': 7, 'quinta': 2, 'indudable': 2, 'examinémoslo': 1, 'sido': 47, 'nuevamente': 21, 'aparente': 1, 'regularmente': 2, 'presidido': 1, 'hoja': 10, 'triste': 6, 'imagen': 1, 'ausencia': 6, 'paciencia': 4, 'suyo': 4, 'altona': 6, 'encantadora': 1, 'confesarlo': 1, 'trasladó': 2, 'azules': 5, 'amaban': 1, 'encontraba': 20, 'flema': 2, 'mundo': 45, 'rubia': 2, 'tudesca': 1, 'sentimientos': 3, 'comprender': 9, 'adoraba': 1, 'sazón': 13, 'ensueños': 1, 'mas': 33, 'adorable': 2, 'pupila': 2, 'abstraídos': 1, 'linda': 1, 'amaba': 1, 'dado': 10, 'pariente': 2, 'sencilla': 5, 'respecta': 16, 'retrato': 1, 'enterase': 2, 'alemanas': 1, 'muchacha': 2, 'espíritu': 15, 'pared': 31, 'contesté': 7, 'región': 4, 'serio': 3, 'verbo': 1, 'colgado': 1, 'realidades': 1, 'habíamos': 40, 'casamiento': 1, 'volvía': 5, 'cuánta': 1, 'compañera': 1, 'entendida': 1, 'delicadas': 1, 'rotulaba': 1, 'frecuencia': 11, 'fiel': 6, 'materia': 2, 'arduas': 1, 'placeres': 1, 'pasado': 11, 'estudiando': 2, 'tareas': 1, 'acariciaba': 4, 'juntos': 2, 'dulces': 2, 'horas': 49, 'gustaba': 1, 'ordenar': 3, 'profundizar': 1, 'envidiado': 1, 'insensibles': 2, 'conmigo': 7, 'cisnes': 1, 'provocaban': 1, 'desembarcadero': 1, 'caminábamos': 8, 'blancos': 4, 'frondosas': 1, 'molino': 1, 'despedirnos': 1, 'risa': 1, 'elba': 4, 'nenúfares': 1, 'íbamos': 12, 'historietas': 1, 'orillas': 8, 'nadaban': 1, 'extremidad': 15, 'alquitranado': 1, 'alster': 1, 'descanso': 8, 'alamedas': 1, 'produce': 4, 'vaporcito': 2, 'lago': 7, 'volvíamos': 1, 'llegábamos': 2, 'relataba': 1, 'paseo': 10, 'salíamos': 1, 'cogidos': 1, 'seguía': 10, 'terrible': 16, 'descargando': 1, 'trajo': 2, 'sueños': 2, 'violenta': 6, 'puñetazo': 2, 'descifrar': 1, 'veamos': 5, 'verticalmente': 3, 'ocurrir': 6, 'desencaminado': 1, 'disponer': 3, 'verticales': 5, 'agrupadas': 2, 'obtiene': 1, 'columnas': 6, 'colócalas': 1, 'arriba': 13, 'procedimiento': 3, 'formen': 1, 'abajo': 16, 'escribí': 1, 'intención': 3, 'comprendí': 14, 'inmediatamente': 10, '\\xa0': 5, 'r': 1, 'd': 2, 's': 3, 'g': 1, 'ü': 1, 'n': 1, 'l': 1, 'i': 1, 'b': 1, 't': 1, 'obtuve': 2, 'leer': 7, 'línea': 10, 'horizontal': 6, 'dispón': 1, 'siguiente': 30, 'eresgb': 1, 'lnian\\xa0': 1, 'toblaü': 1, 'aolire': 1, 'mayor': 31, 'mayúscula': 1, 'arrebatándome': 1, 'fisonomía': 4, 'encuentran': 5, 'coma': 1, 'adquirido': 2, 'medio': 66, 'igual': 8, 'perfectamente': 23, 'parecieron': 4, 'observaciones': 17, 'confesar': 8, 'ingeniosas': 2, 'debo': 7, 'sucesivamente': 3, 'seguida': 36, 'directamente': 4, 'bastará': 3, 'tercera': 5, 'acabas': 2, 'tomar': 16, 'desconozco': 2, 'sorpresa': 10, 'suya': 4, 'mía': 11, 'adoro': 1, 'bellísima': 1, 'imperdonable': 1, 'torpeza': 1, 'comprometedora': 1, 'darme': 4, 'cometido': 1, 'tutor': 3, 'conque': 4, 'amas': 2, 'eh': 2, 'desconcertado': 2, 'balbucí': 1, 'cuestión': 16, 'dejemos': 2, 'apliquemos': 1, 'corazón': 13, 'absorbió': 1, 'abismado': 2, 'contemplación': 2, 'imprudentes': 1, 'afortunadamente': 4, 'digo': 6, 'olvidó': 3, 'absorbente': 1, 'decisivo': 1, 'otra': 56, 'realizar': 1, 'instante': 25, 'demás': 3, 'coger': 2, 'tosió': 1, 'chispas': 2, 'lanzaban': 1, 'nombrando': 1, 'experimento': 2, 'temblaban': 1, 'dictando': 1, 'fuertemente': 8, 'solemne': 1, 'tras': 12, 'través': 35, 'ecertswrrette': 1, 'mmessunkasenra': 1, 'iacartniiilujsitatracsarbmutabiledmeili': 1, 'segnittamurtn': 1, 'icefdok': 1, 'meretarcsilucoysleffensnl\\xa0': 1, 'rotaivxadua': 1, 'ednecsedsadne': 1, 'dejase': 1, 'pronunciadas': 2, 'latina': 2, 'terminar': 3, 'escapar': 3, 'pomposa': 1, 'saltó': 1, 'pluma': 4, 'común': 7, 'frenético': 2, 'alud': 2, 'proyectil': 2, 'atravesando': 2, 'bajando': 4, 'correr': 4, 'huyó': 1, 'engolfóse': 1, 'portazo': 1, 'ruido': 26, 'retumbó': 1, 'acudiendo': 1, 'preguntó': 23, 'marchado': 6, 'respondí': 15, 'comerá': 1, 'hoy': 7, 'cena': 4, 'cenará': 2, 'garrapatas': 1, 'resuelto': 3, 'nosotros': 36, 'volveremos': 3, 'descifrado': 1, 'lleno': 5, 'indescifrable': 1, 'ponernos': 2, 'dieta': 3, 'inanición': 2, 'pobres': 6, 'perecer': 4, 'testarudez': 1, 'dada': 2, 'esa': 20, 'confesarle': 1, 'lamentando': 1, 'sirvienta': 1, 'crédula': 1, 'cocina': 5, 'regresó': 2, 'írselo': 1, 'objeto': 16, 'logogrífico': 1, 'contar': 6, 'ocurrió': 6, 'reanudar': 6, 'egipto': 1, 'loco': 11, 'respondía': 2, 'quedé': 7, 'sucedería': 1, 'quedarme': 1, 'besanzón': 1, 'cristales': 4, 'clasificar': 1, 'escogí': 1, 'casualidad': 6, 'interior': 35, 'puse': 8, 'rotulé': 1, 'huecas': 1, 'silíceas': 1, 'decidí': 4, 'agitaban': 1, 'geodas': 3, 'precisamente': 6, 'remitirnos': 1, 'clasifiqué': 1, 'vitrina': 1, 'coloqué': 2, 'prudente': 4, 'pequeños': 6, 'piedras': 17, 'vueltas': 10, 'vaga': 4, 'apartaba': 2, 'inquietud': 3, 'pensaba': 8, 'catástrofe': 2, 'inminente': 2, 'perturbaba': 1, 'presentía': 2, 'haciendo': 5, 'comprobar': 2, 'náyade': 3, 'colocadas': 2, 'cabo': 26, 'colgando': 2, 'estaría': 5, 'imaginaba': 2, 'observar': 6, 'cardos': 1, 'decapitando': 1, 'ninfa': 1, 'caer': 14, 'escuchaba': 3, 'apoyada': 1, 'estaban': 7, 'encendí': 1, 'orden': 12, 'negativo': 2, 'pipa': 1, 'representaba': 1, 'recostada': 1, 'cigüeñas': 1, 'butaca': 3, 'entretuve': 2, 'dónde': 26, 'calzada': 2, 'árboles': 15, 'espuma': 5, 'gesticulando': 3, 'oían': 1, 'hierbas': 2, 'brazos': 22, 'frondosos': 2, 'solitarias': 1, 'resultado': 5, 'corriendo': 6, 'tapias': 1, 'ennegreciendo': 1, 'dejé': 7, 'voluptuosamente': 1, 'paulatino': 1, 'humo': 8, 'respaldo': 1, 'golpeando': 1, 'pisoteando': 1, 'reposo': 8, 'interrumpiendo': 1, 'poderoso': 2, 'descubriría': 1, 'volvería': 1, 'derrotado': 1, 'victorioso': 1, 'trazadas': 1, 'dirigía': 1, 'varias': 6, 'preguntas': 4, 'diciéndome': 2, 'hallaba': 27, 'cogí': 2, 'rota': 1, 'inglesa': 2, 'noté': 1, 'ice': 1, 'cuerpo': 14, 'formasen': 1, 'sir': 1, 'vigesimocuarta': 1, 'vigesimosexta': 1, 'leí': 2, 'agrupar': 1, 'perteneciente': 3, 'reunirlas': 1, 'inútil': 6, 'ira': 1, 'mutabile': 1, 'nec': 1, 'seis': 30, 'decimoquinta': 1, 'formaban': 8, 'atra': 1, 'decimosexta': 1, 'resultaban': 1, 'traté': 7, 'decimocuarta': 1, 'latinas': 2, 'inteligibles': 1, 'vigésimo': 1, 'redactado': 4, 'sagrado': 2, 'hebrea': 1, 'francesas': 1, 'demonio': 1, 'cuarta': 3, 'última': 23, 'bosque': 7, 'luco': 1, 'netamente': 1, 'tabiled': 1, 'lee': 1, 'parecen': 7, 'mere': 1, 'acerca': 9, 'estructura': 6, 'últimas': 8, 'arc': 1, 'veo': 22, 'mer': 1, 'madre': 3, 'existir': 3, 'cruel': 2, 'hielo': 3, 'arco': 2, 'coordinarse': 1, 'mudable': 1, 'fácilmente': 13, 'podían': 11, 'relación': 1, 'volverse': 3, 'absurda': 1, 'bastaba': 4, 'diversos': 6, 'extraño': 15, 'mar': 107, 'hablase': 2, 'revolotear': 1, 'mirar': 4, 'luchaba': 2, 'echaba': 1, 'plata': 3, 'moverse': 1, 'nuestra': 84, 'insuperable': 2, 'torno': 5, 'vista': 32, 'agolpa': 1, 'aire': 54, 'fuego': 25, 'obscurecía': 1, 'alrededor': 10, 'cerebro': 8, 'vemos': 3, 'lágrimas': 4, 'puro': 1, 'instintivamente': 4, 'abanicaba': 1, 'anverso': 1, 'víctima': 1, 'presentaba': 9, 'alucinación': 5, 'asfixiaba': 2, 'alternativamente': 3, 'reverso': 2, 'sentía': 13, 'necesidad': 11, 'quedar': 3, 'craterem': 2, 'rápidas': 5, 'aparecer': 2, 'júzguese': 5, 'terrestre': 37, 'suposiciones': 2, 'trasluz': 1, 'acertado': 1, 'faltado': 2, 'mirarlo': 1, 'presentó': 3, 'claridad': 13, 'revés': 2, 'revelar': 2, 'súbitamente': 4, 'vuelta': 7, 'leerse': 1, 'dictado': 1, 'pudiese': 2, 'realizaban': 1, 'rabo': 1, 'siquiera': 18, 'servirme': 3, 'turbaron': 1, 'poseer': 6, 'extendí': 2, 'mirada': 25, 'imaginar': 2, 'emoción': 11, 'fijar': 2, 'apaciguar': 1, 'agitación': 5, 'arrellané': 1, 'nervios': 6, 'amplio': 3, 'logré': 2, 'resolví': 6, 'calmar': 2, 'estancia': 3, 'provisión': 3, '“leamos”': 1, 'pulmones': 7, 'haber': 35, 'dije': 42, 'pronuncié': 2, 'entera': 6, 'estupefacción': 8, 'audacia': 4, 'inmensa': 15, 'principio': 15, 'efectuado': 2, 'detenerme': 3, 'alta': 5, 'penetrar': 9, 'suficiente': 8, 'apoderaron': 1, 'dedo': 7, 'incliné': 2, 'terror': 12, 'herido': 3, 'rayo': 8, 'viaje': 53, 'consigo': 8, 'repetirlo': 1, 'partiría': 1, 'dando': 13, 'detenerlo': 2, 'sabrá': 1, 'dificultades': 8, 'regresaríamos': 1, 'faltaría': 2, 'querría': 1, 'lograse': 2, 'brinco': 1, 'obstáculos': 2, 'llevándome': 1, 'exaltado': 1, 'noticia': 5, 'sobreexcitación': 3, 'indescriptible': 4, 'estado': 29, 'acontecer': 1, 'puesto': 19, 'evitaré': 1, 'podría': 13, 'tirano': 1, 'trance': 2, 'energía': 7, 'destruyámoslo': 1, 'ocurra': 2, 'descubriese': 1, 'impedir': 1, 'casual': 1, 'destruir': 1, 'quedaban': 4, 'umbral': 2, 'febril': 3, 'rescoldos': 1, 'peligroso': 4, 'apoderándome': 1, 'arrojarlo': 1, 'apareció': 4, 'dejar': 6, 'malhallado': 1, 'dio': 22, 'juego': 2, 'combinación': 2, 'dispuesto': 4, 'preocupado': 4, 'poniendo': 2, 'analizado': 1, 'asunto': 3, 'recursos': 2, 'escudriñado': 1, 'dominante': 1, 'ensayar': 1, 'abandonaba': 1, 'nueva': 11, 'ciertas': 9, 'algebraicos': 1, 'acomodó': 2, 'recordaban': 4, 'cálculos': 17, 'fórmulas': 1, 'verdadera': 9, 'investigaciones': 4, 'encontrada': 1, 'resultar': 1, 'forzosamente': 1, 'producirse': 2, 'debían': 4, 'perder': 16, 'movimientos': 8, 'temblorosa': 3, 'estremecía': 2, 'única': 9, 'infructuosas': 1, 'borrando': 1, 'raspando': 1, 'largas': 6, 'levantar': 3, 'volviendo': 2, 'comenzando': 1, 'nuevo': 41, 'cuatrillones': 1, 'relativas': 5, 'posibles': 1, 'ignoraba': 3, 'acabaría': 3, 'veinte': 15, 'ocho': 17, 'pueden': 10, 'cuatrocientos': 2, 'encontrar': 17, 'novecientos': 1, 'cuarenta': 15, 'quinquillones': 1, 'sabía': 8, 'ocupasen': 1, 'setenta': 3, 'formar': 6, 'lograba': 1, 'posiciones': 1, 'trillones': 1, 'millones': 3, 'coordinar': 1, 'constaba': 1, 'cifras': 3, 'expresa': 3, 'compuesta': 2, 'método': 1, 'enunciarse': 1, 'problema': 4, 'cantidad': 13, 'concebirse': 1, 'frases': 1, 'distintas': 2, 'resolvería': 1, 'entretanto': 13, 'cesaron': 1, 'entendía': 1, 'absolutamente': 5, 'cerrada': 5, 'noche': 50, 'tarea': 4, 'entreabrió': 1, 'ruidos': 6, 'acometido': 2, 'resistir': 4, 'sueño': 18, 'dormir': 3, 'tiré': 1, 'sofá': 1, 'complicados': 1, 'tuvo': 9, 'proseguía': 4, 'marcharse': 2, 'invencible': 2, 'cerebral': 1, 'pómulos': 2, 'pálida': 2, 'lucha': 3, 'febriles': 1, 'contención': 1, 'cabellos': 4, 'imposible': 34, 'delataban': 2, 'infatigable': 1, 'claras': 1, 'amoratados': 1, 'desesperada': 2, 'experimentado': 5, 'enrojecidos': 2, 'sostenido': 3, 'fatigas': 7, 'trabajaba': 5, 'desordenados': 3, 'desperté': 6, 'peón': 1, 'día': 56, 'tez': 1, 'creía': 9, 'temer': 8, 'tensión': 3, 'vivas': 2, 'reconcentraban': 1, 'queja': 2, 'compasión': 1, 'hiciese': 2, 'encolerizarse': 2, 'ordinario': 3, 'fuerzas': 20, 'infeliz': 1, 'absorbido': 3, 'extraordinaria': 5, 'punto': 34, 'acordaba': 3, 'salida': 12, 'conmovido': 2, 'cauce': 2, 'motivos': 2, 'estallar': 1, 'pronunciarla': 1, 'comprimía': 1, 'quise': 8, 'aflojar': 1, 'tornillo': 1, 'sola': 10, 'férreo': 1, 'cráneo': 4, 'dotado': 8, 'bondadoso': 1, 'hallándome': 1, 'callaba': 1, 'circunstancias': 11, 'tales': 11, 'hablaré”': 1, 'no”': 1, '“no': 1, 'geólogos': 7, 'posee': 3, 'adivine': 1, 'propia': 7, 'muerte': 7, 'excursión': 8, 'revelárselo': 1, 'empeñaría': 1, 'eternamente': 2, 'ardorosa': 2, 'guardaré': 1, 'callaré': 1, 'ocasionarle': 1, 'perdición': 1, 'arriesgar': 1, 'han': 36, 'reprocharme': 1, 'hubo': 15, 'algunas': 43, 'adoptada': 1, 'cruzado': 2, 'sobrevenir': 1, 'resolución': 2, 'contado': 3, 'aguardé': 1, 'quitado': 1, 'trató': 3, 'cerradura': 1, 'regresar': 8, 'mercado': 2, 'llave': 5, 'encontró': 4, 'trasladarse': 3, 'precipitada': 1, 'apetito': 7, 'acuerdo': 4, 'víctimas': 1, 'creado': 2, 'someternos': 1, 'dolores': 6, 'acordé': 1, 'ocasión': 11, 'rigores': 1, 'clasificación': 1, 'agradables': 1, 'fuerte': 7, 'permaneció': 3, 'situación': 19, 'deliberada': 1, 'sufrí': 1, 'precedente': 3, 'estómago': 3, 'llenó': 1, 'familia': 10, 'atrás': 3, 'devorador': 3, 'científica': 3, 'soportar': 3, 'descuido': 1, 'armé': 1, 'almuerzo': 7, 'supuse': 1, 'adivinar': 3, 'cambio': 9, 'desesperaba': 1, 'imposibilidad': 3, 'quedado': 4, 'anterior': 3, 'ceder': 2, 'razones': 6, 'exigencias': 1, 'podrán': 3, 'afligía': 1, 'necesidades': 2, 'apartado': 2, 'verdaderamente': 10, 'perdía': 4, 'terrenas': 1, 'dédalo': 1, 'víspera': 8, 'aguijoneó': 1, 'protestas': 1, 'provisiones': 12, 'seriamente': 2, 'encerradas': 1, 'mediodía': 10, 'quedaba': 9, 'despensa': 1, 'pundonor': 1, 'aceptar': 4, 'suponía': 1, 'crédito': 6, 'diese': 1, 'abstinencia': 2, 'abrir': 9, 'intolerable': 1, 'vería': 2, 'detenerle': 2, 'daría': 2, 'lograríamos': 1, 'ridículamente': 1, 'empecé': 7, 'importancia': 5, 'resultando': 1, 'sacrificios': 2, 'farsa': 1, 'caso': 19, 'exageraba': 1, 'sonaron': 2, 'posible': 38, 'infructuosos': 2, 'desfavorable': 1, 'rechazado': 1, 'indignación': 2, 'absurdo': 2, 'llegué': 4, 'aguardado': 1, 'resultaron': 2, 'juzgar': 5, 'excelentes': 1, 'andaba': 1, 'dispuso': 1, 'buscando': 5, 'entablar': 1, 'horror': 5, 'dejarnos': 2, 'encerrados': 4, 'nunca': 12, 'oído': 14, 'haberme': 4, 'repetí': 6, 'levantando': 3, 'despierta': 2, 'súbito': 1, 'tenemos': 18, 'interrogó': 3, 'asió': 1, 'poder': 16, 'debió': 4, 'enérgicamente': 1, 'brazo': 10, 'observó': 2, 'expresivo': 2, 'formulada': 2, 'movía': 4, 'hablando': 4, 'conmiseración': 1, 'sacudía': 1, 'estuviese': 1, 'desequilibrado': 1, 'hice': 7, 'afirmativo': 2, 'fulgor': 1, 'brillaron': 1, 'adoptó': 1, 'agresiva': 1, 'extraordinario': 8, 'actitud': 5, 'espectador': 1, 'mudo': 3, 'interesado': 1, 'diálogo': 2, 'indiferente': 4, 'franco': 2, 'transportes': 2, 'júbilo': 7, 'ahogase': 1, 'primeros': 15, 'tuve': 17, 'temeroso': 1, 'apremió': 1, 'atrevía': 2, 'responderle': 3, 'querido': 10, 'dices': 8, 'lea': 2, 'alargándole': 1, 'tome': 1, 'rabia': 1, 'estrujando': 1, 'comienza': 2, 'empieza': 2, 'hacerse': 5, 'revelación': 1, 'transfigurado': 1, 'grito': 10, 'rugido': 1, 'lanzó': 5, 'ingenioso': 3, 'habías': 2, 'tu': 20, 'enronquecida': 1, 'subiendo': 3, 'turbada': 2, 'cogiendo': 2, 'términos': 2, 'umbra': 1, 'intra': 1, 'kem': 1, 'feci': 1, 'delibat': 1, 'julii': 1, 'audax': 1, 'sneffels': 47, 'attinges': 1, 'descende': 1, 'viator': 1, 'centrum': 1, 'calendas': 6, 'yoculis': 1, 'scartaris': 10, 'in': 1, 'kod': 1, 'traducir': 1, 'llegado': 23, 'julio': 12, 'yocul': 4, 'tierra': 91, 'sombra': 21, 'viajero': 4, 'centro': 39, 'cráter': 38, 'acaricia': 1, 'llegarás': 1, 'audaz': 5, 'antes': 32, 'desciende': 6, 'diestro': 1, 'agotadas': 1, 'corría': 7, 'inestimables': 2, 'desplomó': 1, 'libros': 4, 'proferían': 1, 'alegría': 5, 'patadas': 1, 'descarga': 1, 'leyden': 1, 'hubiese': 17, 'convicción': 5, 'recibido': 2, 'botella': 2, 'increíble': 2, 'energías': 4, 'sillas': 1, 'puñetazos': 1, 'siniestro': 3, 'tiraba': 2, 'repartía': 1, 'improviso': 10, 'oprimía': 3, 'pegó': 2, 'venía': 6, 'chocaba': 2, 'precipitadamente': 2, 'parezca': 1, 'lugar': 24, 'calmaron': 2, 'silencio': 25, 'estoy': 10, 'desfallecido': 2, 'atrocidad': 1, 'equipaje': 5, 'prepararás': 1, 'despiadado': 1, 'tuyo': 1, 'sereno': 1, 'dialéctica': 1, 'escuchar': 6, 'ocupó': 2, 'detener': 3, 'poderosos': 2, 'locura': 5, 'argumentos': 6, 'escalofrío': 2, 'ponerle': 1, 'reservé': 3, 'mantuve': 1, 'oponer': 1, 'oportuno': 3, 'cara': 11, 'podrían': 2, 'recorrió': 2, 'devolvió': 2, 'vacía': 2, 'encontrarse': 1, 'libertad': 5, 'actividad': 9, 'corrió': 2, 'diligencia': 1, 'imprecaciones': 1, 'explicada': 1, 'satisfecho': 3, 'completamente': 7, 'desplegó': 1, 'tarde': 30, 'peligro': 11, 'siguiese': 2, 'jovialidad': 2, 'postres': 3, 'chistes': 1, 'permitiéndose': 1, 'encierran': 1, 'terminados': 2, 'chistar': 1, 'escritorio': 1, 'ubicó': 1, 'prestado': 1, 'conquistar': 2, 'cansado': 1, 'vencido': 2, 'él―': 1, 'gloria': 6, 'olvidaré': 1, 'amabilidad': 4, 'frecuente': 3, 'servicio': 7, 'luchar': 6, 'participarás': 1, 'has': 13, 'muchacho': 3, '“se': 1, 'gloria”': 1, 'humor': 5, 'discutir': 2, '“bien”': 1, 'emprender': 6, 'quisieran': 1, 'envidiosos': 2, 'absoluto': 11, 'aventura': 3, 'entiendes': 3, 'recomiendo': 1, 'tendrán': 2, 'faltan': 6, 'regreso': 9, 'audaces': 2, 'grande': 14, 'cree': 4, 'entero': 6, 'ejército': 2, 'llegara': 1, 'conocerse': 1, 'precipitaría': 1, 'vacilaría': 1, 'huellas': 10, 'pos': 1, 'opino': 2, 'prueba': 7, 'autenticidad': 5, 'encontrado': 7, 'hemos': 40, 'creer': 10, 'pueda': 5, 'superchería': 1, 'niego': 1, 'realizado': 1, 'esbozó': 2, 'aventurado': 1, 'frunció': 1, 'delgados': 1, 'sonrisa': 5, 'lamenté': 2, 'poblado': 2, 'malogrado': 1, 'fortuna': 9, 'objeciones': 2, 'formular': 1, 'molesto': 1, 'permítame': 3, 'habla': 4, 'expongas': 2, 'colega': 1, 'permito': 2, 'hijo': 34, 'opongo': 1, 'oí': 13, 'diga': 1, 'scartars': 1, 'agradeceré': 1, 'quieren': 1, 'fecha': 3, 'z': 1, 'hace': 15, 'amigo': 3, 'segundo': 5, 'tercer': 1, 'paterman': 1, 'carta': 4, 'recibí': 1, 've': 5, 'toma': 5, 'librería': 1, 'tabla': 1, 'estante': 1, 'oportuna': 1, 'atlas': 2, '4': 4, 'precisión': 2, 'fui': 9, 'buscarlo': 1, 'indicaciones': 5, 'handerson': 1, 'mejores': 4, 'resolver': 3, 'mapa': 7, 'fíjate': 2, 'llevan': 2, 'llena': 5, 'ésta': 12, 'capas': 30, 'isla': 29, 'ocupa': 1, 'montes': 3, 'realizan': 1, 'ignívomos': 2, 'elevada': 6, 'volcanes': 10, 'latitud': 4, 'aplique': 1, 'erupciones': 8, 'ventisquero': 2, 'yocuj': 1, 'conformes': 2, 'responderme': 1, 'equivoqué': 1, 'sabría': 3, 'reykiavik': 20, 'sígueme': 2, 'innumerables': 7, 'escarpadas': 5, 'debajo': 30, '75': 1, 'detente': 1, 'remonta': 2, 'occidental': 5, 'fiordos': 3, 'costas': 13, 'capital': 4, 'rótula': 3, 'península': 7, 'semeja': 1, 'hueso': 2, 'termina': 2, 'enorme': 30, 'pelado': 1, 'dime': 3, 'comparación': 3, 'surgir': 2, 'monte': 4, '5': 5, 'notables': 4, 'montaña': 19, 'seguro': 12, 'conduce': 5, '000': 14, 'elevación': 8, 'rebelándome': 1, 'encogiéndome': 3, 'hipótesis': 11, 'severo': 2, 'replicó': 12, 'lavas': 14, 'candentes': 1, 'ere': 1, 'obstruido': 2, 'rocas': 50, 'estar': 11, 'apagado': 10, 'fastos': 1, 'historia': 8, 'últimos': 9, 'activos': 1, 'gradualmente': 1, 'pasa': 4, 'ido': 8, 'trescientos': 4, 'apagados': 3, 'extinguiendo': 2, 'figura': 2, 'dejado': 6, 'partir': 13, 'erupción': 16, 'figurar': 1, '1219': 1, 'basar': 1, 'supe': 6, 'obscuridades': 1, 'contenía': 4, 'afirmaciones': 2, 'objetar': 2, 'reflexión': 2, 'esperanza': 20, 'proximidades': 3, 'picos': 11, 'lleguemos': 2, 'precisar': 3, 'varios': 8, 'junio': 11, 'advirtió': 1, 'llamas': 8, 'oscuridad': 15, 'indicar': 2, 'cumbre': 8, 'demuestra': 1, 'presente': 1, 'seguir': 12, 'formado': 13, 'consignó': 1, 'advertencia': 2, 'conducía': 5, 'mes': 5, 'abertura': 8, 'teniendo': 3, 'ingenio': 2, 'proyectaba': 2, 'desplegado': 2, 'podemos': 9, 'luz': 46, 'cráteres': 4, 'camino': 65, 'atacarle': 1, 'posibilidad': 2, 'intuí': 1, 'respondido': 1, 'convencerle': 1, 'científico': 1, 'cesé': 1, 'referente': 1, 'hacerle': 4, 'decididamente': 3, 'seguirle': 2, 'lado': 23, 'graves': 2, 'conforme': 2, 'leyendas': 1, 'convenir': 3, 'relataron': 1, 'vio': 5, 'sano': 2, 'salvo': 3, 'clara': 4, 'fondo': 40, 'admitir': 4, 'bajó': 3, 'allá': 13, 'acariciar': 2, 'bordes': 4, 'volvió': 13, 'burlón': 1, 'singularmente': 3, 'negativa': 2, 'fundas': 1, 'teorías': 10, 'empresa': 8, 'demuestran': 2, 'impracticable': 1, 'dicen': 2, 'pícaras': 1, 'darnos': 4, 'cuánto': 7, 'inocente': 1, 'haciéndose': 2, 'van': 10, 'comprendiendo': 1, 'proseguí': 2, 'burlaba': 1, 'calor': 38, 'admitido': 1, 'gaseoso': 1, 'constante': 6, '500': 6, 'materias': 9, '1': 14, 'existen': 3, 'platino': 2, 'corteza': 26, 'admitiendo': 1, 'aumenta': 6, 'disfruta': 1, 'derecho': 7, 'temperatura': 25, 'aumento': 7, 'incandescente': 3, 'afirmar': 7, 'duras': 2, 'leguas': 53, 'radio': 7, 'grados': 6, 'planeta': 5, 'respeto': 1, 'infunde': 1, 'ti': 5, '300°': 1, 'profundidad': 27, 'descender': 7, 'límite': 6, 'habríamos': 7, 'superior': 12, 'liquidarte': 1, 'temes': 2, 'infundado': 1, 'mohíno': 1, 'fourier': 1, 'inferiores': 4, 'sabe': 7, 'fusión': 4, 'refractarios': 1, 'conoce': 2, 'suceder': 1, 'docemilésima': 1, 'alcanzar': 4, 'decrecía': 3, 'espacios': 5, 'magistral': 1, 'creyó': 4, 'interplanetarios': 3, 'teoría': 12, 'descienden': 3, 'temperaturas': 2, 'etéreas': 2, 'elevarse': 3, 'cero': 2, 'regiones': 22, 'obstruida': 1, 'adoptando': 2, 'demostró': 2, 'perfeccionamiento': 1, 'susceptible': 1, 'eminentemente': 1, 'colocaba': 2, 'hipotético': 1, 'terreno': 21, 'procedentes': 3, 'substancias': 1, 'caldera': 3, 'presión': 17, 'existiese': 1, 'encuentra': 6, 'poisson': 2, 'vapor': 9, 'demostrado': 2, 'soportarla': 1, 'ignición': 1, 'fundidas': 2, 'diré': 1, 'estallaría': 1, 'gases': 5, 'adquirirían': 1, 'distinguidos': 1, 'opinan': 1, 'pesadas': 4, 'conocemos': 1, 'concedido': 1, 'agua': 92, 'oh': 18, 'guarismos': 2, 'fácil': 17, 'demostrar': 1, 'desea': 1, 'probado': 1, 'disminuido': 1, 'tiende': 2, 'debilitarse': 2, 'considerablemente': 3, 'central': 14, 'sigue': 7, 'engolfándose': 1, 'discusión': 1, 'visita': 3, 'químico': 2, 'participan': 1, 'inglés': 5, '1825': 1, 'acuerdas': 1, 'competentes': 1, 'vine': 1, 'acordar': 1, 'nueve': 9, 'discutimos': 1, 'quedando': 1, 'verme': 3, 'refutar': 1, 'líquido': 9, 'hallase': 4, 'hunfredo': 4, 'atracción': 5, 'luna': 5, 'terremotos': 1, 'originaría': 1, 'periódicos': 2, 'diarias': 3, 'marcas': 2, 'expuesta': 1, 'líquida': 10, 'océanos': 5, 'produciéndose': 2, 'interiores': 5, 'masa': 22, 'exterior': 6, 'combustión': 2, 'refugiándose': 1, 'enfriando': 2, 'evidente': 14, 'sufrido': 5, 'penetraban': 3, 'contacto': 4, 'reconoce': 1, 'precipitaron': 1, 'potasio': 1, 'ardieron': 1, 'fuesen': 4, 'aguas': 25, 'atmosféricos': 1, 'sodio': 1, 'explosiones': 3, 'tienen': 6, 'hendeduras': 3, 'error': 7, 'acompañados': 1, 'medida': 7, 'incendios': 1, 'vapores': 26, 'formada': 10, 'determinando': 1, 'inflamarse': 1, 'lluvia': 12, 'nuevos': 6, 'exclamar': 1, 'hube': 2, 'querer': 4, 'ingeniosa': 2, 'sostenerla': 1, 'rocío': 1, 'palpablemente': 1, 'principalmente': 2, 'oxidábase': 1, 'esfera': 3, 'formaba': 8, 'fabricó': 1, 'mediante': 5, 'finísimo': 1, 'sobrevenía': 2, 'hinchábase': 1, 'comunicaba': 1, 'composición': 1, 'aquélla': 4, 'metálica': 1, 'mencionados': 1, 'inferían': 1, 'les': 11, 'fuerza': 25, 'pasión': 1, 'habituales': 1, 'convencerme': 2, 'empezaban': 1, 'sabremos': 2, 'mismos': 5, 'atenernos': 3, 'núcleo': 1, 'discutida': 1, 'suscitado': 1, 'semejanza': 2, 'comprobaremos': 1, 'demuestre': 2, 'entender': 3, 'diversas': 4, 'arrastrar': 7, 'lugares': 6, 'apartados': 1, 'atmósfera': 23, 'hacerla': 1, 'eléctricos': 3, 'alumbrarnos': 1, 'podremos': 3, 'luminosa': 3, 'fenómenos': 16, 'triunfalmente': 1, 'sigilo': 1, 'impenetrable': 3, 'guarda': 1, 'atraca': 1, 'ferrocarril': 5, 'dirigí': 4, 'produjo': 6, 'sesión': 2, 'pone': 5, 'inesperado': 4, 'memorable': 1, 'refrescarme': 1, 'barca': 6, 'pareciéndome': 1, 'fiebre': 3, 'final': 2, 'comunicación': 6, 'aturdido': 1, 'llegaba': 3, 'elucubraciones': 1, 'insensatas': 1, 'macizo': 19, 'convencido': 11, 'científicas': 6, 'fascinar': 1, 'bajar': 10, 'comenzaba': 4, 'da': 7, 'deducciones': 2, 'asirme': 2, 'contradictorias': 1, 'nadaba': 1, 'preferido': 1, 'reflexionar': 4, 'recordaba': 3, 'decaer': 1, 'cesó': 5, 'profundos': 3, 'abismos': 6, 'obstante': 13, 'subí': 4, 'sensato': 1, 'proposición': 1, 'mera': 3, 'formal': 1, 'pesadilla': 2, 'hallé': 3, 'justificado': 1, 'caminado': 2, 'tardé': 6, 'rodeando': 1, 'rebasar': 1, 'pie': 17, 'querida': 4, 'presentimiento': 1, 'quedó': 8, 'guiaba': 2, 'puerto': 12, 'márgenes': 2, 'regresaba': 2, 'grité': 4, 'llamar': 3, 'oírse': 3, 'carretera': 2, 'detuvo': 9, 'buscarme': 1, 'sorprendida': 1, 'caballerito': 1, 'fijarse': 2, 'inquieto': 4, 'rostro': 7, 'prestó': 2, 'tendiéndome': 1, 'novia': 2, 'segundos': 4, 'extraña': 6, 'corriente': 7, 'ignoro': 6, 'miró': 6, 'latía': 2, 'temblaba': 1, 'unísono': 1, 'cien': 17, 'caminamos': 5, 'hermoso': 4, 'inesperadas': 2, 'lograron': 1, 'sobresaltarme': 1, 'distinguido': 1, 'digno': 5, 'haberse': 1, 'disuadirme': 1, 'renuncie': 1, 'expedición': 15, 'tratas': 1, 'os': 3, 'acompañaría': 3, 'vosotros': 1, 'estorbo': 1, 'constituir': 1, 'gana': 2, 'profesarme': 1, 'incomprensibles': 2, 'vosotras': 1, 'poderío': 1, 'incitase': 1, 'tímidos': 1, 'ejerce': 2, 'descabellada': 1, 'miedo': 4, 'arrojados': 4, 'mujeres': 2, 'cariño': 5, 'seres': 9, 'sois': 1, 'corazones': 1, 'animase': 1, 'acometer': 1, 'femeninos': 1, 'decirlo': 9, 'rubor': 1, 'piensas': 2, 'pensaré': 1, 'tomados': 1, 'despegar': 3, 'ambos': 4, 'marcha': 42, 'reanudamos': 4, 'quebrantado': 2, 'emociones': 1, 'todo”': 2, '“después': 2, 'tierra”': 1, 'viajar': 3, 'hagan': 1, 'manía': 1, '“las': 1, 'desistir': 1, 'llegamos': 13, 'retirarse': 1, 'tranquila': 3, 'dándole': 3, 'acostado': 1, 'encontrarla': 1, 'cama': 4, 'repaso': 1, 'descargaban': 1, 'atolondrada': 1, 'multitud': 2, 'adónde': 5, 'objetos': 14, 'porción': 3, 'cordel': 1, 'mozos': 1, 'atender': 1, 'gritando': 2, 'papeles': 1, 'date': 1, 'maleta': 5, 'prisa': 8, 'polainas': 1, 'pude': 18, 'articular': 2, 'penas': 1, 'salía': 2, 'estupefacto': 7, 'marchamos': 6, 'preparándolo': 1, 'criatura': 5, 'partiremos': 3, 'ahogada': 1, 'amanecer': 2, 'escucharle': 2, 'cobijé': 1, 'incapaz': 3, 'nudos': 2, 'escalas': 4, 'necesitarían': 1, 'adquirir': 6, 'líquidos': 1, 'bastones': 5, 'utensilios': 5, 'azadas': 1, 'grapas': 1, 'cuerdas': 10, 'calabazas': 4, 'empleado': 1, 'dudar': 1, 'transporte': 6, 'necesarios': 2, 'antorchas': 2, 'encantos': 1, 'despertaron': 4, 'abrirle': 1, 'quieres': 4, 'cambiar': 4, 'parecer': 6, 'insomnio': 2, 'abatido': 2, 'haría': 5, 'palidez': 1, 'doloroso': 2, 'producirían': 2, 'calmado': 2, 'mirarme': 1, 'corrí': 1, 'espejo': 1, 'imaginado': 3, 'creíble': 1, 'consagrarse': 1, 'echar': 2, 'tus': 7, 'serás': 1, 'aguarda': 1, 'alcanzará': 1, 'obrar': 2, 'reflejará': 1, 'corre': 4, 'porqué': 2, 'espera': 3, 'estudio': 4, 'esperanzas': 5, 'compañero': 3, 'olvido': 2, 'regreses': 1, 'conocer': 6, 'proyectos': 10, 'debes': 1, 'arrojado': 3, 'objetivo': 2, 'azoró': 1, 'partida': 18, 'reanimaron': 2, 'emprendamos': 1, 'dudas': 3, 'contrariarle': 1, 'induce': 1, 'proceder': 3, 'quisiera': 2, 'precipitación': 3, 'transcurre': 2, 'desesperante': 1, 'fines': 1, '26': 2, 'necio': 1, 'oficina': 1, 'copenhague': 9, '22': 2, 'buscar': 7, 'precise': 1, 'mensual': 1, 'esperásemos': 1, 'liffender': 1, 'hubieses': 1, 'habrías': 1, 'señores': 8, 'anda': 2, 'llegaríamos': 1, 'hubieras': 1, 'encargó': 4, 'intervalos': 2, 'precisaba': 1, 'calma': 22, 'tratase': 2, 'aparentaba': 1, 'advertirlo': 1, 'embelesaba': 1, 'seguido': 8, 'enfadarme': 1, 'discretas': 1, 'lubeck': 2, 'heligoland': 1, 'tranquilidad': 4, 'venían': 4, 'enfurecía': 1, 'conversaba': 3, 'colocar': 1, 'coche': 5, 'carruaje': 2, 'espacioso': 4, 'deteniéndose': 1, 'bultos': 3, 'estación': 3, 'conducirnos': 5, 'rodar': 1, 'completó': 1, 'afuera': 1, 'desfallecida': 1, 'tren': 4, 'bájala': 1, 'destino': 3, 'peldaños': 6, 'deslizase': 1, 'bajé': 3, 'mejilla': 1, 'dulcísimos': 1, 'ponía': 2, 'pudo': 10, 'conservaba': 4, 'habitual': 6, 'abrazó': 1, 'lágrima': 1, 'contener': 3, 'rozar': 1, 'riendas': 1, 'vete': 3, 'dejas': 2, 'hallarás': 1, 'tranquilo': 9, 'mujer': 3, 'sentarme': 3, 'estreché': 2, 'arrancaron': 1, 'galope': 1, 'adiós': 4, 'caballos': 18, 'enviaron': 1, 'excitados': 1, 'prometida': 2, 'silbidos': 3, 'cochero': 1, 'belt': 2, 'penetramos': 1, 'kiel': 3, 'arranca': 2, 'territorio': 1, 'arrabal': 1, 'holstein': 2, 'minutos': 17, 'bajamos': 1, 'listo': 5, 'aparatos': 5, 'armas': 11, 'abastecedores': 1, 'física': 3, 'habían': 22, 'cesado': 1, 'instrumentos': 14, 'municiones': 1, 'vuelto': 12, 'ademán': 2, 'signo': 3, 'lleva': 3, 'indiqué': 2, 'antigua': 7, 'sótano': 1, 'transcurrido': 5, 'conciencia': 1, 'lecho': 10, 'inerte': 4, 'asaltaron': 2, 'terrores': 1, 'precipicios': 2, 'cuerpos': 6, 'asido': 4, 'abandonados': 4, 'presa': 4, 'enormes': 13, 'adquiriendo': 1, 'soñé': 2, 'espacio': 21, 'interminable': 2, 'espantoso': 8, 'precipitado': 4, 'delirio': 1, 'creciente': 3, 'sentíame': 1, 'insondables': 1, 'vigorosamente': 3, 'velocidad': 30, 'hundido': 1, 'caída': 18, 'fatiga': 6, 'comía': 1, 'sentimiento': 7, 'observé': 9, 'despegué': 1, 'rendido': 2, 'cargados': 4, 'puso': 8, 'movimiento': 18, 'delante': 23, 'convoy': 2, 'artículos': 2, 'sentados': 2, 'hallábamos': 20, 'estábamos': 9, 'pesados': 1, 'locomotora': 1, 'silbó': 1, 'descargados': 1, 'equipajes': 5, 'voluminosos': 2, 'frente': 6, 'detúvose': 1, 'furgón': 1, 'fresco': 1, 'resignado': 3, 'preocupación': 4, 'renovados': 1, 'distrajéronme': 1, 'ejecución': 1, 'saco': 3, 'lenta': 2, 'dirigirnos': 1, 'avanzaba': 3, 'ninguno': 6, 'antojaba': 1, 'bolsillos': 2, 'exigía': 1, 'registró': 1, 'arriesgados': 1, 'requisitos': 1, 'solos': 5, 'cristiensen': 1, 'danesa': 5, 'recomendaciones': 2, 'facilitarnos': 2, 'doblada': 1, 'membrete': 1, 'cónsul': 2, 'cancillería': 1, 'dinamarca': 5, 'ostentaba': 2, 'gobernador': 6, 'firma': 2, 'cenagosas': 1, 'fértiles': 2, 'empresas': 1, 'vi': 30, 'asimismo': 4, 'monótonas': 1, 'campiña': 3, 'guardado': 1, 'constituían': 2, 'explotadoras': 1, 'división': 2, 'delicias': 3, 'llanuras': 5, 'prestaba': 2, 'caminos': 5, 'favorable': 7, 'paisaje': 4, 'oculta': 3, 'rectas': 2, 'tendido': 8, 'contemplar': 5, 'extensa': 1, 'férrea': 1, 'cartera': 1, 'maldije': 1, 'fatigarme': 1, 'monotonía': 1, 'trasbordaron': 1, 'desaparecieron': 2, 'facturados': 1, 'quitó': 1, 'bodegas': 1, 'tuvimos': 5, 'ocuparnos': 1, 'envió': 1, 'obligar': 2, 'gobiernos': 1, 'anclas': 1, 'apoderase': 1, 'zarpar': 1, 'administraciones': 1, 'teníamos': 13, 'ferrocarriles': 1, 'abusos': 1, 'emprendió': 3, 'levar': 1, 'toleraban': 1, 'prevista': 1, 'buque': 13, 'quiso': 7, 'coro': 2, 'diablos': 1, 'ellenora': 2, 'detestable': 1, 'calculado': 1, 'capitán': 8, 'mandó': 2, 'correspondencia': 1, 'ramas': 4, 'eleva': 9, 'nido': 2, 'quintas': 1, 'grupo': 5, 'admirar': 3, 'ellas': 13, 'baños': 1, 'bosques': 1, 'pasearnos': 1, 'espesos': 2, 'matar': 1, 'bahía': 7, 'dan': 6, 'recorrer': 11, 'provistas': 1, 'colocado': 1, 'caseta': 1, 'aburrirnos': 1, 'verdes': 6, 'penachos': 1, 'retemblaba': 1, 'cubierta': 8, 'literas': 1, 'bordo': 12, 'estertores': 1, 'instalados': 4, 'cámara': 1, 'elevaban': 2, 'sombrías': 4, 'amarras': 2, 'avanzó': 1, 'largó': 2, 'faro': 1, 'recuerdo': 5, 'marejada': 2, 'destellos': 3, 'primer': 9, 'luces': 1, 'soplaba': 3, 'distinguían': 3, 'olas': 28, 'imponente': 4, 'tinieblas': 8, 'alumbraba': 3, 'obscura': 4, 'fresca': 5, 'brisa': 10, 'trasbordamos': 1, 'desembarcamos': 1, 'llano': 2, 'campiñas': 2, 'situada': 8, 'korsör': 1, 'país': 17, 'condujo': 7, 'faltaban': 6, 'pegado': 1, 'empujaba': 2, 'vagón': 1, 'entusiasmado': 5, 'sund': 4, 'edificio': 2, 'izquierda': 7, 'hospital': 2, 'vasto': 4, 'compañeros': 19, 'manicomio': 1, '“': 4, 'suficientemente': 3, '“he': 1, 'inmensidad': 4, 'sean': 3, 'habremos': 4, 'dimensiones': 8, '”': 4, 'lidenbrock”': 1, 'concluir': 4, 'establecimiento': 3, 'hotel': 3, 'invirtió': 1, 'conducidos': 1, 'descendimos': 1, 'bred–gade': 1, 'fénix': 2, 'antigüedades': 1, 'dinamarqués': 2, 'cambiarse': 1, 'traje': 1, 'correcto': 2, 'asearse': 1, 'portero': 2, 'piedra': 16, 'acumuladas': 2, 'tantas': 4, 'hallan': 7, 'joyas': 1, 'thomson': 5, 'viejas': 1, 'maravillas': 8, 'curioso': 4, 'cuencos': 1, 'permitirían': 1, 'director': 2, 'actual': 5, 'acogida': 3, 'recreo': 2, 'llevaba': 7, 'curiosidades': 4, 'deseábamos': 1, 'acogen': 1, 'eficaz': 1, 'dispensó': 1, 'servicial': 1, 'necesario': 13, 'recomendación': 2, 'visitar': 3, 'sencillamente': 1, 'muelles': 2, 'recorrimos': 3, 'breve': 1, 'hallásemos': 2, 'abrigaba': 2, 'sublime': 2, 'extemporánea': 1, 'consideraba': 4, 'estrechóle': 2, 'vela': 16, 'taimado': 1, 'cobrarnos': 1, 'futuro': 2, 'pagó': 3, 'goleta': 7, 'biarne': 3, 'regatear': 2, '2': 5, 'valía': 2, 'aprovechó': 1, 'pareciéndole': 1, 'oficio': 2, 'valkyria': 8, 'pasaje': 3, 'sorprendió': 1, 'estrujársela': 1, 'rumbo': 8, 'pasajero': 1, 'natural': 18, 'lobo': 2, 'martes': 4, 'suma': 8, 'estad': 1, 'respetable': 2, 'embolsarse': 1, 'dimos': 3, 'atenciones': 1, 'regresamos': 1, 'dispone': 2, 'pedir': 1, 'almorcemos': 2, 'sale': 4, 'boca': 13, 'trasladamos': 1, 'almorzamos': 3, 'vincent': 1, 'tongens–nye–torw': 1, 'cocinero': 1, 'cañones': 2, 'llamado': 6, 'restaurante': 1, 'marcos': 2, 'fijos': 3, 'inofensivos': 1, 'asustan': 1, 'dirigido': 2, 'módica': 1, 'irregular': 2, 'guardia': 6, 'plaza': 1, 'colas': 2, 'escultor': 1, 'puente': 2, 'renacimiento': 1, 'fijó': 1, 'velas': 2, 'torwaldsen': 1, 'castillo': 3, 'niño': 7, 'xvii': 1, 'insignificante': 2, 'entrelazados': 1, 'recorrí': 2, 'real': 5, 'hinchan': 1, 'soplo': 1, 'campanario': 7, 'dragones': 1, 'horribles': 1, 'rosenborg': 1, 'dilatadas': 1, 'alas': 7, 'cenotafio': 1, 'molinos': 1, 'palacio': 4, 'murallas': 4, 'admirable': 4, 'bronca': 1, 'pinturas': 1, 'bolsa': 4, 'estilo': 2, 'microscópico': 1, 'murales': 1, 'caudal': 2, 'inmenso': 16, 'obras': 9, 'conservan': 1, 'navíos': 2, 'sombras': 7, 'dormían': 3, 'paseos': 1, 'estrecho': 6, 'fragatas': 1, 'cuyos': 14, 'tranquilos': 2, 'rojas': 3, 'junto': 4, 'ciudadela': 1, 'bocas': 3, 'deliciosos': 2, 'techumbres': 1, 'saúcos': 1, 'sauces': 1, 'negras': 1, 'espesas': 2, 'asoman': 1, 'verla': 3, 'ay': 2, 'llamaron': 1, 'so': 1, 'erguía': 4, 'parajes': 2, 'amak': 1, 'causóle': 1, 'pasajeros': 2, 'embarcamos': 3, 'muelle': 2, 'transportaba': 1, 'dock–yard': 1, 'dirección': 16, 'atracarnos': 1, 'hacia': 72, 'galeotes1': 1, 'vara': 1, 'atravesar': 10, 'sota': 1, 'base': 8, 'cómitres2': 1, 'ofrecía': 6, 'trabajaban': 1, 'grises': 4, 'notable': 10, 'subía': 3, 'iglesia': 4, 'amarillos': 2, 'amenaza': 3, 'desarrollándose': 1, 'libre': 6, 'estrechas': 1, 'vor–frelsers–kirk': 1, 'pantalones': 2, 'espirales': 2, 'subamos': 1, 'acometerá': 1, 'vértigo': 7, 'habituemos': 1, 'insistió': 3, 'perdamos': 2, 'apostado': 1, 'ascensión': 6, 'permanecía': 6, 'águilas': 1, 'insensibilidad': 2, 'aplomo': 1, 'lento': 1, 'deplorable': 1, 'solía': 1, 'precedía': 3, 'golpeó': 2, 'hélice': 1, 'subido': 3, 'infinito': 5, 'frágil': 3, 'aérea': 1, 'escalonas': 1, 'subir': 16, 'estrechos': 5, 'resguardo': 1, 'plataforma': 2, 'barandilla': 2, 'aterrado': 1, 'cobarde': 1, 'sube': 4, 'azuzó': 1, 'acabé': 2, 'atolondraba': 1, 'apoderado': 2, 'cerrados': 2, 'ráfagas': 2, 'alturas': 3, 'flaqueaban': 1, 'arrastrándome': 1, 'agarrándome': 1, 'trepar': 2, 'rodillas': 5, 'ansia': 1, 'viento': 30, 'piernas': 11, 'oscilar': 1, 'ayuda': 3, 'chaqueta': 3, 'cúpula': 3, 'cuello': 4, 'asiéndome': 3, 'aprender': 1, 'mira': 11, 'abismo': 22, 'verdugo': 2, 'éramos': 4, 'inmóviles': 6, 'elsenor': 2, 'vislumbraban': 1, 'punta': 6, 'luminosos': 4, 'verdura': 4, 'ilusión': 4, 'brillaba': 3, 'vertiginosa': 3, 'azulado': 1, 'tapizada': 1, 'aplastadas': 1, 'brumas': 5, 'rayos': 16, 'invertía': 1, 'blancas': 2, 'casas': 5, 'óptica': 3, 'descubría': 3, 'semejaban': 4, 'extendía': 6, 'producida': 4, 'torbellino': 2, 'abrí': 4, 'surcado': 1, 'ondulantes': 1, 'pasaban': 2, 'desgarradas': 1, 'suecia': 2, 'niebla': 2, 'humos': 3, 'haz': 2, 'chimeneas': 3, 'arrastrados': 5, 'gaviotas': 1, 'nubes': 17, 'derredor': 1, 'duró': 5, 'sentar': 1, 'pasear': 4, 'permitieron': 1, 'lección': 1, 'sólido': 6, 'ponerme': 3, 'repetiremos': 1, 'progresos': 2, 'altas': 4, 'vertiginoso': 1, 'contemplaciones': 2, 'sensibles': 3, 'arte': 2, 'ejercicio': 3, 'pictursson': 2, 'fuertes': 1, 'gratitud': 3, 'eficaces': 1, 'finsen': 2, 'alcalde': 3, 'cartas': 2, 'conde': 1, 'llevado': 1, 'apretones': 2, 'acostumbrada': 3, 'coadjutor': 2, 'prodigó': 1, 'obispo': 2, 'trampe': 3, 'ubicaban': 1, 'camarotes': 1, 'exageradamente': 1, 'aleta': 1, 'aparejo': 6, 'sudeste': 11, 'inmejorable': 1, 'biarna': 1, 'encontraban': 3, 'foques': 1, 'legendario': 1, 'cangreja': 1, 'errar': 1, 'hamlet': 1, 'terrado': 1, 'velacho': 1, 'juanete': 1, 'orientó': 1, 'largar': 1, 'penetró': 3, 'convenientemente': 1, 'rozaba': 1, 'sumergirse': 2, 'lejanas': 5, 'sempiterna': 1, 'seguirías': 1, 'aprobarías': 1, 'ganoso': 1, 'insensato': 6, 'solución': 5, 'príncipe': 1, 'descubrí': 5, 'año': 4, 'moderno': 1, 'quince': 2, 'naciones': 2, 'alojamiento': 1, 'pasan': 5, 'suntuoso': 1, 'buques': 3, 'heroico': 1, 'antiguas': 3, 'sirve': 1, 'desaparecer': 4, 'inclinaba': 5, 'krongborg': 1, 'brisas': 2, 'impedida': 1, 'helsinborg': 1, 'bruma': 2, 'sueca': 1, 'torre': 1, 'cattegat': 1, 'tardó': 4, 'ligeramente': 4, 'vestidos': 4, 'barcos': 2, 'bastaban': 1, 'carbón': 5, 'lana': 3, 'durar': 2, 'daneses': 1, 'tripulada': 1, 'predecirse': 1, 'trigo': 1, 'cargamento': 2, 'lobos': 1, 'maniobrar': 1, 'velero': 1, 'durará': 1, 'travesía': 12, 'altura': 21, 'noroeste': 3, 'arrecia': 1, 'feroe': 2, 'considerables': 5, 'suele': 1, 'retrasos': 1, 'experimentar': 3, 'pase': 2, 'llegaremos': 1, 'bordeó': 1, 'skagen': 2, 'cruzó': 2, 'skager': 1, 'noruega': 2, 'septentrional': 4, 'dobló': 1, 'lamiendo': 1, 'anochecer': 4, 'rak': 1, 'lindness': 1, 'arrumbó': 1, 'shetland': 1, 'reconocimos': 1, 'pasando': 2, 'escocia': 2, 'promontorio': 6, 'divisamos': 1, 'faroe': 1, 'peterhead': 1, 'orcadas': 1, 'azotar': 2, 'navegar': 3, 'avanzar': 8, 'atlántico': 7, 'costó': 1, 'tardaron': 4, 'venciendo': 1, 'oponía': 2, 'resistencia': 3, 'costados': 5, 'reconoció': 3, 'portland': 3, 'myganness': 1, '3': 4, 'oriental': 1, 'mareado': 1, 'agriar': 1, 'ofreció': 4, 'llenarle': 1, 'inclemencias': 1, 'contribuyó': 1, 'vergüenza': 2, 'mamparos': 1, 'interrogar': 2, 'cabezada': 1, 'crujían': 2, 'permitió': 3, 'medios': 2, 'aplazar': 2, 'adelante': 11, 'camarote': 2, 'domina': 2, '11': 1, 'playa': 18, 'alza': 1, 'aislado': 2, 'myrdals': 1, 'peñasco': 2, 'montamos': 2, 'pendientes': 16, 'permitiéndonos': 1, 'oeste': 11, 'reykjaness': 1, 'ángulo': 4, 'westman': 1, 'barajando': 2, 'manadas': 1, 'planicie': 2, 'rodeo': 2, 'enfurecido': 1, 'manteniéndose': 1, 'horadado': 1, 'distancia': 20, 'sembradas': 1, 'navegando': 2, 'espumoso': 2, 'ballenas': 4, 'tardamos': 6, 'razonable': 2, 'islotes': 3, 'océano': 26, 'tiburones': 1, 'bravías': 1, 'hendidas': 1, 'vientos': 6, 'mares': 10, 'azotadas': 1, 'sudoeste': 3, 'peligrosos': 1, 'faxa': 3, 'fondeaba': 1, 'prolongan': 1, 'palo': 6, 'arrecifes': 1, 'tempestad': 16, 'descubrimos': 1, 'práctico': 1, 'seco': 8, 'baliza': 1, 'sorteada': 1, 'subió': 2, 'obligó': 1, 'pálido': 1, 'satisfacción': 6, 'salió': 3, 'semblante': 5, 'retratada': 1, 'habitantes': 10, 'recoger': 4, 'quienes': 3, 'agolpaban': 1, 'presidio': 1, 'flotante': 1, 'abandonar': 7, 'nieves': 5, 'proa': 2, 'cubierto': 6, 'eternas': 3, 'remataba': 1, 'cono': 13, 'fuimos': 6, 'mostrándome': 2, 'recomendado': 2, 'bote': 4, 'aguardaba': 1, 'hollar': 1, 'seguí': 8, 'guardase': 1, 'cabizbajo': 1, 'intercambiaron': 1, 'pusiese': 1, 'órdenes': 3, 'tomé': 6, 'magistrado': 1, 'entrevista': 1, 'barón': 2, 'entregó': 3, 'danés': 10, 'vestido': 2, 'presencia': 10, 'traía': 1, 'indumentaria': 1, 'militar': 1, 'pacífico': 2, 'dispensar': 1, 'diócesis': 1, 'naturales': 5, 'escuela': 2, 'giraba': 3, 'serle': 1, 'concurso': 1, 'servicios': 2, 'presentados': 1, 'renunciar': 4, 'trabamos': 1, 'horacio': 1, 'mutuamente': 1, 'comprendemos': 1, 'pastoral': 1, 'conversar': 1, 'modesto': 2, 'fridriksson': 21, 'creados': 1, 'sujeto': 1, 'bellísimo': 1, 'seda': 2, 'resta': 2, 'supongo': 5, 'mirado': 2, 'tendremos': 6, 'mucha': 7, 'gustaría': 1, 'inquieta': 3, 'conserve': 1, 'consultar': 4, 'bah': 4, 'biblioteca': 6, 'recorreré': 1, 'visitarla': 1, 'piensa': 4, 'interesa': 1, 'andar': 3, 'fijo': 2, 'eché': 2, 'equivocaciones': 1, 'preguntar': 1, 'expone': 1, 'perderse': 10, 'declive': 4, 'suave': 3, 'ingleses': 2, 'orientales': 2, 'franceses': 2, 'colinas': 3, 'cubre': 2, 'resguardados': 1, 'lava': 28, 'prestando': 1, 'amplia': 1, 'pantanoso': 3, 'extiende': 6, 'fondeado': 2, 'limitada': 1, 'guardapescas': 1, 'ola': 2, 'comercio': 3, 'mercaderes': 1, 'hechas': 2, 'horizontalmente': 5, 'personajes': 1, 'dispuestas': 4, 'paralela': 1, 'negociantes': 1, 'cabañas': 3, 'vigas': 5, 'extraños': 2, 'pequeño': 12, 'tristes': 2, 'recibir': 5, 'sol': 20, 'patatas': 1, 'entreveía': 2, 'legumbres': 1, 'raída': 1, 'lechugas': 1, 'césped': 2, 'alhelíes': 1, 'coles': 1, 'raras': 2, 'dignas': 1, 'alfombra': 5, 'semejaba': 1, 'huerto': 1, 'enfermizos': 1, 'pugnaban': 2, 'uso': 3, 'liliputiense': 1, 'ayuntamiento': 1, 'tapia': 1, 'compara': 1, 'adobes': 1, 'ocupada': 2, 'rodeado': 3, 'choza': 1, 'aloja': 1, 'población': 3, 'cementerio': 4, 'mitad': 8, 'pocos': 3, 'protestante': 1, 'construida': 4, 'dispersarían': 2, 'elevaba': 4, 'vivo': 10, 'tejas': 1, 'coloradas': 1, 'arrojan': 1, 'edificada': 1, 'aires': 2, 'arreciar': 1, 'calcinados': 1, 'cantos': 2, 'fieles': 1, 'inmediata': 5, 'alumnos': 1, 'armarios': 1, 'bochorno': 2, 'eminencia': 1, 'conocía': 2, 'llenaba': 3, 'matriculados': 1, 'atrasado': 1, 'delicados': 2, 'nacional': 1, 'huésped': 2, 'acostarme': 1, 'indigno': 1, 'asfixiarían': 1, 'colegio': 1, 'compartimientos': 1, 'tejados': 1, 'alrededores': 3, 'paredes': 26, 'animales': 24, 'adentro': 1, 'praderas': 1, 'inclinadas': 3, 'vegetación': 7, 'mansiones': 1, 'empero': 3, 'relativamente': 3, 'mereciese': 1, 'tierras': 3, 'habitaciones': 3, 'recolección': 1, 'pacer': 2, 'turba': 4, 'veían': 5, 'volcánicas': 5, 'domésticos': 1, 'pretendan': 1, 'colocados': 1, 'hierba': 3, 'brota': 1, 'segarla': 1, 'principal': 5, 'exportación': 1, 'condenó': 1, 'límites': 6, 'personas': 6, 'tardos': 1, 'esquimales': 1, 'bacalaos': 1, 'círculo': 2, 'desterrados': 1, 'creen': 1, 'músculos': 2, 'humanidad': 2, 'sorprender': 4, 'constituyen': 2, 'rubios': 1, 'salar': 2, 'sonreían': 1, 'pensativa': 1, 'involuntaria': 1, 'ártico': 1, 'separados': 3, 'vigorosos': 3, 'heladas': 3, 'cargar': 2, 'reían': 1, 'artículo': 1, 'pocas': 5, 'contracción': 2, 'rostros': 1, 'polar': 2, 'volví': 12, 'secar': 1, 'vivir': 3, 'alemanes': 2, 'infelices': 3, 'pantalón': 1, 'calzado': 1, 'basta': 2, 'trozos': 10, 'cuero': 4, 'orillado': 1, 'consistían': 4, 'conocida': 1, 'rojo': 5, 'países': 5, 'vadmel': 2, 'arrollados': 1, 'negra': 2, 'escandinavos': 1, 'usan': 1, 'color': 8, 'solteras': 1, 'colocan': 1, 'casadas': 1, 'cubren': 2, 'obscuro': 1, 'pañuelo': 1, 'pardo': 1, 'cabello': 2, 'tipo': 1, 'agradable': 3, 'cofia': 1, 'gorrito': 1, 'blanca': 6, 'falda': 2, 'carecen': 4, 'trenzado': 1, 'regresé': 2, 'confianza': 3, 'héroes': 1, 'lidenbrook': 1, 'encontrábamos': 15, 'devoró': 1, 'recordar': 4, 'anfitrión': 3, 'hospitalidad': 5, 'hablaron': 1, 'tratándose': 1, 'futuros': 2, 'intercalando': 1, 'escrupulosa': 2, 'evitar': 6, 'mantener': 2, 'guardó': 1, 'ayunas': 1, 'quedase': 2, 'conversó': 1, 'reserva': 2, 'practicadas': 1, 'resultados': 1, 'repente': 17, 'vuestra': 1, 'descabalados': 1, 'estantes': 2, 'vacíos': 2, 'anualmente': 1, 'raros': 3, 'envía': 1, 'poseemos': 1, 'escandinavo': 1, 'volúmenes': 2, 'preciosos': 2, 'publicaciones': 1, 'nuevas': 6, 'escritas': 1, 'saca': 4, 'respectivos': 2, 'labriego': 3, 'curiosos': 2, 'recorriendo': 2, 'pescador': 2, 'afición': 1, 'verja': 1, 'miradas': 10, 'andan': 1, 'tardan': 2, 'leen': 1, 'leídos': 1, 'impresos': 1, 'opinamos': 1, 'escritos': 1, 'constantemente': 2, 'apolillarse': 1, 'enojo': 1, 'extranjeros': 2, 'reprimido': 1, 'admirablemente': 1, 'instruyan': 1, 'destinadas': 1, 'funciona': 1, 'poseen': 3, 'bibliotecas': 1, 'publica': 1, 'educar': 1, 'sociedad': 2, 'término': 3, 'repito': 4, 'correspondientes': 1, 'literaria': 2, 'inoculado': 1, 'presta': 1, '1816': 1, 'fundamos': 1, 'miembros': 5, 'honran': 1, 'hará': 3, 'compatriotas': 1, 'corporaciones': 1, 'sintió': 2, 'ofrecimiento': 1, 'centenar': 2, 'pertenecía': 3, 'aceptó': 1, 'agrado': 2, 'tenga': 2, 'indicarme': 1, 'referencias': 1, 'bondad': 2, 'darle': 7, 'atañía': 1, 'decidió': 6, 'vacilaba': 3, 'poseéis': 1, 'naturalista': 2, 'refiere': 2, 'explorador': 3, 'islandesas': 3, 'literatura': 1, 'glorias': 1, 'ilustre': 3, 'negarlo': 2, 'pareja': 2, 'héroe': 2, 'encomiástico': 1, 'devoraba': 3, 'cabía': 2, 'arna': 1, 'quemadas': 1, 'perseguido': 1, '1573': 1, 'hereje': 1, 'bravo': 1, 'murmuró': 2, 'verse': 2, 'explico': 5, 'aclara': 1, 'inscrito': 1, 'obligado': 2, 'sepultar': 2, 'concatena': 1, 'índice': 1, 'explica': 4, 'balbuceó': 1, 'especial': 10, 'turbación': 1, 'interlocutor': 2, 'insistir': 1, 'estudiado': 1, 'riquezas': 3, 'espero': 3, 'ausentará': 1, 'llego': 1, 'naturalmente': 2, 'olafsen': 1, 'robert': 1, 'hortense': 1, 'gaimard': 1, 'reine': 1, 'trabajos': 3, 'troil': 1, 'recherche': 1, 'misión': 1, 'poderosamente': 1, 'corbeta': 1, 'francesa': 1, 'fragata': 1, 'ejecutados': 1, 'créame': 1, 'embarcados': 2, 'rey': 2, 'contribuido': 1, 'povelsen': 1, 'moderar': 2, 'brillo': 3, 'procurando': 3, 'candor': 1, 'afectado': 2, 'ventisqueros': 4, 'estudiar': 7, 'conocidos': 3, 'mire': 8, 'montañas': 12, 'horizonte': 19, 'raramente': 1, 'quinientos': 4, 'empezar': 2, 'geológicos': 1, 'fessel': 1, 'cruzando': 1, 'saltar': 2, 'saffel': 1, 'soltar': 1, 'enteré': 1, 'candoroso': 1, 'reír': 1, 'contenerme': 2, 'escapársele': 2, 'pugnaba': 1, 'mueca': 1, 'trapo': 1, 'desarrollado': 1, 'habíase': 2, 'procuraremos': 1, 'escalar': 2, 'deciden': 1, 'permitan': 1, 'provecho': 3, 'alma': 3, 'siento': 4, 'ausentarme': 1, 'ocupaciones': 1, 'molestar': 1, 'queremos': 2, 'deberes': 1, 'agradezco': 1, 'útil': 3, 'profesión': 2, 'malicia': 1, 'inocencia': 1, 'grosera': 2, 'curiosas': 1, 'apruebo': 1, 'cosechará': 1, 'dígame': 5, 'volcán': 24, 'comience': 1, 'rápido': 7, 'seguirlo': 1, 'interesante': 1, 'contorneando': 3, 'tendrá': 1, 'procurarme': 1, 'guía': 37, 'veré': 1, 'ofrecerle': 1, 'fiado': 1, 'inteligente': 1, 'habitante': 4, 'hábil': 3, 'quedará': 2, 'cazador': 31, 'gansos': 1, 'podré': 1, 'verle': 3, 'cuándo': 2, 'llega': 6, 'suspiro': 4, 'expresivas': 2, 'importante': 3, 'importantes': 3, 'misterioso': 3, 'recogí': 1, 'corto': 5, 'profundamente': 5, 'acostándome': 1, 'dormí': 3, 'gruesas': 2, 'tablas': 4, 'playas': 9, 'reunirme': 4, 'codos': 2, 'charlaba': 1, 'arreglé': 1, 'fáciles': 1, 'caía': 2, 'hallarse': 3, 'desdeña': 1, 'pedía': 1, 'inglaterra': 4, 'lenguaje': 4, 'causase': 1, 'sobresalto': 1, 'cabellera': 4, 'sencillos': 2, 'ignora': 1, 'inteligentes': 2, 'indolente': 1, 'constitución': 2, 'estatura': 2, 'demostraban': 1, 'soñadores': 1, 'tomaba': 4, 'voluminosa': 2, 'convenía': 1, 'claramente': 5, 'atléticas': 1, 'hercúleas': 1, 'vigorosa': 2, 'temperamento': 3, 'mocetón': 1, 'gestos': 4, 'revelaba': 1, 'espaldas': 6, 'sosegado': 1, 'apasionada': 1, 'economía': 1, 'inmóvil': 6, 'avaricia': 1, 'múltiples': 1, 'llevada': 2, 'derecha': 9, 'negar': 1, 'facundia': 1, 'cruzados': 3, 'adivinado': 1, 'buscaba': 2, 'caza': 3, 'espantaría': 1, 'edredón': 2, 'expliqué': 3, 'desplegar': 1, 'asombrosa': 5, 'riqueza': 1, 'plumón': 2, 'eidero': 1, 'ganso': 2, 'dedicaba': 1, 'despojarse': 1, 'forra': 1, 'dura': 5, 'pollos': 1, 'hembra': 1, 'huevos': 1, 'belleza': 2, 'cosecha': 1, 'ave': 2, 'pequeñuelos': 1, 'apodera': 2, 'comercial': 1, 'nacen': 1, 'macho': 1, 'robarle': 1, 'construye': 1, 'finísimas': 1, 'repite': 1, 'verano': 1, 'construido': 2, 'comenzar': 2, 'precisada': 1, 'reanuda': 1, 'concluye': 1, 'operación': 2, 'agota': 1, 'carece': 2, 'plumas': 1, 'conserva': 3, 'cosechero': 1, 'molestia': 1, 'mies': 1, 'recolectar': 1, 'pendiente': 10, 'eligen': 1, 'labrador': 1, 'aves': 3, 'nidos': 1, 'cortarla': 1, 'darse': 7, 'ejercer': 2, 'sembrarla': 1, 'hans': 152, 'silencioso': 1, 'flemático': 3, 'bjelke': 1, 'contrastaban': 1, 'ofreciesen': 1, 'repararon': 1, 'precio': 5, 'cerró': 1, 'trato': 5, 'pidieran': 1, 'entendiéron': 1, 'acordado': 1, 'millas': 9, 'emplearíamos': 2, 'comprometió': 1, 'stapi': 10, 'virtud': 3, 'aldea': 2, 'enteró': 1, 'pésimo': 1, 'rehacer': 2, 'vías': 3, 'recorrido': 10, 'dinamarquesas': 1, 'conocedor': 1, 'prometió': 1, 'impedimenta': 7, 'iría': 1, 'facilitar': 4, 'estipuló': 1, 'compromiso': 1, 'non': 1, 'semanales': 1, 'condición': 1, 'excursiones': 2, 'expresamente': 2, 'abonada': 1, 'sine': 1, 'permanecería': 1, 'nuestras': 43, 'rixdales': 4, 'qua': 1, 'sábados': 1, 'retribución': 1, 'exigiesen': 1, 'expiraba': 1, '16': 2, 'rechazó': 1, 'contrato': 1, 'estableció': 1, 'arras': 1, 'entregar': 1, 'efter': 1, 'secamente': 2, 'tradujo': 1, 'pieza': 3, 'mover': 1, 'cerrado': 1, 'porvenir': 5, 'sospecha': 2, 'acompañará': 1, 'ventajoso': 1, 'sentidos': 6, 'harto': 1, 'precisado': 2, 'herramientas': 9, 'víveres': 11, 'transcurrir': 1, 'agrupándolo': 1, 'principales': 2, 'preparativos': 6, 'pusimos': 1, 'paquete': 5, 'invertir': 1, 'potencias': 1, 'colt': 1, 'explosiva': 1, 'arsenal': 1, 'revólveres': 1, 'algodón': 4, 'tendríamos': 3, 'more': 1, 'notablemente': 1, 'salvajes': 2, 'inalterable': 1, 'ordinaria': 2, 'carabinas': 1, 'especialmente': 2, 'feroces': 2, 'pólvora': 9, 'purdley': 1, 'humedad': 6, 'habérnoslas': 2, 'herrados': 4, 'docena': 1, 'trecho': 4, 'hacha': 2, 'azadones': 2, 'voluminoso': 2, 'llevábamos': 5, 'armellas': 1, 'fardo': 6, 'escala': 4, 'cuñas': 1, 'ginebra': 5, 'manantiales': 9, 'alimentarnos': 1, 'único': 9, 'preocupaba': 2, 'meses': 8, 'cuantas': 2, 'exclusión': 1, 'concentrada': 1, 'inútiles': 2, 'galleta': 6, 'carne': 11, 'provistos': 1, 'llenarlas': 2, 'deseable': 1, 'tablillas': 1, 'cinta': 1, 'acetato': 1, 'vendas': 1, 'botiquín': 2, 'haré': 1, 'ingredientes': 1, 'frascos': 1, 'portátil': 1, 'contenían': 2, 'hilo': 3, 'completar': 1, 'lanceta': 1, 'nomenclatura': 2, 'esparadrapo': 1, 'tijeras': 1, 'empleo': 1, 'ruhmkorff': 4, 'pelos': 2, 'crudo': 1, 'éter': 1, 'vinagre': 1, 'árnica': 1, 'mención': 1, 'redonda': 1, 'ponían': 1, 'fracturas': 2, 'sangrar': 1, 'dextrina': 1, 'drogas': 1, 'compresas': 2, 'amoníaco': 1, 'impermeabilizados': 1, 'goma': 1, 'cinturón': 2, 'elástica': 3, 'aprovisionarse': 1, 'capa': 8, 'pares': 1, 'merced': 2, 'monedas': 1, 'figuraban': 1, 'ceñido': 1, 'alquitrán': 1, 'yesca': 1, 'banco': 2, 'billetes': 1, 'zapatos': 2, 'riñones': 1, 'meta': 4, 'calzados': 1, 'prive': 1, 'equipados': 1, '14': 2, 'semioficial': 1, 'trataban': 1, 'invitados': 1, 'hallában': 1, 'médico': 2, 'administrativa': 1, 'desacuerdo': 1, 'hyaltalin': 1, 'empleamos': 2, 'doctor': 1, 'comimos': 2, 'arreglar': 2, 'nikolás': 1, 'topográfica': 1, 'gumlaugsonn': 1, 'incomparablemente': 1, 'quedaron': 1, '15': 4, 'editado': 1, 'precioso': 4, 'bjorn': 1, 'regalándole': 1, 'geodésicos': 1, '480': 1, 'nivelación': 1, 'scheel': 1, 'olsen': 2, 'olaf': 1, 'frisac': 1, 'henderson': 1, 'sujeción': 1, 'íntima': 1, 'pasamos': 2, 'charla': 2, 'simpatía': 1, 'siguió': 3, 'inspiraba': 2, 'velada': 1, 'agitado': 1, 'relinchos': 1, 'piafaban': 1, 'ventana': 2, 'enseres': 1, 'destreza': 3, 'moviéndose': 1, 'poca': 2, 'vestí': 2, 'acabando': 1, 'caballo': 6, 'saludé': 1, 'macarrónico': 1, 'amable': 2, 'espetóme': 1, 'cordialmente': 1, 'verso': 1, 'viajeros': 7, 'mirábamos': 2, 'estrechó': 4, 'incertidumbre': 1, 'viam': 1, 'sequamur': 1, 'quacumque': 1, 'dederit': 1, 'desastrosas': 1, 'enervantes': 1, 'calores': 1, 'partido': 6, 'lluvias': 2, 'desconocido': 2, 'ofrece': 2, 'sobrellevar': 1, 'placer': 7, 'arriesgo': 1, 'fantasía': 1, 'aprovecharse': 1, 'tiempo”': 1, 'poner': 4, 'peor': 3, 'túnel': 13, 'raciocinios': 1, 'salimos': 2, 'continuo': 5, 'montados': 1, 'guiarlos': 1, 'hacíamos': 3, 'llevaban': 2, 'marchaba': 5, 'alzada': 1, 'animalitos': 1, 'marchábamos': 6, 'uniforme': 5, 'seguíanle': 1, 'mide': 5, 'geógrafos': 1, 'islas': 4, 'fjordúngr': 1, 'oblicuamente': 2, 'llamada': 2, 'sudvestr': 1, '400': 3, 'dividido': 2, '60': 1, 'escollos': 2, 'pastos': 1, 'resplandecían': 1, 'manchas': 2, 'nieve': 8, 'vertientes': 3, 'cumbres': 2, 'rugosas': 1, 'difusa': 2, 'reaparecían': 1, 'perfilaban': 1, 'movedizos': 2, 'atravesaban': 1, 'osados': 1, 'orilla': 16, 'concentrando': 1, 'ciertos': 15, 'emergiesen': 1, 'marchando': 4, 'cimas': 4, 'excitar': 1, 'látigo': 2, 'retardar': 1, 'montado': 1, 'consuelo': 2, 'desmesuradas': 1, 'cabalgadura': 1, 'elegían': 1, 'contemplarle': 1, 'avanzaban': 2, 'propicios': 1, 'jaquilla': 1, 'centauro': 1, 'mordiendo': 1, 'sonreírme': 1, 'áridas': 2, 'vedada': 1, 'rozaban': 1, 'pradera': 1, 'cadenas': 1, 'inteligencia': 7, 'opuesta': 8, 'animal': 13, 'hacemos': 3, 'detenga': 1, 'verás': 6, 'aventaje': 1, 'caminar': 5, 'albedrío': 1, 'fiordo': 6, 'tengamos': 4, 'arrojarse': 1, 'ventisqueros…': 1, 'valiente': 1, 'dejémosles': 1, 'falso': 2, 'anfibio': 1, 'río': 3, 'bruto': 2, 'tempestades': 10, 'hostiguemos': 1, 'recula': 1, 'sobrio': 1, 'guía…': 1, 'gentes': 3, 'cederé': 2, 'muevo': 1, 'calambres': 1, 'mueve': 3, 'inquietes': 1, 'acometerán': 1, 'fatigarse': 1, 'caminan': 1, 'montura': 1, 'mendigante': 1, 'avanzábamos': 4, 'caridad': 1, 'chozas': 2, 'margen': 1, 'miserables': 3, 'desierto': 5, 'aislada': 1, 'darles': 2, 'senderos': 2, 'limosna': 1, 'aparecía': 1, 'borrar': 1, 'solitario': 1, 'hondonada': 1, 'transeúnte': 1, 'escasos': 1, 'granja': 1, 'daban': 3, 'estando': 2, 'ganas': 2, 'implorar': 1, 'tarda': 2, 'böer': 2, 'serán': 1, 'serían': 3, 'subterráneas': 8, 'porciones': 1, 'apacentando': 1, 'removidas': 1, 'milla': 8, 'cultivadas': 1, 'cabaña': 4, 'provincia': 1, 'rebaño': 5, 'carneros': 1, 'conmociones': 2, 'salvaje': 3, 'vacas': 1, 'pastor': 2, 'trastornadas': 1, 'deshabitadas': 2, 'hijas': 1, 'eruptivos': 2, 'pobladas': 1, 'escandinava': 3, 'basalto': 3, 'plutónico': 1, 'concentrado': 2, 'trapps': 1, 'traquíticas': 1, 'conglomerados': 1, 'volcánicos': 3, 'corrientes': 8, 'toba': 4, 'puestas': 1, 'destinados': 2, 'residuos': 1, 'conocerlas': 1, 'pórfido': 1, 'caos': 1, 'siguiendo': 7, 'fajas': 1, 'llamadas': 1, 'inspira': 1, 'contornos': 2, 'volcánica': 5, 'horizontales': 2, 'sospechaba': 1, 'espectáculo': 10, 'do': 2, 'apartábamos': 1, 'sobrenatural': 3, 'llegarnos': 1, 'gufunes': 1, 'aoalkirkja': 3, 'bastarían': 1, 'lugarejo': 1, 'villa': 1, 'monosílabos': 1, 'pasásemos': 2, 'compartió': 1, 'aproximadamente': 14, 'pensada': 1, 'frugal': 3, 'gardär': 3, 'hvalfjörd': 2, 'consulté': 2, 'viendo': 2, 'caserío': 2, 'mostré': 1, 'bonito': 2, 'veintidós': 1, 'ponerse': 2, 'observación': 6, 'contornear': 1, 'golfo': 5, 'pingstaœr': 1, 'nombrado': 1, 'comunal': 1, 'relojes': 1, 'kollafjörd': 1, 'ricas': 1, 'doce': 5, 'feligreses': 1, 'ejulberg': 1, 'jurisdicción': 1, 'iglesias': 1, 'asemejan': 1, 'llevaron': 1, 'cordillera': 1, 'saurböer': 1, 'anexa': 1, 'brantar': 1, 'annexia': 1, 'sur': 16, 'tirón': 2, 'avanzado': 5, 'comprendido': 5, 'ribazo': 1, 'obscuras': 3, 'rojizo': 1, 'estrellaban': 1, 'estrépito': 5, 'gracia': 3, 'cuadrúpedo': 1, 'matiz': 2, 'lechos': 2, 'separaban': 1, 'cortadas': 2, 'pico': 14, 'agudas': 2, 'encargo': 1, 'tratarán': 1, 'suplir': 2, 'coloso': 1, 'contestó': 5, 'faltando': 2, 'juramentos': 2, 'ondulación': 1, 'despidiese': 1, 'bestia': 1, 'hostigó': 1, 'moviendo': 2, 'obedecerle': 1, 'jinete': 2, 'caballejo': 1, 'plantado': 1, 'negó': 1, 'esperar': 7, 'instinto': 4, 'rodas': 1, 'latigazos': 1, 'encabritándose': 1, 'doblando': 1, 'corvejones': 1, 'husmear': 1, 'escurrió': 1, 'dejándole': 1, 'obligarlo': 1, 'convertido': 3, 'viese': 1, 'oficial': 1, 'encolerizado': 1, 'avergonzado': 1, 'transformado': 1, 'peatón': 1, 'maldito': 2, 'inopinadamente': 2, 'caballería': 1, 'infante': 1, 'hombro': 2, 'tocándole': 1, 'farja': 1, 'embarcación': 4, 'mostrándole': 2, 'der': 3, 'haberlo': 2, 'prosigamos': 3, 'tidvatten': 1, 'traduciéndome': 1, 'marea': 7, 'crezca': 1, 'förbida': 1, 'ja': 2, 'dirigían': 1, 'máxima': 1, 'acción': 17, 'arrastrada': 3, 'alcanzado': 1, 'reflujo': 1, 'sensible': 5, 'flujo': 1, 'ejercen': 2, 'remos': 2, 'propicio': 2, 'barqueros': 2, 'echamos': 1, 'plano': 4, 'anticuado': 1, 'acostumbrado': 5, 'instalamos': 1, 'accidente': 2, 'gardä': 1, 'diurna': 1, '65°': 1, 'paralelo': 2, 'polares': 2, 'causarme': 1, 'hospitalarias': 1, 'puertas': 2, 'recibirnos': 1, 'frío': 8, 'descendido': 5, 'zaga': 1, 'tendernos': 2, 'ceremonias': 1, 'siguiésemos': 1, 'mansión': 1, 'construir': 3, 'oscuro': 6, 'ocasiones': 3, 'talla': 3, 'labrados': 1, 'acompañarle': 1, 'huéspedes': 3, 'alcoba': 1, 'destinada': 2, 'taller': 1, 'badstofa': 1, 'corredor': 8, 'seguimos': 4, 'tejidos': 1, 'acceso': 1, 'maderos': 2, 'membranas': 1, 'recibía': 1, 'carnero': 1, 'transparentes': 1, 'vidrios': 1, 'terrizo': 1, 'pintada': 1, 'amontonado': 1, 'leche': 2, 'ornamentada': 2, 'camas': 1, 'macerada': 1, 'reinaba': 7, 'sentencias': 1, 'bastidores': 1, 'pescado': 4, 'repugnaba': 1, 'olfato': 1, 'agria': 2, 'heno': 2, 'penetrante': 1, 'hubimos': 1, 'desembarazado': 1, 'lumbre': 1, 'invitaba': 1, 'encendía': 1, 'mayores': 6, 'fríos': 1, 'oímos': 2, 'arreos': 1, 'invitación': 1, 'amistosa': 1, 'consistía': 2, 'agujero': 1, 'escapaba': 4, 'modelo': 1, '“sed': 1, 'saellvertu': 5, 'saludó': 2, 'besó': 2, 'mejillas': 1, 'felices”': 1, 'esposos': 1, 'colocándose': 1, 'pronunció': 2, 'acompañadas': 1, 'esposa': 3, 'ceremonial': 1, 'inclinaron': 1, 'mismas': 3, 'torbellinos': 2, 'saltaban': 2, 'corrían': 3, 'apresuro': 1, 'ángeles': 1, 'llenaban': 1, 'hijos': 2, 'insuficientemente': 1, 'aseados': 1, 'melancólica': 1, 'habríase': 2, 'cabecita': 1, 'resto': 8, 'tantos': 3, 'repetían': 1, 'dispensamos': 1, 'gritaban': 1, 'parva': 1, 'rato': 1, 'imaginables': 1, 'sabían': 1, 'abundante': 3, 'aprendido': 1, 'tonos': 1, 'musgo': 1, 'tendrían': 1, 'soltado': 2, 'obstáculo': 11, 'escaso': 1, 'sumisos': 1, 'interrumpió': 1, 'campo': 4, 'concierto': 1, 'viniesen': 1, 'ovas': 3, 'voluntariamente': 1, 'contentarse': 2, 'económicamente': 1, 'anuncio': 1, 'comiesen': 1, 'medidas': 4, 'nutritivas': 1, 'ósculos': 1, 'acentuado': 1, 'tranquilamente': 9, 'automáticamente': 1, 'terminada': 4, 'veinticuatro': 4, 'sentamos': 2, 'ceremonia': 1, 'favorecidos': 1, 'enebro': 1, 'menuda': 1, 'nadando': 1, 'sazonada': 1, 'preferible': 4, 'alforfón': 1, 'soberbio': 2, 'brebaje': 2, 'taciturnidad': 1, 'mantequilla': 1, 'reinar': 1, 'hayas': 3, 'gente': 1, 'beber': 2, 'cuajada': 1, 'blanda': 1, 'atracón': 1, 'jugo': 1, 'liquen': 1, 'compuesto': 2, 'imperio': 2, 'sirvió': 2, 'espesa': 5, 'ideas': 17, 'característica': 1, 'gastronómicas': 1, 'suero': 1, 'papilla': 1, 'recobró': 1, 'skyr': 1, 'incluso': 1, 'volvieron': 2, 'rodearon': 1, 'arrojarme': 2, 'vaca': 1, 'estiércol': 1, 'estimable': 1, 'calentarse': 1, 'medias': 2, 'respectivas': 1, 'renunciamos': 1, 'ardían': 1, 'huesos': 3, 'niños': 2, 'dueña': 1, 'brezos': 1, 'quitarnos': 1, 'grupos': 4, 'adecuada': 1, 'despedimos': 1, 'remuneración': 1, 'costándole': 1, 'campesino': 2, 'contraescarpa': 1, 'prolongábase': 1, 'mojar': 1, 'sistema': 4, 'presentándose': 1, 'seguíamos': 4, 'menudo': 6, 'fortificaciones': 1, 'arroyuelos': 2, 'indefinidamente': 3, 'vadear': 1, 'reluciente': 1, 'acercaban': 1, 'asquerosas': 1, 'huir': 7, 'humana': 11, 'repugnancia': 2, 'piel': 3, 'espectros': 1, 'desprovista': 1, 'desgarrones': 1, 'revueltas': 3, 'hinchada': 2, 'descubierto': 5, 'harapos': 1, 'llagas': 1, 'deformada': 1, 'desdichada': 1, 'alejábase': 2, 'saludarla': 1, 'spetelsk': 1, 'leproso': 1, 'lepra': 1, 'hereditaria': 1, 'repulsivo': 1, 'desgraciados': 1, 'prohibido': 1, 'afección': 1, 'casarse': 1, 'contagiosa': 1, 'huía': 1, 'erraban': 1, 'merecían': 1, 'acababan': 1, 'apariciones': 1, 'halcón': 1, 'copetes': 1, 'natal': 1, 'melancolía': 1, 'árbol': 1, 'alegrar': 1, 'enanos': 1, 'amos': 1, 'condujeron': 1, 'malezas': 1, 'morir': 6, 'cerníase': 1, 'aparte': 1, 'abedules': 2, 'tristeza': 1, 'carecían': 1, 'alftanes': 1, 'cruzar': 1, 'parada': 2, 'pasarlo': 1, 'ríos': 2, 'truchas': 1, 'duendes': 1, 'abundaban': 2, 'vadeado': 1, 'alfa': 1, 'heta': 1, 'sollos': 1, 'habitada': 1, 'precisados': 2, 'residencia': 1, 'vimos': 3, 'ruinosa': 1, 'abandonada': 1, 'casucha': 1, 'digna': 1, 'suyas': 1, 'fijado': 1, 'mitología': 2, 'krösolbt': 1, 'anejo': 1, 'pernoctamos': 1, 'total': 3, 'uniformidad': 3, 'jornada': 5, 'violencia': 15, 'afectaba': 1, 'solidificadas': 1, 'elevan': 5, '10': 4, 'descendían': 4, 'vecinas': 1, 'prolongados': 2, 'arrugada': 1, 'adujados': 1, 'calabrotes': 1, 'pasada': 1, 'inmensas': 10, 'actualmente': 4, 'calientes': 3, 'pregonaban': 1, 'hraun': 1, 'vestigios': 2, 'terrenos': 17, 'lagunas': 1, 'hundirse': 2, 'cascos': 1, 'pantanosos': 1, 'cima': 9, 'sembrados': 1, 'pequeñas': 3, 'detuvieran': 1, 'sincera': 1, 'fatigado': 2, 'inspirándome': 1, 'sentirme': 1, 'marchaban': 1, 'convenido': 2, 'reclamó': 2, 'acto': 2, '20': 3, 'büdir': 1, 'sábado': 4, 'salario': 1, 'tíos': 1, 'entendió': 1, 'buenas': 1, 'montar': 1, 'permanecido': 3, 'primos': 1, 'reponerme': 1, 'abusar': 2, 'recibidos': 3, 'cabalgaduras': 1, 'hospedaron': 1, 'experimentaba': 1, 'decirle': 1, '«': 1, 'salían': 2, 'gesticulaba': 1, 'desafiarle': 1, 'detuvieron': 1, 'sojuzgar': 1, 'encina': 2, '»': 2, 'raíces': 2, 'espontáneamente': 2, 'proximidad': 1, 'granito': 44, 'rectoría': 4, 'gigante': 5, 'encajado': 1, 'edificado': 1, 'muralla': 8, 'reflejados': 2, 'escuadra': 1, 'adelantándose': 1, 'pirámides': 1, 'esbozados': 1, 'manifestaciones': 2, 'plomada': 1, 'arquitectos': 1, 'edades': 3, 'esplendores': 1, 'babilonia': 1, 'ígneo': 1, 'formas': 4, 'grecia': 1, 'trabaja': 2, 'sustancia': 2, 'conos': 2, 'moles': 1, 'generales': 2, 'manejase': 1, 'compás': 3, 'geométrica': 1, 'determinado': 2, 'obedecen': 1, 'extrañeza': 1, 'sabido': 4, 'sobrepujado': 1, 'procede': 3, 'imperfectas': 1, 'deformes': 1, 'plan': 1, 'desarrolla': 1, 'queriendo': 2, 'regulares': 1, 'roca': 42, 'regularidad': 2, 'gigantes': 2, 'basáltica': 4, 'presentado': 2, 'fenómeno': 23, 'hébridas': 1, 'fingal': 1, 'gruta': 13, 'esplendor': 1, 'irlanda': 1, 'semibóveda': 1, 'aberturas': 3, 'dibujo': 1, 'proporcionados': 1, 'yacían': 2, 'jóvenes': 1, 'templo': 1, 'fustes': 1, 'basaltos': 1, 'arrancados': 1, 'ruinas': 1, 'sorprendía': 1, 'arcada': 1, 'cobertizo': 1, 'irritadas': 1, 'ojivales': 1, 'corroerlas': 1, 'soportaban': 1, 'rectos': 1, 'avanzada': 2, 'furores': 4, 'precipitarse': 2, 'probada': 1, 'conducido': 4, 'etapa': 2, 'tranquilizaba': 1, 'seguiría': 1, 'acompañando': 2, 'cómoda': 1, 'herrando': 2, 'cura': 3, 'cintura': 5, 'mandil': 1, 'albéitar': 1, 'dag': 2, 'god': 2, 'volviéndose': 1, 'kyrkoherde': 2, 'rector': 3, 'repitió': 9, 'medir': 3, 'furia': 3, 'suspendió': 1, 'chalanes': 1, 'viniese': 2, 'temí': 2, 'ofrecer': 1, 'introducirnos': 1, 'ósculo': 1, 'estrecha': 4, 'infecta': 1, 'practicar': 2, 'sucia': 1, 'templanza': 1, 'virtudes': 1, 'párroco': 1, 'pescando': 1, 'sumar': 1, 'herrero': 1, 'advertí': 2, 'asignación': 1, 'desquitase': 1, 'rudas': 1, 'cazando': 1, 'ministro': 1, 'carpintero': 1, 'necesitan': 1, 'sacerdotes': 1, 'reciben': 1, 'gobierno': 1, 'hábitos': 1, 'pescadores': 2, 'parroquias': 1, 'sesenta': 1, 'trabajar': 1, 'domingos': 1, 'diezmos': 1, 'cazadores': 1, 'perciben': 2, 'ridícula': 1, 'cansancio': 4, 'habérselas': 1, 'halló': 1, 'honrado': 1, 'resolvió': 1, 'descortés': 1, 'hospitalario': 1, 'reemplazar': 3, 'aclarado': 1, 'comenzaron': 1, 'indígenas': 1, 'desandar': 3, 'llegados': 2, 'contrató': 1, 'apoderaba': 2, 'inclinar': 2, 'zozobra': 1, 'incidentes': 4, 'contentó': 2, 'oponerme': 1, 'entrañas': 17, 'distraído': 1, 'asentimiento': 2, 'designios': 2, 'olvidado': 4, 'crispar': 1, 'espantosa': 9, 'míos': 3, 'presenta': 4, '“veamos”': 1, 'deducir': 3, 'encaramar': 1, 'malhadado': 1, 'despertarse': 1, '1229': 2, '“nos': 1, 'despertase': 1, 'duerma': 1, 'preparando': 1, 'galerías': 3, 'monstruo': 5, 'viven': 2, 'brutal': 2, 'cacería': 1, 'representar': 1, 'soñar': 2, 'cesaba': 4, 'pena': 4, 'irrealizable': 1, 'finalmente': 1, 'someter': 2, 'prudencia': 4, 'callar': 1, 'retrocedí': 1, 'temores': 4, 'manifesté': 1, 'explosión': 12, 'aproximándome': 1, 'efectos': 5, 'simplemente': 2, 'pensando': 7, 'interpretación': 1, 'pensaría': 1, 'suspender': 1, 'interrumpir': 1, 'imprudencias': 1, 'conviene': 4, 'cometer': 2, 'juicio': 2, 'vehemencia': 1, 'asegurarte': 1, 'habrá': 7, 'precedidas': 1, 'seiscientos': 1, 'dejaron': 4, 'montón': 2, 'raso': 1, 'piroxénicas': 1, 'alejaba': 2, 'hallarnos': 1, 'deyecciones': 2, 'accidentes': 1, 'borrados': 1, 'directo': 1, 'seno': 8, 'confirmar': 2, 'llamados': 1, 'termales': 1, 'procedían': 1, 'reykir': 1, 'indicaba': 2, 'debemos': 3, 'añades': 1, 'reemplazados': 1, 'toman': 2, 'subsiste': 1, 'aproxima': 4, 'próxima': 4, 'olvides': 1, 'puedes': 2, 'elásticos': 2, 'redoblan': 1, 'careciendo': 1, 'necesaria': 2, 'fisuras': 1, 'humaredas': 2, 'fluidos': 2, 'decirte': 1, 'luego': 4, 'mantienen': 1, 'escaparse': 1, 'hablado': 1, 'saknus\\xadsemm': 1, 'orejas': 2, 'anonadado': 2, 'endiablada': 1, 'proseguir': 3, 'materialmente': 5, 'galería': 52, 'gachas': 1, 'sumido': 2, 'eruptiva': 2, 'profundidades': 12, 'lanzado': 1, 'aseguraba': 2, 'odre': 4, 'fusiles': 3, 'reservados': 1, 'cartucheras': 1, 'precavido': 1, 'infecto': 1, 'desolló': 1, 'respirado': 1, 'esperaban': 1, 'formidable': 3, 'deseosos': 1, 'cobraba': 1, 'cobrándonos': 1, 'gigantesca': 2, 'rectoral': 1, 'ingrata': 2, 'dignísima': 1, 'hostelero': 1, 'fabuloso': 1, 'inesperada': 3, 'suizo': 1, 'salido': 8, 'arreglado': 1, 'parar': 1, 'partía': 1, 'raquítica': 1, 'faja': 1, 'casquete': 2, 'terminación': 1, 'orográfico': 1, 'grisáceo': 1, 'proyectándose': 1, 'destaca': 1, 'cubría': 3, 'cielo': 22, 'precedidos': 1, 'fila': 1, 'sucesivas': 2, 'vetas': 1, 'hornaguero': 1, 'fibrosa': 1, 'pantanos': 2, 'pómez': 3, 'barrancos': 2, 'detritus': 1, 'bastaría': 1, 'calentar': 1, 'restos': 8, 'inexplotado': 1, 'carbonizados': 1, 'herbácea': 1, 'medido': 1, 'combustible': 1, 'encontramos': 12, 'gabinete': 1, 'rehacía': 1, 'expuestas': 1, 'preocupaciones': 1, 'geológica': 4, 'par': 3, 'observaba': 3, 'moderna': 3, 'fuegos': 5, 'elevándose': 3, 'formación': 4, 'convertirse': 2, 'subterráneos': 5, 'atribuirse': 1, 'continúe': 1, 'precedieron': 2, 'insensible': 2, 'indujo': 1, 'surgido': 1, 'curiosa': 1, 'examinar': 4, 'pretensiones': 1, 'levantada': 1, 'sólida': 5, 'sedimentario': 3, 'aglomerado': 1, 'contextura': 3, 'escotillón': 1, 'centrales': 2, 'porosa': 2, 'tobas': 2, 'compone': 2, 'únicamente': 4, 'empuje': 2, 'lentamente': 10, 'privada': 1, 'irrupción': 1, 'escapó': 5, 'arrojadas': 2, 'fenda': 4, 'vastas': 1, 'masas': 4, 'sabanas': 1, 'extendieron': 1, 'pórfidos': 1, 'pasta': 3, 'feldespatos': 1, 'traquítica': 2, 'verificó': 1, 'diagonalmente': 1, 'apezonadas': 1, 'sienitos': 1, 'aparecieron': 2, 'salidas': 2, 'pesada': 2, 'levantaron': 1, 'derramamiento': 1, 'costra': 1, 'enfriamiento': 5, 'aquél': 4, 'repentino': 1, 'espesor': 3, 'almacenaron': 1, 'potencia': 2, 'levantamiento': 1, 'mecánica': 1, 'obstruyeron': 1, 'elevadas': 5, 'abrieron': 2, 'aumentó': 1, 'enfriarse': 1, 'bases': 1, 'adoptado': 1, 'maravillosos': 1, 'basálticas': 1, 'escaparon': 1, 'cuáles': 7, 'cruzábamos': 1, 'prismas': 1, 'hexagonales': 1, 'formadas': 1, 'sucedieron': 3, 'aplastados': 3, 'ignívoras': 1, 'recién': 1, 'gris': 4, 'opulenta': 1, 'cenizas': 6, 'agotada': 1, 'escorias': 3, 'derrames': 1, 'amplios': 2, 'flancos': 6, 'acrecentó': 1, 'contemplaban': 1, 'esparcidos': 2, 'reconocían': 1, 'perenne': 1, 'formaron': 4, 'pretender': 1, 'incandescencia': 1, 'permaneciese': 1, 'interna': 1, 'insensatez': 2, 'respecto': 4, 'asalto': 1, 'tranquilizando': 1, 'tiento': 1, 'oscilaban': 1, 'caídas': 2, 'peligrosas': 2, 'jalones': 1, 'oíamos': 1, 'probaron': 1, 'acontecimientos': 5, 'fijaba': 1, 'recogía': 1, 'indicarnos': 1, 'agudo': 3, 'peñascos': 4, 'perdíamos': 1, 'colocábalas': 1, 'silbido': 3, 'inutilidad': 1, 'precaución': 4, 'reconocerlas': 1, 'debíamos': 5, 'voluntad': 10, 'frugalmente': 1, 'reparar': 4, 'invirtieron': 1, 'someterse': 1, 'fatigosas': 1, 'taciturnos': 1, 'sobriamente': 1, 'camarada': 1, 'desplegaron': 1, 'comieron': 1, 'nevada': 1, 'cimiento': 1, 'muchísimas': 1, 'llanura': 6, 'comenzamos': 1, 'rodaban': 1, 'resbalaban': 1, 'restaban': 1, 'ligadas': 1, 'rodear': 1, '36°': 1, 'prestábamos': 1, 'mutuo': 1, 'pedregosos': 1, 'auxilio': 3, 'equilibrio': 2, 'agilidad': 2, 'innato': 1, 'apoyo': 5, 'tropezaba': 1, 'trepaban': 1, 'advertir': 3, 'esfuerzos': 5, 'inclinación': 6, 'detenido': 9, 'inauditos': 1, 'stinâ': 1, 'simplificó': 1, 'torrentes': 2, 'torrente': 14, 'vasta': 6, 'descubrieron': 3, 'permitían': 3, 'pequeñez': 2, 'verlos': 1, 'remontarlos': 1, 'proseguían': 1, 'escalones': 1, 'retrasase': 1, 'reducidos': 1, 'microscópica': 1, 'saliente': 5, 'dominábamos': 1, 'prestándome': 1, 'traspasado': 1, 'agotado': 4, '200': 4, 'perpetuas': 1, 'elevado': 4, 'sacudió': 4, 'negaban': 2, 'clima': 1, 'ofvanför': 1, 'motivo': 9, 'mistour': 3, 'repuso': 2, 'opaca': 2, 'pulverizada': 1, 'columna': 12, 'sopla': 3, 'conozca': 1, 'flanco': 1, 'tromba': 4, 'cortina': 1, 'producía': 5, 'tendida': 1, 'envolvería': 1, 'girando': 2, 'arena': 9, 'hostigt': 1, 'hastigt': 1, 'descendiendo': 3, 'circundar': 1, 'demora': 1, 'estremeció': 1, 'volaron': 1, 'remolinos': 3, 'meteoro': 1, 'suspendidas': 3, 'impalpable': 1, 'abrigo': 6, 'convertidos': 2, 'hubieran': 9, 'chocar': 3, 'producto': 1, 'desmenuzados': 1, 'vertiente': 4, 'proseguimos': 1, 'zigzag': 1, 'perdimos': 2, 'sesgos': 1, 'contramarchas': 1, 'consideró': 1, 'rarificado': 1, 'moría': 1, 'plena': 4, 'carrera': 5, 'proyectando': 1, 'inferior': 8, 'pálidos': 2, 'dormida': 1, 'once': 3, 'nivel': 8, 'cenamos': 2, 'penosa': 1, 'helados': 2, 'desarrollaba': 3, 'despertó': 3, 'abandoné': 2, 'esplendente': 1, 'disfrutar': 1, 'resaltar': 1, 'obscurecerse': 1, 'helbesmer': 1, 'ubiqué': 1, 'pozos': 2, 'lagos': 2, 'estanques': 1, 'mapas': 1, 'hubiérase': 1, 'cruzarse': 1, 'transformaban': 1, 'relieve': 1, 'valles': 1, 'multiplicados': 1, 'terminaba': 2, 'comenzaban': 1, 'penacho': 4, 'presentaban': 2, 'aborregadas': 1, 'extensión': 7, 'aparecían': 2, 'coronados': 1, 'agitan': 5, 'majestuosa': 1, 'infinitas': 2, 'ondulaciones': 3, 'acordarme': 2, 'embriagaba': 1, 'silfos': 1, 'solares': 2, 'éxtasis': 1, 'olvidé': 3, 'alucinador': 1, 'producen': 2, 'transparente': 1, 'imaginarios': 2, 'trasgos': 1, 'abismé': 1, 'irradiación': 3, 'vinieron': 1, 'sublimes': 1, 'acostumbrando': 2, 'trajeron': 1, 'voluptuosidades': 1, 'deslumbradas': 1, 'explayaban': 1, 'sumergiría': 1, 'reunirse': 1, 'apariencia': 2, 'señaló': 1, 'ligero': 3, 'dominaba': 3, 'groenlandia': 2, 'importa': 6, 'témpanos': 1, 'decirnos': 1, '35': 1, 'osos': 1, 'arrastran': 3, 'deshielos': 1, 'dista': 1, 'hallamos': 14, 'llegan': 2, 'dirigió': 5, 'tendría': 2, 'llenase': 1, 'invertido': 1, 'recipiente': 1, 'diámetro': 8, 'truenos': 1, 'legua': 7, 'orificio': 10, 'calculé': 2, 'circunferencia': 4, 'suaves': 2, 'embudo': 1, 'ensanchado': 1, 'trabuco': 1, 'comparaba': 3, 'involuntariamente': 5, 'colmaba': 1, 'espanto': 9, 'locos”': 1, 'cargado': 1, 'fuero': 1, 'interno': 1, '“introducirse': 1, '“que': 4, 'trabuco”': 1, 'choque': 7, 'dispararse': 1, 'ocurrírsele': 1, 'retroceder': 8, 'caravana': 1, 'eruptivas': 7, 'determinaba': 1, 'desprendidas': 2, 'marchar': 2, 'alvéolos': 1, 'elipses': 1, 'precipitaban': 4, 'descenso': 18, 'sonoridad': 1, 'describía': 1, 'repercusiones': 1, 'prolongadas': 1, 'saltos': 3, 'dudosos': 1, 'atarnos': 1, 'grietas': 9, 'excluía': 1, 'herrado': 3, 'solidaridad': 1, 'resbalaba': 1, 'sondando': 1, 'cuerda': 11, 'necesitamos': 1, 'realizó': 1, 'desconocía': 1, 'rodó': 1, 'lío': 2, 'exceptúa': 1, 'pedazo': 4, 'solamente': 9, 'reducida': 2, 'sobresalía': 1, 'hundía': 1, 'foco': 5, 'nosotras': 2, 'jadeante': 1, 'hundir': 2, 'épocas': 5, 'tenebrosas': 3, 'examen': 3, 'tomándole': 1, 'abrían': 3, 'profiriendo': 1, 'arrojaba': 1, 'fauces': 3, 'extendidos': 2, 'temiendo': 2, 'desaparecido': 7, 'sustentar': 1, 'plutón': 2, 'abiertas': 1, 'resbalado': 1, 'simas': 1, 'insensata': 2, 'estremecí': 1, 'cambió': 3, 'estatua': 1, 'pedestal': 1, 'acudí': 1, 'puestos': 1, 'movieron': 1, 'grabado': 3, 'gastados': 1, 'destructora': 1, 'miraba': 4, 'participando': 1, 'dudarás': 1, 'consternado': 1, 'anonadaba': 2, 'reflexiones': 11, 'hacerlo': 2, 'bajaban': 1, 'permanecí': 2, 'dormía': 2, 'trampa': 1, 'sentir': 8, 'levantarme': 1, 'fiera': 1, 'exteriores': 2, 'entregué': 2, 'despedidos': 4, 'sacudidas': 3, 'cae': 2, 'sopor': 3, 'transcurrió': 7, 'vértice': 1, 'notado': 2, 'nebuloso': 1, 'brilló': 2, 'ved': 2, 'reconocérsela': 1, 'explorada': 1, 'particularidad': 2, 'señalada': 1, 'rutas': 1, 'considerar': 1, 'señalaba': 3, 'cuadrante': 2, 'gnomon': 1, '25': 2, 'anhelada': 1, 'dirigidas': 1, 'brumoso': 2, 'llamarle': 2, 'movió': 2, 'proyectarse': 1, 'invariablemente': 2, 'impotente': 1, 'renuncio': 1, 'inactividad': 1, 'ensordecedores': 1, 'construyó': 3, 'millares': 4, 'mezclada': 2, 'acrecentaba': 1, 'murmullos': 1, 'cascadas': 3, 'cachazudo': 1, 'contenerse': 1, 'naufragar': 1, 'congojas': 1, 'mezcla': 2, 'reservaba': 3, 'desesperantes': 1, 'alegrías': 1, 'intensa': 8, 'bienhechores': 1, 'derramó': 1, 'instantáneamente': 2, 'varió': 1, 'montículo': 1, 'aspereza': 1, 'esplendoroso': 3, 'llenas': 1, 'arista': 1, 'proyectó': 1, '28': 2, 'recibió': 1, 'astro': 5, 'antepenúltimo': 1, 'girar': 2, 'efluvios': 2, 'dulcemente': 2, 'lamer': 1, 'período': 13, 'borde': 1, 'forüt': 1, 'trece': 2, 'nacer': 2, 'éstas': 6, 'desprecio': 1, 'osado': 1, 'aceptaba': 1, 'acercó': 2, 'desplegué': 1, 'cariñoso': 1, 'insondable': 3, 'recurrido': 1, 'investigadora': 1, 'intentarla': 1, 'indiferencia': 6, 'abochornaba': 1, 'envié': 1, 'decidirme': 1, 'significase': 1, 'desplazarse': 1, 'frelsers–kirk': 1, 'embriague': 1, 'apoderó': 4, 'erizaron': 1, 'retuvo': 1, 'vacío': 3, 'suficientes': 3, 'recliné': 1, 'subírseme': 1, 'prácticas': 2, 'borrachera': 1, 'gravedad': 3, 'permanecieron': 1, 'sostenernos': 1, 'existían': 2, 'conformación': 4, 'amarrada': 2, 'escaleras': 2, 'desatarla': 1, 'rampas': 1, 'salientes': 7, 'ad': 1, 'obviar': 1, 'hubiésemos': 6, 'desenrolló': 1, 'doscientos': 3, 'recuperarla': 1, 'primero': 10, 'conservando': 1, 'infinitum': 1, 'soltando': 2, 'podíamos': 2, 'arrolló': 1, 'mitades': 1, 'práctica': 1, 'usque': 1, 'desligarse': 1, 'dejó': 3, 'echó': 2, 'reanudaría': 1, 'halando': 1, 'pulgar': 1, 'grueso': 1, 'espalda': 4, 'fardos': 2, 'dividirla': 1, 'refiero': 1, 'ocupémonos': 1, 'amarraremos': 1, 'frágiles': 2, 'comprendidos': 1, 'ultima': 1, 'categoría': 1, 'tercio': 2, 'encargarse': 1, 'arenas': 3, 'bajarlas': 1, 'ropa': 2, 'encargará': 1, 'bajará': 1, 'asombrado': 2, 'verlo': 6, 'recurrir': 2, 'radicales': 1, 'amarrado': 1, 'sonoro': 4, 'haberla': 2, 'inclinado': 2, 'impedimento': 2, 'satisfecha': 3, 'zumbido': 1, 'desplazamiento': 1, 'perdido': 14, 'toca': 2, 'ruego': 1, 'estremecerse': 1, 'digan': 1, 'fe': 6, 'turbado': 2, 'ató': 1, 'perecía': 3, 'oprimiendo': 1, 'milagros': 1, 'equilibro': 1, 'frenéticamente': 1, 'aferrarme': 1, 'resbalar': 4, 'faltase': 1, 'realizando': 2, 'oscilaba': 1, 'resbaladizos': 1, 'akt': 1, 'gif': 1, 'adherida': 1, 'cayeron': 1, 'extremos': 1, 'pedazos': 4, 'elevó': 1, 'rebasado': 4, 'tiró': 1, 'granizada': 1, 'arrastrando': 1, 'precipicio': 1, 'asomar': 1, 'maniobra': 4, 'entusiasta': 1, 'silúricos': 1, 'pliocenos': 1, 'cretáceos': 1, 'importaba': 3, 'preocupé': 1, 'devonianos': 3, 'notas': 5, 'carboníferos': 2, 'primitivos': 5, 'jurásicos': 2, 'rodeaban': 2, 'triásicos': 1, 'altos': 2, 'miocenos': 1, 'pérmicos': 1, 'eocenos': 1, 'devy': 2, 'inflamación': 1, 'pleno': 5, 'primordial': 2, 'confirma': 1, 'rechazo': 1, 'producido': 1, 'entretenerme': 1, 'reanudó': 2, 'muestra': 1, 'interpretó': 1, 'aproximarse': 1, 'ligera': 6, 'tendían': 1, 'sensiblemente': 3, 'crecía': 4, 'produciendo': 3, 'interrumpía': 1, 'hundían': 1, 'llegaban': 2, 'exactitud': 6, 'escrupulosamente': 1, 'anotar': 1, 'cambiábamos': 1, 'calcular': 8, 'duraba': 3, 'cuartos': 1, 'emprendido': 2, 'catorce': 3, 'repetido': 1, 'cambios': 1, '800': 2, 'representaban': 2, 'golpear': 1, 'detuve': 3, 'perpendicular': 2, 'dirige': 1, 'dormiremos': 1, 'entreveo': 2, 'cenemos': 2, 'tendimos': 1, 'completa': 6, 'abrimos': 2, 'anteojo': 6, 'gigantesco': 3, 'tubo': 4, 'brillante': 2, 'tumbado': 1, 'transformaba': 1, 'osa': 1, 'beta': 1, 'centelleo': 1, 'despojada': 1, 'estrella': 3, 'esparcían': 1, 'recogían': 1, 'facetas': 2, 'permitirnos': 1, 'vendedores': 1, 'apacible': 1, 'gritos': 2, 'vociferaciones': 1, 'frotándose': 2, 'carruajes': 1, 'asustas': 1, 'penetrado': 2, 'pulgada': 1, 'vertical': 13, 'finaliza': 1, 'detiene': 4, 'examina': 2, 'certísimo': 1, 'barómetro': 4, 'efectuaba': 1, 'correspondiente': 2, 'mercurio': 1, '29': 2, 'soportamos': 1, 'manómetro': 6, 'instrumento': 5, 'sernos': 2, 'calculada': 1, 'llegue': 2, 'insoportable': 2, 'aeronautas': 2, 'superiores': 5, 'respirar': 3, 'faltarles': 1, 'descenderemos': 1, 'comprimida': 1, 'habituarán': 1, 'escudriñarlo': 1, 'inútilmente': 1, 'recordé': 2, 'buscado': 2, 'huppe': 1, 'mencionado': 2, 'gato': 1, 'cabezas': 11, 'bulto': 1, 'trepó': 1, 'tengan': 2, 'seca': 6, 'regadas': 1, 'tragos': 1, 'anotó': 1, 'datos': 1, 'bolsillo': 1, 'destinado': 2, 'sacó': 1, 'cuaderno': 1, 'lunes': 3, '°': 1, 'cronómetro': 9, '8': 2, '17': 2, 'h': 1, 'p': 1, '71': 1, '6°': 1, 'termómetro': 9, 'dato': 1, 'refería': 1, 'suministrado': 1, 'sepultarnos': 1, 'disipó': 2, 'suspendido': 1, 'aparato': 6, 'eléctrica': 9, 'linterna': 7, 'serpentín': 2, 'creando': 1, 'electricidad': 9, 'permitiría': 1, 'inflamables': 1, 'artificial': 1, 'aplicación': 1, 'empujar': 1, 'cogió': 2, 'ropas': 1, 'entramos': 2, 'jamás”': 1, 'tenebroso': 1, 'abismarme': 2, 'reflejaba': 1, 'centuplicándose': 1, 'intensidad': 15, 'tapizando': 1, 'retenerlos': 1, 'demasiada': 2, 'servían': 2, '45°': 1, 'descendiesen': 1, 'abolladuras': 1, 'cuidando': 1, 'deslizarse': 3, 'erosiones': 1, 'vidrio': 1, 'arañas': 1, 'bóveda': 10, 'dignamente': 1, 'redondas': 2, 'suspendidos': 2, 'convertían': 1, 'cuarzo': 3, 'genios': 1, 'límpidas': 1, 'estalactitas': 1, 'encenderse': 1, 'gotas': 6, 'ampollas': 1, 'opaco': 2, 'ornados': 1, 'iluminaban': 1, 'degradaciones': 1, 'deslumbrante': 2, 'amarillo': 2, 'varían': 1, 'globos': 2, 'matices': 4, 'causan': 1, 'lave': 1, 'convenciendo': 3, 'perece': 2, 'espléndido': 3, 'marcaba': 3, 'recta': 2, 'debiera': 1, 'descensus': 1, 'senda': 1, 'consultaba': 1, 'resbalamiento': 1, 'desviaba': 1, 'inflexibilidad': 1, 'averni': 1, 'facilis': 1, 'dejábamos': 1, 'desviación': 1, 'inducía': 1, 'ángulos': 4, 'aumentaba': 5, '10°': 1, 'subida': 1, 'escrupulosidad': 2, 'alcanzada': 2, 'derroche': 2, 'sonó': 1, 'puntas': 4, 'atribuir': 1, 'consecutivas': 1, 'efectúa': 2, 'sentó': 1, 'incapacitaban': 1, 'causas': 2, 'raciocinio': 2, 'producían': 3, 'melodía': 1, 'atmosférica': 3, 'lámparas': 2, 'colocaron': 1, 'caverna': 13, 'esparció': 1, 'devoramos': 1, 'tropezado': 4, 'vasijas': 2, 'bloque': 2, 'particular': 3, 'inquietaba': 1, 'previsiones': 1, 'rellenar': 1, 'consumido': 2, 'sorprende': 1, 'tranquilízate': 3, 'quisiéramos': 1, 'respondo': 1, 'encontraremos': 1, 'envoltura': 2, 'surjan': 1, 'hayamos': 5, 'prolongue': 1, 'supones': 1, 'intenso': 3, 'hubiéramos': 4, 'señala': 5, 'supone': 1, '15°': 1, '9': 3, 'deduces': 2, 'depende': 1, '125': 2, '36': 1, 'aceptemos': 1, 'condiciones': 4, 'siberia': 3, 'exactas': 1, 'yakoust': 1, 'verifica': 1, '1°': 1, 'modificar': 3, 'gneis': 4, 'experimente': 1, 'cifra': 2, 'conductividad': 2, 'deducción': 1, 'observado': 7, 'añadiré': 2, 'calculemos': 1, 'locales': 1, 'calcula': 2, 'libreta': 1, 'trazando': 1, 'bien…': 1, 'mienten': 1, 'minas': 3, 'alcanzadas': 1, '6': 2, 'bohemia': 1, 'exactos': 3, 'wuttemherg': 1, 'kitz–babl': 1, 'tirol': 1, 'suministraba': 2, '81°': 1, '30': 2, 'reemplazan': 1, 'planos': 1, 'continuamos': 1, 'inclinados': 1, 'rampa': 1, 'reunimos': 2, 'encrucijada': 2, 'sombríos': 2, 'desembocaban': 1, 'deberíamos': 3, 'designó': 1, 'penetremos': 1, 'viésemos': 1, 'existía': 7, 'prolongado': 3, 'preferencia': 1, 'indicio': 2, 'aconsejase': 1, 'vacilación': 1, 'confiarse': 1, 'religiosa': 1, 'arcadas': 2, 'artistas': 1, 'generatriz': 1, 'catedral': 2, 'desigual': 2, 'ojiva': 1, 'sección': 2, 'gótica': 1, 'laterales': 1, 'naves': 2, 'arquitectura': 1, 'sostenían': 1, 'arcos': 2, 'gruesos': 1, 'rebajados': 1, 'romano': 1, 'bóvedas': 6, 'embutidos': 1, 'pilares': 1, 'pasadizos': 1, 'subestructuras': 1, 'cedía': 1, 'castores': 1, 'bajas': 1, 'arrastrarnos': 1, 'recalentados': 1, 'vomitadas': 2, 'estrellarían': 1, 'vía': 3, 'acumulación': 1, 'soportable': 1, 'senil': 1, 'vea': 3, 'asaltado': 1, 'capricho': 1, 'tal”': 1, 'comunicar': 2, 'rodaba': 2, 'guardaba': 2, 'deslizaba': 4, 'fatigoso': 4, 'entregarnos': 1, 'dormimos': 1, 'velar': 1, 'visitas': 1, 'desiertos': 4, 'selvas': 4, 'engolfarse': 1, 'razas': 1, 'manta': 3, 'áfrica': 2, 'envolvíamos': 1, 'importunas': 1, 'precaverse': 1, 'dañinas': 1, 'fieras': 1, 'soledad': 2, 'descansados': 1, 'ágiles': 1, 'despertamos': 1, 'tendía': 2, 'patente': 1, 'fatigosa': 2, 'atravesábamos': 2, 'liso': 2, 'cuesta': 3, 'modificado': 2, 'convencer': 3, 'manifestación': 1, 'distanciarme': 1, 'laberinto': 6, 'denuedo': 1, 'extraviarme': 2, 'ascendente': 2, 'acercaba': 3, 'confirmada': 1, 'reflejada': 2, 'silúrico': 2, 'sucedió': 4, 'transición': 6, 'sufrió': 1, 'revestimiento': 2, 'cambiaron': 1, 'debilitación': 1, 'componía': 1, 'vecinos': 1, 'volvemos': 1, 'sedimentos': 1, 'calizas': 4, 'asperones': 4, 'hannover': 1, 'tomasen': 1, 'esquistos': 7, 'oyó': 3, 'reservado': 2, 'variada': 1, 'indicios': 2, 'pizarrosos': 1, 'plantas': 17, 'véalo': 1, 'examínelo': 1, 'obsérvelo': 1, 'escapase': 1, 'obligué': 1, 'exclamación': 4, 'lámpara': 9, 'conducir': 1, 'abandonado': 8, 'equivocado': 5, 'deseaba': 3, 'elegir': 4, 'vanidad': 1, 'modificación': 1, 'superpuestas': 3, 'rendirse': 1, 'busquemos': 1, 'halle': 1, 'primitivas': 3, 'encerraban': 1, 'quinientas': 4, 'vegetales': 3, 'conchas': 1, 'licopodios': 4, 'deshojes': 1, 'engañarse': 2, 'duro': 4, 'pruebas': 1, 'invariable': 1, 'irrefutables': 1, 'habituados': 2, 'sucediese': 1, 'pisaron': 1, 'distintamente': 4, 'mostrándosela': 1, 'concha': 2, 'conservada': 1, 'pertenecido': 4, 'terquedad': 1, 'cucaracha': 1, 'aproximé': 2, 'reprimirme': 1, 'crustáceo': 1, 'extinguido': 1, 'trilobites': 2, 'deduce': 1, 'convenceré': 1, 'conducta': 2, 'aprobaría': 1, 'pondremos': 2, 'previsión': 2, 'cenar': 2, 'manantial': 6, 'economizar': 1, 'contagiado': 1, 'mutismo': 2, 'interminables': 1, 'marcada': 2, 'afirmaba': 1, 'modificaba': 1, 'tranquilizar': 1, 'ascendía': 1, 'bajábamos': 2, 'tendencia': 2, 'arrancaba': 1, 'recubrían': 1, 'rojos': 1, 'caliza': 2, 'devon': 1, 'condado': 1, 'rojizas': 1, 'jaspes': 1, 'mármoles': 2, 'revela': 1, 'surcados': 1, 'encarnado': 1, 'ágata': 1, 'caprichosamente': 1, 'zanja': 1, 'vivos': 6, 'abierta': 3, 'viejos': 3, 'reptiles': 6, 'sauropterigios': 1, 'rudimentarios': 1, 'paleontólogos': 1, 'creación': 5, 'miles': 1, 'ganoideos': 2, 'peces': 10, 'depositaron': 1, 'progresado': 1, 'habitados': 1, 'ocupan': 1, 'humanas': 1, 'mientes': 1, 'criaturas': 1, 'remontábamos': 1, 'peldaño': 1, 'impidiese': 1, 'ocurriese': 2, 'permitiese': 2, 'realizara': 1, 'continuar': 3, 'abriera': 1, 'tormentos': 1, 'viernes': 5, 'sed': 15, 'asperón': 2, 'sombrío': 2, 'reverberación': 1, 'apoyé': 1, 'cedían': 1, 'mate': 1, 'mármol': 1, 'esquisto': 1, 'adquirí': 1, 'yacimiento': 1, 'hulla': 5, 'retiré': 2, 'convencimiento': 1, 'mina': 7, 'mineros': 2, 'yacimientos': 2, 'perforada': 1, 'probé': 1, 'bocado': 1, 'preparó': 3, 'escasas': 2, 'apagar': 2, 'alimentos': 7, 'bebí': 1, 'cubrieron': 1, 'mantas': 5, 'pegar': 1, 'hallaron': 1, 'conté': 1, 'excavación': 3, 'derrumbaban': 1, 'convencí': 2, 'milagro': 2, 'emprendimos': 3, 'supuesto': 4, 'apuntaladas': 1, 'cediendo': 1, 'impulsión': 2, 'removido': 2, 'dislocado': 1, 'subterránea': 3, 'violentamente': 2, 'conmoción': 3, 'arcilla': 1, 'fases': 1, 'compactas': 1, 'privándole': 1, 'tropical': 1, 'persistente': 1, 'debidas': 2, 'secundario': 1, 'precedió': 1, 'rodeaba': 2, 'cubrió': 1, 'vegetaciones': 2, 'polos': 4, 'provenían': 1, 'climas': 2, 'ecuador': 1, 'desempeñar': 2, 'procedía': 2, 'tórrido': 1, 'flores': 2, 'privadas': 1, 'absorbían': 1, 'esferoide': 3, 'perfumes': 1, 'ardientes': 2, 'exhalaban': 1, 'enérgica': 2, 'influjo': 2, 'benéfico': 2, 'asterofilitas': 1, 'inmensos': 3, 'helechos': 4, 'siguarias': 1, 'céspedes': 1, 'familias': 1, 'contaban': 1, 'herbáceas': 1, 'arrastradas': 1, 'exuberante': 1, 'obedecía': 1, 'fermentación': 1, 'influencia': 5, 'mineralizaron': 1, 'acumulaciones': 1, 'transformaron': 1, 'intervino': 2, 'logrará': 1, 'pueblos': 1, 'agotar': 1, 'consumo': 1, 'hulleras': 1, 'distantes': 1, 'exigiría': 1, 'asaltaban': 1, 'explotación': 2, 'descubiertas': 1, 'probablemente': 3, 'repartida': 1, 'sonar': 2, 'intactos': 3, 'hallasen': 2, 'espantosas': 3, 'fluido': 3, 'catástrofes': 1, 'hidrógeno': 1, 'pronunciado': 3, 'protocarburo': 1, 'grisú': 1, 'olvidaba': 2, 'notaba': 1, 'caminando': 3, 'consideraciones': 2, 'designan': 1, 'largura': 1, 'geológicas': 2, 'causado': 2, 'alumbrando': 1, 'ingeniosos': 2, 'explorado': 1, 'suprimiendo': 1, 'imprudentemente': 2, 'radicalmente': 1, 'callejón': 2, 'reinaban': 1, 'refrenar': 3, 'tropezamos': 1, 'apreciar': 2, 'esforzaba': 1, 'horizontalidad': 3, 'profundas': 1, 'muro': 3, 'descansemos': 1, 'bifurca': 1, 'atenerme': 2, 'transcurran': 1, 'queda': 7, 'andado': 3, 'alcanzan': 2, 'gota': 1, 'dirigiéndome': 1, 'severa': 1, 'contestarle': 1, 'jornadas': 2, 'madrugada': 1, 'bifurcación': 4, 'partimos': 3, 'soportó': 1, 'confiese': 1, 'detendré': 1, 'resignación': 3, 'sufrimientos': 3, 'desesperándome': 1, 'detallar': 1, 'pacífica': 1, 'siente': 2, 'quejándome': 1, 'nacidas': 1, 'infernal': 1, 'abrasaba': 3, 'previsto': 1, 'defenderse': 1, 'extremado': 1, 'paralizaba': 1, 'torturas': 3, 'privación': 1, 'gaznate': 1, 'licor': 2, 'animaban': 1, 'finalizar': 1, 'faltó': 3, 'ambiente': 2, 'sofocante': 1, 'estuve': 1, 'intersección': 1, 'muertos': 1, 'arrastrándonos': 1, 'recostados': 1, 'masticar': 1, 'tumefactos': 1, 'gemidos': 2, 'trataron': 1, 'aproximó': 2, 'fingida': 1, 'piedad': 1, 'mías': 2, 'temblorosas': 1, 'humedecieron': 1, 'ternezas': 1, 'conmovieron': 2, 'colgada': 1, 'calabaza': 5, 'bebe': 2, 'comprenderle': 1, 'estúpida': 1, 'entendido': 1, 'alzando': 1, 'vertió': 1, 'contenido': 2, 'devolverme': 1, 'bastó': 1, 'incomparable': 2, 'gozo': 1, 'ardorosas': 1, 'exquisita': 1, 'sorbo': 3, 'humedeció': 1, 'cruzadas': 1, 'enteras': 1, 'deseos': 2, 'acometían': 1, 'irresistibles': 1, 'bebérmela': 1, 'enternecido': 1, 'murmuré': 4, 'llenaron': 1, 'reanimarte': 1, 'desplomarías': 1, 'muerto': 2, 'distendieron': 1, 'contraídos': 1, 'aplacase': 1, 'irritación': 3, 'garganta': 3, 'cedió': 1, 'recuperar': 2, 'permitiéndome': 1, 'podernos': 1, 'faltándonos': 2, 'evitaba': 1, 'bajaba': 2, 'huían': 1, 'respondiese': 2, 'pausa': 2, 'prolongada': 2, 'devuelto': 2, 'desesperación': 5, 'pronunciando': 1, 'entendérmelas': 1, 'llevarla': 1, 'anunciarme': 1, 'resignarse': 2, 'acompañe': 1, 'déjame': 2, 'abandonarle': 2, 'iniciado': 1, 'incontrastable': 1, 'enternecida': 1, 'adquirió': 1, 'incitaba': 1, 'conservación': 2, 'dándose': 1, 'proponía': 1, 'interesarle': 1, 'dependía': 1, 'indicaban': 1, 'quedarse': 1, 'ordenaba': 1, 'presenciaba': 2, 'diferentes': 3, 'habrían': 5, 'tocar': 3, 'triunfado': 1, 'logrado': 3, 'lástima': 2, 'decisivos': 1, 'entenderme': 1, 'sospechar': 2, 'pudiera': 5, 'peligros': 10, 'obstinado': 1, 'impasible': 2, 'señalando': 3, 'anhelante': 1, 'acerqué': 2, 'master': 1, 'amo': 2, 'llevarle': 1, 'pugilato': 1, 'sosteniendo': 2, 'obligarle': 1, 'pusiera': 1, 'proponerte': 2, 'conseguirías': 1, 'escucha': 2, 'servidor': 2, 'contemplando': 2, 'crucé': 1, 'realización': 1, 'molécula': 1, 'opone': 1, 'sacudí': 1, 'incredulidad': 3, 'alía': 1, 'conducirá': 1, 'lógica': 1, 'enfermos': 1, 'esforzados': 1, 'esforzando': 1, 'privado': 1, 'yacías': 1, 'demanda': 2, 'hunde': 1, 'consternados': 1, 'genovés': 1, 'plazo': 3, 'pidió': 1, 'granítico': 3, 'abundantes': 2, 'accedieron': 1, 'escúchame': 2, 'exige': 1, 'insigne': 1, 'apoyar': 1, 'pido': 1, 'juro': 1, 'marinos': 3, 'hallar': 5, 'tripulaciones': 1, 'colón': 1, 'emplear': 2, 'sobrehumana': 2, 'hágase': 1, 'recompense': 1, 'probar': 1, 'paseando': 1, 'scien': 1, 'fendas': 3, 'disminución': 1, 'inextricable': 2, 'eruptivo': 3, 'recodos': 2, 'rupturas': 1, 'depresiones': 1, 'derramaba': 1, 'dislocaciones': 1, 'mostraban': 1, 'reposan': 1, 'descendíamos': 2, 'llamamos': 1, 'considera': 1, 'inquebrantable': 1, 'micaesquistos': 3, 'primitivo': 1, 'ininteligente': 1, 'estudiarlo': 1, 'sonda': 2, 'maravillosas': 4, 'trasladar': 1, 'palparlo': 1, 'propias': 2, 'mineralogistas': 1, 'serpenteaban': 1, 'cobre': 1, 'sepultadas': 1, 'tumbas': 2, 'azadón': 3, 'filones': 1, 'codicia': 1, 'enterrarlas': 1, 'coloreados': 2, 'cataclismos': 1, 'hubieron': 2, 'manganeso': 1, 'disfrutará': 1, 'bellos': 1, 'arrancarlas': 1, 'lograrán': 2, 'centelleos': 1, 'paralelismo': 1, 'estratiforme': 1, 'dispuestos': 3, 'realzaban': 1, 'mica': 2, 'láminas': 1, 'visibilidad': 1, 'rocosa': 1, 'quebraban': 1, 'caprichosos': 2, 'diamante': 1, 'hueco': 1, 'viajábamos': 1, 'cruzaba': 1, 'prisión': 2, 'disminuyó': 3, 'cristalino': 2, 'soporta': 1, 'mezcló': 1, 'excelencia': 1, 'feldespato': 1, 'íntimamente': 1, 'quebrarse': 1, 'adquirieron': 1, 'parecido': 4, 'aguzaba': 1, 'horriblemente': 1, 'tratando': 2, 'padecía': 2, 'quererse': 1, 'murmullo': 7, 'tocaba': 1, 'sostenerme': 1, 'sobreponía': 1, 'señalara': 1, 'golpe': 2, 'lancé': 3, 'caí': 4, 'abandonaron': 1, 'muero': 2, 'socorro': 3, 'fatídicas': 1, 'salieron': 2, 'observo': 4, 'acabado': 3, 'postrera': 2, 'hirió': 1, 'cerré': 3, 'atormentaba': 1, 'debilidad': 2, 'oídos': 7, 'resonaban': 1, 'conciliar': 1, 'envueltos': 3, 'aplastaba': 1, 'violentos': 3, 'librarme': 1, 'mole': 4, 'gravitaba': 1, 'agotando': 1, 'diría': 1, 'rumor': 2, 'transcurrieron': 4, 'delgada': 1, 'percibir': 2, 'gritar': 1, 'pierna': 1, 'encaminaba': 1, 'apagó': 1, 'secos': 2, 'trataría': 1, 'acallaron': 1, 'abandonarnos': 1, 'suelta': 1, 'abandona': 2, 'sospechosa': 1, 'calmó': 1, 'pudieron': 2, 'pecho': 4, 'sospechas': 1, 'razonamiento': 2, 'abrigar': 1, 'internaba': 1, 'avergoncé': 1, 'criminales': 1, 'fuga': 1, 'dirigirse': 2, 'gritarlas': 1, 'pacifico': 1, 'arrancar': 1, 'absurdas': 1, 'impulsar': 1, 'delirante': 1, 'cruzaron': 2, 'volverme': 3, 'bullían': 2, 'incierta': 2, 'reflejarse': 1, 'escuché': 4, 'preguntando': 1, 'sucede': 2, 'vatten': 1, 'políglotas': 1, 'pronunciada': 1, 'entendí': 1, 'palmoteando': 1, 'hvar': 1, 'nedat': 1, 'breves': 1, 'internándonos': 1, 'toesas': 14, 'transmitía': 1, 'trueno': 6, 'lejano': 2, 'sordo': 2, 'insólito': 1, 'mugido': 3, 'avivarse': 1, 'explicó': 1, 'angustias': 2, 'escuchábamos': 1, 'anunciado': 1, 'tropezábamos': 1, 'engañado': 4, 'oyes': 1, 'subterráneo': 9, 'circula': 1, 'esperando': 2, 'ejerció': 1, 'filtración': 1, 'señales': 4, 'hostigados': 1, 'temperante': 1, 'apresuramos': 1, 'mugiendo': 2, 'organismo': 2, 'avanzamos': 2, 'guiado': 1, 'peculiar': 3, 'bebido': 1, 'higroscopios': 1, 'montañeses': 1, 'evidenciado': 1, 'disminuir': 2, 'alejaríamos': 2, 'proseguíamos': 1, 'próximo': 2, 'retrocedimos': 1, 'asiento': 2, 'separaba': 1, 'extrema': 1, 'momentáneamente': 1, 'preguntarme': 1, 'procurarse': 1, 'paseó': 2, 'quitarle': 1, 'escuchando': 3, 'aplicó': 2, 'oyera': 1, 'lateral': 1, 'comprenderlo': 1, 'aplaudirle': 1, 'caricias': 2, 'animarle': 1, 'osaba': 1, 'horadar': 1, 'salvados': 3, 'ocurrido': 3, 'detenernos': 1, 'provocar': 3, 'aplacarla': 1, 'aplastase': 1, 'inundación': 2, 'atacar': 1, 'quiméricos': 1, 'capaces': 2, 'expediente': 1, 'armazón': 2, 'ahogaba': 2, 'hundimiento': 1, 'bienhechora': 1, 'volar': 3, 'golpes': 3, 'impulsadas': 1, 'ardorosos': 2, 'humedecía': 1, 'acelerado': 1, 'repetidos': 1, 'desgastó': 1, 'acometió': 1, 'moderado': 2, 'estrellarse': 4, 'costándome': 2, 'chorro': 3, 'surgió': 1, 'empuñar': 1, 'piqueta': 2, 'retorcía': 1, 'extremas': 1, 'sumergí': 1, 'dolor': 3, 'lamento': 1, 'hirviendo': 1, 'reprimir': 2, 'derribado': 2, '100°': 1, 'enfriará': 1, 'sinuosidades': 5, 'arroyo': 12, 'sorbos': 1, 'gustar': 1, 'voluptuosidad': 1, 'caliente': 1, 'bebía': 1, 'saborearla': 1, 'devolvía': 1, 'goce': 2, 'minuto': 3, 'ferruginosa': 1, 'toeplitz': 1, 'mineralización': 1, 'spa': 1, 'frutos': 1, 'reportará': 1, 'saludable': 2, 'arroyuelo': 4, 'demos': 1, 'propongo': 1, 'extraída': 1, 'hans–bach': 8, 'bautizado': 2, 'recostó': 1, 'envaneció': 1, 'convendría': 1, 'inagotable': 1, 'llenemos': 1, 'tratemos': 1, 'taponar': 2, 'obstruir': 1, 'estopa': 1, 'reiterados': 1, 'consejo': 1, 'atmósferas': 5, '32': 1, 'dudosa': 2, 'apertura': 1, 'obstinamos': 1, 'convincente': 1, 'seguros': 1, 'llenado': 3, 'curso': 5, 'servirá': 1, 'atemperará': 1, 'obtengan': 1, 'lisonjero': 1, 'pensado': 2, 'sonriente': 1, 'empecemos': 1, 'tomarnos': 1, 'sumirnos': 1, 'advertírmelo': 1, 'pasados': 2, 'maravillaba': 1, 'acordábamos': 1, 'murmurando': 2, 'explicármelo': 1, 'alcanzaba': 3, 'brotaren': 1, 'propuesto': 2, 'bellas': 1, 'ferrugínosa': 1, 'airoso': 1, 'renunciado': 2, 'bebimos': 1, 'regocijado': 1, 'ecos': 2, 'acentos': 2, 'entusiastas': 1, 'partamos': 3, 'despertando': 2, 'simulando': 1, 'confusión': 1, 'definitiva': 1, 'inesperados': 1, 'jueves': 3, 'caprichosas': 1, 'poderse': 1, 'sumo': 3, 'mitológico': 1, 'guiase': 1, 'acompañaban': 1, 'celeridad': 1, 'tibia': 2, 'familiar': 1, 'ruta': 2, 'renegaba': 1, 'dueños': 1, 'conociendo': 1, 'hipotenusa': 1, 'quejarse': 1, 'aproximásemos': 1, 'aceleraba': 1, 'hacían': 3, 'calculando': 2, 'palmotear': 1, 'abstenerse': 1, 'llevará': 1, 'atrevo': 3, 'calificar': 1, 'prevenir': 1, 'familiarizado': 1, 'conocidas': 4, 'rastro': 1, 'angosta': 1, 'practicada': 1, 'padrastros': 1, 'armadura': 1, 'caracol': 1, 'corvas': 1, 'conversábamos': 1, 'sentábamos': 1, 'descansar': 2, 'devolver': 1, 'apagábamos': 1, 'elasticidad': 1, 'rocoso': 1, 'cascada': 1, 'satisfacer': 2, 'pronunciados': 1, 'detrimento': 1, 'recobraría': 1, 'recordábame': 1, 'creces': 1, 'cóleras': 1, 'grieta': 3, 'dignísimo': 1, 'presentasen': 1, 'impetuosidades': 1, 'declives': 2, 'penetrando': 1, '40°': 2, 'acentuada': 1, '7': 2, 'variedad': 1, 'distinguirse': 1, 'monótono': 1, 'satisfactorio': 3, 'fatigados': 1, 'miércoles': 2, 'estrenar': 1, 'anotaba': 1, 'narración': 2, 'publicado': 1, 'asalta': 1, 'comprobarlo': 1, 'sitúan': 1, 'caminadas': 1, 'engañaba': 3, 'añadí': 3, 'avanzan': 1, 'newcastle': 1, \"agua'\": 1, 'sinuoso': 1, 'hundiéndose': 1, 'habituarme': 1, 'cobijaba': 2, 'gravitasen': 1, 'recto': 1, 'caprichoso': 2, 'pasearme': 1, 'semana': 2, '18': 2, 'espaciosa': 2, 'burlábamos': 1, 'terrestres': 4, 'superfluidades': 1, 'ciudades': 5, 'trogloditas': 1, 'estrellas': 2, 'fósiles': 9, 'consideran': 1, 'imprescindible': 1, 'pavimento': 1, 'beberla': 1, 'anotaciones': 1, 'almorzar': 4, 'consagrar': 1, 'trazar': 1, 'perfil': 2, 'señalará': 1, 'determinar': 3, 'seré': 1, 'curiosísimo': 1, 'indica': 1, 'anotado': 1, 'atento': 1, 'anotando': 3, 'rápidos': 3, 'ochenta': 6, 'exacto': 4, 'juguete': 3, 'actuales': 3, 'desarrollando': 1, 'formidables': 3, 'vengan': 1, 'quebrantarnos': 1, 'precedentes': 1, 'estimo': 1, 'limite': 1, 'asignado': 1, 'máximo': 2, 'ése': 1, '500°': 1, 'rige': 1, 'conservar': 4, 'acontece': 1, 'desmentir': 1, 'vienen': 3, 'llamarme': 1, 'deja': 6, 'marca': 3, 'veintisiete': 1, 'décimas': 2, 'equivocaba': 1, 'establecido': 1, '474': 1, 'proporcionalmente': 1, 'defensor': 1, 'opuesto': 2, 'recubierta': 1, 'refractario': 1, 'forro': 1, 'sintiese': 1, 'impedía': 1, 'propagase': 1, 'limité': 1, 'deduzca': 1, 'dudo': 1, 'rigurosamente': 1, 'consecuencias': 1, '583': 1, '600': 1, 'pongamos': 1, 'diagonal': 1, 'emplearemos': 1, 'centésima': 1, 'lograrlo': 1, 'coronó': 1, 'descansan': 1, 'premie': 1, 'infierno': 2, 'estará': 3, 'permitido': 6, 'desbarrar': 1, 'callarte': 1, 'mostrarse': 1, 'consulta': 1, 'considerable': 8, 'experimentamos': 1, 'densidad': 6, 'molestias': 1, 'hecha': 2, 'excepción': 1, 'rápida': 6, 'harás': 1, 'malestar': 2, 'sonidos': 3, 'sumergido': 2, 'propagan': 1, 'densa': 3, 'contrariar': 1, 'sentirse': 1, 'experimenta': 1, 'aumentando': 2, 'seguirá': 1, 'perecerá': 1, 'determinada': 3, 'bajemos': 1, 'sabes': 2, 'acabará': 2, 'setecientas': 1, 'bajaremos': 1, 'llenándonos': 1, 'solidificarse': 1, 'razonamientos': 3, 'resistido': 1, 'barato': 1, 'inventado': 1, 'responderse': 1, 'valer': 1, 'habiéndose': 1, 'eterno': 1, 'sacado': 3, 'colación': 1, 'argumento': 1, 'suponiendo': 2, 'objeción': 2, 'conversaciones': 1, 'envidiando': 1, 'meterse': 1, 'raciocinar': 1, 'aumentaban': 1, 'existiendo': 1, 'alcanzaríamos': 1, 'habituando': 1, 'afortunado': 1, 'maravillosa': 1, 'bajadas': 1, 'utilidad': 1, 'llegando': 2, 'fría': 4, 'aterrador': 1, 'sacrificaba': 1, 'internaron': 1, 'franqueamos': 1, 'contagiaba': 1, 'imbéciles': 1, 'facultad': 1, 'asociar': 2, 'ejercitar': 1, 'calabozos': 1, 'locos': 2, 'cuántos': 1, 'presos': 1, 'mentales': 1, 'facultades': 1, 'memoria': 4, 'siguieron': 2, 'encuentro': 8, 'semanas': 1, 'insignificantes': 3, 'olvidar': 4, 'agosto': 16, 'doscientas': 4, 'descensos': 1, 'sucesivos': 1, 'encontrarnos': 2, 'continentes': 1, 'ruhmhorff': 1, 'entretenía': 1, 'despertaba': 1, 'perdiéndose': 2, 'respondieron': 1, 'caminé': 1, 'cavernosos': 1, 'llamé': 1, 'adelantado': 2, 'llamaban': 1, 'oía': 4, 'aislamiento': 2, 'extraviado': 2, 'atreverme': 1, 'encontrarle': 2, 'olvidando': 2, 'apresurando': 1, 'siguen': 1, 'reuniré': 1, 'encontrarlos': 1, 'retrocediendo': 1, 'viéndome': 1, 'sencillas': 1, 'estuviera': 1, 'precediendo': 1, 'seguíame': 1, 'separándome': 1, 'debí': 1, 'asegurarse': 1, 'asaltó': 1, 'guíe': 1, 'remonte': 1, 'infundió': 1, 'pérdida': 1, 'bríos': 1, 'taponase': 1, 'guiarme': 1, 'impidiendo': 1, 'practicado': 2, 'bienhechor': 1, 'bendije': 1, 'ablución': 1, 'áspero': 1, 'estupor': 1, 'encontraron': 2, 'sumergir': 2, 'agaché': 2, 'pintar': 1, 'perspectiva': 1, 'expresar': 2, 'enterrado': 1, 'paseé': 2, 'calenturientas': 1, 'internado': 1, 'riachuelo': 1, 'unión': 1, 'obedeciendo': 1, 'bifurcado': 2, 'resultaba': 3, 'desconocidas': 2, 'llegase': 1, 'proseguido': 1, 'mandatos': 1, 'internarme': 2, 'resumía': 1, 'grabadas': 2, 'devanaba': 3, 'irresoluble': 1, 'sesos': 4, 'gravitaban': 1, 'inmensurable': 1, 'aplastado': 1, 'conseguirlo': 1, 'desesperar': 1, 'desfiló': 2, 'enloquecida': 2, 'guiar': 1, 'humano': 12, 'cerraban': 2, 'señalarme': 1, 'conducirme': 2, 'desesperado': 1, 'reproche': 1, 'padecer': 1, 'buscándome': 1, 'salvación': 4, 'escuchado': 1, 'derechos': 2, 'acudieron': 2, 'infancia': 1, 'oración': 1, 'lograr': 2, 'recurrí': 1, 'intentar': 3, 'imploré': 1, 'conocí': 1, 'fervor': 1, 'invocación': 1, 'providencia': 2, 'debería': 2, 'permanecer': 1, 'funesta': 1, 'tropezase': 1, 'necesariamente': 4, 'separado': 2, 'apremiante': 1, 'probabilidad': 4, 'apoyándome': 1, 'fragosidades': 2, 'tropecé': 2, 'llamó': 1, 'postrer': 1, 'evasión': 1, 'fósil': 9, 'cruzaban': 2, 'suscitaría': 1, 'muertes': 1, 'enronquecidos': 1, 'jadeaba': 1, 'palidecía': 1, 'estropeado': 1, 'apoderarse': 1, 'faltarme': 1, 'repararla': 1, 'extinguir': 1, 'fatídica': 1, 'fugitiva': 1, 'movedizas': 2, 'procesión': 1, 'pestañear': 1, 'circundaba': 1, 'reconcentré': 1, 'gozar': 1, 'lució': 1, 'resplandor': 1, 'sensación': 5, 'aspiré': 1, 'retina': 1, 'ciego': 1, 'difunde': 1, 'acepción': 1, 'noches': 2, 'quede': 1, 'sutiliza': 2, 'percibirla': 1, 'perdí': 3, 'cayendo': 2, 'magullado': 2, 'azar': 1, 'tientas': 1, 'inundaba': 2, 'ensangrentado': 3, 'intrincado': 1, 'llamando': 1, 'estallase': 1, 'traspiés': 1, 'levantándome': 3, 'dolorosos': 1, 'aullando': 1, 'desplomé': 1, 'noción': 2, 'mojado': 1, 'abandono': 2, 'amargo': 1, 'rechacé': 2, 'inundado': 1, 'ánimos': 1, 'acudían': 2, 'rodé': 1, 'supremo': 2, 'ondas': 2, 'aniquilamiento': 1, 'retumbar': 1, 'sonoras': 1, 'desvanecer': 2, 'gas': 2, 'verificándose': 1, 'sustentáculo': 1, 'deseoso': 1, 'latidos': 1, 'cerciorarme': 1, 'estremecer': 1, 'remotas': 2, 'apliqué': 4, 'vagas': 1, '“es': 2, 'alucinación”': 1, 'voces': 5, 'hablaban': 1, 'devueltas': 1, 'eco': 2, 'gritado': 1, 'cuchicheadas': 1, 'baja': 1, 'inciertas': 1, 'avancé': 1, 'extrañas': 4, 'förlorad': 3, 'pronunciaba': 3, 'oírme': 2, 'significado': 2, 'debilitada': 1, 'germinado': 1, 'aletargamiento': 1, 'fragor': 1, 'matemático': 1, 'oyen': 3, 'granítica': 1, 'detonación': 4, 'exista': 1, 'dejaría': 1, 'acústica': 3, 'hacerme': 2, 'transmitiría': 1, 'acústico': 1, 'aproximéme': 1, 'destruido': 1, 'quedaría': 1, 'alejaban': 1, 'ansiedad': 2, 'propaga': 1, 'excesiva': 2, 'propagación': 2, 'llegaron': 1, 'apagada': 1, 'ármate': 1, 'espérese': 1, 'quedan': 2, 'hablarme': 1, 'disparando': 1, 'encontrarías': 1, 'hables': 2, 'llorado': 1, 'desesperes': 1, 'estrecharse': 1, 'remontado': 1, 'contigo': 2, 'habernos': 1, 'renacía': 2, 'reflexionado': 2, 'separa': 4, 'oiga': 1, 'anota': 1, 'pronuncie': 1, 'tómelo': 1, 'repetiré': 1, 'transcurra': 1, 'emplea': 2, '«axel»': 1, 'resultan': 1, 'octavo': 1, '020': 1, 'salvar': 3, 'levántate': 1, 'convergen': 1, 'deslízate': 1, 'emprende': 1, 'recibirte': 1, 'ten': 2, 'ánimo': 3, 'explicarte': 2, 'arrástrate': 1, 'conducirte': 1, 'esperan': 1, 'abandone': 1, 'parto': 1, 'dejarán': 1, 'sostenida': 1, 'inmensidades': 1, 'siracusa': 1, 'ejemplos': 1, 'sicilia': 2, 'físicas': 2, 'situadas': 3, 'pablo': 1, 'citar': 1, 'dionisio': 1, 'cavernas': 5, 'denominada': 1, 'provenía': 3, 'londres': 1, 'leyes': 3, 'explicaba': 1, 'pudiendo': 2, 'intermedios': 1, 'latomías': 1, 'solas': 1, 'idéntico': 1, 'lógicamente': 1, 'arrastrarme': 2, 'comencé': 1, 'incorporé': 1, 'carecía': 1, 'simulaba': 1, 'creció': 1, 'asperezas': 1, 'aguda': 1, 'rebotando': 1, 'chocó': 1, 'espiando': 1, 'semioscuridad': 2, 'velaba': 1, 'vive': 1, 'débil': 5, 'abrazándome': 1, 'cuidados': 1, 'expansiones': 1, 'asiduos': 1, 'trances': 1, 'prodigarme': 1, 'conmovió': 1, 'impresionaron': 1, 'atreveré': 1, 'delataron': 1, 'buenos': 3, 'corran': 1, 'sabrás': 1, 'duerme': 1, 'interrogues': 1, 'adormecí': 1, 'necesitaba': 2, 'durado': 2, 'percibía': 1, 'disponía': 3, 'magníficas': 1, 'inexplicables': 1, 'estalagmitas': 1, 'finísima': 1, 'encendida': 3, 'fulgores': 1, 'recubierto': 1, 'indefinido': 2, 'antorcha': 5, 'reventar': 2, 'vago': 2, 'puramente': 3, 'preguntaba': 1, 'soñaría': 1, 'percibiría': 1, 'despierto': 2, 'escucho': 1, 'engañan': 2, 'mugidos': 5, 'penetra': 2, 'luz”': 1, 'efectivamente': 3, 'regresado': 2, 'alegremente': 1, 'apostaría': 1, 'sientes': 2, 'incorporándome': 1, 'velado': 1, 'dormido': 2, 'curación': 2, 'progresar': 1, 'sabré': 1, 'repuesto': 1, 'honores': 2, 'prodigiosa': 7, 'frotado': 1, 'ungüento': 1, 'heridas': 1, 'almorzarás': 1, 'cicatrizado': 1, 'presentando': 1, 'deslizado': 3, 'vehículo': 1, 'exánime': 1, 'aplastarme': 1, 'providencial': 2, 'matado': 1, 'volvernos': 1, 'separemos': 1, 'expondríamos': 2, 'desmesuradamente': 2, 'separásemos': 1, 'contusiones': 1, 'funcione': 1, 'revienta': 1, 'oigo': 1, 'inexplicable': 4, 'comprenderás': 2, 'bruscamente': 2, 'salgamos': 1, 'perjudicarte': 1, 'aseguro': 2, 'recaída': 1, 'retrasarnos': 1, 'embarcaremos': 1, 'descansa': 2, 'embarcarnos': 1, 'exacerbó': 1, 'retenerme': 1, 'convenció': 1, 'perjudicial': 1, 'envolví': 1, 'maravillado': 1, 'enceguecieron': 1, 'acostumbrados': 1, 'abrirlos': 1, 'vanaglorio': 1, 'navegante': 1, 'disputará': 1, 'contrafuertes': 2, 'fina': 1, 'liviana': 1, 'reventaban': 1, 'salpicaba': 1, 'carcomían': 1, 'aristas': 1, 'ensanchándose': 1, 'vivieron': 2, 'perfilaba': 1, 'sumamente': 2, 'visible': 1, 'cabos': 1, 'dorada': 1, 'rompían': 1, 'cortando': 1, 'tremenda': 1, 'sembrada': 1, 'escabrosa': 1, 'promontorios': 1, 'prolongaba': 2, 'caparazones': 1, 'espantosamente': 1, 'contorno': 1, 'menores': 4, 'pasearse': 1, 'iluminaba': 1, 'difusión': 2, 'boreal': 2, 'espléndida': 1, 'cósmico': 2, 'eléctrico': 4, 'escasa': 1, 'albergar': 2, 'blancura': 1, 'acusaban': 1, 'iluminador': 1, 'aurora': 1, 'brillantes': 1, 'cambiaban': 1, 'nubarrones': 1, 'delineaban': 1, 'melancólico': 1, 'sorprendentes': 1, 'condensaciones': 1, 'soberanamente': 1, 'adivinaba': 2, 'evaporación': 2, 'tachonado': 1, 'torrenciales': 1, 'ambicioso': 1, 'determinados': 1, 'satélites': 1, 'evolución': 1, 'separadas': 1, 'eléctricas': 3, 'deberían': 1, 'continuamente': 1, 'juegos': 1, 'suspendida': 2, 'proserpina': 1, 'astros': 1, 'hueca': 1, 'luminoso': 3, 'describían': 1, 'misteriosas': 2, 'órbitas': 2, 'detenida': 2, 'saberse': 1, 'aprisionados': 1, 'tardaba': 1, 'indecisa': 1, 'anchura': 3, 'estimada': 1, 'altitud': 1, 'debida': 1, 'vocablos': 1, 'aventuran': 1, 'describir': 3, 'producirla': 1, 'relatos': 1, 'geológico': 1, 'célebres': 1, 'explicar': 5, 'mammouth': 1, 'cavidades': 1, 'kentucky': 1, 'gigantescas': 6, 'colombia': 1, 'extendiese': 1, 'comparadas': 1, 'recorrieron': 1, 'irradiaciones': 1, 'verosímil': 1, 'guachara': 1, 'proporciones': 1, 'revelado': 1, 'visitada': 1, 'admiraban': 1, 'terrenal': 1, 'manifestar': 2, 'remoto': 2, 'hallarme': 2, 'transportado': 3, 'urano': 1, 'neptuno': 2, 'sensaciones': 2, 'exenta': 1, 'requerían': 1, 'muda': 1, 'combatir': 1, 'suministrando': 1, 'enfermedad': 1, 'viveza': 1, 'denso': 1, 'reanimaba': 1, 'terapéutica': 1, 'oxígeno': 1, 'aspirar': 1, 'húmedas': 2, 'emanaciones': 1, 'cargada': 1, 'salinas': 2, 'encarcelamiento': 1, 'comprenderá': 2, 'arrepentirme': 1, 'tómate': 1, 'sigamos': 1, 'empezamos': 2, 'acepté': 1, 'costear': 1, 'aglomeración': 1, 'deslizaban': 1, 'murmurar': 3, 'ligeros': 1, 'hacinados': 2, 'silenciosos': 1, 'agradablemente': 1, 'prodigioso': 1, 'abruptos': 1, 'depósito': 1, 'titánica': 1, 'arroyos': 4, 'marcaban': 1, 'reconocía': 1, 'lanzando': 2, 'privados': 2, 'solicitó': 1, 'presentóse': 1, 'medianas': 1, 'permanecían': 1, 'follaje': 2, 'afectaban': 1, 'limpios': 1, 'geométricos': 1, 'selva': 4, 'perfectos': 2, 'petrificados': 1, 'cedros': 1, 'atmosféricas': 2, 'frondosa': 1, 'quitasoles': 1, 'aceleramos': 1, 'cobijamos': 1, 'trocó': 2, 'asignarles': 1, 'acertaba': 1, 'flora': 2, 'lacustres': 1, 'singulares': 1, 'vaciadas': 1, 'molde': 1, 'notabilísimo': 1, 'hongos': 4, 'monstruoso': 3, 'copa': 1, 'africana': 1, 'lycoperdon': 1, 'yuxtapuestas': 1, 'imagínese': 1, 'desarrollo': 2, 'redondos': 1, 'ávidas': 1, 'aquéllos': 1, 'bulliard': 1, 'giganteum': 1, 'techos': 1, 'cúpulas': 1, 'cavernosas': 1, 'erramos': 1, 'mortal': 1, 'descendía': 2, 'experimenté': 3, 'grasientas': 1, 'tallo': 1, 'erizados': 1, 'tamaño': 6, 'cilíndrico': 2, 'monstruosas': 1, 'elevábanse': 1, 'dotados': 1, 'latitudes': 2, 'comarca': 1, 'humildes': 2, 'arborescentes': 4, 'abetos': 2, 'lepidodendrones': 1, 'reconocerles': 1, 'arbustos': 2, 'terminaban': 1, 'sigilarias': 1, 'jardines': 1, 'adornan': 1, 'asómbrate': 1, 'convertidas': 1, 'asistido': 1, 'fiesta': 2, 'botánico': 1, 'sagacidad': 1, 'antediluvianas': 2, 'invernáculo': 2, 'reconstruido': 1, 'parque': 3, 'zoológico': 3, 'pisan': 1, 'esparcidas': 2, 'osamentas': 11, 'antediluvianos': 7, 'seculares': 1, 'gigantescos': 3, 'indestructible': 1, 'despojos': 5, 'cal': 1, 'fosfato': 1, 'apresuré': 1, 'troncos': 3, 'enteros': 1, 'mastodonte': 3, 'espere': 1, 'fémur': 1, 'pertenecen': 1, 'vivido': 3, 'mandíbula': 3, 'molares': 1, 'transportadas': 2, 'megaterio': 2, 'esqueletos': 2, 'dineterio': 1, 'cataclismo': 2, 'cuadrúpedos': 2, 'secundarios': 1, 'sedimentarios': 2, 'incandescentes': 2, 'períodos': 2, 'aluviones': 1, 'existió': 1, 'reemplazadas': 1, 'alternativos': 1, 'hundimientos': 2, 'produjesen': 1, 'probable': 1, 'sometida': 1, 'geológicamente': 1, 'abiertos': 1, 'errantes': 1, 'monstruos': 13, 'umbrosas': 1, 'anden': 1, 'puntos': 5, 'desiertas': 2, 'concebir': 3, 'pavor': 1, 'escudriñé': 1, 'viviente': 2, 'piramidales': 1, 'asilo': 1, 'abarcaba': 1, 'bergantín': 1, 'goletas': 1, 'empujado': 3, 'tranquilas': 1, 'escotadura': 1, 'presenciar': 1, 'reina': 1, 'desgarrar': 1, 'procuraba': 1, 'opuestas': 1, 'apartadas': 1, 'telón': 3, 'recalmones': 1, 'tropel': 1, 'podríamos': 3, 'vivientes': 1, 'dudaba': 1, 'temía': 2, 'beneficioso': 1, 'mediterráneo': 6, 'baño': 1, 'altamente': 1, 'curado': 2, 'paladar': 1, 'variación': 1, 'cocinando': 1, 'comidas': 1, 'tazas': 1, 'delicioso': 1, 'café': 1, 'ordinarias': 1, 'debernos': 1, 'desperdiciar': 1, 'sometidos': 1, 'universal': 1, 'conjunto': 2, 'gravitación': 1, 'substraerse': 1, 'pisábamos': 1, 'flujos': 1, 'dirá': 2, 'reflujos': 1, 'certeza': 1, 'existiera': 1, 'oponga': 2, 'justificada': 1, 'inhabitados': 1, 'sublunares': 1, 'obtienen': 1, 'aparejos': 1, 'improvisar': 1, 'anzuelos': 1, 'secretos': 1, 'ensayaremos': 1, 'contestar': 1, 'trescientas': 1, 'indicando': 2, 'levanta': 3, 'inclinarse': 1, 'aguja': 9, 'hemisferio': 1, 'polo': 6, 'entra': 2, 'magnética': 1, 'ross': 1, 'llegásemos': 1, '70': 1, 'magnético': 1, 'jacobo': 1, 'posición': 3, 'veríamos': 2, 'sospechado': 1, 'conducen': 1, 'errores': 2, 'grampianos': 1, 'montañosa': 1, 'libremente': 2, 'sonriendo': 2, 'carga': 5, 'universo': 1, 'catedrales': 1, 'arquitecto': 1, 'desarrollarse': 2, 'puentes': 1, 'nave': 1, 'materiales': 1, 'caérseme': 1, 'temo': 3, 'disparate': 1, 'imagines': 1, 'propiamente': 1, 'pienso': 4, 'circunscrito': 1, 'rodeados': 1, 'sospechando': 1, 'cálculo': 4, 'inexacto': 1, 'haremos': 1, 'transportarnos': 1, 'busqué': 1, 'barco': 1, 'tomaremos': 1, 'embarcar': 4, 'balsa': 70, 'miro': 6, 'oirías': 1, 'escuchases': 1, 'martillazos': 1, 'demostrarían': 1, 'construyendo': 1, 'derribados': 2, 'contemplé': 1, 'flota': 1, 'curvas': 1, 'ligaduras': 1, 'hallábame': 1, 'trabajando': 2, 'cubrían': 1, 'mineralizadas': 1, 'pinos': 2, 'coníferas': 3, 'septentrionales': 4, 'surtarbrandur': 4, 'deberán': 1, 'flotar': 2, 'maderas': 1, 'fosilización': 1, 'convierten': 1, 'verdaderas': 1, 'mecido': 1, 'flotó': 2, 'arrojó': 1, 'habilidad': 1, 'improvisada': 2, 'lanzada': 1, 'amarradas': 1, 'resistentes': 1, 'ofrecían': 3, '13': 1, 'locomoción': 2, 'inaugurar': 1, 'tratábamos': 1, 'levantamos': 2, 'solidez': 1, 'componían': 2, 'mástil': 8, 'jimelgados': 1, 'palos': 1, 'verga': 1, 'escaseaban': 1, 'percha': 1, 'sujetaba': 1, 'antemano': 2, 'orientamos': 1, 'alejamos': 1, 'amarra': 1, 'acomodados': 1, 'largué': 1, 'geográfica': 1, 'asignaba': 1, 'proponer': 1, 'puerto–graüben': 8, 'vaya': 1, 'vincularse': 1, 'amada': 1, 'nordeste': 2, 'ventilador': 2, 'popa': 2, 'poseían': 2, 'impulsiva': 1, 'densas': 2, 'obraban': 1, 'potente': 1, 'avanzaremos': 1, 'ampliamente': 2, 'brotar': 1, 'acá': 1, 'delantera': 1, 'paseaban': 1, 'esfumaba': 1, 'argentados': 1, 'desapareciendo': 1, 'espumosa': 1, 'referencia': 1, 'estela': 1, 'inmovilidad': 1, 'reproducen': 1, 'bancos': 1, 'érame': 1, 'algas': 1, '12': 1, 'vegetativo': 1, 'cansaba': 1, 'entreteníame': 1, 'serpientes': 4, 'prolongaban': 1, 'cintas': 1, 'fantástico': 4, 'presentar': 1, 'vegetal': 2, 'producir': 3, 'indefinida': 1, 'duración': 1, 'tendí': 1, 'dormirme': 1, 'arrullado': 1, 'impelida': 1, 'caña': 5, 'timón': 6, 'confiado': 1, 'diario': 4, 'consignando': 1, 'habíame': 1, 'interesantes': 2, 'navegación': 3, 'resulte': 1, 'reproducir': 1, 'cotidianas': 1, 'dictadas': 1, 'limitaré': 1, 'sotavento': 2, 'descubierta': 3, 'desliza': 2, 'novedad': 3, 'varía': 1, 'bañadas': 1, 'horizontes': 1, 'fundida': 1, 'centígrados': 1, '32°': 1, 'estarán': 1, 'cobra': 1, 'pez': 4, 'sacudida': 5, 'vigor': 3, 'prepara': 2, 'echa': 4, 'anzuelo': 2, 'ceba': 2, 'pugna': 1, 'pique': 2, 'exclama': 8, 'exclamo': 4, 'sollo': 2, 'pequeñito': 1, 'desprovisto': 1, 'aletas': 3, 'ajústanse': 1, 'naturalistas': 2, 'óseas': 1, 'esenciales': 1, 'pertenece': 5, 'placas': 1, 'pectorales': 1, 'bastantes': 1, 'cola': 3, 'clasificado': 1, 'chata': 1, 'desarrolladas': 1, 'indudablemente': 2, 'redondeada': 1, 'equivoca': 1, 'extinguida': 3, 'cogido': 2, 'dicha': 1, 'responde': 8, 'reanudando': 1, 'cefalospidos': 1, 'jurarlo': 1, 'privativa': 1, 'ofrecen': 1, 'pterichthys': 2, 'ciegos': 3, 'órgano': 2, 'visión': 2, 'abundarla': 1, 'diptéridos': 1, 'cogemos': 1, 'pertenecientes': 3, 'ventajosamente': 1, 'pesca': 1, 'renovó': 1, 'saurios': 4, 'cartílago': 1, 'encontremos': 1, 'fragmento': 1, 'próximas': 1, 'tomo': 3, 'examino': 5, 'reconstruidas': 1, 'cuvier': 4, 'proporcionarían': 1, 'batirían': 1, 'deshabitados': 1, 'simio': 2, 'murciélago': 1, 'comprimido': 1, 'tortugas': 1, 'disputar': 1, 'tritura': 1, 'tapir': 1, 'anoploterio': 1, 'patas': 2, 'rugidos': 3, 'avestruz': 1, 'hipopótamo': 1, 'brasil': 1, 'encarama': 1, 'mamíferos': 4, 'reunido': 1, 'pterodáctilo': 2, 'aladas': 1, 'lofiodón': 1, 'transitar': 1, 'colmillos': 2, 'granitos': 1, 'potentes': 1, 'escarba': 1, 'paquidermo': 1, 'despliegan': 1, 'protopiteco': 2, 'leptoterio': 1, 'quersitos': 1, 'empinadas': 1, 'flotantes': 2, 'rinoceronte': 1, 'trompa': 1, 'sonoros': 1, 'paleontología': 4, 'semejan': 1, 'acabar': 1, 'creador': 1, 'mericoterio': 1, 'arrastra': 1, 'participa': 2, 'camello': 1, 'casoar': 1, 'zoófitos': 1, 'aniquilan': 1, 'incompleta': 1, 'pájaros': 1, 'asterofilos': 1, 'neutraliza': 1, 'desaparecen': 3, 'nacimiento': 1, 'bíblicas': 1, 'late': 1, 'despoblado': 1, 'animados': 2, 'estaciones': 1, 'inciertos': 1, 'esfenofilos': 1, 'abigarrados': 1, 'articulados': 1, 'remonto': 2, 'crustáceos': 2, 'resumida': 1, 'renace': 1, 'exagera': 1, 'moluscos': 2, 'acuesto': 1, 'miden': 1, 'secundaria': 2, 'hollando': 2, 'irisadas': 1, 'arcillas': 1, 'volatilizan': 1, 'gaseosa': 1, 'hierven': 1, 'corren': 1, 'envuelven': 2, 'graníticas': 2, 'reduce': 1, 'transformaciones': 1, 'blanco': 1, 'pierden': 3, 'transcurren': 2, 'inflada': 1, 'nebulosa': 1, 'soy': 1, 'imponderable': 1, 'trazan': 2, 'arrastrado': 2, 'órbita': 1, 'millón': 1, 'sublima': 1, 'cuatrocientas': 1, 'apoderada': 1, 'pormenores': 1, 'vierte': 1, 'fijan': 2, 'desencajados': 1, 'tomado': 2, 'enfermo': 1, 'opuesta…': 1, 'plato': 1, 'confundiendo': 1, 'levanto': 1, 'extraordinariamente': 2, 'monótona': 2, 'aturdida': 1, 'cruza': 1, 'soñado': 1, 'despechado': 1, 'escudriña': 1, 'impacienta': 1, 'camina': 2, 'rasgo': 2, 'favorables': 1, 'consigno': 2, 'pregunto': 1, 'preocupa': 1, 'calculaba': 1, 'divisasen': 1, 'descendemos': 1, 'estanque': 3, 'contesto': 2, 'tomamos': 2, 'alcanzarlo': 1, 'espectáculos': 1, 'muerda': 1, 'nota': 2, 'reclama': 1, 'dejo': 1, 'paga': 1, 'entregan': 1, 'extinga': 1, 'debilite': 2, 'despertarme': 1, 'dibuja': 1, 'refrescar': 1, 'ata': 1, 'brozas': 1, 'costándonos': 1, 'izar': 1, 'diríase': 2, 'observan': 1, 'duros': 1, 'oprimido': 1, 'mareadas': 1, 'notar': 3, 'tänder': 1, 'abriendo': 1, 'interrogo': 1, 'comprendo': 1, 'sacarle': 1, 'vuelvo': 3, 'cerrando': 1, 'examinando': 3, 'barra': 3, 'tiburón': 1, 'ballena': 4, 'mandíbulas': 4, 'voraz': 1, 'roída': 1, 'metal': 2, 'deben': 1, 'guarnezcan': 1, 'convertir': 1, 'agita': 1, 'impresas': 1, 'apartar': 1, 'logra': 2, 'pensamientos': 4, 'procuro': 1, 'organización': 1, 'prodigiosas': 1, 'temibles': 2, 'reducciones': 1, 'debilitadas': 1, 'instintos': 1, 'particulares': 2, 'caimanes': 1, 'cocodrilos': 1, 'progenitores': 1, 'reconstruirlos': 1, 'estremezco': 1, 'anatómicamente': 1, 'lias': 1, 'arcillosas': 1, 'llaman': 1, 'colosal': 3, 'encontradas': 1, 'antediluviana': 1, 'esqueleto': 3, 'estaré': 1, 'representante': 1, 'cocodrilo': 4, 'encontrarme': 2, 'cónicos': 1, 'lanzarse': 1, 'submarinas': 1, 'recorre': 2, 'examinado': 1, 'haya”': 1, 'sondar”': 1, 'somos': 4, 'marino': 5, '“la': 1, 'atacados': 2, 'retiro': 1, 'echo': 1, 'aprueba': 1, 'denuncian': 1, 'advierten': 1, 'vigilar': 1, 'navegásemos': 1, 'obstinada': 1, 'duermo': 1, 'implacable': 3, 'gobierna': 1, 'árticos': 1, 'arrojada': 1, 'empujada': 1, 'tocado': 1, 'negruzca': 1, 'deprime': 1, 'indicada': 1, 'marsopa': 3, 'replica': 2, 'lagarto': 3, 'espantosos': 3, 'desaparece': 1, 'guarnecidas': 1, 'terribles': 2, 'distingo': 1, 'narices': 2, 'arroja': 2, 'virar': 1, 'líquidas': 3, 'descubre': 2, 'enemigos': 1, 'sobrecogidos': 1, 'destrozaría': 1, 'peligrosa': 1, 'serpiente': 5, 'redondo': 1, 'tortuga': 4, 'estupefactos': 2, 'dentellada': 1, 'atónitos': 2, 'banda': 1, 'esquivar': 1, 'alarga': 1, 'sobrenaturales': 1, 'vecindad': 1, 'permanecemos': 3, 'concéntricos': 1, 'carabina': 1, 'expreso': 1, 'escamas': 1, 'bala': 1, 'círculos': 1, 'aproximan': 2, 'vernos': 2, 'bestias': 2, 'permite': 1, 'dispongo': 1, 'mudos': 2, 'precipitan': 1, 'combate': 3, 'empeña': 1, 'atacan': 2, 'muestro': 1, 'acuden': 1, 'tra': 1, 'pretende': 2, 'aparta': 1, 'hocico': 1, 'temible': 1, 'ictiosauro': 4, 'plesiosauro': 4, 'enemigo': 2, 'escondida': 1, 'caparazón': 1, 'hago': 2, 'turban': 1, 'cargo': 1, 'magnitud': 1, '182': 1, 'habita': 2, 'óptico': 1, 'ojo': 1, 'cisne': 1, 'flexible': 1, 'revestido': 1, 'carapacho': 2, 'tronco': 4, 'yergue': 2, 'temerlo': 1, 'zozobrar': 3, 'vencedor': 1, 'siéndome': 1, 'ponen': 1, 'levantan': 1, 'enlazadas': 1, 'encarnizamiento': 1, 'alejan': 1, 'continúa': 2, 'combatientes': 1, 'remolino': 1, 'ciega': 1, 'asoma': 1, 'encorva': 1, 'retuerce': 1, 'abate': 1, 'disminuyen': 1, 'lombriz': 1, 'salta': 2, 'serena': 1, 'azota': 1, 'decrecen': 1, 'reptil': 1, 'descubro': 1, 'vuelve': 2, 'agonía': 1, 'contorsiones': 1, 'submarina': 1, 'reaparecer': 1, 'empuñando': 1, 'teatro': 1, 'absorbentes': 1, 'recobra': 2, 'corrimos': 1, 'interrumpido': 2, 'ayer': 1, 'inminentes': 1, 'nne': 1, 'oye': 1, 'islote': 11, 'estrellan': 1, 'lisa': 1, 'escollo': 1, 'aparece': 2, 'lejana': 1, 'provenir': 1, 'catarata': 4, 'correremos': 1, 'sacude': 2, 'equivoco': 1, 'manifiesto': 1, 'precipitará': 1, 'proceden': 1, 'ruidoso': 1, 'sondar': 1, 'dirijo': 1, 'cambiado': 1, 'proviene': 1, 'estuario': 1, 'arrojo': 1, 'nula': 1, 'precipita': 1, 'limpio': 1, 'producidos': 2, 'activarse': 1, 'trepa': 1, 'leve': 1, 'aproximase': 1, 'permanecen': 1, 'tope': 2, 'describe': 1, 'nere': 1, 'sabemos': 1, 'tropezar': 1, 'arrumbemos': 1, 'enmendemos': 1, 'impertérrito': 1, 'alejarse': 1, 'aconsejaría': 1, 'prudentes': 1, 'calcularse': 1, 'elemental': 2, 'arrojarla': 1, 'surtidor': 1, 'aproximamos': 2, 'crece': 1, 'interrupción': 1, 'tragar': 1, 'proyectada': 1, 'cetáceo': 2, 'descrito': 1, 'necesitaría': 1, 'corremos': 2, 'diariamente': 1, 'ensordecedor': 1, 'insensatos': 2, 'blumenbach': 2, 'negruzco': 1, 'levantarlo': 1, 'rompiendo': 1, 'alimentación': 2, 'driza': 1, 'cortaré': 1, 'rebelo': 1, 'amenazador': 2, 'levántase': 1, 'holme': 1, 'carcajada': 2, 'sonora': 1, 'geyser': 1, 'géiser': 6, 'burda': 1, 'torcer': 1, 'caricia': 2, 'majestuosamente': 1, 'saltando': 2, 'cheisir': 1, 'resuenan': 1, 'pronuncian': 1, 'iris': 1, 'adquieren': 1, 'mezclarse': 1, 'rodeen': 1, 'sordas': 1, 'resumido': 1, 'detonaciones': 4, 'grandiosas': 1, 'adquiere': 2, 'atraquemos': 1, 'maniobrando': 1, 'pericia': 1, 'mezclado': 2, 'quema': 2, 'silícea': 1, '163°': 1, 'borbotando': 1, 'sumerjo': 1, 'trepida': 1, 'recalentado': 1, 'tentación': 1, 'contradicción': 1, 'hacérselo': 1, 'ardiente': 2, 'doctrinas': 1, 'obstinación': 2, 'estrellaba': 2, 'especiales': 1, 'alcanza': 1, 'supera': 1, 'termómetros': 2, 'graduaciones': 1, 'volcánico': 2, 'sacramental': 1, 'permanezco': 1, 'disminuyendo': 1, 'acumulados': 5, 'recobrar': 1, 'atribuyo': 1, 'variaciones': 1, 'detención': 1, 'averías': 1, 'aprovechado': 1, 'bordeando': 1, '270': 2, '620': 1, 'anoto': 1, 'recorrida': 1, 'alejándonos': 1, 'magnifico': 1, '21': 1, 'refrescado': 1, 'drama': 1, 'aceituna': 1, 'tornan': 1, 'marcado': 3, 'engendrada': 2, 'representarse': 1, 'impresionado': 1, 'horripilante': 1, 'amontonados': 1, 'cúmulos': 1, 'presentan': 1, 'parda': 1, 'ganan': 1, 'balas': 1, 'hinchando': 1, 'amontonadas': 1, 'fúndense': 1, 'ensombrecen': 1, 'desprenderse': 1, 'pintoresco': 1, 'impulso': 5, 'rebota': 1, 'saturada': 1, 'recibirían': 1, 'máquina': 1, 'eriza': 1, 'impregnado': 1, 'tocasen': 1, 'acentúan': 1, 'huracanes': 1, 'precursores': 2, 'aliento': 1, 'nube': 1, 'acumulasen': 1, 'amenazas': 2, 'endiablado': 1, 'prolonga': 1, 'contesta': 1, 'aplastarlo': 1, 'brillar': 2, 'telmo': 1, 'pesadamente': 1, 'hacernos': 1, 'calla': 1, 'empiezo': 1, 'espeso': 1, 'cadáver': 9, 'izada': 2, 'aconseja': 1, 'abatamos': 1, 'arriemos': 1, 'iracundo': 1, 'deba': 1, 'ruge': 1, 'sacuda': 1, 'arrebate': 1, 'incompletas': 2, 'remotos': 1, 'huracán': 5, 'llenar': 1, 'condensación': 1, 'conviértese': 1, 'resuelven': 1, 'cambia': 1, 'confines': 2, 'solicitado': 2, 'hallo': 1, 'hacen': 2, 'elementos': 2, 'arrastro': 1, 'desencadenados': 2, 'penachillo': 1, 'recuerda': 1, 'brilla': 1, 'ictiosaurios': 1, 'largos': 3, 'megiterois': 1, 'contemporáneos': 1, 'burbuja': 1, 'distiende': 1, 'describen': 1, 'despide': 1, 'resiste': 1, 'arríen': 1, 'nej': 2, 'sinnúmero': 1, 'relámpagos': 3, 'pedrisco': 1, 'opera': 1, 'incuba': 1, 'centelleantes': 1, 'luminosidad': 1, 'choca': 1, 'mugidora': 1, 'entrecruzan': 1, 'desgarró': 1, 'velo': 1, 'mezclan': 1, 'vibraciones': 1, 'hinchadas': 1, 'ostentan': 1, 'cerros': 1, 'ignívoros': 1, 'crestas': 1, 'ebullición': 3, 'dobla': 1, 'deslumbra': 1, 'destroza': 1, 'fugaces': 1, 'brevedad': 1, 'cabal': 1, 'tomadas': 1, '23': 1, 'vivimos': 1, 'incesante': 2, 'amaina': 1, 'sangran': 1, 'entendernos': 2, 'desplomase': 1, 'bombas': 1, 'cesan': 2, 'deslumbrantes': 1, 'hiciesen': 1, 'instantánea': 1, 'oiríamos': 1, 'herir': 1, 'fulminación': 1, 'polvorines': 1, 'bifurcan': 1, 'estallan': 1, 'zigzags': 1, 'alterado': 1, 'desprende': 1, 'gaseosas': 1, 'emisión': 1, 'lanzan': 1, 'moléculas': 1, 'principios': 1, 'caen': 1, 'borrada': 1, 'definitivo': 1, 'modificada': 1, 'rendidos': 1, 'imperturbablemente': 1, 'abandonamos': 1, 'imperturbable': 1, 'componen': 1, 'amarramos': 1, 'arreció': 1, 'trincar': 1, 'movemos': 1, 'producimos': 1, 'apreciable': 1, 'aproximado': 2, 'articulado': 1, 'perdidos»': 1, '«estamos': 1, 'escribirle': 1, '«arriemos': 1, 'disco': 2, 'ambas': 1, 'juntamente': 1, 'parten': 1, 'arrancada': 1, 'fantástica': 1, 'pasea': 1, 'poderlo': 1, 'bomba': 1, 'retirar': 2, 'deslumbrador': 1, 'tiemblo': 1, 'bota': 1, 'caja': 1, 'palidezco': 1, 'quedamos': 2, 'azulada': 1, 'fijamente': 1, 'conseguir': 1, 'roza': 1, 'imanado': 1, 'tomarlo': 1, 'tintineo': 1, 'nitroso': 1, 'asfixiamos': 1, 'clavado': 1, 'incrustada': 1, 'arrancarlo': 1, 'esfuerzo': 1, 'giratorio': 2, 'entrechocándose': 1, 'adheridos': 1, 'placa': 1, 'estalla': 1, 'escupiendo': 1, 'apaga': 1, 'invade': 1, 'alguien': 2, 'desencadenan': 1, 'desvanecimiento': 1, 'salgo': 1, 'nidada': 1, 'francia': 5, 'incalculable': 1, 'canal': 1, 'relato': 3, 'naufragio': 3, 'agudos': 1, 'explicarlo': 1, 'salvó': 1, 'libré': 1, 'destrozó': 1, 'alcance': 2, 'valeroso': 1, 'transportó': 1, 'furioso': 1, 'oleaje': 1, 'reponer': 4, 'diluvio': 1, 'redoblada': 1, 'anuncia': 1, 'cataratas': 1, 'brindaron': 1, 'tranquilizado': 1, 'entregamos': 1, 'radiante': 1, 'despertar': 1, 'dudoso': 1, 'huella': 1, 'extenuados': 2, 'descansado': 1, 'matrimonio': 1, 'verificar': 1, 'franquearlas': 1, 'contadas': 1, 'habitaba': 1, 'elegida': 1, 'desviado': 1, 'dolorosas': 1, 'atravesaron': 1, 'molido': 1, 'encantado': 1, 'hundirnos': 1, 'preguntarle': 1, 'efectuará': 1, 'efectuaremos': 1, 'cerrará': 1, 'hallaremos': 2, 'realizados': 1, 'alcanzarán': 1, 'cerciorarnos': 1, 'impulsado': 1, 'abnegación': 1, 'riesgo': 1, 'temor': 1, 'destrozado': 3, 'descansábamos': 1, 'resumidas': 1, 'cuentas': 1, 'pasarnos': 1, 'pérdidas': 1, 'intacta': 1, 'explotar': 1, 'cazar': 1, 'abstenernos': 1, 'rebasarlo': 1, 'antípodas': 2, 'feroz': 1, 'hela': 1, 'reconocerlo': 1, 'etc': 2, 'relativa': 2, 'dilucidar': 1, 'respetado': 1, 'totalidad': 1, 'salada': 1, 'alineadas': 1, 'cajas': 1, 'banquete': 2, 'colegas': 1, 'causaba': 3, 'repare': 1, 'atormente': 1, 'recipientes': 1, 'recomendar': 1, 'servimos': 1, 'pera': 1, 'vertido': 1, 'antoja': 1, 'recelo': 1, 'instrucciones': 1, 'confeccionamos': 1, 'comunicó': 1, 'agitaciones': 2, 'té': 1, 'pasadas': 1, 'calculásemos': 1, 'propuso': 1, 'calcularlo': 1, 'hicimos': 1, 'renuncies': 1, 'contemos': 1, 'borrasca': 1, '300': 1, 'añadir': 2, 'deducimos': 1, 'competir': 1, 'transversal': 1, 'atravesado': 2, '900': 1, 'turquía': 1, 'cl': 1, 'hallemos': 1, 'alteración': 1, 'consultando': 1, 'cerciorarse': 1, 'estudiadas': 1, 'contento': 1, 'adoptaba': 1, 'frotaba': 1, 'posturas': 1, 'depositado': 1, 'magnetismo': 3, 'oscilado': 1, 'colocó': 1, 'fija': 1, 'frotó': 1, 'acabó': 1, 'suponíamos': 1, 'examinase': 1, 'flor': 1, 'lis': 1, 'examiné': 2, 'colocase': 1, 'detenimiento': 1, 'desperfecto': 1, 'cerciorándome': 1, 'moví': 1, 'diésemos': 1, 'cuente': 1, 'rolado': 1, 'irritado': 2, 'corridos': 1, 'agitaron': 1, 'chasqueado': 1, 'retrocedido': 1, 'sobrepuso': 2, 'retrocederé': 1, 'fatalidad': 3, 'verá': 1, 'juega': 1, 'oponerse': 1, 'trastadas': 1, 'conspiran': 1, 'combinan': 1, 'ardor': 1, 'indomable': 1, 'ajax': 2, 'colérico': 1, 'intervenir': 1, 'desafiar': 2, 'recorren': 1, 'gobernar': 1, 'ambiciones': 1, 'escúcheme': 1, 'preparados': 2, 'desarrollar': 1, 'argumentación': 1, 'refutables': 1, 'exasperé': 1, 'estrellé': 1, 'supliqué': 1, 'jugueteaba': 1, 'enteramente': 2, 'individuo': 1, 'consolidado': 1, 'artefacto': 3, 'pliegues': 1, 'disponerlo': 1, 'despejada': 1, 'sostenía': 3, 'personal': 2, 'ocupar': 3, 'adicto': 1, 'consagración': 1, 'despojado': 1, 'seguirles': 1, 'voto': 1, 'adopté': 1, 'resignó': 1, 'reconocido': 2, 'abandonaré': 1, 'recalada': 1, 'comprenda': 1, 'quehaceres': 1, 'entregado': 1, 'pliocénico': 1, 'conchillas': 2, 'recorrerla': 1, 'expiraban': 1, 'redondeados': 1, 'reducción': 1, 'estribaciones': 3, 'acantilado': 2, 'carapachos': 1, 'guijarros': 1, 'evidentes': 2, 'pétreos': 1, 'tamaños': 1, 'can': 1, 'sembrado': 1, 'trituraban': 2, 'pudiéndose': 1, 'gliptodonios': 1, 'violentas': 1, 'evaporado': 1, 'habiendo': 1, 'taponada': 1, 'creaba': 1, 'producción': 1, 'presenciado': 1, 'puedan': 1, 'satisfactoria': 1, 'explicarlas': 1, 'intersticios': 2, 'examinaba': 2, 'distribuidas': 1, 'sondeando': 1, 'trastornado': 1, 'costeado': 1, 'protuberancias': 2, 'dislocación': 1, 'confundían': 1, 'ondulado': 1, 'escribirse': 1, 'empezado': 1, 'acumulábase': 1, 'generaciones': 2, 'habitado': 2, 'extendían': 1, 'elevados': 1, 'eternos': 1, 'sílice': 1, 'cuadradas': 1, 'depósitos': 1, 'recientes': 2, 'montones': 1, 'aluvionarios': 1, 'museos': 1, 'osario': 5, 'disputarían': 1, 'cuvieres': 1, 'millar': 1, 'vidas': 1, 'prehistóricos': 2, 'orgánicos': 1, 'inapreciable': 1, 'veíase': 1, 'tendréis': 1, 'omar': 1, 'demostraba': 1, 'descomunales': 1, 'mericoterios': 1, 'direcciones': 2, 'protopitecos': 1, 'famosa': 2, 'alejandría': 1, 'renacer': 2, 'lepoterios': 1, 'portentoso': 1, 'apasionado': 1, 'incendiada': 1, 'fulguraban': 1, 'pterodáctilos': 1, 'mastodontes': 4, 'sorprendido': 1, 'humilde': 1, 'quatrefages': 2, 'encontréis': 1, 'evocación': 1, 'ilustres': 2, 'halladas': 2, 'barniz': 1, 'moulin–quignon': 2, 'canteras': 1, 'sílices': 2, 'abbeville': 1, 'hachas': 2, 'soma': 1, 'tallados': 2, 'boucher': 1, 'marzo': 1, 'revestidos': 1, 'excavaciones': 1, 'perthes': 1, 'departamento': 1, 'trabajadores': 1, 'tomaron': 1, 'proceso': 1, 'demostraron': 1, 'osamenta': 1, 'fueran': 1, 'quijada': 1, 'instituto': 1, 'incontestable': 1, 'defensores': 1, 'falconer': 1, 'busk': 1, 'sumáronse': 1, 'destacándose': 1, 'admitieron': 1, 'carpenter': 1, 'admitida': 1, 'incontestablemente': 2, 'demostrada': 1, 'cuaternaria': 6, 'disputas': 1, 'adversario': 2, 'mantenido': 1, 'beaumont': 1, 'bando': 1, 'elías': 1, 'sentada': 1, 'controversias': 1, 'diluvium': 1, 'contemporánea': 1, 'autoridad': 1, 'admitía': 1, 'encarnizado': 1, 'beaumant': 1, 'conocíamos': 2, 'tipos': 1, 'afirmábase': 1, 'cuaternario': 2, 'adultos': 1, 'grutas': 1, 'bélgica': 1, 'adolescentes': 1, 'livianas': 1, 'suiza': 1, 'individuos': 1, 'idénticas': 1, 'ancianos': 1, 'ignorábamos': 1, 'exhumados': 1, 'plioceno': 1, 'regular': 1, 'productos': 1, 'asignar': 1, 'esculpidos': 1, 'antigüedad': 2, 'fémures': 1, 'raza': 2, 'industria': 1, 'tibias': 1, 'ostentaban': 1, 'remota': 2, 'terciario': 1, 'estriados': 1, 'contemporáneo': 2, 'elephas': 1, 'tiempos': 2, 'pliocénicos': 1, 'asignada': 1, 'afamados': 1, 'meridionalis': 1, 'paleontológica': 1, 'comprenderán': 1, 'apergaminada': 1, 'tersa': 1, 'uñas': 1, 'reconocible': 1, 'burdeos': 1, 'jugosos': 1, 'prodigiosamente': 1, 'conservado': 3, 'discutidor': 1, 'locuaz': 1, 'mirarnos': 1, 'enderezamos': 1, 'palpábamos': 1, 'vacías': 1, 'torso': 1, 'enmudeció': 2, 'doctoral': 1, 'dejándose': 2, 'creyéndose': 1, 'conferencia': 1, 'imaginario': 1, 'auditorio': 1, 'ralea': 1, '1613': 1, 'exhumado': 1, 'asterio': 1, 'félix': 1, '105': 1, 'charlatanes': 1, 'tocarían': 1, 'folletos': 1, 'desterrado': 1, 'gigans': 1, 'análisis': 1, 'leído': 1, 'tratados': 1, 'inicua': 1, '1577': 1, 'defendido': 1, 'pedro': 1, 'conocéis': 1, 'santo': 1, 'presentaros': 1, 'contradiscursos': 1, 'esparteros': 1, 'delfinado': 1, 'galia': 1, 'polifemo': 1, 'lucerna': 1, 'afirmado': 1, 'plater': 1, 'publicados': 1, 'preadamitas': 1, 'memorias': 1, 'barnum': 1, 'teutoboco': 1, 'negado': 1, 'invasor': 1, 'campet': 1, 'cimbrios': 1, 'pertenecían': 1, 'pausanias': 1, 'discursos': 1, 'titulado': 2, 'palermo': 1, 'arenal': 1, 'obligados': 1, 'xv': 1, 'verían': 1, 'tomás': 1, 'scheuchzer': 1, 'combatido': 1, 'trapani': 1, 'cassanion': 1, 'orestes': 1, 'reapareció': 1, 'gigan': 1, 'atascó': 1, 'giganteo': 1, 'enrevesado': 1, 'reído': 1, 'gigantosteología': 1, 'concluyó': 1, 'intacto': 1, 'podéis': 1, 'simples': 1, 'mamut': 1, 'antropológico': 1, 'tenéis': 1, 'tocarlo': 1, 'injuria': 1, 'aserción': 1, 'contradecir': 1, 'sulfúrico': 1, 'disolvente': 1, 'referirá': 1, 'veis': 2, 'lavarlo': 1, 'terrosas': 1, 'incrustadas': 1, 'poseo': 1, 'resplandecientes': 1, 'manejándolo': 1, 'mostrar': 1, 'dedican': 1, 'modifica': 1, 'progmatismo': 1, 'excesivo': 2, 'medid': 1, 'caucásica': 1, 'india': 2, 'facial': 1, 'sonriáis': 1, 'pretendidos': 1, 'canto': 1, 'avance': 1, 'atrevería': 1, 'ovoideo': 1, 'hallaréis': 1, '90°': 1, 'sabias': 1, 'disertaciones': 1, 'sonreía': 1, 'sonreír': 1, 'osaré': 1, 'cultivador': 1, 'anfiteatro': 1, 'verificaban': 1, 'deciros': 1, 'trastornos': 1, 'constituido': 1, 'escurría': 1, 'excursionista': 1, 'sustente': 1, 'llenan': 1, 'combatirle': 1, 'tentarse': 1, 'unánimes': 1, 'aplausos': 1, 'prorrumpieron': 1, 'dábamos': 1, 'incrédulos': 2, 'fosilizado': 1, 'naciendo': 1, 'confundidos': 2, 'osábamos': 1, 'muriendo': 1, 'erraría': 1, 'asombros': 1, 'impulsados': 2, 'preparada': 1, 'tesoros': 1, 'sorpresas': 3, 'distribución': 1, 'bañados': 1, 'alejadas': 1, 'superficies': 1, 'equitativa': 1, 'dimanaba': 1, 'adquirían': 1, 'estío': 1, 'ecuatoriales': 1, 'ocurría': 2, 'parecíamos': 1, 'encontrásemos': 1, 'confusas': 1, 'imprudente': 1, 'hoffmann': 1, 'extraviarse': 1, 'lindero': 1, 'tuyas': 2, 'enlazaban': 1, 'terciaria': 1, 'marchito': 1, 'palmeras': 1, 'muellemente': 1, 'contemplábamos': 1, 'vivificante': 1, 'tejos': 1, 'perfume': 1, 'bejucos': 1, 'cipreses': 1, 'murmuraban': 1, 'crecían': 1, 'confundía': 1, 'red': 2, 'tinte': 1, 'parecidos': 2, 'extinguidas': 1, 'magnificencia': 1, 'invernáculos': 1, 'soberbios': 1, 'hepáticas': 1, 'pardusco': 1, 'crían': 1, 'aplicárseles': 1, 'guanos': 1, 'musgos': 1, 'codiciadas': 1, 'aprensión': 1, 'rubráceas': 1, 'acerinas': 1, 'clasificadores': 1, 'palmera': 1, 'entrelazaba': 1, 'eucalipto': 1, 'australiano': 1, 'claros': 1, 'comestibles': 1, 'acumulado': 1, 'aventuró': 1, 'entremezclados': 1, 'leguminosas': 1, 'kauris': 2, 'confundir': 1, 'zelandés': 1, 'abeto': 1, 'botánica': 1, 'abedul': 1, 'carcomidos': 1, 'rumiantes': 1, 'elefantes': 2, 'desaparecían': 1, '1801': 1, 'cantidades': 1, 'legión': 1, 'marfil': 1, 'trompas': 1, 'taladraba': 1, 'ohio': 1, 'monstruosos': 1, 'arrancadas': 1, 'movían': 1, 'creído': 1, 'agitarse': 1, 'descubiertos': 2, 'ternaria': 1, 'atónito': 1, 'haríamos': 1, 'carecemos': 1, 'impunemente': 1, 'venga': 2, 'engañas': 3, 'limites': 1, 'rendirme': 1, 'apoyado': 1, 'innumerable': 1, 'proteo': 1, 'apacentaba': 1, 'custos': 1, 'inmanis': 1, 'ipse': 2, 'inmanior': 2, 'pecoris': 1, 'levantado': 1, 'parecida': 1, 'espesuras': 1, 'crines': 1, 'melena': 1, 'inculta': 1, 'imponer': 1, 'búfalo': 1, 'blandía': 1, 'antediluviano': 1, 'tirando': 1, 'creyeron': 1, 'pobladores': 1, 'vieron': 1, 'generación': 2, 'renacido': 1, 'dadas': 1, 'sepultada': 1, 'osífero': 1, 'aproxime': 1, 'inverosímil': 1, 'excedía': 2, 'mesopiteco': 1, 'prefiero': 1, 'lartet': 1, 'sansan': 1, 'huida': 2, 'divagaciones': 1, 'rayana': 1, 'creemos': 1, 'pesadillas': 1, 'corríamos': 1, 'dirigíamos': 1, 'embrutecimiento': 1, 'sufrir': 1, 'anonadados': 1, 'arrastres': 1, 'equivocarse': 1, 'hollaron': 1, 'sumergirme': 1, 'centenares': 3, 'pisar': 1, 'sobrado': 1, 'mochuelo': 1, 'advertía': 1, 'recobrado': 2, 'piélago': 1, 'participaba': 1, 'panorama': 1, 'indecisión': 1, 'orientarse': 1, 'aproximaremos': 1, 'regresemos': 1, 'exploración': 1, 'categórica': 1, 'contestación': 1, 'surgidero': 1, 'encontraríamos': 1, 'arrojándome': 1, 'mostrando': 1, 'puñal': 4, 'arma': 3, 'traído': 3, 'suelen': 1, 'asestar': 1, 'caballeros': 1, 'daga': 1, 'mellado': 3, 'herrumbre': 1, 'hundida': 1, 'data': 1, 'animaba': 1, 'precedido': 2, 'señalarnos': 1, 'busquémosle': 1, 'bañar': 1, 'angostaba': 1, 'intrépido': 1, 'entrada': 2, 'iniciales': 1, 'peñas': 1, 'borradas': 1, 'avanzadas': 1, 'grabada': 1, 'maravillarme': 1, 'estilete': 1, 'leía': 1, 'accidentado': 1, 'estupidez': 1, 'cercano': 1, 'aturdimiento': 1, 'elogios': 1, 'excesivos': 1, 'mortales': 1, 'firmar': 1, 'iré': 1, 'seguirte': 1, 'obscuros': 1, 'invadido': 1, 'respiraba': 2, 'pronunciaron': 1, 'oírlas': 1, 'padecimientos': 1, 'aconsejó': 1, 'entusiasmos': 1, 'volvamos': 1, 'traigamos': 1, 'deslicé': 1, 'contrariedad': 2, 'favorecido': 1, 'supongamos': 1, 'encallar': 1, 'alejado': 1, 'bendita': 1, 'bonanza': 1, 'aprovecharnos': 1, 'explicárnoslos': 1, 'procurar': 1, 'engolfarnos': 1, 'apetecido': 1, 'redundar': 1, 'vale': 2, 'navegamos': 1, 'preparado': 1, 'llevando': 1, 'rodeos': 1, 'ceñir': 1, 'filo': 1, 'desembarco': 1, 'obligaban': 1, 'propuse': 1, 'opuso': 1, 'salté': 2, 'cortarnos': 1, 'retirada': 1, 'quemar': 1, 'examinemos': 1, 'distaba': 1, 'dirigimos': 1, 'dejamos': 1, 'barnizado': 1, 'penetrarse': 1, 'circular': 1, 'interposición': 1, 'interrumpida': 1, 'maldita': 2, 'infranqueable': 1, 'resignaba': 1, 'continuidad': 1, 'buscamos': 1, 'intersticio': 1, 'barrera': 1, 'recorría': 2, 'senté': 1, 'quizá': 1, 'removemos': 1, 'surcan': 1, 'trazos': 1, 'trabajado': 1, 'mediado': 1, 'brusca': 1, 'circulaban': 1, 'magnéticos': 1, 'henos': 1, 'accidental': 1, 'sísmica': 1, 'falla': 1, 'deslizó': 1, 'indignos': 1, 'obstrucción': 1, 'engolfado': 1, 'albergado': 1, 'campos': 1, 'creerme': 1, 'desdeñaba': 1, 'abrámonos': 1, 'derribemos': 1, 'practiquemos': 1, 'volemos': 1, 'recurramos': 1, 'entonces…': 1, 'libras': 1, 'barreno': 2, 'expansiva': 1, 'tratábase': 1, 'servirse': 1, 'tripa': 1, 'activamente': 1, 'ayudé': 1, 'mecha': 7, 'mojada': 1, 'encerrada': 1, 'tela': 1, 'pasaremos': 2, 'zapa': 1, 'depositada': 1, 'chispa': 1, '27': 1, 'palpitar': 1, 'meros': 1, 'convirtiéndonos': 1, 'juguetes': 1, 'participación': 1, 'abrirnos': 1, 'aproximaba': 2, 'descargada': 1, 'substraemos': 1, 'limitarse': 1, 'solicité': 1, 'refugiarme': 1, 'tardar': 1, 'dispuse': 1, 'provisto': 1, 'quedándome': 1, 'embarcaron': 1, 'artificio': 1, 'regresa': 1, 'prende': 1, 'entretendré': 1, 'exhalación': 1, 'chisporrotear': 1, 'embarca': 1, 'desatracar': 1, 'empujón': 1, 'impulsó': 1, 'alejándose': 1, 'manecillas': 1, 'pulso': 1, 'desplomáos': 1, 'falto': 1, 'modificó': 1, 'descorrido': 1, 'perpendicularmente': 1, 'convirtió': 1, 'sumidos': 1, 'impedido': 1, 'rugir': 1, 'extinguió': 2, 'deseado': 1, 'desplomamos': 1, 'dirigir': 1, 'agrietado': 1, 'provocado': 1, 'terremoto': 4, 'volado': 1, 'arrastraba': 2, 'consideré': 1, 'choques': 1, 'imprudencia': 1, 'deduje': 1, 'extremada': 2, 'asíamos': 1, 'ensanchaba': 1, 'dudarlo': 1, 'entrelazamos': 1, 'azotaba': 2, 'asociarlas': 1, 'encender': 2, 'trenes': 1, 'repentinamente': 1, 'lograda': 1, 'iluminó': 2, 'amenazando': 1, 'resplandores': 3, 'apagarse': 1, 'continuas': 2, 'exprese': 1, 'insuperables': 1, 'américa': 2, 'arrastraban': 1, 'trazaban': 1, 'insuficiente': 1, 'ancha': 1, 'figurado': 1, 'flechas': 1, 'lanzadas': 1, 'contrarrestar': 1, 'asfixiase': 1, 'roto': 1, 'agarrados': 1, 'cambiaba': 1, 'complicarla': 1, 'transcurrían': 1, 'reducían': 1, 'enrollado': 1, 'cable': 1, 'recuento': 1, 'irreparable': 1, 'contábamos': 1, 'galletas': 2, 'rincones': 1, 'formados': 1, 'registrar': 1, 'alelado': 1, 'irresistible': 2, 'preocuparme': 1, 'inmediatos': 1, 'rareza': 1, 'mostrárseme': 1, 'callarme': 1, 'decírselo': 1, 'manifestarle': 1, 'serenidad': 2, 'desamparo': 1, 'conservase': 1, 'impenetrables': 1, 'mantenerla': 1, 'debilitó': 1, 'redobló': 1, 'aferradas': 1, 'caíamos': 1, 'retenían': 1, 'sofocado': 1, 'sentimos': 1, 'rompérmelos': 1, 'apretaban': 1, 'momentánea': 2, 'respiraron': 1, 'zambullida': 1, 'audición―': 1, 'calculo': 2, 'reemplazando': 1, 'aturdieron': 1, 'restablecerse': 1, 'funcionar': 1, 'subimos': 5, 'toqué': 1, 'ensangrentada': 1, 'encenderla': 1, 'ascensional': 4, 'alumbrar': 1, 'adelanta': 1, 'taponado': 1, 'comprime': 1, 'aprovechar': 1, 'pongámonos': 1, 'sonado': 1, 'espantados': 1, 'cecina': 1, 'salvarnos': 2, 'obtuvo': 1, 'padecían': 1, 'miserable': 1, 'atrevíamos': 1, 'ascienden': 1, 'subíamos': 2, 'aéreas': 1, 'respiración': 2, 'inquietante': 1, 'experimentábamos': 1, 'sienten': 1, 'reducía': 1, 'proporcionándonos': 1, 'explicable': 1, 'refractarias': 1, 'significaba': 1, 'moderada': 1, 'rigor': 1, 'cumplían': 1, 'morimos': 1, 'quemados': 1, 'estrellamos': 1, 'ahogamos': 1, 'encogerse': 1, 'abismó': 1, 'rompió': 1, 'débiles': 1, 'economizando': 1, 'prolongar': 1, 'tratamos': 1, 'permaneceremos': 1, 'ayuno': 1, 'permitimos': 1, 'devoremos': 1, 'alimentará': 1, 'comiéndolo': 1, 'firmeza': 1, 'dominar': 2, 'lata': 1, 'palpite': 1, 'admirables': 1, 'críticas': 1, 'temple': 1, 'migaja': 1, 'perdidas': 1, 'comamos': 1, 'libra': 1, 'distribuyó': 1, 'saboreaba': 1, 'mediada': 1, 'reanimarme': 1, 'tocó': 1, 'moderación': 1, 'huroneando': 1, 'comió': 1, 'masticaba': 1, 'bocados': 2, 'menudos': 1, 'bebiendo': 1, 'turno': 1, 'föttraflig': 1, 'terminarse': 1, 'triunfaron': 1, 'imaginarse': 1, 'horrores': 1, 'experimentarlos': 1, 'comprenderlos': 1, 'fatalista': 1, 'occidente': 1, 'pasaron': 1, 'visiones': 1, 'soñaba': 1, 'transmitían': 1, 'conducían': 1, 'lúgubres': 1, 'llenos': 1, 'apreciación': 2, 'observando': 1, 'aproximada': 1, 'cualidad': 1, 'aferrado': 1, 'interesase': 1, 'oíale': 1, 'ascendemos': 1, 'palpaba': 1, 'llegarán': 1, 'preciosas': 1, 'compararla': 1, 'coladas': 1, 'prenda': 1, 'efectúan': 1, 'chalecos': 1, 'bañado': 1, 'hornos': 1, 'despojando': 1, 'sudor': 2, 'fundición': 1, 'chaquetas': 1, 'abrasadora': 1, 'despiden': 1, 'progresión': 1, 'sufrimiento': 1, 'insistí': 1, 'palpando': 1, 'rozó': 1, 'retirarlo': 1, 'abrasa': 1, 'involuntarias': 1, 'certidumbre': 1, 'desempeñaba': 1, 'invisible': 1, 'loca': 3, 'formularla': 1, 'tornó': 1, 'poseída': 1, 'saltaba': 1, 'bruscas': 1, 'susto': 1, 'incesantemente': 1, 'diseminados': 1, 'internas': 1, 'sospechen': 1, 'aceptadas': 1, 'originadas': 1, 'tienden': 1, 'descomposición': 1, 'conmoverla': 1, 'compararlas': 1, 'engañarme': 1, 'multiplicaban': 1, 'brusco': 1, 'generis': 1, 'sui': 1, 'carros': 1, 'empedrado': 1, 'confirmaba': 1, 'macizos': 1, 'graníticos': 1, 'compresión': 1, 'rebosar': 1, 'átomos': 1, 'llenarse': 1, 'triturados': 1, 'juntarse': 1, 'perdidos': 1, 'motiva': 1, 'sorprendente―': 1, '―me': 1, 'observe': 1, 'oscila': 1, 'disloca': 1, 'espesan': 1, 'insufrible': 1, '―preguntó': 1, 'ocurrirnos': 2, 'explicarse': 2, 'expulsados': 1, 'encendidas': 1, 'sucedernos': 1, 'atreve': 1, 'repelidos': 1, 'hervientes': 3, 'vomitados': 3, 'lanzados': 2, 'mirándome': 1, 'enumerar': 1, 'renuncié': 1, 'contingencias': 1, 'subordinado': 1, 'pueriles': 1, 'asfixiado': 2, 'encentraba': 1, 'rara': 2, 'cesando': 1, 'empujados': 2, 'aluvión': 1, 'conglomerado': 1, 'hecla': 1, 'mayen': 2, 'vomitar': 1, 'pretendía': 1, 'spitzberg': 2, 'juan': 2, 'esk': 1, 'espaciosos': 1, '80°': 1, 'exponíamos': 1, 'aumentara': 1, 'impulsaba': 1, 'aproximarnos': 1, 'aceleróse': 1, 'local': 1, 'amarillentos': 1, 'corredores': 1, 'reflejos': 1, 'lamían': 1, 'escapaban': 1, 'distinguía': 1, 'chisporroteando': 1, 'túneles': 1, 'sulfurosas': 1, 'importe': 2, 'envolverán': 1, 'asfixian': 1, 'ensancha': 1, 'guarecernos': 1, 'fuere': 2, 'asfixiarán': 1, 'abandonaríamos': 1, '70°': 1, 'expuesto': 1, 'reemplazado': 1, 'unidas': 1, 'puñado': 1, 'sobrevino': 1, 'sacudido': 1, 'repentina': 1, 'tropiezo': 1, 'librarla': 1, 'apresurarse': 1, 'espontánea': 1, 'prolongarse': 1, 'apretando': 1, 'desordenado': 1, 'equivocó': 1, 'pronósticos': 1, 'mirando': 1, 'intermitente': 1, 'justos': 1, 'agarrarse': 1, 'podérmelo': 1, 'repercutían': 1, 'accesible': 1, 'conducto': 1, 'recibiendo': 1, 'reproducía': 1, 'exaltada': 1, 'poderme': 1, 'helada': 1, 'árticas': 2, 'permanecíamos': 1, 'ascensiones': 1, 'hiperboreales': 1, 'cortaba': 1, 'abrasador': 1, '30°': 1, 'paseaba': 1, 'revolcar': 1, 'parados': 1, 'anhelaba': 1, 'trastornada': 1, 'extravió': 1, 'reiteradas': 1, 'envolvieron': 1, 'confusa': 1, 'despedido': 1, 'activaba': 1, 'huracanado': 1, 'crepitantes': 1, 'balanceaba': 1, 'atado': 1, 'alumbrado': 1, 'cañón': 1, 'disperso': 1, 'condenado': 1, 'tiro': 1, 'gravemente': 1, 'paliza': 1, 'ignorancia': 1, 'encogió': 1, 'engaña': 1, 'escarpada': 1, 'calcinada': 1, 'áridos': 1, 'tendidos': 1, 'ardores': 1, 'reservada': 1, 'envolvía': 1, 'desnudos': 2, 'favores': 1, 'sufría': 1, 'mostraba': 1, 'pródigo': 1, 'espléndidos': 1, 'tostadura': 1, 'oleadas': 1, 'acostumbraron': 1, 'deshabituado': 1, 'rectificar': 1, 'valí': 1, 'uvas': 2, 'u': 1, 'vides': 2, '700': 1, 'cargadas': 1, 'distinguí': 1, 'convulsiones': 1, 'respiraderos': 1, '100': 1, 'olivos': 5, 'mezcladas': 1, 'precipitábanse': 1, 'higueras': 1, 'rebasaba': 1, 'encantada': 1, 'levante': 1, 'mecían': 1, 'hormiguero': 1, 'emergían': 1, 'divisaban': 1, 'perfilándose': 1, 'poniente': 1, 'armoniosa': 1, 'agitaba': 1, 'divisaba': 1, 'convexidad': 1, 'relumbraba': 1, 'centuplicaba': 1, 'bellezas': 1, 'escudriñaba': 1, 'escapado': 1, 'valdría': 1, 'descendamos': 1, 'contemplativo': 1, 'evitando': 1, 'ceniza': 1, 'talud': 1, 'desahogo': 1, 'deslizábamos': 1, 'volubilidad': 1, 'repleta': 1, 'malasia': 1, 'oceanía': 1, 'terráqueo': 1, 'asia': 1, 'fiémonos': 1, 'mentido': 2, 'aproximábamos': 1, 'sabrosas': 1, 'deliciosa': 2, 'escrúpulos': 1, 'granados': 1, 'recreaba': 1, 'oprimimos': 1, 'hermosa': 1, 'jugosísimas': 1, 'sumergimos': 1, 'caras': 1, 'frutas': 2, 'andarse': 1, 'desnudez': 1, 'chiquillo': 2, 'entregábamos': 1, 'bienaventurado': 1, 'cariz': 1, 'miserablemente': 1, 'intimidar': 1, 'amedrentar': 1, 'figuras': 1, 'barbas': 1, 'ladrones': 1, 'enfermizo': 1, 'pordioserillo': 1, 'incultas': 1, 'rapazuelo': 1, 'puntapiés': 1, 'asustado': 1, 'tranquilizarlo': 1, 'amiguito': 1, 'formuló': 1, 'orgulloso': 1, 'poliglotismo': 1, 'ensayemos': 1, 'dove': 1, 'siamo': 1, 'come': 1, 'isola': 1, 'noma': 1, 'questa': 1, 'stromboli': 1, 'escapándose': 1, 'volviéramos': 1, 'pastorcillo': 1, 'emprendiendo': 1, 'veloz': 1, 'eolo': 1, 'calabria': 1, 'etna': 1, 'strongyle': 1, 'mitológica': 1, 'estrómboli': 4, 'encadenados': 1, 'eolio': 1, 'archipiélago': 1, 'cantando': 1, 'acompañaba': 1, 'dúo': 1, 'azares': 1, 'infinita': 1, 'enclavado': 1, 'zonas': 1, 'nieblas': 1, 'cobijarnos': 1, 'cenicientas': 1, 'armoniosas': 1, 'árido': 1, 'azul': 1, 'trocado': 1, 'comarcas': 1, 'volvimos': 1, 'italianos': 1, 'náufragos': 2, 'supersticioso': 1, 'divulgar': 1, 'resignamos': 1, 'gloriosa': 1, 'buscarle': 1, 'devanemos': 1, 'desdén': 1, 'inaudito': 1, 'supiera': 1, 'desnudo': 1, 'afianzándose': 1, 'vicenzo': 1, 'religiosamente': 1, 'decimotercia': 1, 'pagado': 1, 'calurosos': 1, 'cruzándose': 1, 'participó': 1, 'expansión': 1, 'legítima': 1, 'dibujó': 1, 'acostumbradas': 1, 'querrán': 1, 'credulidad': 1, 'asustarse': 1, 'proporcionaron': 1, 'mesina': 1, 'bastaron': 1, '31': 1, 'marsella': 1, 'volturne': 1, 'septiembre': 1, 'mensajerías': 1, 'tocamos': 1, 'imperiales': 1, 'inquietarnos': 1, 'tendrás': 1, 'separarte': 1, 'adorada': 1, 'sonrió': 1, 'produciría': 1, 'indiscreciones': 1, 'esparcido': 1, 'pública': 2, 'modificaron': 1, 'informaciones': 1, 'aumentar': 1, 'extraordinarios': 1, 'reputación': 1, 'expresando': 1, 'relativos': 1, 'poderosas': 1, 'depositó': 1, 'detallado': 1, 'archivos': 1, 'omitiendo': 1, 'celebró': 1, 'establecidos': 1, 'sistemas': 1, 'sostuvo': 1, 'verbalmente': 1, 'basadas': 1, 'contradecían': 1, 'suscitarle': 1, 'polémicas': 1, 'seguiré': 1, 'definidas': 1, 'discusiones': 1, 'ruegos': 1, 'disgusto': 2, 'nostalgia': 1, 'deuda': 2, 'pagásemos': 1, 'experimentó': 1, 'enconadas': 1, 'permitir': 1, 'minado': 1, 'despedida': 1, 'partió': 1, 'adonde': 1, 'färval': 1, 'contraída': 1, 'singular': 1, 'profesábamos': 1, 'defendidos': 1, 'barnuim': 1, 'unidos': 1, 'unánime': 1, 'disfrutó': 1, 'estados': 1, 'traducido': 1, 'comentados': 1, 'discutidos': 1, 'creyentes': 1, 'propusiese': 1, 'publicaron': 1, 'episodios': 1, 'conquistado': 1, 'exhibirle': 1, 'explicado': 1, 'felicidad': 1, 'suplicio': 1, 'constituía': 1, 'tormento': 1, 'amargaba': 1, 'arreglando': 1, 'examinarla': 1, 'quebraderos': 1, 'proporcionando': 1, 'acudir': 1, 'señalar': 2, 'invertidos': 2, 'retemblar': 1, 'condenada': 1, 'inversión': 1, 'explícate': 1, 'imanó': 1, 'desorientó': 1, 'invirtiendo': 1, 'jugado': 1, 'renunciando': 1, 'dichoso': 1, 'geográficas': 1, 'sociedades': 1, 'miembro': 1, 'sobrina': 1})\n"
          ]
        }
      ],
      "source": [
        "# Cantidad de veces quea aparece cada palabra en cada \"documento\"\n",
        "# (1 documento = 1 caso de entrada)\n",
        "print(tok.word_docs)"
      ]
    },
    {
      "cell_type": "markdown",
      "metadata": {
        "id": "uYfhWVLLzKVO"
      },
      "source": [
        "\n",
        "### Definir el modelo"
      ]
    },
    {
      "cell_type": "code",
      "execution_count": null,
      "metadata": {
        "colab": {
          "base_uri": "https://localhost:8080/",
          "height": 272
        },
        "id": "5UXA5hQfWVX1",
        "outputId": "b3c46fdc-1bdc-4e12-e51f-0be324dc0a31"
      },
      "outputs": [
        {
          "data": {
            "text/html": [
              "<pre style=\"white-space:pre;overflow-x:auto;line-height:normal;font-family:Menlo,'DejaVu Sans Mono',consolas,'Courier New',monospace\"><span style=\"font-weight: bold\">Model: \"sequential_2\"</span>\n",
              "</pre>\n"
            ],
            "text/plain": [
              "\u001b[1mModel: \"sequential_2\"\u001b[0m\n"
            ]
          },
          "metadata": {},
          "output_type": "display_data"
        },
        {
          "data": {
            "text/html": [
              "<pre style=\"white-space:pre;overflow-x:auto;line-height:normal;font-family:Menlo,'DejaVu Sans Mono',consolas,'Courier New',monospace\">┏━━━━━━━━━━━━━━━━━━━━━━━━━━━━━━━━━━━━━━┳━━━━━━━━━━━━━━━━━━━━━━━━━━━━━┳━━━━━━━━━━━━━━━━━┓\n",
              "┃<span style=\"font-weight: bold\"> Layer (type)                         </span>┃<span style=\"font-weight: bold\"> Output Shape                </span>┃<span style=\"font-weight: bold\">         Param # </span>┃\n",
              "┡━━━━━━━━━━━━━━━━━━━━━━━━━━━━━━━━━━━━━━╇━━━━━━━━━━━━━━━━━━━━━━━━━━━━━╇━━━━━━━━━━━━━━━━━┩\n",
              "│ embedding_2 (<span style=\"color: #0087ff; text-decoration-color: #0087ff\">Embedding</span>)              │ (<span style=\"color: #00d7ff; text-decoration-color: #00d7ff\">None</span>, <span style=\"color: #00d7ff; text-decoration-color: #00d7ff\">None</span>, <span style=\"color: #00af00; text-decoration-color: #00af00\">30</span>)            │         <span style=\"color: #00af00; text-decoration-color: #00af00\">329,610</span> │\n",
              "├──────────────────────────────────────┼─────────────────────────────┼─────────────────┤\n",
              "│ simple_rnn_3 (<span style=\"color: #0087ff; text-decoration-color: #0087ff\">SimpleRNN</span>)             │ (<span style=\"color: #00d7ff; text-decoration-color: #00d7ff\">None</span>, <span style=\"color: #00d7ff; text-decoration-color: #00d7ff\">None</span>, <span style=\"color: #00af00; text-decoration-color: #00af00\">200</span>)           │          <span style=\"color: #00af00; text-decoration-color: #00af00\">46,200</span> │\n",
              "├──────────────────────────────────────┼─────────────────────────────┼─────────────────┤\n",
              "│ simple_rnn_4 (<span style=\"color: #0087ff; text-decoration-color: #0087ff\">SimpleRNN</span>)             │ (<span style=\"color: #00d7ff; text-decoration-color: #00d7ff\">None</span>, <span style=\"color: #00d7ff; text-decoration-color: #00d7ff\">None</span>, <span style=\"color: #00af00; text-decoration-color: #00af00\">200</span>)           │          <span style=\"color: #00af00; text-decoration-color: #00af00\">80,200</span> │\n",
              "├──────────────────────────────────────┼─────────────────────────────┼─────────────────┤\n",
              "│ dense_2 (<span style=\"color: #0087ff; text-decoration-color: #0087ff\">Dense</span>)                      │ (<span style=\"color: #00d7ff; text-decoration-color: #00d7ff\">None</span>, <span style=\"color: #00d7ff; text-decoration-color: #00d7ff\">None</span>, <span style=\"color: #00af00; text-decoration-color: #00af00\">10987</span>)         │       <span style=\"color: #00af00; text-decoration-color: #00af00\">2,208,387</span> │\n",
              "└──────────────────────────────────────┴─────────────────────────────┴─────────────────┘\n",
              "</pre>\n"
            ],
            "text/plain": [
              "┏━━━━━━━━━━━━━━━━━━━━━━━━━━━━━━━━━━━━━━┳━━━━━━━━━━━━━━━━━━━━━━━━━━━━━┳━━━━━━━━━━━━━━━━━┓\n",
              "┃\u001b[1m \u001b[0m\u001b[1mLayer (type)                        \u001b[0m\u001b[1m \u001b[0m┃\u001b[1m \u001b[0m\u001b[1mOutput Shape               \u001b[0m\u001b[1m \u001b[0m┃\u001b[1m \u001b[0m\u001b[1m        Param #\u001b[0m\u001b[1m \u001b[0m┃\n",
              "┡━━━━━━━━━━━━━━━━━━━━━━━━━━━━━━━━━━━━━━╇━━━━━━━━━━━━━━━━━━━━━━━━━━━━━╇━━━━━━━━━━━━━━━━━┩\n",
              "│ embedding_2 (\u001b[38;5;33mEmbedding\u001b[0m)              │ (\u001b[38;5;45mNone\u001b[0m, \u001b[38;5;45mNone\u001b[0m, \u001b[38;5;34m30\u001b[0m)            │         \u001b[38;5;34m329,610\u001b[0m │\n",
              "├──────────────────────────────────────┼─────────────────────────────┼─────────────────┤\n",
              "│ simple_rnn_3 (\u001b[38;5;33mSimpleRNN\u001b[0m)             │ (\u001b[38;5;45mNone\u001b[0m, \u001b[38;5;45mNone\u001b[0m, \u001b[38;5;34m200\u001b[0m)           │          \u001b[38;5;34m46,200\u001b[0m │\n",
              "├──────────────────────────────────────┼─────────────────────────────┼─────────────────┤\n",
              "│ simple_rnn_4 (\u001b[38;5;33mSimpleRNN\u001b[0m)             │ (\u001b[38;5;45mNone\u001b[0m, \u001b[38;5;45mNone\u001b[0m, \u001b[38;5;34m200\u001b[0m)           │          \u001b[38;5;34m80,200\u001b[0m │\n",
              "├──────────────────────────────────────┼─────────────────────────────┼─────────────────┤\n",
              "│ dense_2 (\u001b[38;5;33mDense\u001b[0m)                      │ (\u001b[38;5;45mNone\u001b[0m, \u001b[38;5;45mNone\u001b[0m, \u001b[38;5;34m10987\u001b[0m)         │       \u001b[38;5;34m2,208,387\u001b[0m │\n",
              "└──────────────────────────────────────┴─────────────────────────────┴─────────────────┘\n"
            ]
          },
          "metadata": {},
          "output_type": "display_data"
        },
        {
          "data": {
            "text/html": [
              "<pre style=\"white-space:pre;overflow-x:auto;line-height:normal;font-family:Menlo,'DejaVu Sans Mono',consolas,'Courier New',monospace\"><span style=\"font-weight: bold\"> Total params: </span><span style=\"color: #00af00; text-decoration-color: #00af00\">2,664,397</span> (10.16 MB)\n",
              "</pre>\n"
            ],
            "text/plain": [
              "\u001b[1m Total params: \u001b[0m\u001b[38;5;34m2,664,397\u001b[0m (10.16 MB)\n"
            ]
          },
          "metadata": {},
          "output_type": "display_data"
        },
        {
          "data": {
            "text/html": [
              "<pre style=\"white-space:pre;overflow-x:auto;line-height:normal;font-family:Menlo,'DejaVu Sans Mono',consolas,'Courier New',monospace\"><span style=\"font-weight: bold\"> Trainable params: </span><span style=\"color: #00af00; text-decoration-color: #00af00\">2,664,397</span> (10.16 MB)\n",
              "</pre>\n"
            ],
            "text/plain": [
              "\u001b[1m Trainable params: \u001b[0m\u001b[38;5;34m2,664,397\u001b[0m (10.16 MB)\n"
            ]
          },
          "metadata": {},
          "output_type": "display_data"
        },
        {
          "data": {
            "text/html": [
              "<pre style=\"white-space:pre;overflow-x:auto;line-height:normal;font-family:Menlo,'DejaVu Sans Mono',consolas,'Courier New',monospace\"><span style=\"font-weight: bold\"> Non-trainable params: </span><span style=\"color: #00af00; text-decoration-color: #00af00\">0</span> (0.00 B)\n",
              "</pre>\n"
            ],
            "text/plain": [
              "\u001b[1m Non-trainable params: \u001b[0m\u001b[38;5;34m0\u001b[0m (0.00 B)\n"
            ]
          },
          "metadata": {},
          "output_type": "display_data"
        }
      ],
      "source": [
        "model = Sequential()\n",
        "\n",
        "# la primera capa es de embedding entrenable. Recordar que se puede variar el tamaño\n",
        "# del embedding a entrenar\n",
        "model.add(Embedding(input_dim=vocab_size+1, output_dim=30, input_shape=(None,)))\n",
        "\n",
        "model.add(SimpleRNN(200, return_sequences=True, dropout=0.1, recurrent_dropout=0.1))\n",
        "#model.add(Dropout(0.2))\n",
        "model.add(SimpleRNN(200, return_sequences=True, dropout=0.1, recurrent_dropout=0.1))\n",
        "#model.add(GRU(70, return_sequences=True))\n",
        "#model.add(Dropout(0.2))\n",
        "\n",
        "#model.add(LSTM(100, return_sequences=True))\n",
        "#model.add(Dropout(0.2))\n",
        "#model.add(Dense(70, activation='relu'))\n",
        "\n",
        "# Predicción de clasificación con softmax\n",
        "# La salida es del tamaño del vocabulario\n",
        "model.add(Dense(vocab_size+1, activation='softmax'))\n",
        "\n",
        "\n",
        "# Clasificación multiple categórica --> loss = categorical_crossentropy\n",
        "# notar que usamos la versión Sparse para utilizar sólo índices en lugar de OHE\n",
        "#optimizer = Adam(learning_rate=0.0001)\n",
        "optimizer = RMSprop(learning_rate=0.001)\n",
        "\n",
        "model.compile(loss=SparseCategoricalCrossentropy(), optimizer=optimizer, metrics=['accuracy'])\n",
        "\n",
        "model.summary()"
      ]
    },
    {
      "cell_type": "markdown",
      "metadata": {
        "id": "YWK3z85sQfUe"
      },
      "source": [
        "Dado que por el momento no hay implementaciones adecuadas de la perplejidad que puedan operar en tiempo de entrenamiento, armaremos un Callback *ad-hoc* que la calcule en cada epoch.\n",
        "\n",
        "**Nota**: un Callback es una rutina gatillada por algún evento, son muy útiles para relevar datos en diferentes momentos del desarrollo del modelo. En este caso queremos hacer un cálculo cada vez que termina una epoch de entrenamiento."
      ]
    },
    {
      "cell_type": "code",
      "execution_count": null,
      "metadata": {
        "id": "zUHX3r5JD-MG"
      },
      "outputs": [],
      "source": [
        "class PplCallback(keras.callbacks.Callback):\n",
        "\n",
        "    '''\n",
        "    Este callback es una solución ad-hoc para calcular al final de cada epoch de\n",
        "    entrenamiento la métrica de Perplejidad sobre un conjunto de datos de validación.\n",
        "    La perplejidad es una métrica cuantitativa para evaluar la calidad de la generación de secuencias.\n",
        "    Además implementa la finalización del entrenamiento (Early Stopping)\n",
        "    si la perplejidad no mejora después de `patience` epochs.\n",
        "    '''\n",
        "\n",
        "    def __init__(self, val_data, history_ppl, patience=5):\n",
        "      # El callback lo inicializamos con secuencias de validación sobre las cuales\n",
        "      # mediremos la perplejidad y la paciencia para detener el entrenamiento.\n",
        "      self.val_data = val_data\n",
        "\n",
        "      self.target = []\n",
        "      self.padded = []\n",
        "\n",
        "      count = 0\n",
        "      self.info = []\n",
        "      self.history_ppl = []\n",
        "      self.min_score = np.inf\n",
        "      self.patience_counter = 0\n",
        "      self.patience = patience\n",
        "\n",
        "      # nos movemos en todas las secuencias de los datos de validación\n",
        "      for seq in self.val_data:\n",
        "\n",
        "        len_seq = len(seq)\n",
        "        # armamos todas las subsecuencias\n",
        "        subseq = [seq[:i] for i in range(len_seq)]\n",
        "        self.target.extend([seq[i] for i in range(len_seq)])\n",
        "\n",
        "        if len(subseq)!=0:\n",
        "\n",
        "          self.padded.append(pad_sequences(subseq, maxlen=max_context_size, padding='pre'))\n",
        "\n",
        "          self.info.append((count,count+len_seq))\n",
        "          count += len_seq\n",
        "\n",
        "      self.padded = np.vstack(self.padded)\n",
        "\n",
        "\n",
        "    def on_epoch_end(self, epoch, logs=None):\n",
        "\n",
        "        # en `scores` iremos guardando la perplejidad de cada secuencia\n",
        "        scores = []\n",
        "\n",
        "        predictions = self.model.predict(self.padded,verbose=0)\n",
        "\n",
        "        # para cada secuencia de validación\n",
        "        for start,end in self.info:\n",
        "\n",
        "          # en `probs` iremos guardando las probabilidades de los términos target\n",
        "          probs = [predictions[idx_seq,-1,idx_vocab] for idx_seq, idx_vocab in zip(range(start,end),self.target[start:end])]\n",
        "\n",
        "          # calculamos la perplejidad por medio de logaritmos\n",
        "          scores.append(np.exp(-np.sum(np.log(probs))/(end-start)))\n",
        "\n",
        "        # promediamos todos los scores e imprimimos el valor promedio\n",
        "        current_score = np.mean(scores)\n",
        "        history_ppl.append(current_score)\n",
        "        print(f'\\n mean perplexity: {current_score} \\n')\n",
        "\n",
        "        # chequeamos si tenemos que detener el entrenamiento\n",
        "        if current_score < self.min_score:\n",
        "          self.min_score = current_score\n",
        "          self.model.save(\"my_model.h5\")\n",
        "          print(\"Saved new model!\")\n",
        "          self.patience_counter = 0\n",
        "        else:\n",
        "          self.patience_counter += 1\n",
        "          if self.patience_counter == self.patience:\n",
        "            print(\"Stopping training...\")\n",
        "            self.model.stop_training = True\n"
      ]
    },
    {
      "cell_type": "markdown",
      "metadata": {
        "id": "8HBZIwR0gruA"
      },
      "source": [
        "### Entrenamiento"
      ]
    },
    {
      "cell_type": "markdown",
      "metadata": {
        "id": "PMD23QmikD5y"
      },
      "source": [
        "**Para el entrenamiento:**\n",
        "\n",
        "1-  me dio error: \"ResourceExhaustedError\" por lo cual tuve que bajar la cantidad de terminos del contexto maximo (habia usado 22 lo baje a 10)\n",
        "\n",
        "2- no mejoraba la perplejidad, cambie el batch size, lo fije a 64 y ahora mejora pero solo hasta la epoch 2 y despues solo empeora.\n",
        "\n",
        "3- agregue 2 capas de dropout al modelo, con esto consegui un mejor modelo (perplejidad llega a 1800 en la tercera epoca en comparacion a los 2440 anteriores a la segunda epoca), por lo que se supone sobreajuste\n",
        "\n",
        "4- modifique la capa de embedings de 50 a 30, con la intencion de acercarlo a la expresión:\n",
        "\n",
        "$$\\large\\sqrt[4]{vocabsize} \\approx 10$$\n",
        "\n",
        "pero no hubo mejoria, esta vez llego a la 4ta epoch\n",
        "\n",
        "5- baje la cantidad de neuronas LSTM de 100 a 50, primero una capa, despues la otra y luego ambas. Termina las 20 epochs pero no mejora la perplejidad.\n",
        "\n",
        "6- probe cambiando el optimizador a Adam, cambiando el lr, pero se va a numeros muy altos la perplejidad.\n",
        "\n",
        "7- modifico el p_val de 0.1 a 0.15 y mejora levemente la perplejidad\n",
        "\n",
        "8- modifico el p_val de 0.15 a 0.17 y empeora levemente la perplejidad, lo devuelvo a 0.15, tambien agrego una capa densa adicional despues de las LSTM, pero sin resultado satisfactorio.\n",
        "\n",
        "9- cambio arquitectura a una sola capa tipo GRU, mejora levemente la perplejidad.\n",
        "\n",
        "10- por ultimo se agrega una segunda capa de tipo GRU con el que se consigue el mejor valor de perplejidad (tomando en cuenta lo probado anteriormente).\n",
        "\n"
      ]
    },
    {
      "cell_type": "code",
      "execution_count": null,
      "metadata": {
        "colab": {
          "background_save": true,
          "base_uri": "https://localhost:8080/"
        },
        "id": "oQq1PHDkxDvN",
        "outputId": "eead81bf-555b-4502-8e72-9a5ed44b532e"
      },
      "outputs": [
        {
          "name": "stdout",
          "output_type": "stream",
          "text": [
            "Epoch 1/20\n",
            "\u001b[1m13852/13852\u001b[0m \u001b[32m━━━━━━━━━━━━━━━━━━━━\u001b[0m\u001b[37m\u001b[0m \u001b[1m0s\u001b[0m 6ms/step - accuracy: 0.4113 - loss: 4.3273"
          ]
        },
        {
          "name": "stderr",
          "output_type": "stream",
          "text": [
            "WARNING:absl:You are saving your model as an HDF5 file via `model.save()` or `keras.saving.save_model(model)`. This file format is considered legacy. We recommend using instead the native Keras format, e.g. `model.save('my_model.keras')` or `keras.saving.save_model(model, 'my_model.keras')`. \n"
          ]
        },
        {
          "name": "stdout",
          "output_type": "stream",
          "text": [
            "\n",
            " mean perplexity: 2217.1466784254703 \n",
            "\n",
            "Saved new model!\n",
            "\u001b[1m13852/13852\u001b[0m \u001b[32m━━━━━━━━━━━━━━━━━━━━\u001b[0m\u001b[37m\u001b[0m \u001b[1m103s\u001b[0m 7ms/step - accuracy: 0.4113 - loss: 4.3273\n",
            "Epoch 2/20\n",
            "\u001b[1m13848/13852\u001b[0m \u001b[32m━━━━━━━━━━━━━━━━━━━\u001b[0m\u001b[37m━\u001b[0m \u001b[1m0s\u001b[0m 6ms/step - accuracy: 0.4548 - loss: 3.7070"
          ]
        },
        {
          "name": "stderr",
          "output_type": "stream",
          "text": [
            "WARNING:absl:You are saving your model as an HDF5 file via `model.save()` or `keras.saving.save_model(model)`. This file format is considered legacy. We recommend using instead the native Keras format, e.g. `model.save('my_model.keras')` or `keras.saving.save_model(model, 'my_model.keras')`. \n"
          ]
        },
        {
          "name": "stdout",
          "output_type": "stream",
          "text": [
            "\n",
            " mean perplexity: 2031.3288758455762 \n",
            "\n",
            "Saved new model!\n",
            "\u001b[1m13852/13852\u001b[0m \u001b[32m━━━━━━━━━━━━━━━━━━━━\u001b[0m\u001b[37m\u001b[0m \u001b[1m91s\u001b[0m 7ms/step - accuracy: 0.4548 - loss: 3.7069\n",
            "Epoch 3/20\n",
            "\u001b[1m13848/13852\u001b[0m \u001b[32m━━━━━━━━━━━━━━━━━━━\u001b[0m\u001b[37m━\u001b[0m \u001b[1m0s\u001b[0m 6ms/step - accuracy: 0.4747 - loss: 3.3747"
          ]
        },
        {
          "name": "stderr",
          "output_type": "stream",
          "text": [
            "WARNING:absl:You are saving your model as an HDF5 file via `model.save()` or `keras.saving.save_model(model)`. This file format is considered legacy. We recommend using instead the native Keras format, e.g. `model.save('my_model.keras')` or `keras.saving.save_model(model, 'my_model.keras')`. \n"
          ]
        },
        {
          "name": "stdout",
          "output_type": "stream",
          "text": [
            "\n",
            " mean perplexity: 1986.2871452286786 \n",
            "\n",
            "Saved new model!\n",
            "\u001b[1m13852/13852\u001b[0m \u001b[32m━━━━━━━━━━━━━━━━━━━━\u001b[0m\u001b[37m\u001b[0m \u001b[1m142s\u001b[0m 7ms/step - accuracy: 0.4747 - loss: 3.3747\n",
            "Epoch 4/20\n",
            "\u001b[1m13852/13852\u001b[0m \u001b[32m━━━━━━━━━━━━━━━━━━━━\u001b[0m\u001b[37m\u001b[0m \u001b[1m0s\u001b[0m 6ms/step - accuracy: 0.4909 - loss: 3.1431\n",
            " mean perplexity: 2116.7300127519584 \n",
            "\n",
            "\u001b[1m13852/13852\u001b[0m \u001b[32m━━━━━━━━━━━━━━━━━━━━\u001b[0m\u001b[37m\u001b[0m \u001b[1m90s\u001b[0m 6ms/step - accuracy: 0.4909 - loss: 3.1431\n",
            "Epoch 5/20\n",
            "\u001b[1m13848/13852\u001b[0m \u001b[32m━━━━━━━━━━━━━━━━━━━\u001b[0m\u001b[37m━\u001b[0m \u001b[1m0s\u001b[0m 6ms/step - accuracy: 0.5095 - loss: 2.9602"
          ]
        },
        {
          "name": "stderr",
          "output_type": "stream",
          "text": [
            "WARNING:absl:You are saving your model as an HDF5 file via `model.save()` or `keras.saving.save_model(model)`. This file format is considered legacy. We recommend using instead the native Keras format, e.g. `model.save('my_model.keras')` or `keras.saving.save_model(model, 'my_model.keras')`. \n"
          ]
        },
        {
          "name": "stdout",
          "output_type": "stream",
          "text": [
            "\n",
            " mean perplexity: 1899.2306893585605 \n",
            "\n",
            "Saved new model!\n",
            "\u001b[1m13852/13852\u001b[0m \u001b[32m━━━━━━━━━━━━━━━━━━━━\u001b[0m\u001b[37m\u001b[0m \u001b[1m91s\u001b[0m 7ms/step - accuracy: 0.5095 - loss: 2.9602\n",
            "Epoch 6/20\n",
            "\u001b[1m13843/13852\u001b[0m \u001b[32m━━━━━━━━━━━━━━━━━━━\u001b[0m\u001b[37m━\u001b[0m \u001b[1m0s\u001b[0m 6ms/step - accuracy: 0.5293 - loss: 2.8063\n",
            " mean perplexity: 2186.746813425587 \n",
            "\n",
            "\u001b[1m13852/13852\u001b[0m \u001b[32m━━━━━━━━━━━━━━━━━━━━\u001b[0m\u001b[37m\u001b[0m \u001b[1m137s\u001b[0m 6ms/step - accuracy: 0.5293 - loss: 2.8063\n",
            "Epoch 7/20\n",
            "\u001b[1m13847/13852\u001b[0m \u001b[32m━━━━━━━━━━━━━━━━━━━\u001b[0m\u001b[37m━\u001b[0m \u001b[1m0s\u001b[0m 6ms/step - accuracy: 0.5459 - loss: 2.6906\n",
            " mean perplexity: 3621.7218442936646 \n",
            "\n",
            "\u001b[1m13852/13852\u001b[0m \u001b[32m━━━━━━━━━━━━━━━━━━━━\u001b[0m\u001b[37m\u001b[0m \u001b[1m146s\u001b[0m 7ms/step - accuracy: 0.5459 - loss: 2.6906\n",
            "Epoch 8/20\n",
            "\u001b[1m13843/13852\u001b[0m \u001b[32m━━━━━━━━━━━━━━━━━━━\u001b[0m\u001b[37m━\u001b[0m \u001b[1m0s\u001b[0m 6ms/step - accuracy: 0.5604 - loss: 2.5959\n",
            " mean perplexity: 3146.4399194880825 \n",
            "\n",
            "\u001b[1m13852/13852\u001b[0m \u001b[32m━━━━━━━━━━━━━━━━━━━━\u001b[0m\u001b[37m\u001b[0m \u001b[1m87s\u001b[0m 6ms/step - accuracy: 0.5604 - loss: 2.5959\n",
            "Epoch 9/20\n",
            "\u001b[1m13849/13852\u001b[0m \u001b[32m━━━━━━━━━━━━━━━━━━━\u001b[0m\u001b[37m━\u001b[0m \u001b[1m0s\u001b[0m 6ms/step - accuracy: 0.5725 - loss: 2.5194\n",
            " mean perplexity: 2849.3448941472166 \n",
            "\n",
            "\u001b[1m13852/13852\u001b[0m \u001b[32m━━━━━━━━━━━━━━━━━━━━\u001b[0m\u001b[37m\u001b[0m \u001b[1m141s\u001b[0m 6ms/step - accuracy: 0.5725 - loss: 2.5193\n",
            "Epoch 10/20\n",
            "\u001b[1m13850/13852\u001b[0m \u001b[32m━━━━━━━━━━━━━━━━━━━\u001b[0m\u001b[37m━\u001b[0m \u001b[1m0s\u001b[0m 6ms/step - accuracy: 0.5820 - loss: 2.4615\n",
            " mean perplexity: 3406.629735788938 \n",
            "\n",
            "Stopping training...\n",
            "\u001b[1m13852/13852\u001b[0m \u001b[32m━━━━━━━━━━━━━━━━━━━━\u001b[0m\u001b[37m\u001b[0m \u001b[1m86s\u001b[0m 6ms/step - accuracy: 0.5820 - loss: 2.4615\n"
          ]
        }
      ],
      "source": [
        "# fiteamos, nótese el agregado del callback con su inicialización. El batch_size lo podemos seleccionar a mano\n",
        "# en general, lo mejor es escoger el batch más grande posible que minimice el tiempo de cada época.\n",
        "# En la variable `history_ppl` se guardarán los valores de perplejidad para cada época.\n",
        "history_ppl = []\n",
        "hist = model.fit(X, y, epochs=20, callbacks=[PplCallback(tokenized_sentences_val, history_ppl)], batch_size=32)"
      ]
    },
    {
      "cell_type": "code",
      "execution_count": null,
      "metadata": {
        "colab": {
          "base_uri": "https://localhost:8080/",
          "height": 430
        },
        "id": "K30JHB3Dv-mx",
        "outputId": "fa5e90ae-16c1-4335-81d9-ba8a327fac6a"
      },
      "outputs": [
        {
          "data": {
            "image/png": "[encoded data removed]",
            "text/plain": [
              "<Figure size 640x480 with 1 Axes>"
            ]
          },
          "metadata": {},
          "output_type": "display_data"
        }
      ],
      "source": [
        "import matplotlib.pyplot as plt\n",
        "import seaborn as sns\n",
        "\n",
        "# Podemos graficar la evolución de la perplejidad con las épocas.\n",
        "# Recordar que el valor de perplejidad del modelo trivial es el tamaño del vocabulario.\n",
        "epoch_count = range(1, len(history_ppl) + 1)\n",
        "sns.lineplot(x=epoch_count,  y=history_ppl)\n",
        "plt.show()"
      ]
    },
    {
      "cell_type": "code",
      "execution_count": null,
      "metadata": {
        "colab": {
          "base_uri": "https://localhost:8080/"
        },
        "id": "Rhy5hZN38qfO",
        "outputId": "1167cde0-bcad-4f9d-9fbf-e9deade571ee"
      },
      "outputs": [
        {
          "name": "stderr",
          "output_type": "stream",
          "text": [
            "WARNING:absl:Compiled the loaded model, but the compiled metrics have yet to be built. `model.compile_metrics` will be empty until you train or evaluate the model.\n"
          ]
        }
      ],
      "source": [
        "# Cargamos el mejor modelo guardado del entrenamiento para hacer inferencia\n",
        "model = keras.models.load_model('my_model.h5')"
      ]
    },
    {
      "cell_type": "markdown",
      "metadata": {
        "id": "KN6Fg_BsxJe6"
      },
      "source": [
        "\n",
        "### Predicción de próxima palabra"
      ]
    },
    {
      "cell_type": "code",
      "execution_count": null,
      "metadata": {
        "colab": {
          "base_uri": "https://localhost:8080/"
        },
        "id": "IBvKHFPmzpy2",
        "outputId": "19e324c8-fbb8-4424-8bea-fdd5b966a625"
      },
      "outputs": [
        {
          "name": "stdout",
          "output_type": "stream",
          "text": [
            "\u001b[2K     \u001b[90m━━━━━━━━━━━━━━━━━━━━━━━━━━━━━━━━━━━━━━━━\u001b[0m \u001b[32m50.6/50.6 kB\u001b[0m \u001b[31m3.1 MB/s\u001b[0m eta \u001b[36m0:00:00\u001b[0m\n",
            "\u001b[2K   \u001b[90m━━━━━━━━━━━━━━━━━━━━━━━━━━━━━━━━━━━━━━━━\u001b[0m \u001b[32m56.7/56.7 MB\u001b[0m \u001b[31m16.5 MB/s\u001b[0m eta \u001b[36m0:00:00\u001b[0m\n",
            "\u001b[2K   \u001b[90m━━━━━━━━━━━━━━━━━━━━━━━━━━━━━━━━━━━━━━━━\u001b[0m \u001b[32m319.8/319.8 kB\u001b[0m \u001b[31m25.9 MB/s\u001b[0m eta \u001b[36m0:00:00\u001b[0m\n",
            "\u001b[2K   \u001b[90m━━━━━━━━━━━━━━━━━━━━━━━━━━━━━━━━━━━━━━━━\u001b[0m \u001b[32m94.6/94.6 kB\u001b[0m \u001b[31m7.1 MB/s\u001b[0m eta \u001b[36m0:00:00\u001b[0m\n",
            "\u001b[2K   \u001b[90m━━━━━━━━━━━━━━━━━━━━━━━━━━━━━━━━━━━━━━━━\u001b[0m \u001b[32m76.4/76.4 kB\u001b[0m \u001b[31m6.3 MB/s\u001b[0m eta \u001b[36m0:00:00\u001b[0m\n",
            "\u001b[2K   \u001b[90m━━━━━━━━━━━━━━━━━━━━━━━━━━━━━━━━━━━━━━━━\u001b[0m \u001b[32m78.0/78.0 kB\u001b[0m \u001b[31m6.6 MB/s\u001b[0m eta \u001b[36m0:00:00\u001b[0m\n",
            "\u001b[2K   \u001b[90m━━━━━━━━━━━━━━━━━━━━━━━━━━━━━━━━━━━━━━━━\u001b[0m \u001b[32m447.4/447.4 kB\u001b[0m \u001b[31m31.2 MB/s\u001b[0m eta \u001b[36m0:00:00\u001b[0m\n",
            "\u001b[2K   \u001b[90m━━━━━━━━━━━━━━━━━━━━━━━━━━━━━━━━━━━━━━━━\u001b[0m \u001b[32m144.5/144.5 kB\u001b[0m \u001b[31m11.6 MB/s\u001b[0m eta \u001b[36m0:00:00\u001b[0m\n",
            "\u001b[2K   \u001b[90m━━━━━━━━━━━━━━━━━━━━━━━━━━━━━━━━━━━━━━━━\u001b[0m \u001b[32m10.9/10.9 MB\u001b[0m \u001b[31m110.3 MB/s\u001b[0m eta \u001b[36m0:00:00\u001b[0m\n",
            "\u001b[2K   \u001b[90m━━━━━━━━━━━━━━━━━━━━━━━━━━━━━━━━━━━━━━━━\u001b[0m \u001b[32m73.2/73.2 kB\u001b[0m \u001b[31m6.0 MB/s\u001b[0m eta \u001b[36m0:00:00\u001b[0m\n",
            "\u001b[2K   \u001b[90m━━━━━━━━━━━━━━━━━━━━━━━━━━━━━━━━━━━━━━━━\u001b[0m \u001b[32m63.7/63.7 kB\u001b[0m \u001b[31m5.7 MB/s\u001b[0m eta \u001b[36m0:00:00\u001b[0m\n",
            "\u001b[2K   \u001b[90m━━━━━━━━━━━━━━━━━━━━━━━━━━━━━━━━━━━━━━━━\u001b[0m \u001b[32m58.3/58.3 kB\u001b[0m \u001b[31m4.8 MB/s\u001b[0m eta \u001b[36m0:00:00\u001b[0m\n",
            "\u001b[2K   \u001b[90m━━━━━━━━━━━━━━━━━━━━━━━━━━━━━━━━━━━━━━━━\u001b[0m \u001b[32m130.2/130.2 kB\u001b[0m \u001b[31m11.4 MB/s\u001b[0m eta \u001b[36m0:00:00\u001b[0m\n",
            "\u001b[?25h"
          ]
        }
      ],
      "source": [
        "# Se puede usar gradio para probar el modelo\n",
        "# Gradio es una herramienta muy útil para crear interfaces para ensayar modelos\n",
        "# https://gradio.app/\n",
        "\n",
        "!pip install -q gradio"
      ]
    },
    {
      "cell_type": "code",
      "execution_count": null,
      "metadata": {
        "colab": {
          "base_uri": "https://localhost:8080/",
          "height": 802
        },
        "id": "HNyBykvhzs7-",
        "outputId": "e8649521-c151-431d-9bdb-1f418fd6d51b"
      },
      "outputs": [
        {
          "name": "stdout",
          "output_type": "stream",
          "text": [
            "Running Gradio in a Colab notebook requires sharing enabled. Automatically setting `share=True` (you can turn this off by setting `share=False` in `launch()` explicitly).\n",
            "\n",
            "Colab notebook detected. This cell will run indefinitely so that you can see errors and logs. To turn off, set debug=False in launch().\n",
            "* Running on public URL: https://bc0aaf4ec9d7fa732b.gradio.live\n",
            "\n",
            "This share link expires in 72 hours. For free permanent hosting and GPU upgrades, run `gradio deploy` from the terminal in the working directory to deploy to Hugging Face Spaces (https://huggingface.co/spaces)\n"
          ]
        },
        {
          "data": {
            "text/html": [
              "<div><iframe src=\"https://bc0aaf4ec9d7fa732b.gradio.live\" width=\"100%\" height=\"500\" allow=\"autoplay; camera; microphone; clipboard-read; clipboard-write;\" frameborder=\"0\" allowfullscreen></iframe></div>"
            ],
            "text/plain": [
              "<IPython.core.display.HTML object>"
            ]
          },
          "metadata": {},
          "output_type": "display_data"
        },
        {
          "name": "stdout",
          "output_type": "stream",
          "text": [
            "\u001b[1m1/1\u001b[0m \u001b[32m━━━━━━━━━━━━━━━━━━━━\u001b[0m\u001b[37m\u001b[0m \u001b[1m0s\u001b[0m 207ms/step\n",
            "\u001b[1m1/1\u001b[0m \u001b[32m━━━━━━━━━━━━━━━━━━━━\u001b[0m\u001b[37m\u001b[0m \u001b[1m0s\u001b[0m 19ms/step\n",
            "\u001b[1m1/1\u001b[0m \u001b[32m━━━━━━━━━━━━━━━━━━━━\u001b[0m\u001b[37m\u001b[0m \u001b[1m0s\u001b[0m 29ms/step\n",
            "\u001b[1m1/1\u001b[0m \u001b[32m━━━━━━━━━━━━━━━━━━━━\u001b[0m\u001b[37m\u001b[0m \u001b[1m0s\u001b[0m 18ms/step\n",
            "\u001b[1m1/1\u001b[0m \u001b[32m━━━━━━━━━━━━━━━━━━━━\u001b[0m\u001b[37m\u001b[0m \u001b[1m0s\u001b[0m 28ms/step\n",
            "\u001b[1m1/1\u001b[0m \u001b[32m━━━━━━━━━━━━━━━━━━━━\u001b[0m\u001b[37m\u001b[0m \u001b[1m0s\u001b[0m 18ms/step\n",
            "\u001b[1m1/1\u001b[0m \u001b[32m━━━━━━━━━━━━━━━━━━━━\u001b[0m\u001b[37m\u001b[0m \u001b[1m0s\u001b[0m 17ms/step\n",
            "Keyboard interruption in main thread... closing server.\n",
            "Killing tunnel 127.0.0.1:7860 <> https://bc0aaf4ec9d7fa732b.gradio.live\n"
          ]
        },
        {
          "data": {
            "text/plain": []
          },
          "execution_count": 41,
          "metadata": {},
          "output_type": "execute_result"
        }
      ],
      "source": [
        "import gradio as gr\n",
        "\n",
        "def model_response(human_text):\n",
        "\n",
        "    # Encodeamos\n",
        "    encoded = tok.texts_to_sequences([human_text])[0]\n",
        "    # Si tienen distinto largo\n",
        "    encoded = pad_sequences([encoded], maxlen=max_context_size, padding='pre')\n",
        "\n",
        "    # Predicción softmax\n",
        "    y_hat = np.argmax(model.predict(encoded)[0,-1,:])\n",
        "\n",
        "\n",
        "    # Debemos buscar en el vocabulario la palabra\n",
        "    # que corresopnde al indice (y_hat) predicho por le modelo\n",
        "    out_word = ''\n",
        "    for word, index in tok.word_index.items():\n",
        "        if index == y_hat:\n",
        "            out_word = word\n",
        "            break\n",
        "\n",
        "    # Agrego la palabra a la frase predicha\n",
        "    return human_text + ' ' + out_word\n",
        "\n",
        "iface = gr.Interface(\n",
        "    fn=model_response,\n",
        "    inputs=[\"textbox\"],\n",
        "    outputs=\"text\")\n",
        "\n",
        "iface.launch(debug=True)"
      ]
    },
    {
      "cell_type": "markdown",
      "metadata": {
        "id": "mCeMWWupxN1-"
      },
      "source": [
        "### Generación de secuencias"
      ]
    },
    {
      "cell_type": "code",
      "execution_count": null,
      "metadata": {
        "id": "bwbS_pfhxvB3"
      },
      "outputs": [],
      "source": [
        "def generate_seq(model, tokenizer, seed_text, max_length, n_words):\n",
        "    \"\"\"\n",
        "        Exec model sequence prediction\n",
        "\n",
        "        Args:\n",
        "            model (keras): modelo entrenado\n",
        "            tokenizer (keras tokenizer): tonenizer utilizado en el preprocesamiento\n",
        "            seed_text (string): texto de entrada (input_seq)\n",
        "            max_length (int): máxima longitud de la sequencia de entrada\n",
        "            n_words (int): números de palabras a agregar a la sequencia de entrada\n",
        "        returns:\n",
        "            output_text (string): sentencia con las \"n_words\" agregadas\n",
        "    \"\"\"\n",
        "    output_text = seed_text\n",
        "\t  # generate a fixed number of words\n",
        "    for _ in range(n_words):\n",
        "\t\t  # Tokenizamos\n",
        "      encoded = tokenizer.texts_to_sequences([output_text])[0]\n",
        "\n",
        "\t\t  # Si tienen distinto largo\n",
        "      encoded = pad_sequences([encoded], maxlen=max_length, padding='pre')\n",
        "\n",
        "\t\t  # Predicción softmax\n",
        "      y_hat = np.argmax(model.predict(encoded)[0,-1,:])\n",
        "\n",
        "      # Vamos concatenando las predicciones\n",
        "      out_word = ''\n",
        "\n",
        "      # Debemos buscar en el vocabulario la palabra\n",
        "      # que corresopnde al indice (y_hat) predicho por le modelo\n",
        "      for word, index in tokenizer.word_index.items():\n",
        "        if index == y_hat:\n",
        "          out_word = word\n",
        "          break\n",
        "\n",
        "\t\t  # Agrego las palabras a la frase predicha\n",
        "      output_text += ' ' + out_word\n",
        "\n",
        "    return output_text"
      ]
    },
    {
      "cell_type": "code",
      "execution_count": null,
      "metadata": {
        "colab": {
          "base_uri": "https://localhost:8080/",
          "height": 209
        },
        "id": "JoFqRC5pxzqS",
        "outputId": "60848db1-971d-434c-f1b0-67f5d747e89f"
      },
      "outputs": [
        {
          "name": "stdout",
          "output_type": "stream",
          "text": [
            "\u001b[1m1/1\u001b[0m \u001b[32m━━━━━━━━━━━━━━━━━━━━\u001b[0m\u001b[37m\u001b[0m \u001b[1m0s\u001b[0m 41ms/step\n",
            "\u001b[1m1/1\u001b[0m \u001b[32m━━━━━━━━━━━━━━━━━━━━\u001b[0m\u001b[37m\u001b[0m \u001b[1m0s\u001b[0m 29ms/step\n",
            "\u001b[1m1/1\u001b[0m \u001b[32m━━━━━━━━━━━━━━━━━━━━\u001b[0m\u001b[37m\u001b[0m \u001b[1m0s\u001b[0m 42ms/step\n",
            "\u001b[1m1/1\u001b[0m \u001b[32m━━━━━━━━━━━━━━━━━━━━\u001b[0m\u001b[37m\u001b[0m \u001b[1m0s\u001b[0m 122ms/step\n",
            "\u001b[1m1/1\u001b[0m \u001b[32m━━━━━━━━━━━━━━━━━━━━\u001b[0m\u001b[37m\u001b[0m \u001b[1m0s\u001b[0m 34ms/step\n",
            "\u001b[1m1/1\u001b[0m \u001b[32m━━━━━━━━━━━━━━━━━━━━\u001b[0m\u001b[37m\u001b[0m \u001b[1m0s\u001b[0m 39ms/step\n",
            "\u001b[1m1/1\u001b[0m \u001b[32m━━━━━━━━━━━━━━━━━━━━\u001b[0m\u001b[37m\u001b[0m \u001b[1m0s\u001b[0m 33ms/step\n",
            "\u001b[1m1/1\u001b[0m \u001b[32m━━━━━━━━━━━━━━━━━━━━\u001b[0m\u001b[37m\u001b[0m \u001b[1m0s\u001b[0m 34ms/step\n",
            "\u001b[1m1/1\u001b[0m \u001b[32m━━━━━━━━━━━━━━━━━━━━\u001b[0m\u001b[37m\u001b[0m \u001b[1m0s\u001b[0m 51ms/step\n",
            "\u001b[1m1/1\u001b[0m \u001b[32m━━━━━━━━━━━━━━━━━━━━\u001b[0m\u001b[37m\u001b[0m \u001b[1m0s\u001b[0m 113ms/step\n"
          ]
        },
        {
          "data": {
            "application/vnd.google.colaboratory.intrinsic+json": {
              "type": "string"
            },
            "text/plain": [
              "'El profesor Lidenbrock tenía más razón que nadie para ser de la tierra no se había sido que no'"
            ]
          },
          "execution_count": 43,
          "metadata": {},
          "output_type": "execute_result"
        }
      ],
      "source": [
        "input_text='El profesor Lidenbrock tenía más razón que nadie para'\n",
        "\n",
        "generate_seq(model, tok, input_text, max_length=max_context_size, n_words=10)"
      ]
    },
    {
      "cell_type": "markdown",
      "metadata": {
        "id": "drJ6xn5qW1Hl"
      },
      "source": [
        "###  Beam search y muestreo aleatorio"
      ]
    },
    {
      "cell_type": "code",
      "execution_count": null,
      "metadata": {
        "id": "_vovn9XZW1Hl"
      },
      "outputs": [],
      "source": [
        "# funcionalidades para hacer encoding y decoding\n",
        "\n",
        "def encode(text,max_length=max_context_size):\n",
        "\n",
        "    encoded = tok.texts_to_sequences([text])[0]\n",
        "    encoded = pad_sequences([encoded], maxlen=max_length, padding='pre')\n",
        "\n",
        "    return encoded\n",
        "\n",
        "def decode(seq):\n",
        "    return tok.sequences_to_texts([seq])"
      ]
    },
    {
      "cell_type": "code",
      "execution_count": null,
      "metadata": {
        "id": "I_lZiQwkW1Hl"
      },
      "outputs": [],
      "source": [
        "from scipy.special import softmax\n",
        "\n",
        "# función que selecciona candidatos para el beam search\n",
        "def select_candidates(pred,num_beams,vocab_size,history_probs,history_tokens,temp,mode):\n",
        "\n",
        "  # colectar todas las probabilidades para la siguiente búsqueda\n",
        "  pred_large = []\n",
        "\n",
        "  for idx,pp in enumerate(pred):\n",
        "    pred_large.extend(np.log(pp+1E-10)+history_probs[idx])\n",
        "\n",
        "  pred_large = np.array(pred_large)\n",
        "\n",
        "  # criterio de selección\n",
        "  if mode == 'det':\n",
        "    idx_select = np.argsort(pred_large)[::-1][:num_beams] # beam search determinista\n",
        "  elif mode == 'sto':\n",
        "    idx_select = np.random.choice(np.arange(pred_large.shape[0]), num_beams, p=softmax(pred_large/temp)) # beam search con muestreo aleatorio\n",
        "  else:\n",
        "    raise ValueError(f'Wrong selection mode. {mode} was given. det and sto are supported.')\n",
        "\n",
        "  # traducir a índices de token en el vocabulario\n",
        "  new_history_tokens = np.concatenate((np.array(history_tokens)[idx_select//vocab_size],\n",
        "                        np.array([idx_select%vocab_size]).T),\n",
        "                      axis=1)\n",
        "\n",
        "  # devolver el producto de las probabilidades (log) y la secuencia de tokens seleccionados\n",
        "  return pred_large[idx_select.astype(int)], new_history_tokens.astype(int)\n",
        "\n",
        "\n",
        "def beam_search(model,num_beams,num_words,input,temp=1,mode='det'):\n",
        "\n",
        "    # first iteration\n",
        "\n",
        "    # encode\n",
        "    encoded = encode(input)\n",
        "\n",
        "    # first prediction\n",
        "    y_hat = model.predict(encoded,verbose=0)[0,-1,:]\n",
        "\n",
        "    # get vocabulary size\n",
        "    vocab_size = y_hat.shape[0]\n",
        "\n",
        "    # initialize history\n",
        "    history_probs = [0]*num_beams\n",
        "    history_tokens = [encoded[0]]*num_beams\n",
        "\n",
        "    # select num_beams candidates\n",
        "    history_probs, history_tokens = select_candidates([y_hat],\n",
        "                                        num_beams,\n",
        "                                        vocab_size,\n",
        "                                        history_probs,\n",
        "                                        history_tokens,\n",
        "                                        temp,\n",
        "                                        mode)\n",
        "\n",
        "    # beam search loop\n",
        "    for i in range(num_words-1):\n",
        "\n",
        "      preds = []\n",
        "\n",
        "      for hist in history_tokens:\n",
        "\n",
        "        # actualizar secuencia de tokens\n",
        "        input_update = np.array([hist[i+1:]]).copy()\n",
        "\n",
        "        # predicción\n",
        "        y_hat = model.predict(input_update,verbose=0)[0,-1,:]\n",
        "\n",
        "        preds.append(y_hat)\n",
        "\n",
        "      history_probs, history_tokens = select_candidates(preds,\n",
        "                                                        num_beams,\n",
        "                                                        vocab_size,\n",
        "                                                        history_probs,\n",
        "                                                        history_tokens,\n",
        "                                                        temp,\n",
        "                                                        mode)\n",
        "\n",
        "    return history_tokens"
      ]
    },
    {
      "cell_type": "code",
      "execution_count": null,
      "metadata": {
        "id": "GeLqAoOYW1Hm"
      },
      "outputs": [],
      "source": [
        "# predicción con beam search.\n",
        "# Se pueden camiar los modos entre 'det' (determinista) y\n",
        "# 'sto' (estocástico)\n",
        "# para el caso estocástico también se puede variar la temperatura\n",
        "salidas = beam_search(model,num_beams=10,num_words=6,input=\"por eso el nombre de lidenbrock gozaba de gran\",temp=5,mode='sto')"
      ]
    },
    {
      "cell_type": "code",
      "execution_count": null,
      "metadata": {
        "colab": {
          "base_uri": "https://localhost:8080/"
        },
        "id": "P8HQoLhw-NYg",
        "outputId": "7643b00c-98cf-4b8a-8765-1bfc7e7a421d"
      },
      "outputs": [
        {
          "data": {
            "text/plain": [
              "(10, 16)"
            ]
          },
          "execution_count": 59,
          "metadata": {},
          "output_type": "execute_result"
        }
      ],
      "source": [
        "# tenemos `num_beams` salidas ordenadas de mayor a menor likelihood\n",
        "salidas.shape"
      ]
    },
    {
      "cell_type": "code",
      "execution_count": null,
      "metadata": {
        "colab": {
          "base_uri": "https://localhost:8080/"
        },
        "id": "2S3_I3S1W1Hm",
        "outputId": "74d714e5-bbcf-4af7-e615-26c8c6aec2aa"
      },
      "outputs": [
        {
          "name": "stdout",
          "output_type": "stream",
          "text": [
            "['por eso el nombre de lidenbrock gozaba de gran bastaron alejaban disminuido concluir techo recogerlo']\n",
            "['por eso el nombre de lidenbrock gozaba de gran temibles posturas apolillarse grafitos y conjunto']\n",
            "['por eso el nombre de lidenbrock gozaba de gran temibles posturas apolillarse grafitos y diluvium']\n",
            "['por eso el nombre de lidenbrock gozaba de gran témpanos situación interesase ruhmkorff uniformidad visitarle']\n",
            "['por eso el nombre de lidenbrock gozaba de gran témpanos situación podría invernáculo dimanaba oíale']\n"
          ]
        }
      ],
      "source": [
        "# veamos las salidas\n",
        "for i in range(5):\n",
        "  print(decode(salidas[i]))"
      ]
    },
    {
      "cell_type": "code",
      "execution_count": null,
      "metadata": {
        "id": "P-rRAGVDC35s"
      },
      "outputs": [],
      "source": [
        "# predicción con beam search.\n",
        "# Se pueden camiar los modos entre 'det' (determinista) y\n",
        "# 'sto' (estocástico)\n",
        "# para el caso estocástico también se puede variar la temperatura\n",
        "salidas = beam_search(model,num_beams=10,num_words=6,input=\"por eso el nombre de lidenbrock gozaba de gran\",temp=0.5,mode='sto')"
      ]
    },
    {
      "cell_type": "code",
      "execution_count": null,
      "metadata": {
        "colab": {
          "base_uri": "https://localhost:8080/"
        },
        "id": "Eg-22OMfC9Bn",
        "outputId": "809dbc40-6336-4dfc-8f0b-de95f1d0c536"
      },
      "outputs": [
        {
          "name": "stdout",
          "output_type": "stream",
          "text": [
            "['por eso el nombre de lidenbrock gozaba de gran cantidad de las rocas de los']\n",
            "['por eso el nombre de lidenbrock gozaba de gran cantidad de las rocas de las']\n",
            "['por eso el nombre de lidenbrock gozaba de gran cantidad de las rocas de las']\n",
            "['por eso el nombre de lidenbrock gozaba de gran cantidad de las rocas de la']\n",
            "['por eso el nombre de lidenbrock gozaba de gran cantidad de las rocas de la']\n"
          ]
        }
      ],
      "source": [
        "# veamos las salidas\n",
        "for i in range(5):\n",
        "  print(decode(salidas[i]))"
      ]
    },
    {
      "cell_type": "markdown",
      "metadata": {
        "id": "oSTovEb3HB2z"
      },
      "source": [
        "##Conclusiones\n",
        "\n",
        "Despues de todos las variaciones al modelo evaluado, no se llega a un entrenamiento satisfactorio, que se ve reflejado en las predicciones que arroja el modelo.\n",
        "\n",
        "Habria que evaluar bien como se esta calculando la perplejidad ya que me llama la atención que al cambiar al optimizador Adam, el valor de perplejidad se modifique demasiado a pesar que el error no se ve tan afectado.\n",
        "\n",
        "Por otro lado se puede intentar con mas modificaciones a la arquitectura para ver si converge mejor el modelo.\n",
        "\n",
        "También usé los datos de validación como palabras sucesivas para que tengan coherencia dentro de un contexto pero aparentemente no ayudo mucho.\n",
        "\n",
        "Otra cosa a probar es eliminar los acentos en la etapa de preprocesamiento y ver si tiene un mejor comportamiento el modelo.\n",
        "\n",
        "Por ultimo pero no menos importante, es que quizas aunque el dataset es un libro y tiene una cantidad de terminos considerables, probablemente sigue siendo poco para poder darle referencia a un modelo sobre las complejidades semanticas de un idioma como el español, tranquilamente la seccion tomada en validacion puede tener secuencias de palabras que quizas nunca vio en entrenamiento, quizas tiene las mismas palabras pero en secuencias distintas que hacen que el signficado sea distinto, por lo que puede faltar muchas mas referencias para tener una respuesta adecuada."
      ]
    }
  ],
  "metadata": {
    "accelerator": "GPU",
    "colab": {
      "gpuType": "T4",
      "provenance": []
    },
    "kernelspec": {
      "display_name": "Python 3",
      "name": "python3"
    },
    "language_info": {
      "name": "python"
    }
  },
  "nbformat": 4,
  "nbformat_minor": 0
}